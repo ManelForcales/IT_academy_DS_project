{
 "cells": [
  {
   "cell_type": "code",
   "execution_count": 1,
   "metadata": {},
   "outputs": [],
   "source": [
    "import numpy as np\n",
    "import pandas as pd\n",
    "import matplotlib.pyplot as plt\n",
    "import seaborn as sns"
   ]
  },
  {
   "cell_type": "code",
   "execution_count": 2,
   "metadata": {},
   "outputs": [],
   "source": [
    "from sklearn.preprocessing import StandardScaler\n",
    "from sklearn.preprocessing import scale"
   ]
  },
  {
   "cell_type": "code",
   "execution_count": 3,
   "metadata": {},
   "outputs": [],
   "source": [
    "from sklearn.linear_model import LinearRegression\n",
    "from sklearn.linear_model import Ridge\n",
    "from sklearn.linear_model import Lasso\n",
    "from sklearn.linear_model import LogisticRegression\n",
    "from sklearn.neighbors import KNeighborsRegressor\n",
    "from sklearn.feature_selection import SelectFromModel\n",
    "from sklearn.ensemble import RandomForestClassifier\n",
    "from sklearn.ensemble import RandomForestRegressor\n",
    "from sklearn.tree import DecisionTreeClassifier\n",
    "from sklearn.tree import DecisionTreeRegressor\n",
    "from sklearn.neural_network import MLPClassifier\n",
    "from sklearn.linear_model import Ridge\n",
    "from sklearn.linear_model import Lasso\n",
    "from sklearn.linear_model import ElasticNet"
   ]
  },
  {
   "cell_type": "code",
   "execution_count": 4,
   "metadata": {},
   "outputs": [],
   "source": [
    "from sklearn import preprocessing\n",
    "from sklearn.metrics import r2_score\n",
    "from sklearn import metrics\n",
    "from sklearn import datasets\n",
    "from sklearn.metrics import classification_report, confusion_matrix\n",
    "from sklearn.model_selection import cross_val_score, train_test_split, cross_val_predict"
   ]
  },
  {
   "cell_type": "code",
   "execution_count": 5,
   "metadata": {},
   "outputs": [],
   "source": [
    "# Sklearn regression model evaluation functions\n",
    "from sklearn.metrics import mean_absolute_error\n",
    "from sklearn.metrics import mean_squared_error\n",
    "from math import sqrt\n",
    "from sklearn.metrics import r2_score"
   ]
  },
  {
   "cell_type": "markdown",
   "metadata": {},
   "source": [
    "### Carga de dataset preprocesado"
   ]
  },
  {
   "cell_type": "code",
   "execution_count": 6,
   "metadata": {},
   "outputs": [],
   "source": [
    "df = pd.read_csv('df_to_model_1.csv')"
   ]
  },
  {
   "cell_type": "code",
   "execution_count": 7,
   "metadata": {},
   "outputs": [
    {
     "data": {
      "text/html": [
       "<div>\n",
       "<style scoped>\n",
       "    .dataframe tbody tr th:only-of-type {\n",
       "        vertical-align: middle;\n",
       "    }\n",
       "\n",
       "    .dataframe tbody tr th {\n",
       "        vertical-align: top;\n",
       "    }\n",
       "\n",
       "    .dataframe thead th {\n",
       "        text-align: right;\n",
       "    }\n",
       "</style>\n",
       "<table border=\"1\" class=\"dataframe\">\n",
       "  <thead>\n",
       "    <tr style=\"text-align: right;\">\n",
       "      <th></th>\n",
       "      <th>Unnamed: 0</th>\n",
       "      <th>transactioned</th>\n",
       "      <th>types</th>\n",
       "      <th>skin</th>\n",
       "      <th>traits</th>\n",
       "      <th>human</th>\n",
       "      <th>rarity</th>\n",
       "      <th>traits_range</th>\n",
       "      <th>hidden_traits_range</th>\n",
       "      <th>amount_ethereum</th>\n",
       "      <th>Eth_to_$</th>\n",
       "    </tr>\n",
       "  </thead>\n",
       "  <tbody>\n",
       "    <tr>\n",
       "      <td>0</td>\n",
       "      <td>0</td>\n",
       "      <td>1</td>\n",
       "      <td>Female</td>\n",
       "      <td>Mid</td>\n",
       "      <td>Blonde Bob,Earring,Green Eye Shadow</td>\n",
       "      <td>1</td>\n",
       "      <td>2023</td>\n",
       "      <td>1</td>\n",
       "      <td>2</td>\n",
       "      <td>25.0</td>\n",
       "      <td>112.880000</td>\n",
       "    </tr>\n",
       "    <tr>\n",
       "      <td>1</td>\n",
       "      <td>1</td>\n",
       "      <td>1</td>\n",
       "      <td>Male</td>\n",
       "      <td>Dark</td>\n",
       "      <td>Mohawk,Smile</td>\n",
       "      <td>1</td>\n",
       "      <td>4352</td>\n",
       "      <td>1</td>\n",
       "      <td>2</td>\n",
       "      <td>60.0</td>\n",
       "      <td>605.083333</td>\n",
       "    </tr>\n",
       "    <tr>\n",
       "      <td>2</td>\n",
       "      <td>2</td>\n",
       "      <td>0</td>\n",
       "      <td>Female</td>\n",
       "      <td>Light</td>\n",
       "      <td>Wild Hair</td>\n",
       "      <td>1</td>\n",
       "      <td>8090</td>\n",
       "      <td>2</td>\n",
       "      <td>2</td>\n",
       "      <td>NaN</td>\n",
       "      <td>NaN</td>\n",
       "    </tr>\n",
       "    <tr>\n",
       "      <td>3</td>\n",
       "      <td>3</td>\n",
       "      <td>0</td>\n",
       "      <td>Male</td>\n",
       "      <td>Dark</td>\n",
       "      <td>Nerd Glasses,Pipe,Wild Hair</td>\n",
       "      <td>1</td>\n",
       "      <td>7896</td>\n",
       "      <td>1</td>\n",
       "      <td>2</td>\n",
       "      <td>NaN</td>\n",
       "      <td>NaN</td>\n",
       "    </tr>\n",
       "    <tr>\n",
       "      <td>4</td>\n",
       "      <td>4</td>\n",
       "      <td>0</td>\n",
       "      <td>Male</td>\n",
       "      <td>Mid</td>\n",
       "      <td>Big Shades,Earring,Goat,Wild Hair</td>\n",
       "      <td>1</td>\n",
       "      <td>7332</td>\n",
       "      <td>1</td>\n",
       "      <td>2</td>\n",
       "      <td>NaN</td>\n",
       "      <td>NaN</td>\n",
       "    </tr>\n",
       "    <tr>\n",
       "      <td>...</td>\n",
       "      <td>...</td>\n",
       "      <td>...</td>\n",
       "      <td>...</td>\n",
       "      <td>...</td>\n",
       "      <td>...</td>\n",
       "      <td>...</td>\n",
       "      <td>...</td>\n",
       "      <td>...</td>\n",
       "      <td>...</td>\n",
       "      <td>...</td>\n",
       "      <td>...</td>\n",
       "    </tr>\n",
       "    <tr>\n",
       "      <td>9995</td>\n",
       "      <td>9995</td>\n",
       "      <td>0</td>\n",
       "      <td>Female</td>\n",
       "      <td>Albino</td>\n",
       "      <td>Purple Eye Shadow,Straight Hair Dark</td>\n",
       "      <td>1</td>\n",
       "      <td>2466</td>\n",
       "      <td>1</td>\n",
       "      <td>2</td>\n",
       "      <td>NaN</td>\n",
       "      <td>NaN</td>\n",
       "    </tr>\n",
       "    <tr>\n",
       "      <td>9996</td>\n",
       "      <td>9996</td>\n",
       "      <td>0</td>\n",
       "      <td>Male</td>\n",
       "      <td>Light</td>\n",
       "      <td>Cigarette,Crazy Hair,Earring,Smile</td>\n",
       "      <td>1</td>\n",
       "      <td>4323</td>\n",
       "      <td>1</td>\n",
       "      <td>2</td>\n",
       "      <td>NaN</td>\n",
       "      <td>NaN</td>\n",
       "    </tr>\n",
       "    <tr>\n",
       "      <td>9997</td>\n",
       "      <td>9997</td>\n",
       "      <td>0</td>\n",
       "      <td>Zombie</td>\n",
       "      <td>Zombie</td>\n",
       "      <td>Cap Forward,Front Beard</td>\n",
       "      <td>0</td>\n",
       "      <td>498</td>\n",
       "      <td>1</td>\n",
       "      <td>2</td>\n",
       "      <td>NaN</td>\n",
       "      <td>NaN</td>\n",
       "    </tr>\n",
       "    <tr>\n",
       "      <td>9998</td>\n",
       "      <td>9998</td>\n",
       "      <td>0</td>\n",
       "      <td>Female</td>\n",
       "      <td>Mid</td>\n",
       "      <td>Black Lipstick,Clown Eyes Green,Wild White Hair</td>\n",
       "      <td>1</td>\n",
       "      <td>1271</td>\n",
       "      <td>1</td>\n",
       "      <td>2</td>\n",
       "      <td>NaN</td>\n",
       "      <td>NaN</td>\n",
       "    </tr>\n",
       "    <tr>\n",
       "      <td>9999</td>\n",
       "      <td>9999</td>\n",
       "      <td>0</td>\n",
       "      <td>Female</td>\n",
       "      <td>Dark</td>\n",
       "      <td>Mohawk,Nerd Glasses</td>\n",
       "      <td>1</td>\n",
       "      <td>9233</td>\n",
       "      <td>1</td>\n",
       "      <td>2</td>\n",
       "      <td>NaN</td>\n",
       "      <td>NaN</td>\n",
       "    </tr>\n",
       "  </tbody>\n",
       "</table>\n",
       "<p>10000 rows × 11 columns</p>\n",
       "</div>"
      ],
      "text/plain": [
       "      Unnamed: 0  transactioned   types    skin  \\\n",
       "0              0              1  Female     Mid   \n",
       "1              1              1    Male    Dark   \n",
       "2              2              0  Female   Light   \n",
       "3              3              0    Male    Dark   \n",
       "4              4              0    Male     Mid   \n",
       "...          ...            ...     ...     ...   \n",
       "9995        9995              0  Female  Albino   \n",
       "9996        9996              0    Male   Light   \n",
       "9997        9997              0  Zombie  Zombie   \n",
       "9998        9998              0  Female     Mid   \n",
       "9999        9999              0  Female    Dark   \n",
       "\n",
       "                                               traits  human  rarity  \\\n",
       "0                 Blonde Bob,Earring,Green Eye Shadow      1    2023   \n",
       "1                                        Mohawk,Smile      1    4352   \n",
       "2                                           Wild Hair      1    8090   \n",
       "3                         Nerd Glasses,Pipe,Wild Hair      1    7896   \n",
       "4                   Big Shades,Earring,Goat,Wild Hair      1    7332   \n",
       "...                                               ...    ...     ...   \n",
       "9995             Purple Eye Shadow,Straight Hair Dark      1    2466   \n",
       "9996               Cigarette,Crazy Hair,Earring,Smile      1    4323   \n",
       "9997                          Cap Forward,Front Beard      0     498   \n",
       "9998  Black Lipstick,Clown Eyes Green,Wild White Hair      1    1271   \n",
       "9999                              Mohawk,Nerd Glasses      1    9233   \n",
       "\n",
       "      traits_range  hidden_traits_range  amount_ethereum    Eth_to_$  \n",
       "0                1                    2             25.0  112.880000  \n",
       "1                1                    2             60.0  605.083333  \n",
       "2                2                    2              NaN         NaN  \n",
       "3                1                    2              NaN         NaN  \n",
       "4                1                    2              NaN         NaN  \n",
       "...            ...                  ...              ...         ...  \n",
       "9995             1                    2              NaN         NaN  \n",
       "9996             1                    2              NaN         NaN  \n",
       "9997             1                    2              NaN         NaN  \n",
       "9998             1                    2              NaN         NaN  \n",
       "9999             1                    2              NaN         NaN  \n",
       "\n",
       "[10000 rows x 11 columns]"
      ]
     },
     "execution_count": 7,
     "metadata": {},
     "output_type": "execute_result"
    }
   ],
   "source": [
    "df"
   ]
  },
  {
   "cell_type": "markdown",
   "metadata": {},
   "source": [
    "# Pre-procesamiento adicional requerido por particularidades del modelo de regresión logística"
   ]
  },
  {
   "cell_type": "markdown",
   "metadata": {},
   "source": [
    "### Conversión de variables categóricas en Dummy"
   ]
  },
  {
   "cell_type": "code",
   "execution_count": 8,
   "metadata": {},
   "outputs": [],
   "source": [
    "dummy = pd.get_dummies(data=df, columns=['types', 'skin'])"
   ]
  },
  {
   "cell_type": "code",
   "execution_count": 9,
   "metadata": {},
   "outputs": [
    {
     "data": {
      "text/html": [
       "<div>\n",
       "<style scoped>\n",
       "    .dataframe tbody tr th:only-of-type {\n",
       "        vertical-align: middle;\n",
       "    }\n",
       "\n",
       "    .dataframe tbody tr th {\n",
       "        vertical-align: top;\n",
       "    }\n",
       "\n",
       "    .dataframe thead th {\n",
       "        text-align: right;\n",
       "    }\n",
       "</style>\n",
       "<table border=\"1\" class=\"dataframe\">\n",
       "  <thead>\n",
       "    <tr style=\"text-align: right;\">\n",
       "      <th></th>\n",
       "      <th>Unnamed: 0</th>\n",
       "      <th>transactioned</th>\n",
       "      <th>traits</th>\n",
       "      <th>human</th>\n",
       "      <th>rarity</th>\n",
       "      <th>traits_range</th>\n",
       "      <th>hidden_traits_range</th>\n",
       "      <th>amount_ethereum</th>\n",
       "      <th>Eth_to_$</th>\n",
       "      <th>types_Alien</th>\n",
       "      <th>...</th>\n",
       "      <th>types_Female</th>\n",
       "      <th>types_Male</th>\n",
       "      <th>types_Zombie</th>\n",
       "      <th>skin_Albino</th>\n",
       "      <th>skin_Alien</th>\n",
       "      <th>skin_Ape</th>\n",
       "      <th>skin_Dark</th>\n",
       "      <th>skin_Light</th>\n",
       "      <th>skin_Mid</th>\n",
       "      <th>skin_Zombie</th>\n",
       "    </tr>\n",
       "  </thead>\n",
       "  <tbody>\n",
       "    <tr>\n",
       "      <td>0</td>\n",
       "      <td>0</td>\n",
       "      <td>1</td>\n",
       "      <td>Blonde Bob,Earring,Green Eye Shadow</td>\n",
       "      <td>1</td>\n",
       "      <td>2023</td>\n",
       "      <td>1</td>\n",
       "      <td>2</td>\n",
       "      <td>25.0</td>\n",
       "      <td>112.880000</td>\n",
       "      <td>0</td>\n",
       "      <td>...</td>\n",
       "      <td>1</td>\n",
       "      <td>0</td>\n",
       "      <td>0</td>\n",
       "      <td>0</td>\n",
       "      <td>0</td>\n",
       "      <td>0</td>\n",
       "      <td>0</td>\n",
       "      <td>0</td>\n",
       "      <td>1</td>\n",
       "      <td>0</td>\n",
       "    </tr>\n",
       "    <tr>\n",
       "      <td>1</td>\n",
       "      <td>1</td>\n",
       "      <td>1</td>\n",
       "      <td>Mohawk,Smile</td>\n",
       "      <td>1</td>\n",
       "      <td>4352</td>\n",
       "      <td>1</td>\n",
       "      <td>2</td>\n",
       "      <td>60.0</td>\n",
       "      <td>605.083333</td>\n",
       "      <td>0</td>\n",
       "      <td>...</td>\n",
       "      <td>0</td>\n",
       "      <td>1</td>\n",
       "      <td>0</td>\n",
       "      <td>0</td>\n",
       "      <td>0</td>\n",
       "      <td>0</td>\n",
       "      <td>1</td>\n",
       "      <td>0</td>\n",
       "      <td>0</td>\n",
       "      <td>0</td>\n",
       "    </tr>\n",
       "    <tr>\n",
       "      <td>2</td>\n",
       "      <td>2</td>\n",
       "      <td>0</td>\n",
       "      <td>Wild Hair</td>\n",
       "      <td>1</td>\n",
       "      <td>8090</td>\n",
       "      <td>2</td>\n",
       "      <td>2</td>\n",
       "      <td>NaN</td>\n",
       "      <td>NaN</td>\n",
       "      <td>0</td>\n",
       "      <td>...</td>\n",
       "      <td>1</td>\n",
       "      <td>0</td>\n",
       "      <td>0</td>\n",
       "      <td>0</td>\n",
       "      <td>0</td>\n",
       "      <td>0</td>\n",
       "      <td>0</td>\n",
       "      <td>1</td>\n",
       "      <td>0</td>\n",
       "      <td>0</td>\n",
       "    </tr>\n",
       "    <tr>\n",
       "      <td>3</td>\n",
       "      <td>3</td>\n",
       "      <td>0</td>\n",
       "      <td>Nerd Glasses,Pipe,Wild Hair</td>\n",
       "      <td>1</td>\n",
       "      <td>7896</td>\n",
       "      <td>1</td>\n",
       "      <td>2</td>\n",
       "      <td>NaN</td>\n",
       "      <td>NaN</td>\n",
       "      <td>0</td>\n",
       "      <td>...</td>\n",
       "      <td>0</td>\n",
       "      <td>1</td>\n",
       "      <td>0</td>\n",
       "      <td>0</td>\n",
       "      <td>0</td>\n",
       "      <td>0</td>\n",
       "      <td>1</td>\n",
       "      <td>0</td>\n",
       "      <td>0</td>\n",
       "      <td>0</td>\n",
       "    </tr>\n",
       "    <tr>\n",
       "      <td>4</td>\n",
       "      <td>4</td>\n",
       "      <td>0</td>\n",
       "      <td>Big Shades,Earring,Goat,Wild Hair</td>\n",
       "      <td>1</td>\n",
       "      <td>7332</td>\n",
       "      <td>1</td>\n",
       "      <td>2</td>\n",
       "      <td>NaN</td>\n",
       "      <td>NaN</td>\n",
       "      <td>0</td>\n",
       "      <td>...</td>\n",
       "      <td>0</td>\n",
       "      <td>1</td>\n",
       "      <td>0</td>\n",
       "      <td>0</td>\n",
       "      <td>0</td>\n",
       "      <td>0</td>\n",
       "      <td>0</td>\n",
       "      <td>0</td>\n",
       "      <td>1</td>\n",
       "      <td>0</td>\n",
       "    </tr>\n",
       "    <tr>\n",
       "      <td>...</td>\n",
       "      <td>...</td>\n",
       "      <td>...</td>\n",
       "      <td>...</td>\n",
       "      <td>...</td>\n",
       "      <td>...</td>\n",
       "      <td>...</td>\n",
       "      <td>...</td>\n",
       "      <td>...</td>\n",
       "      <td>...</td>\n",
       "      <td>...</td>\n",
       "      <td>...</td>\n",
       "      <td>...</td>\n",
       "      <td>...</td>\n",
       "      <td>...</td>\n",
       "      <td>...</td>\n",
       "      <td>...</td>\n",
       "      <td>...</td>\n",
       "      <td>...</td>\n",
       "      <td>...</td>\n",
       "      <td>...</td>\n",
       "      <td>...</td>\n",
       "    </tr>\n",
       "    <tr>\n",
       "      <td>9995</td>\n",
       "      <td>9995</td>\n",
       "      <td>0</td>\n",
       "      <td>Purple Eye Shadow,Straight Hair Dark</td>\n",
       "      <td>1</td>\n",
       "      <td>2466</td>\n",
       "      <td>1</td>\n",
       "      <td>2</td>\n",
       "      <td>NaN</td>\n",
       "      <td>NaN</td>\n",
       "      <td>0</td>\n",
       "      <td>...</td>\n",
       "      <td>1</td>\n",
       "      <td>0</td>\n",
       "      <td>0</td>\n",
       "      <td>1</td>\n",
       "      <td>0</td>\n",
       "      <td>0</td>\n",
       "      <td>0</td>\n",
       "      <td>0</td>\n",
       "      <td>0</td>\n",
       "      <td>0</td>\n",
       "    </tr>\n",
       "    <tr>\n",
       "      <td>9996</td>\n",
       "      <td>9996</td>\n",
       "      <td>0</td>\n",
       "      <td>Cigarette,Crazy Hair,Earring,Smile</td>\n",
       "      <td>1</td>\n",
       "      <td>4323</td>\n",
       "      <td>1</td>\n",
       "      <td>2</td>\n",
       "      <td>NaN</td>\n",
       "      <td>NaN</td>\n",
       "      <td>0</td>\n",
       "      <td>...</td>\n",
       "      <td>0</td>\n",
       "      <td>1</td>\n",
       "      <td>0</td>\n",
       "      <td>0</td>\n",
       "      <td>0</td>\n",
       "      <td>0</td>\n",
       "      <td>0</td>\n",
       "      <td>1</td>\n",
       "      <td>0</td>\n",
       "      <td>0</td>\n",
       "    </tr>\n",
       "    <tr>\n",
       "      <td>9997</td>\n",
       "      <td>9997</td>\n",
       "      <td>0</td>\n",
       "      <td>Cap Forward,Front Beard</td>\n",
       "      <td>0</td>\n",
       "      <td>498</td>\n",
       "      <td>1</td>\n",
       "      <td>2</td>\n",
       "      <td>NaN</td>\n",
       "      <td>NaN</td>\n",
       "      <td>0</td>\n",
       "      <td>...</td>\n",
       "      <td>0</td>\n",
       "      <td>0</td>\n",
       "      <td>1</td>\n",
       "      <td>0</td>\n",
       "      <td>0</td>\n",
       "      <td>0</td>\n",
       "      <td>0</td>\n",
       "      <td>0</td>\n",
       "      <td>0</td>\n",
       "      <td>1</td>\n",
       "    </tr>\n",
       "    <tr>\n",
       "      <td>9998</td>\n",
       "      <td>9998</td>\n",
       "      <td>0</td>\n",
       "      <td>Black Lipstick,Clown Eyes Green,Wild White Hair</td>\n",
       "      <td>1</td>\n",
       "      <td>1271</td>\n",
       "      <td>1</td>\n",
       "      <td>2</td>\n",
       "      <td>NaN</td>\n",
       "      <td>NaN</td>\n",
       "      <td>0</td>\n",
       "      <td>...</td>\n",
       "      <td>1</td>\n",
       "      <td>0</td>\n",
       "      <td>0</td>\n",
       "      <td>0</td>\n",
       "      <td>0</td>\n",
       "      <td>0</td>\n",
       "      <td>0</td>\n",
       "      <td>0</td>\n",
       "      <td>1</td>\n",
       "      <td>0</td>\n",
       "    </tr>\n",
       "    <tr>\n",
       "      <td>9999</td>\n",
       "      <td>9999</td>\n",
       "      <td>0</td>\n",
       "      <td>Mohawk,Nerd Glasses</td>\n",
       "      <td>1</td>\n",
       "      <td>9233</td>\n",
       "      <td>1</td>\n",
       "      <td>2</td>\n",
       "      <td>NaN</td>\n",
       "      <td>NaN</td>\n",
       "      <td>0</td>\n",
       "      <td>...</td>\n",
       "      <td>1</td>\n",
       "      <td>0</td>\n",
       "      <td>0</td>\n",
       "      <td>0</td>\n",
       "      <td>0</td>\n",
       "      <td>0</td>\n",
       "      <td>1</td>\n",
       "      <td>0</td>\n",
       "      <td>0</td>\n",
       "      <td>0</td>\n",
       "    </tr>\n",
       "  </tbody>\n",
       "</table>\n",
       "<p>10000 rows × 21 columns</p>\n",
       "</div>"
      ],
      "text/plain": [
       "      Unnamed: 0  transactioned  \\\n",
       "0              0              1   \n",
       "1              1              1   \n",
       "2              2              0   \n",
       "3              3              0   \n",
       "4              4              0   \n",
       "...          ...            ...   \n",
       "9995        9995              0   \n",
       "9996        9996              0   \n",
       "9997        9997              0   \n",
       "9998        9998              0   \n",
       "9999        9999              0   \n",
       "\n",
       "                                               traits  human  rarity  \\\n",
       "0                 Blonde Bob,Earring,Green Eye Shadow      1    2023   \n",
       "1                                        Mohawk,Smile      1    4352   \n",
       "2                                           Wild Hair      1    8090   \n",
       "3                         Nerd Glasses,Pipe,Wild Hair      1    7896   \n",
       "4                   Big Shades,Earring,Goat,Wild Hair      1    7332   \n",
       "...                                               ...    ...     ...   \n",
       "9995             Purple Eye Shadow,Straight Hair Dark      1    2466   \n",
       "9996               Cigarette,Crazy Hair,Earring,Smile      1    4323   \n",
       "9997                          Cap Forward,Front Beard      0     498   \n",
       "9998  Black Lipstick,Clown Eyes Green,Wild White Hair      1    1271   \n",
       "9999                              Mohawk,Nerd Glasses      1    9233   \n",
       "\n",
       "      traits_range  hidden_traits_range  amount_ethereum    Eth_to_$  \\\n",
       "0                1                    2             25.0  112.880000   \n",
       "1                1                    2             60.0  605.083333   \n",
       "2                2                    2              NaN         NaN   \n",
       "3                1                    2              NaN         NaN   \n",
       "4                1                    2              NaN         NaN   \n",
       "...            ...                  ...              ...         ...   \n",
       "9995             1                    2              NaN         NaN   \n",
       "9996             1                    2              NaN         NaN   \n",
       "9997             1                    2              NaN         NaN   \n",
       "9998             1                    2              NaN         NaN   \n",
       "9999             1                    2              NaN         NaN   \n",
       "\n",
       "      types_Alien  ...  types_Female  types_Male  types_Zombie  skin_Albino  \\\n",
       "0               0  ...             1           0             0            0   \n",
       "1               0  ...             0           1             0            0   \n",
       "2               0  ...             1           0             0            0   \n",
       "3               0  ...             0           1             0            0   \n",
       "4               0  ...             0           1             0            0   \n",
       "...           ...  ...           ...         ...           ...          ...   \n",
       "9995            0  ...             1           0             0            1   \n",
       "9996            0  ...             0           1             0            0   \n",
       "9997            0  ...             0           0             1            0   \n",
       "9998            0  ...             1           0             0            0   \n",
       "9999            0  ...             1           0             0            0   \n",
       "\n",
       "      skin_Alien  skin_Ape  skin_Dark  skin_Light  skin_Mid  skin_Zombie  \n",
       "0              0         0          0           0         1            0  \n",
       "1              0         0          1           0         0            0  \n",
       "2              0         0          0           1         0            0  \n",
       "3              0         0          1           0         0            0  \n",
       "4              0         0          0           0         1            0  \n",
       "...          ...       ...        ...         ...       ...          ...  \n",
       "9995           0         0          0           0         0            0  \n",
       "9996           0         0          0           1         0            0  \n",
       "9997           0         0          0           0         0            1  \n",
       "9998           0         0          0           0         1            0  \n",
       "9999           0         0          1           0         0            0  \n",
       "\n",
       "[10000 rows x 21 columns]"
      ]
     },
     "execution_count": 9,
     "metadata": {},
     "output_type": "execute_result"
    }
   ],
   "source": [
    "dummy"
   ]
  },
  {
   "cell_type": "markdown",
   "metadata": {},
   "source": [
    "# Pre-procesamiento para Modelo 1"
   ]
  },
  {
   "cell_type": "markdown",
   "metadata": {},
   "source": [
    "### Eliminación de variables no relevantes para modelo 1"
   ]
  },
  {
   "cell_type": "code",
   "execution_count": 10,
   "metadata": {},
   "outputs": [],
   "source": [
    "model_1 = dummy.drop(columns=['Unnamed: 0', 'traits', 'human', 'amount_ethereum', 'Eth_to_$'])"
   ]
  },
  {
   "cell_type": "code",
   "execution_count": 11,
   "metadata": {},
   "outputs": [
    {
     "data": {
      "text/html": [
       "<div>\n",
       "<style scoped>\n",
       "    .dataframe tbody tr th:only-of-type {\n",
       "        vertical-align: middle;\n",
       "    }\n",
       "\n",
       "    .dataframe tbody tr th {\n",
       "        vertical-align: top;\n",
       "    }\n",
       "\n",
       "    .dataframe thead th {\n",
       "        text-align: right;\n",
       "    }\n",
       "</style>\n",
       "<table border=\"1\" class=\"dataframe\">\n",
       "  <thead>\n",
       "    <tr style=\"text-align: right;\">\n",
       "      <th></th>\n",
       "      <th>transactioned</th>\n",
       "      <th>rarity</th>\n",
       "      <th>traits_range</th>\n",
       "      <th>hidden_traits_range</th>\n",
       "      <th>types_Alien</th>\n",
       "      <th>types_Ape</th>\n",
       "      <th>types_Female</th>\n",
       "      <th>types_Male</th>\n",
       "      <th>types_Zombie</th>\n",
       "      <th>skin_Albino</th>\n",
       "      <th>skin_Alien</th>\n",
       "      <th>skin_Ape</th>\n",
       "      <th>skin_Dark</th>\n",
       "      <th>skin_Light</th>\n",
       "      <th>skin_Mid</th>\n",
       "      <th>skin_Zombie</th>\n",
       "    </tr>\n",
       "  </thead>\n",
       "  <tbody>\n",
       "    <tr>\n",
       "      <td>0</td>\n",
       "      <td>1</td>\n",
       "      <td>2023</td>\n",
       "      <td>1</td>\n",
       "      <td>2</td>\n",
       "      <td>0</td>\n",
       "      <td>0</td>\n",
       "      <td>1</td>\n",
       "      <td>0</td>\n",
       "      <td>0</td>\n",
       "      <td>0</td>\n",
       "      <td>0</td>\n",
       "      <td>0</td>\n",
       "      <td>0</td>\n",
       "      <td>0</td>\n",
       "      <td>1</td>\n",
       "      <td>0</td>\n",
       "    </tr>\n",
       "    <tr>\n",
       "      <td>1</td>\n",
       "      <td>1</td>\n",
       "      <td>4352</td>\n",
       "      <td>1</td>\n",
       "      <td>2</td>\n",
       "      <td>0</td>\n",
       "      <td>0</td>\n",
       "      <td>0</td>\n",
       "      <td>1</td>\n",
       "      <td>0</td>\n",
       "      <td>0</td>\n",
       "      <td>0</td>\n",
       "      <td>0</td>\n",
       "      <td>1</td>\n",
       "      <td>0</td>\n",
       "      <td>0</td>\n",
       "      <td>0</td>\n",
       "    </tr>\n",
       "    <tr>\n",
       "      <td>2</td>\n",
       "      <td>0</td>\n",
       "      <td>8090</td>\n",
       "      <td>2</td>\n",
       "      <td>2</td>\n",
       "      <td>0</td>\n",
       "      <td>0</td>\n",
       "      <td>1</td>\n",
       "      <td>0</td>\n",
       "      <td>0</td>\n",
       "      <td>0</td>\n",
       "      <td>0</td>\n",
       "      <td>0</td>\n",
       "      <td>0</td>\n",
       "      <td>1</td>\n",
       "      <td>0</td>\n",
       "      <td>0</td>\n",
       "    </tr>\n",
       "    <tr>\n",
       "      <td>3</td>\n",
       "      <td>0</td>\n",
       "      <td>7896</td>\n",
       "      <td>1</td>\n",
       "      <td>2</td>\n",
       "      <td>0</td>\n",
       "      <td>0</td>\n",
       "      <td>0</td>\n",
       "      <td>1</td>\n",
       "      <td>0</td>\n",
       "      <td>0</td>\n",
       "      <td>0</td>\n",
       "      <td>0</td>\n",
       "      <td>1</td>\n",
       "      <td>0</td>\n",
       "      <td>0</td>\n",
       "      <td>0</td>\n",
       "    </tr>\n",
       "    <tr>\n",
       "      <td>4</td>\n",
       "      <td>0</td>\n",
       "      <td>7332</td>\n",
       "      <td>1</td>\n",
       "      <td>2</td>\n",
       "      <td>0</td>\n",
       "      <td>0</td>\n",
       "      <td>0</td>\n",
       "      <td>1</td>\n",
       "      <td>0</td>\n",
       "      <td>0</td>\n",
       "      <td>0</td>\n",
       "      <td>0</td>\n",
       "      <td>0</td>\n",
       "      <td>0</td>\n",
       "      <td>1</td>\n",
       "      <td>0</td>\n",
       "    </tr>\n",
       "    <tr>\n",
       "      <td>...</td>\n",
       "      <td>...</td>\n",
       "      <td>...</td>\n",
       "      <td>...</td>\n",
       "      <td>...</td>\n",
       "      <td>...</td>\n",
       "      <td>...</td>\n",
       "      <td>...</td>\n",
       "      <td>...</td>\n",
       "      <td>...</td>\n",
       "      <td>...</td>\n",
       "      <td>...</td>\n",
       "      <td>...</td>\n",
       "      <td>...</td>\n",
       "      <td>...</td>\n",
       "      <td>...</td>\n",
       "      <td>...</td>\n",
       "    </tr>\n",
       "    <tr>\n",
       "      <td>9995</td>\n",
       "      <td>0</td>\n",
       "      <td>2466</td>\n",
       "      <td>1</td>\n",
       "      <td>2</td>\n",
       "      <td>0</td>\n",
       "      <td>0</td>\n",
       "      <td>1</td>\n",
       "      <td>0</td>\n",
       "      <td>0</td>\n",
       "      <td>1</td>\n",
       "      <td>0</td>\n",
       "      <td>0</td>\n",
       "      <td>0</td>\n",
       "      <td>0</td>\n",
       "      <td>0</td>\n",
       "      <td>0</td>\n",
       "    </tr>\n",
       "    <tr>\n",
       "      <td>9996</td>\n",
       "      <td>0</td>\n",
       "      <td>4323</td>\n",
       "      <td>1</td>\n",
       "      <td>2</td>\n",
       "      <td>0</td>\n",
       "      <td>0</td>\n",
       "      <td>0</td>\n",
       "      <td>1</td>\n",
       "      <td>0</td>\n",
       "      <td>0</td>\n",
       "      <td>0</td>\n",
       "      <td>0</td>\n",
       "      <td>0</td>\n",
       "      <td>1</td>\n",
       "      <td>0</td>\n",
       "      <td>0</td>\n",
       "    </tr>\n",
       "    <tr>\n",
       "      <td>9997</td>\n",
       "      <td>0</td>\n",
       "      <td>498</td>\n",
       "      <td>1</td>\n",
       "      <td>2</td>\n",
       "      <td>0</td>\n",
       "      <td>0</td>\n",
       "      <td>0</td>\n",
       "      <td>0</td>\n",
       "      <td>1</td>\n",
       "      <td>0</td>\n",
       "      <td>0</td>\n",
       "      <td>0</td>\n",
       "      <td>0</td>\n",
       "      <td>0</td>\n",
       "      <td>0</td>\n",
       "      <td>1</td>\n",
       "    </tr>\n",
       "    <tr>\n",
       "      <td>9998</td>\n",
       "      <td>0</td>\n",
       "      <td>1271</td>\n",
       "      <td>1</td>\n",
       "      <td>2</td>\n",
       "      <td>0</td>\n",
       "      <td>0</td>\n",
       "      <td>1</td>\n",
       "      <td>0</td>\n",
       "      <td>0</td>\n",
       "      <td>0</td>\n",
       "      <td>0</td>\n",
       "      <td>0</td>\n",
       "      <td>0</td>\n",
       "      <td>0</td>\n",
       "      <td>1</td>\n",
       "      <td>0</td>\n",
       "    </tr>\n",
       "    <tr>\n",
       "      <td>9999</td>\n",
       "      <td>0</td>\n",
       "      <td>9233</td>\n",
       "      <td>1</td>\n",
       "      <td>2</td>\n",
       "      <td>0</td>\n",
       "      <td>0</td>\n",
       "      <td>1</td>\n",
       "      <td>0</td>\n",
       "      <td>0</td>\n",
       "      <td>0</td>\n",
       "      <td>0</td>\n",
       "      <td>0</td>\n",
       "      <td>1</td>\n",
       "      <td>0</td>\n",
       "      <td>0</td>\n",
       "      <td>0</td>\n",
       "    </tr>\n",
       "  </tbody>\n",
       "</table>\n",
       "<p>10000 rows × 16 columns</p>\n",
       "</div>"
      ],
      "text/plain": [
       "      transactioned  rarity  traits_range  hidden_traits_range  types_Alien  \\\n",
       "0                 1    2023             1                    2            0   \n",
       "1                 1    4352             1                    2            0   \n",
       "2                 0    8090             2                    2            0   \n",
       "3                 0    7896             1                    2            0   \n",
       "4                 0    7332             1                    2            0   \n",
       "...             ...     ...           ...                  ...          ...   \n",
       "9995              0    2466             1                    2            0   \n",
       "9996              0    4323             1                    2            0   \n",
       "9997              0     498             1                    2            0   \n",
       "9998              0    1271             1                    2            0   \n",
       "9999              0    9233             1                    2            0   \n",
       "\n",
       "      types_Ape  types_Female  types_Male  types_Zombie  skin_Albino  \\\n",
       "0             0             1           0             0            0   \n",
       "1             0             0           1             0            0   \n",
       "2             0             1           0             0            0   \n",
       "3             0             0           1             0            0   \n",
       "4             0             0           1             0            0   \n",
       "...         ...           ...         ...           ...          ...   \n",
       "9995          0             1           0             0            1   \n",
       "9996          0             0           1             0            0   \n",
       "9997          0             0           0             1            0   \n",
       "9998          0             1           0             0            0   \n",
       "9999          0             1           0             0            0   \n",
       "\n",
       "      skin_Alien  skin_Ape  skin_Dark  skin_Light  skin_Mid  skin_Zombie  \n",
       "0              0         0          0           0         1            0  \n",
       "1              0         0          1           0         0            0  \n",
       "2              0         0          0           1         0            0  \n",
       "3              0         0          1           0         0            0  \n",
       "4              0         0          0           0         1            0  \n",
       "...          ...       ...        ...         ...       ...          ...  \n",
       "9995           0         0          0           0         0            0  \n",
       "9996           0         0          0           1         0            0  \n",
       "9997           0         0          0           0         0            1  \n",
       "9998           0         0          0           0         1            0  \n",
       "9999           0         0          1           0         0            0  \n",
       "\n",
       "[10000 rows x 16 columns]"
      ]
     },
     "execution_count": 11,
     "metadata": {},
     "output_type": "execute_result"
    }
   ],
   "source": [
    "model_1"
   ]
  },
  {
   "cell_type": "markdown",
   "metadata": {},
   "source": [
    "### División entre train y test datasets"
   ]
  },
  {
   "cell_type": "code",
   "execution_count": 12,
   "metadata": {},
   "outputs": [],
   "source": [
    "train, test = train_test_split(model_1, test_size = 0.2, random_state=42)"
   ]
  },
  {
   "cell_type": "markdown",
   "metadata": {},
   "source": [
    "### Definición de X y y para Modelo 1"
   ]
  },
  {
   "cell_type": "code",
   "execution_count": 13,
   "metadata": {},
   "outputs": [],
   "source": [
    "X_train = train.drop(columns = ['transactioned'], axis=1).values\n",
    "y_train = train['transactioned'].values"
   ]
  },
  {
   "cell_type": "code",
   "execution_count": 14,
   "metadata": {},
   "outputs": [
    {
     "data": {
      "text/plain": [
       "array([[2589,    1,    2, ...,    1,    0,    0],\n",
       "       [2670,    1,    2, ...,    0,    0,    0],\n",
       "       [5436,    1,    2, ...,    0,    0,    0],\n",
       "       ...,\n",
       "       [5572,    1,    2, ...,    1,    0,    0],\n",
       "       [1412,    1,    2, ...,    1,    0,    0],\n",
       "       [5182,    1,    2, ...,    0,    0,    0]], dtype=int64)"
      ]
     },
     "execution_count": 14,
     "metadata": {},
     "output_type": "execute_result"
    }
   ],
   "source": [
    "X_train"
   ]
  },
  {
   "cell_type": "code",
   "execution_count": 15,
   "metadata": {},
   "outputs": [
    {
     "data": {
      "text/plain": [
       "array([1, 1, 0, ..., 1, 0, 1], dtype=int64)"
      ]
     },
     "execution_count": 15,
     "metadata": {},
     "output_type": "execute_result"
    }
   ],
   "source": [
    "y_train"
   ]
  },
  {
   "cell_type": "code",
   "execution_count": 16,
   "metadata": {},
   "outputs": [],
   "source": [
    "X_test = test.drop(columns = ['transactioned'], axis=1).values\n",
    "y_test = test['transactioned'].values"
   ]
  },
  {
   "cell_type": "code",
   "execution_count": 17,
   "metadata": {},
   "outputs": [
    {
     "data": {
      "text/plain": [
       "array([[ 812,    1,    2, ...,    0,    1,    0],\n",
       "       [7502,    1,    2, ...,    0,    0,    0],\n",
       "       [4728,    1,    2, ...,    0,    0,    0],\n",
       "       ...,\n",
       "       [2744,    1,    2, ...,    1,    0,    0],\n",
       "       [6482,    1,    2, ...,    1,    0,    0],\n",
       "       [2138,    1,    2, ...,    1,    0,    0]], dtype=int64)"
      ]
     },
     "execution_count": 17,
     "metadata": {},
     "output_type": "execute_result"
    }
   ],
   "source": [
    "X_test"
   ]
  },
  {
   "cell_type": "code",
   "execution_count": 18,
   "metadata": {},
   "outputs": [
    {
     "data": {
      "text/plain": [
       "array([1, 1, 0, ..., 0, 0, 0], dtype=int64)"
      ]
     },
     "execution_count": 18,
     "metadata": {},
     "output_type": "execute_result"
    }
   ],
   "source": [
    "y_test"
   ]
  },
  {
   "cell_type": "markdown",
   "metadata": {},
   "source": [
    "### Estandariación de variables numéricas: Rarity, Traits_range y hidde_traits_range"
   ]
  },
  {
   "cell_type": "code",
   "execution_count": 19,
   "metadata": {},
   "outputs": [],
   "source": [
    "scaler = StandardScaler()"
   ]
  },
  {
   "cell_type": "code",
   "execution_count": 20,
   "metadata": {},
   "outputs": [],
   "source": [
    "X_train = scaler.fit_transform(X_train)"
   ]
  },
  {
   "cell_type": "code",
   "execution_count": 21,
   "metadata": {},
   "outputs": [],
   "source": [
    "X_test = scaler.fit_transform(X_test)"
   ]
  },
  {
   "cell_type": "code",
   "execution_count": 22,
   "metadata": {},
   "outputs": [
    {
     "data": {
      "text/plain": [
       "array([[-0.83334364, -0.18867619, -0.01500169, ...,  1.53437208,\n",
       "        -0.66108978, -0.0959637 ],\n",
       "       [-0.80525956, -0.18867619, -0.01500169, ..., -0.6517324 ,\n",
       "        -0.66108978, -0.0959637 ],\n",
       "       [ 0.15375967, -0.18867619, -0.01500169, ..., -0.6517324 ,\n",
       "        -0.66108978, -0.0959637 ],\n",
       "       ...,\n",
       "       [ 0.20091319, -0.18867619, -0.01500169, ...,  1.53437208,\n",
       "        -0.66108978, -0.0959637 ],\n",
       "       [-1.24142955, -0.18867619, -0.01500169, ...,  1.53437208,\n",
       "        -0.66108978, -0.0959637 ],\n",
       "       [ 0.06569355, -0.18867619, -0.01500169, ..., -0.6517324 ,\n",
       "        -0.66108978, -0.0959637 ]])"
      ]
     },
     "execution_count": 22,
     "metadata": {},
     "output_type": "execute_result"
    }
   ],
   "source": [
    "X_train"
   ]
  },
  {
   "cell_type": "code",
   "execution_count": 23,
   "metadata": {},
   "outputs": [
    {
     "data": {
      "text/plain": [
       "array([1, 1, 0, ..., 1, 0, 1], dtype=int64)"
      ]
     },
     "execution_count": 23,
     "metadata": {},
     "output_type": "execute_result"
    }
   ],
   "source": [
    "y_train"
   ]
  },
  {
   "cell_type": "code",
   "execution_count": 24,
   "metadata": {},
   "outputs": [
    {
     "data": {
      "text/plain": [
       "array([[-1.45695144, -0.20145155, -0.02236627, ..., -0.67106358,\n",
       "         1.53117001, -0.08692914],\n",
       "       [ 0.85255061, -0.20145155, -0.02236627, ..., -0.67106358,\n",
       "        -0.65309534, -0.08692914],\n",
       "       [-0.10508148, -0.20145155, -0.02236627, ..., -0.67106358,\n",
       "        -0.65309534, -0.08692914],\n",
       "       ...,\n",
       "       [-0.7899921 , -0.20145155, -0.02236627, ...,  1.49017177,\n",
       "        -0.65309534, -0.08692914],\n",
       "       [ 0.50042922, -0.20145155, -0.02236627, ...,  1.49017177,\n",
       "        -0.65309534, -0.08692914],\n",
       "       [-0.99919364, -0.20145155, -0.02236627, ...,  1.49017177,\n",
       "        -0.65309534, -0.08692914]])"
      ]
     },
     "execution_count": 24,
     "metadata": {},
     "output_type": "execute_result"
    }
   ],
   "source": [
    "X_test"
   ]
  },
  {
   "cell_type": "code",
   "execution_count": 25,
   "metadata": {},
   "outputs": [
    {
     "data": {
      "text/plain": [
       "array([1, 1, 0, ..., 0, 0, 0], dtype=int64)"
      ]
     },
     "execution_count": 25,
     "metadata": {},
     "output_type": "execute_result"
    }
   ],
   "source": [
    "y_test"
   ]
  },
  {
   "cell_type": "markdown",
   "metadata": {},
   "source": [
    "# Pre-procesamiento para Modelo 2: Reemplazo de Types y Skin por Human"
   ]
  },
  {
   "cell_type": "code",
   "execution_count": 31,
   "metadata": {},
   "outputs": [],
   "source": [
    "model_2 = df.drop(columns=['Unnamed: 0', 'traits', 'types', 'skin', 'amount_ethereum', 'Eth_to_$'])"
   ]
  },
  {
   "cell_type": "code",
   "execution_count": 32,
   "metadata": {},
   "outputs": [
    {
     "data": {
      "text/html": [
       "<div>\n",
       "<style scoped>\n",
       "    .dataframe tbody tr th:only-of-type {\n",
       "        vertical-align: middle;\n",
       "    }\n",
       "\n",
       "    .dataframe tbody tr th {\n",
       "        vertical-align: top;\n",
       "    }\n",
       "\n",
       "    .dataframe thead th {\n",
       "        text-align: right;\n",
       "    }\n",
       "</style>\n",
       "<table border=\"1\" class=\"dataframe\">\n",
       "  <thead>\n",
       "    <tr style=\"text-align: right;\">\n",
       "      <th></th>\n",
       "      <th>transactioned</th>\n",
       "      <th>human</th>\n",
       "      <th>rarity</th>\n",
       "      <th>traits_range</th>\n",
       "      <th>hidden_traits_range</th>\n",
       "    </tr>\n",
       "  </thead>\n",
       "  <tbody>\n",
       "    <tr>\n",
       "      <td>0</td>\n",
       "      <td>1</td>\n",
       "      <td>1</td>\n",
       "      <td>2023</td>\n",
       "      <td>1</td>\n",
       "      <td>2</td>\n",
       "    </tr>\n",
       "    <tr>\n",
       "      <td>1</td>\n",
       "      <td>1</td>\n",
       "      <td>1</td>\n",
       "      <td>4352</td>\n",
       "      <td>1</td>\n",
       "      <td>2</td>\n",
       "    </tr>\n",
       "    <tr>\n",
       "      <td>2</td>\n",
       "      <td>0</td>\n",
       "      <td>1</td>\n",
       "      <td>8090</td>\n",
       "      <td>2</td>\n",
       "      <td>2</td>\n",
       "    </tr>\n",
       "    <tr>\n",
       "      <td>3</td>\n",
       "      <td>0</td>\n",
       "      <td>1</td>\n",
       "      <td>7896</td>\n",
       "      <td>1</td>\n",
       "      <td>2</td>\n",
       "    </tr>\n",
       "    <tr>\n",
       "      <td>4</td>\n",
       "      <td>0</td>\n",
       "      <td>1</td>\n",
       "      <td>7332</td>\n",
       "      <td>1</td>\n",
       "      <td>2</td>\n",
       "    </tr>\n",
       "    <tr>\n",
       "      <td>...</td>\n",
       "      <td>...</td>\n",
       "      <td>...</td>\n",
       "      <td>...</td>\n",
       "      <td>...</td>\n",
       "      <td>...</td>\n",
       "    </tr>\n",
       "    <tr>\n",
       "      <td>9995</td>\n",
       "      <td>0</td>\n",
       "      <td>1</td>\n",
       "      <td>2466</td>\n",
       "      <td>1</td>\n",
       "      <td>2</td>\n",
       "    </tr>\n",
       "    <tr>\n",
       "      <td>9996</td>\n",
       "      <td>0</td>\n",
       "      <td>1</td>\n",
       "      <td>4323</td>\n",
       "      <td>1</td>\n",
       "      <td>2</td>\n",
       "    </tr>\n",
       "    <tr>\n",
       "      <td>9997</td>\n",
       "      <td>0</td>\n",
       "      <td>0</td>\n",
       "      <td>498</td>\n",
       "      <td>1</td>\n",
       "      <td>2</td>\n",
       "    </tr>\n",
       "    <tr>\n",
       "      <td>9998</td>\n",
       "      <td>0</td>\n",
       "      <td>1</td>\n",
       "      <td>1271</td>\n",
       "      <td>1</td>\n",
       "      <td>2</td>\n",
       "    </tr>\n",
       "    <tr>\n",
       "      <td>9999</td>\n",
       "      <td>0</td>\n",
       "      <td>1</td>\n",
       "      <td>9233</td>\n",
       "      <td>1</td>\n",
       "      <td>2</td>\n",
       "    </tr>\n",
       "  </tbody>\n",
       "</table>\n",
       "<p>10000 rows × 5 columns</p>\n",
       "</div>"
      ],
      "text/plain": [
       "      transactioned  human  rarity  traits_range  hidden_traits_range\n",
       "0                 1      1    2023             1                    2\n",
       "1                 1      1    4352             1                    2\n",
       "2                 0      1    8090             2                    2\n",
       "3                 0      1    7896             1                    2\n",
       "4                 0      1    7332             1                    2\n",
       "...             ...    ...     ...           ...                  ...\n",
       "9995              0      1    2466             1                    2\n",
       "9996              0      1    4323             1                    2\n",
       "9997              0      0     498             1                    2\n",
       "9998              0      1    1271             1                    2\n",
       "9999              0      1    9233             1                    2\n",
       "\n",
       "[10000 rows x 5 columns]"
      ]
     },
     "execution_count": 32,
     "metadata": {},
     "output_type": "execute_result"
    }
   ],
   "source": [
    "model_2"
   ]
  },
  {
   "cell_type": "code",
   "execution_count": null,
   "metadata": {},
   "outputs": [],
   "source": []
  },
  {
   "cell_type": "markdown",
   "metadata": {},
   "source": [
    "### División entre train y test datasets"
   ]
  },
  {
   "cell_type": "code",
   "execution_count": 33,
   "metadata": {},
   "outputs": [],
   "source": [
    "train2, test2 = train_test_split(model_2, test_size = 0.2, random_state=42)"
   ]
  },
  {
   "cell_type": "markdown",
   "metadata": {},
   "source": [
    "### Definición de X y y para Modelo 2"
   ]
  },
  {
   "cell_type": "code",
   "execution_count": 34,
   "metadata": {},
   "outputs": [],
   "source": [
    "X_train2 = train2.drop(columns = ['transactioned'], axis=1).values\n",
    "y_train2 = train2['transactioned'].values"
   ]
  },
  {
   "cell_type": "code",
   "execution_count": 35,
   "metadata": {},
   "outputs": [
    {
     "data": {
      "text/plain": [
       "array([[   1, 2589,    1,    2],\n",
       "       [   1, 2670,    1,    2],\n",
       "       [   1, 5436,    1,    2],\n",
       "       ...,\n",
       "       [   1, 5572,    1,    2],\n",
       "       [   1, 1412,    1,    2],\n",
       "       [   1, 5182,    1,    2]], dtype=int64)"
      ]
     },
     "execution_count": 35,
     "metadata": {},
     "output_type": "execute_result"
    }
   ],
   "source": [
    "X_train2"
   ]
  },
  {
   "cell_type": "code",
   "execution_count": 36,
   "metadata": {},
   "outputs": [
    {
     "data": {
      "text/plain": [
       "array([1, 1, 0, ..., 1, 0, 1], dtype=int64)"
      ]
     },
     "execution_count": 36,
     "metadata": {},
     "output_type": "execute_result"
    }
   ],
   "source": [
    "y_train2"
   ]
  },
  {
   "cell_type": "code",
   "execution_count": 37,
   "metadata": {},
   "outputs": [],
   "source": [
    "X_test2 = test2.drop(columns = ['transactioned'], axis=1).values\n",
    "y_test2 = test2['transactioned'].values"
   ]
  },
  {
   "cell_type": "code",
   "execution_count": 38,
   "metadata": {},
   "outputs": [
    {
     "data": {
      "text/plain": [
       "array([[   1,  812,    1,    2],\n",
       "       [   1, 7502,    1,    2],\n",
       "       [   1, 4728,    1,    2],\n",
       "       ...,\n",
       "       [   1, 2744,    1,    2],\n",
       "       [   1, 6482,    1,    2],\n",
       "       [   1, 2138,    1,    2]], dtype=int64)"
      ]
     },
     "execution_count": 38,
     "metadata": {},
     "output_type": "execute_result"
    }
   ],
   "source": [
    "X_test2"
   ]
  },
  {
   "cell_type": "code",
   "execution_count": 39,
   "metadata": {},
   "outputs": [
    {
     "data": {
      "text/plain": [
       "array([1, 1, 0, ..., 0, 0, 0], dtype=int64)"
      ]
     },
     "execution_count": 39,
     "metadata": {},
     "output_type": "execute_result"
    }
   ],
   "source": [
    "y_test2"
   ]
  },
  {
   "cell_type": "markdown",
   "metadata": {},
   "source": [
    "### Estandariación de variables numéricas: Rarity, Traits_range y hidde_traits_range"
   ]
  },
  {
   "cell_type": "code",
   "execution_count": 40,
   "metadata": {},
   "outputs": [],
   "source": [
    "scaler = StandardScaler()"
   ]
  },
  {
   "cell_type": "code",
   "execution_count": 41,
   "metadata": {},
   "outputs": [],
   "source": [
    "X_train2 = scaler.fit_transform(X_train2)"
   ]
  },
  {
   "cell_type": "code",
   "execution_count": 42,
   "metadata": {},
   "outputs": [],
   "source": [
    "X_test2 = scaler.fit_transform(X_test2)"
   ]
  },
  {
   "cell_type": "code",
   "execution_count": 43,
   "metadata": {},
   "outputs": [
    {
     "data": {
      "text/plain": [
       "array([[ 0.11364269, -0.83334364, -0.18867619, -0.01500169],\n",
       "       [ 0.11364269, -0.80525956, -0.18867619, -0.01500169],\n",
       "       [ 0.11364269,  0.15375967, -0.18867619, -0.01500169],\n",
       "       ...,\n",
       "       [ 0.11364269,  0.20091319, -0.18867619, -0.01500169],\n",
       "       [ 0.11364269, -1.24142955, -0.18867619, -0.01500169],\n",
       "       [ 0.11364269,  0.06569355, -0.18867619, -0.01500169]])"
      ]
     },
     "execution_count": 43,
     "metadata": {},
     "output_type": "execute_result"
    }
   ],
   "source": [
    "X_train2"
   ]
  },
  {
   "cell_type": "code",
   "execution_count": 44,
   "metadata": {},
   "outputs": [
    {
     "data": {
      "text/plain": [
       "array([1, 1, 0, ..., 1, 0, 1], dtype=int64)"
      ]
     },
     "execution_count": 44,
     "metadata": {},
     "output_type": "execute_result"
    }
   ],
   "source": [
    "y_train2"
   ]
  },
  {
   "cell_type": "code",
   "execution_count": 45,
   "metadata": {},
   "outputs": [
    {
     "data": {
      "text/plain": [
       "array([[ 0.09793424, -1.45695144, -0.20145155, -0.02236627],\n",
       "       [ 0.09793424,  0.85255061, -0.20145155, -0.02236627],\n",
       "       [ 0.09793424, -0.10508148, -0.20145155, -0.02236627],\n",
       "       ...,\n",
       "       [ 0.09793424, -0.7899921 , -0.20145155, -0.02236627],\n",
       "       [ 0.09793424,  0.50042922, -0.20145155, -0.02236627],\n",
       "       [ 0.09793424, -0.99919364, -0.20145155, -0.02236627]])"
      ]
     },
     "execution_count": 45,
     "metadata": {},
     "output_type": "execute_result"
    }
   ],
   "source": [
    "X_test2"
   ]
  },
  {
   "cell_type": "code",
   "execution_count": 46,
   "metadata": {},
   "outputs": [
    {
     "data": {
      "text/plain": [
       "array([1, 1, 0, ..., 0, 0, 0], dtype=int64)"
      ]
     },
     "execution_count": 46,
     "metadata": {},
     "output_type": "execute_result"
    }
   ],
   "source": [
    "y_test2"
   ]
  },
  {
   "cell_type": "markdown",
   "metadata": {},
   "source": [
    "# Implementación de Decision Tree Classifier"
   ]
  },
  {
   "cell_type": "markdown",
   "metadata": {},
   "source": [
    "## Modelo 1"
   ]
  },
  {
   "cell_type": "code",
   "execution_count": 26,
   "metadata": {},
   "outputs": [],
   "source": [
    "from sklearn.tree import DecisionTreeClassifier"
   ]
  },
  {
   "cell_type": "code",
   "execution_count": 27,
   "metadata": {},
   "outputs": [],
   "source": [
    "# Create Decision Tree classifer object\n",
    "dtc = DecisionTreeClassifier()\n",
    "\n",
    "# Train Decision Tree Classifer\n",
    "dtc = dtc.fit(X_train,y_train)"
   ]
  },
  {
   "cell_type": "code",
   "execution_count": 28,
   "metadata": {},
   "outputs": [
    {
     "name": "stdout",
     "output_type": "stream",
     "text": [
      "Accuracy: 0.555\n",
      "Evaluación calidad Modelo\n",
      "    MAE 0.445\n",
      "    RMSE 0.6671\n",
      "    R2 -0.7923\n"
     ]
    }
   ],
   "source": [
    "# Create Decision Tree classifer object\n",
    "dtc = DecisionTreeClassifier(criterion=\"entropy\", max_depth=3)\n",
    "\n",
    "# Train Decision Tree Classifer\n",
    "dtc = dtc.fit(X_train,y_train)\n",
    "\n",
    "#Predict the response for test dataset\n",
    "y_pred_dtc = dtc.predict(X_test)\n",
    "\n",
    "# Model Accuracy, how often is the classifier correct?\n",
    "print(\"Accuracy:\",metrics.accuracy_score(y_test, y_pred_dtc))\n",
    "\n",
    "print('Evaluación calidad Modelo')\n",
    "\n",
    "predictions_dtc = dtc.predict(X_test)\n",
    "mae_dtc = round(mean_absolute_error(y_test, predictions_dtc), 4)\n",
    "rmse_dtc = round(sqrt(mean_squared_error(y_test, predictions_dtc)), 4)\n",
    "r2_dtc = round(r2_score(y_test, predictions_dtc), 4)\n",
    "\n",
    "print(\"    MAE\", round(mean_absolute_error(y_test, predictions_dtc), 4))\n",
    "print(\"    RMSE\", round(sqrt(mean_squared_error(y_test, predictions_dtc)), 4))\n",
    "print(\"    R2\", round(r2_score(y_test, predictions_dtc), 4))"
   ]
  },
  {
   "cell_type": "code",
   "execution_count": 48,
   "metadata": {},
   "outputs": [
    {
     "name": "stdout",
     "output_type": "stream",
     "text": [
      "Evaluación calidad Modelo\n",
      "---------------------------\n",
      "---------------------------\n",
      "Confusion Matrix\n",
      "---------------------------\n",
      "---------------------------\n",
      "[[327 590]\n",
      " [300 783]]\n",
      "---------------------------\n",
      "---------------------------\n",
      "Classif Report\n",
      "---------------------------\n",
      "---------------------------\n",
      "              precision    recall  f1-score   support\n",
      "\n",
      "           0       0.52      0.36      0.42       917\n",
      "           1       0.57      0.72      0.64      1083\n",
      "\n",
      "    accuracy                           0.56      2000\n",
      "   macro avg       0.55      0.54      0.53      2000\n",
      "weighted avg       0.55      0.56      0.54      2000\n",
      "\n"
     ]
    }
   ],
   "source": [
    "print('Evaluación calidad Modelo')\n",
    "print('---------------------------')\n",
    "print('---------------------------')\n",
    "print('Confusion Matrix')\n",
    "print('---------------------------')\n",
    "print('---------------------------')\n",
    "print(confusion_matrix(y_test, predictions_dtc))\n",
    "print('---------------------------')\n",
    "print('---------------------------')\n",
    "print('Classif Report')\n",
    "print('---------------------------')\n",
    "print('---------------------------')\n",
    "print(classification_report(y_test, predictions_dtc))"
   ]
  },
  {
   "cell_type": "markdown",
   "metadata": {},
   "source": [
    "## Modelo 2"
   ]
  },
  {
   "cell_type": "code",
   "execution_count": null,
   "metadata": {},
   "outputs": [],
   "source": []
  },
  {
   "cell_type": "code",
   "execution_count": 47,
   "metadata": {},
   "outputs": [
    {
     "name": "stdout",
     "output_type": "stream",
     "text": [
      "Accuracy: 0.5555\n",
      "Evaluación calidad Modelo\n",
      "    MAE 0.4445\n",
      "    RMSE 0.6667\n",
      "    R2 -0.7903\n"
     ]
    }
   ],
   "source": [
    "# Create Decision Tree classifer object\n",
    "dtc = DecisionTreeClassifier(criterion=\"entropy\", max_depth=3)\n",
    "\n",
    "# Train Decision Tree Classifer\n",
    "dtc = dtc.fit(X_train2,y_train2)\n",
    "\n",
    "#Predict the response for test dataset\n",
    "y_pred_dtc2 = dtc.predict(X_test2)\n",
    "\n",
    "# Model Accuracy, how often is the classifier correct?\n",
    "print(\"Accuracy:\",metrics.accuracy_score(y_test2, y_pred_dtc2))\n",
    "\n",
    "print('Evaluación calidad Modelo')\n",
    "\n",
    "predictions_dtc2 = dtc.predict(X_test2)\n",
    "mae_dtc = round(mean_absolute_error(y_test2, predictions_dtc2), 4)\n",
    "rmse_dtc = round(sqrt(mean_squared_error(y_test2, predictions_dtc2)), 4)\n",
    "r2_dtc = round(r2_score(y_test2, predictions_dtc2), 4)\n",
    "\n",
    "print(\"    MAE\", round(mean_absolute_error(y_test2, predictions_dtc2), 4))\n",
    "print(\"    RMSE\", round(sqrt(mean_squared_error(y_test2, predictions_dtc2)), 4))\n",
    "print(\"    R2\", round(r2_score(y_test2, predictions_dtc2), 4))"
   ]
  },
  {
   "cell_type": "code",
   "execution_count": 49,
   "metadata": {},
   "outputs": [
    {
     "name": "stdout",
     "output_type": "stream",
     "text": [
      "Evaluación calidad Modelo\n",
      "---------------------------\n",
      "---------------------------\n",
      "Confusion Matrix\n",
      "---------------------------\n",
      "---------------------------\n",
      "[[263 654]\n",
      " [235 848]]\n",
      "---------------------------\n",
      "---------------------------\n",
      "Classif Report\n",
      "---------------------------\n",
      "---------------------------\n",
      "              precision    recall  f1-score   support\n",
      "\n",
      "           0       0.53      0.29      0.37       917\n",
      "           1       0.56      0.78      0.66      1083\n",
      "\n",
      "    accuracy                           0.56      2000\n",
      "   macro avg       0.55      0.53      0.51      2000\n",
      "weighted avg       0.55      0.56      0.53      2000\n",
      "\n"
     ]
    }
   ],
   "source": [
    "print('Evaluación calidad Modelo')\n",
    "print('---------------------------')\n",
    "print('---------------------------')\n",
    "print('Confusion Matrix')\n",
    "print('---------------------------')\n",
    "print('---------------------------')\n",
    "print(confusion_matrix(y_test2, predictions_dtc2))\n",
    "print('---------------------------')\n",
    "print('---------------------------')\n",
    "print('Classif Report')\n",
    "print('---------------------------')\n",
    "print('---------------------------')\n",
    "print(classification_report(y_test2, predictions_dtc2))"
   ]
  },
  {
   "cell_type": "code",
   "execution_count": null,
   "metadata": {},
   "outputs": [],
   "source": []
  },
  {
   "cell_type": "markdown",
   "metadata": {},
   "source": [
    "# Implementación de Random Forest"
   ]
  },
  {
   "cell_type": "markdown",
   "metadata": {},
   "source": [
    "## Modelo 1"
   ]
  },
  {
   "cell_type": "code",
   "execution_count": 50,
   "metadata": {},
   "outputs": [
    {
     "data": {
      "text/plain": [
       "RandomForestClassifier(n_estimators=10, random_state=32)"
      ]
     },
     "execution_count": 50,
     "metadata": {},
     "output_type": "execute_result"
    }
   ],
   "source": [
    "rfc = RandomForestClassifier(n_estimators = 10, random_state=32) \n",
    "rfc.fit(X_train, y_train)"
   ]
  },
  {
   "cell_type": "code",
   "execution_count": 51,
   "metadata": {},
   "outputs": [],
   "source": [
    "# Create Decision Tree classifer object\n",
    "rfc = DecisionTreeClassifier(criterion=\"entropy\", max_depth=3)\n",
    "\n",
    "# Train Decision Tree Classifer\n",
    "rfc = rfc.fit(X_train,y_train)\n",
    "\n",
    "#Predict the response for test dataset\n",
    "y_pred_rfc = rfc.predict(X_test)\n"
   ]
  },
  {
   "cell_type": "code",
   "execution_count": 54,
   "metadata": {},
   "outputs": [
    {
     "name": "stdout",
     "output_type": "stream",
     "text": [
      "Evaluación calidad Modelo\n",
      "---------------------------\n",
      "---------------------------\n",
      "Confusion Matrix\n",
      "---------------------------\n",
      "---------------------------\n",
      "[[327 590]\n",
      " [300 783]]\n",
      "---------------------------\n",
      "---------------------------\n",
      "Classif Report\n",
      "---------------------------\n",
      "---------------------------\n",
      "              precision    recall  f1-score   support\n",
      "\n",
      "           0       0.52      0.36      0.42       917\n",
      "           1       0.57      0.72      0.64      1083\n",
      "\n",
      "    accuracy                           0.56      2000\n",
      "   macro avg       0.55      0.54      0.53      2000\n",
      "weighted avg       0.55      0.56      0.54      2000\n",
      "\n"
     ]
    }
   ],
   "source": [
    "print('Evaluación calidad Modelo')\n",
    "print('---------------------------')\n",
    "print('---------------------------')\n",
    "print('Confusion Matrix')\n",
    "print('---------------------------')\n",
    "print('---------------------------')\n",
    "print(confusion_matrix(y_test, y_pred_rfc))\n",
    "print('---------------------------')\n",
    "print('---------------------------')\n",
    "print('Classif Report')\n",
    "print('---------------------------')\n",
    "print('---------------------------')\n",
    "print(classification_report(y_test, y_pred_rfc))"
   ]
  },
  {
   "cell_type": "code",
   "execution_count": null,
   "metadata": {},
   "outputs": [],
   "source": []
  },
  {
   "cell_type": "code",
   "execution_count": null,
   "metadata": {},
   "outputs": [],
   "source": []
  },
  {
   "cell_type": "code",
   "execution_count": null,
   "metadata": {},
   "outputs": [],
   "source": []
  },
  {
   "cell_type": "code",
   "execution_count": null,
   "metadata": {},
   "outputs": [],
   "source": []
  },
  {
   "cell_type": "code",
   "execution_count": null,
   "metadata": {},
   "outputs": [],
   "source": []
  },
  {
   "cell_type": "markdown",
   "metadata": {},
   "source": [
    "# Implementación de Modelo de Regresión Logística"
   ]
  },
  {
   "cell_type": "markdown",
   "metadata": {},
   "source": [
    "## Modelo 1"
   ]
  },
  {
   "cell_type": "code",
   "execution_count": 55,
   "metadata": {},
   "outputs": [],
   "source": [
    "# instantiate the model (using the default parameters)\n",
    "logreg = LogisticRegression()\n",
    "\n",
    "# fit the model with data\n",
    "logreg.fit(X_train,y_train)\n",
    "\n",
    "y_lg_pred=logreg.predict(X_test)"
   ]
  },
  {
   "cell_type": "code",
   "execution_count": 56,
   "metadata": {},
   "outputs": [
    {
     "name": "stdout",
     "output_type": "stream",
     "text": [
      "Evaluación calidad Modelo\n",
      "---------------------------\n",
      "---------------------------\n",
      "Confusion Matrix\n",
      "---------------------------\n",
      "---------------------------\n",
      "[[164 753]\n",
      " [134 949]]\n",
      "---------------------------\n",
      "---------------------------\n",
      "Classif Report\n",
      "---------------------------\n",
      "---------------------------\n",
      "              precision    recall  f1-score   support\n",
      "\n",
      "           0       0.55      0.18      0.27       917\n",
      "           1       0.56      0.88      0.68      1083\n",
      "\n",
      "    accuracy                           0.56      2000\n",
      "   macro avg       0.55      0.53      0.48      2000\n",
      "weighted avg       0.55      0.56      0.49      2000\n",
      "\n"
     ]
    }
   ],
   "source": [
    "print('Evaluación calidad Modelo')\n",
    "print('---------------------------')\n",
    "print('---------------------------')\n",
    "print('Confusion Matrix')\n",
    "print('---------------------------')\n",
    "print('---------------------------')\n",
    "print(confusion_matrix(y_test, y_lg_pred))\n",
    "print('---------------------------')\n",
    "print('---------------------------')\n",
    "print('Classif Report')\n",
    "print('---------------------------')\n",
    "print('---------------------------')\n",
    "print(classification_report(y_test, y_lg_pred))"
   ]
  },
  {
   "cell_type": "code",
   "execution_count": null,
   "metadata": {},
   "outputs": [],
   "source": []
  },
  {
   "cell_type": "code",
   "execution_count": null,
   "metadata": {},
   "outputs": [],
   "source": []
  },
  {
   "cell_type": "code",
   "execution_count": null,
   "metadata": {},
   "outputs": [],
   "source": []
  },
  {
   "cell_type": "code",
   "execution_count": null,
   "metadata": {},
   "outputs": [],
   "source": []
  },
  {
   "cell_type": "markdown",
   "metadata": {},
   "source": [
    "# Implementación de Modelo K Nearest Neighbors Classifier"
   ]
  },
  {
   "cell_type": "code",
   "execution_count": 57,
   "metadata": {},
   "outputs": [],
   "source": [
    "from sklearn.neighbors import KNeighborsClassifier\n",
    "kneighbors = KNeighborsClassifier(n_neighbors=5)\n",
    "kneighbors.fit(X_train, y_train)\n",
    "y_knc_pred=logreg.predict(X_test)"
   ]
  },
  {
   "cell_type": "code",
   "execution_count": 58,
   "metadata": {},
   "outputs": [
    {
     "name": "stdout",
     "output_type": "stream",
     "text": [
      "Evaluación calidad Modelo\n",
      "---------------------------\n",
      "---------------------------\n",
      "Confusion Matrix\n",
      "---------------------------\n",
      "---------------------------\n",
      "[[164 753]\n",
      " [134 949]]\n",
      "---------------------------\n",
      "---------------------------\n",
      "Classif Report\n",
      "---------------------------\n",
      "---------------------------\n",
      "              precision    recall  f1-score   support\n",
      "\n",
      "           0       0.55      0.18      0.27       917\n",
      "           1       0.56      0.88      0.68      1083\n",
      "\n",
      "    accuracy                           0.56      2000\n",
      "   macro avg       0.55      0.53      0.48      2000\n",
      "weighted avg       0.55      0.56      0.49      2000\n",
      "\n"
     ]
    }
   ],
   "source": [
    "print('Evaluación calidad Modelo')\n",
    "print('---------------------------')\n",
    "print('---------------------------')\n",
    "print('Confusion Matrix')\n",
    "print('---------------------------')\n",
    "print('---------------------------')\n",
    "print(confusion_matrix(y_test, y_knc_pred))\n",
    "print('---------------------------')\n",
    "print('---------------------------')\n",
    "print('Classif Report')\n",
    "print('---------------------------')\n",
    "print('---------------------------')\n",
    "print(classification_report(y_test, y_knc_pred))"
   ]
  },
  {
   "cell_type": "code",
   "execution_count": null,
   "metadata": {},
   "outputs": [],
   "source": []
  }
 ],
 "metadata": {
  "kernelspec": {
   "display_name": "Python 3",
   "language": "python",
   "name": "python3"
  },
  "language_info": {
   "codemirror_mode": {
    "name": "ipython",
    "version": 3
   },
   "file_extension": ".py",
   "mimetype": "text/x-python",
   "name": "python",
   "nbconvert_exporter": "python",
   "pygments_lexer": "ipython3",
   "version": "3.7.4"
  }
 },
 "nbformat": 4,
 "nbformat_minor": 2
}
