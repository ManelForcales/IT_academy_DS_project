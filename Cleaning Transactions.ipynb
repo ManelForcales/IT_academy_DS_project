{
 "cells": [
  {
   "cell_type": "code",
   "execution_count": 1,
   "metadata": {},
   "outputs": [],
   "source": [
    "import numpy as np\n",
    "import pandas as pd"
   ]
  },
  {
   "cell_type": "code",
   "execution_count": null,
   "metadata": {},
   "outputs": [],
   "source": []
  },
  {
   "cell_type": "code",
   "execution_count": 2,
   "metadata": {},
   "outputs": [],
   "source": [
    "transactions_0_4999 = pd.read_csv('transactions_0_4999.csv')"
   ]
  },
  {
   "cell_type": "code",
   "execution_count": 3,
   "metadata": {},
   "outputs": [],
   "source": [
    "transactions_5000_9999 = pd.read_csv('transactions_5000_9999.csv')"
   ]
  },
  {
   "cell_type": "code",
   "execution_count": 4,
   "metadata": {},
   "outputs": [
    {
     "name": "stderr",
     "output_type": "stream",
     "text": [
      "C:\\Users\\tomi_\\Anaconda3\\lib\\site-packages\\pandas\\core\\frame.py:7123: FutureWarning: Sorting because non-concatenation axis is not aligned. A future version\n",
      "of pandas will change to not sort by default.\n",
      "\n",
      "To accept the future behavior, pass 'sort=False'.\n",
      "\n",
      "To retain the current behavior and silence the warning, pass 'sort=True'.\n",
      "\n",
      "  sort=sort,\n"
     ]
    }
   ],
   "source": [
    "transactions_df = transactions_0_4999.append([transactions_5000_9999])"
   ]
  },
  {
   "cell_type": "code",
   "execution_count": null,
   "metadata": {},
   "outputs": [],
   "source": []
  },
  {
   "cell_type": "code",
   "execution_count": 5,
   "metadata": {},
   "outputs": [],
   "source": [
    "transactions_df[['amount_ethereum', 'amount_dollars']] = transactions_df['Amount'].str.split(' ', expand = True)"
   ]
  },
  {
   "cell_type": "code",
   "execution_count": 6,
   "metadata": {},
   "outputs": [
    {
     "data": {
      "text/html": [
       "<div>\n",
       "<style scoped>\n",
       "    .dataframe tbody tr th:only-of-type {\n",
       "        vertical-align: middle;\n",
       "    }\n",
       "\n",
       "    .dataframe tbody tr th {\n",
       "        vertical-align: top;\n",
       "    }\n",
       "\n",
       "    .dataframe thead th {\n",
       "        text-align: right;\n",
       "    }\n",
       "</style>\n",
       "<table border=\"1\" class=\"dataframe\">\n",
       "  <thead>\n",
       "    <tr style=\"text-align: right;\">\n",
       "      <th></th>\n",
       "      <th>Amount</th>\n",
       "      <th>From</th>\n",
       "      <th>To</th>\n",
       "      <th>Txn</th>\n",
       "      <th>Type</th>\n",
       "      <th>Unnamed: 0</th>\n",
       "      <th>punk_id</th>\n",
       "      <th>amount_ethereum</th>\n",
       "      <th>amount_dollars</th>\n",
       "    </tr>\n",
       "  </thead>\n",
       "  <tbody>\n",
       "    <tr>\n",
       "      <td>0</td>\n",
       "      <td>250Ξ ($1.03M)</td>\n",
       "      <td>0x983ace</td>\n",
       "      <td>NaN</td>\n",
       "      <td>May 10, 2021</td>\n",
       "      <td>Bid Withdrawn</td>\n",
       "      <td>0</td>\n",
       "      <td>0.0</td>\n",
       "      <td>250Ξ</td>\n",
       "      <td>($1.03M)</td>\n",
       "    </tr>\n",
       "    <tr>\n",
       "      <td>1</td>\n",
       "      <td>250Ξ ($537,615)</td>\n",
       "      <td>0x983ace</td>\n",
       "      <td>NaN</td>\n",
       "      <td>Apr 11, 2021</td>\n",
       "      <td>Bid</td>\n",
       "      <td>1</td>\n",
       "      <td>0.0</td>\n",
       "      <td>250Ξ</td>\n",
       "      <td>($537,615)</td>\n",
       "    </tr>\n",
       "    <tr>\n",
       "      <td>2</td>\n",
       "      <td>100Ξ ($160,973)</td>\n",
       "      <td>0xd7510a</td>\n",
       "      <td>NaN</td>\n",
       "      <td>Mar 03, 2021</td>\n",
       "      <td>Bid Withdrawn</td>\n",
       "      <td>2</td>\n",
       "      <td>0.0</td>\n",
       "      <td>100Ξ</td>\n",
       "      <td>($160,973)</td>\n",
       "    </tr>\n",
       "    <tr>\n",
       "      <td>3</td>\n",
       "      <td>100Ξ ($188,897)</td>\n",
       "      <td>0xd7510a</td>\n",
       "      <td>NaN</td>\n",
       "      <td>Feb 20, 2021</td>\n",
       "      <td>Bid</td>\n",
       "      <td>3</td>\n",
       "      <td>0.0</td>\n",
       "      <td>100Ξ</td>\n",
       "      <td>($188,897)</td>\n",
       "    </tr>\n",
       "    <tr>\n",
       "      <td>4</td>\n",
       "      <td>69Ξ ($25,532)</td>\n",
       "      <td>natealex</td>\n",
       "      <td>NaN</td>\n",
       "      <td>Sep 16, 2020</td>\n",
       "      <td>Bid Withdrawn</td>\n",
       "      <td>4</td>\n",
       "      <td>0.0</td>\n",
       "      <td>69Ξ</td>\n",
       "      <td>($25,532)</td>\n",
       "    </tr>\n",
       "    <tr>\n",
       "      <td>...</td>\n",
       "      <td>...</td>\n",
       "      <td>...</td>\n",
       "      <td>...</td>\n",
       "      <td>...</td>\n",
       "      <td>...</td>\n",
       "      <td>...</td>\n",
       "      <td>...</td>\n",
       "      <td>...</td>\n",
       "      <td>...</td>\n",
       "    </tr>\n",
       "    <tr>\n",
       "      <td>64595</td>\n",
       "      <td>NaN</td>\n",
       "      <td>NaN</td>\n",
       "      <td>0xba7ccc</td>\n",
       "      <td>Jun 23, 2017</td>\n",
       "      <td>Claimed</td>\n",
       "      <td>64595</td>\n",
       "      <td>9984.0</td>\n",
       "      <td>NaN</td>\n",
       "      <td>NaN</td>\n",
       "    </tr>\n",
       "    <tr>\n",
       "      <td>64596</td>\n",
       "      <td>NaN</td>\n",
       "      <td>0xba7ccc</td>\n",
       "      <td>0xcffc33</td>\n",
       "      <td>May 05, 2021</td>\n",
       "      <td>Transfer</td>\n",
       "      <td>64596</td>\n",
       "      <td>9985.0</td>\n",
       "      <td>NaN</td>\n",
       "      <td>NaN</td>\n",
       "    </tr>\n",
       "    <tr>\n",
       "      <td>64597</td>\n",
       "      <td>0.10Ξ ($9)</td>\n",
       "      <td>0x95</td>\n",
       "      <td>NaN</td>\n",
       "      <td>Dec 11, 2018</td>\n",
       "      <td>Bid Withdrawn</td>\n",
       "      <td>64597</td>\n",
       "      <td>9985.0</td>\n",
       "      <td>0.10Ξ</td>\n",
       "      <td>($9)</td>\n",
       "    </tr>\n",
       "    <tr>\n",
       "      <td>64598</td>\n",
       "      <td>0.10Ξ ($12)</td>\n",
       "      <td>0x95</td>\n",
       "      <td>NaN</td>\n",
       "      <td>Nov 28, 2018</td>\n",
       "      <td>Bid</td>\n",
       "      <td>64598</td>\n",
       "      <td>9985.0</td>\n",
       "      <td>0.10Ξ</td>\n",
       "      <td>($12)</td>\n",
       "    </tr>\n",
       "    <tr>\n",
       "      <td>64599</td>\n",
       "      <td>NaN</td>\n",
       "      <td>NaN</td>\n",
       "      <td>0xba7ccc</td>\n",
       "      <td>Jun 23, 2017</td>\n",
       "      <td>Claimed</td>\n",
       "      <td>64599</td>\n",
       "      <td>9985.0</td>\n",
       "      <td>NaN</td>\n",
       "      <td>NaN</td>\n",
       "    </tr>\n",
       "  </tbody>\n",
       "</table>\n",
       "<p>124468 rows × 9 columns</p>\n",
       "</div>"
      ],
      "text/plain": [
       "                Amount      From        To           Txn           Type  \\\n",
       "0        250Ξ ($1.03M)  0x983ace       NaN  May 10, 2021  Bid Withdrawn   \n",
       "1      250Ξ ($537,615)  0x983ace       NaN  Apr 11, 2021            Bid   \n",
       "2      100Ξ ($160,973)  0xd7510a       NaN  Mar 03, 2021  Bid Withdrawn   \n",
       "3      100Ξ ($188,897)  0xd7510a       NaN  Feb 20, 2021            Bid   \n",
       "4        69Ξ ($25,532)  natealex       NaN  Sep 16, 2020  Bid Withdrawn   \n",
       "...                ...       ...       ...           ...            ...   \n",
       "64595              NaN       NaN  0xba7ccc  Jun 23, 2017        Claimed   \n",
       "64596              NaN  0xba7ccc  0xcffc33  May 05, 2021       Transfer   \n",
       "64597       0.10Ξ ($9)      0x95       NaN  Dec 11, 2018  Bid Withdrawn   \n",
       "64598      0.10Ξ ($12)      0x95       NaN  Nov 28, 2018            Bid   \n",
       "64599              NaN       NaN  0xba7ccc  Jun 23, 2017        Claimed   \n",
       "\n",
       "       Unnamed: 0  punk_id amount_ethereum amount_dollars  \n",
       "0               0      0.0            250Ξ       ($1.03M)  \n",
       "1               1      0.0            250Ξ     ($537,615)  \n",
       "2               2      0.0            100Ξ     ($160,973)  \n",
       "3               3      0.0            100Ξ     ($188,897)  \n",
       "4               4      0.0             69Ξ      ($25,532)  \n",
       "...           ...      ...             ...            ...  \n",
       "64595       64595   9984.0             NaN            NaN  \n",
       "64596       64596   9985.0             NaN            NaN  \n",
       "64597       64597   9985.0           0.10Ξ           ($9)  \n",
       "64598       64598   9985.0           0.10Ξ          ($12)  \n",
       "64599       64599   9985.0             NaN            NaN  \n",
       "\n",
       "[124468 rows x 9 columns]"
      ]
     },
     "execution_count": 6,
     "metadata": {},
     "output_type": "execute_result"
    }
   ],
   "source": [
    "transactions_df"
   ]
  },
  {
   "cell_type": "code",
   "execution_count": null,
   "metadata": {},
   "outputs": [],
   "source": []
  },
  {
   "cell_type": "markdown",
   "metadata": {},
   "source": [
    "### Exploring values"
   ]
  },
  {
   "cell_type": "code",
   "execution_count": 7,
   "metadata": {},
   "outputs": [
    {
     "data": {
      "text/plain": [
       "Offered            44368\n",
       "Bid                21727\n",
       "Sold               14163\n",
       "Bid Withdrawn      12598\n",
       "Transfer           10901\n",
       "Claimed             9705\n",
       "Offer Withdrawn     6642\n",
       "(Wrap)              2294\n",
       "(Unwrap)            2070\n",
       "Name: Type, dtype: int64"
      ]
     },
     "execution_count": 7,
     "metadata": {},
     "output_type": "execute_result"
    }
   ],
   "source": [
    "transactions_df.Type.value_counts()"
   ]
  },
  {
   "cell_type": "code",
   "execution_count": 8,
   "metadata": {},
   "outputs": [
    {
     "data": {
      "text/plain": [
       "Amount             31612\n",
       "From               60715\n",
       "To                 84886\n",
       "Txn                    0\n",
       "Type                   0\n",
       "Unnamed: 0             0\n",
       "punk_id                0\n",
       "amount_ethereum    31612\n",
       "amount_dollars     31612\n",
       "dtype: int64"
      ]
     },
     "execution_count": 8,
     "metadata": {},
     "output_type": "execute_result"
    }
   ],
   "source": [
    "transactions_df.isna().sum()"
   ]
  },
  {
   "cell_type": "markdown",
   "metadata": {},
   "source": [
    "##### Dropping NA's"
   ]
  },
  {
   "cell_type": "code",
   "execution_count": 9,
   "metadata": {},
   "outputs": [],
   "source": [
    "transactions_df = transactions_df[transactions_df['Amount'].notna()]"
   ]
  },
  {
   "cell_type": "code",
   "execution_count": 10,
   "metadata": {},
   "outputs": [
    {
     "data": {
      "text/plain": [
       "92856"
      ]
     },
     "execution_count": 10,
     "metadata": {},
     "output_type": "execute_result"
    }
   ],
   "source": [
    "len(transactions_df)"
   ]
  },
  {
   "cell_type": "code",
   "execution_count": 11,
   "metadata": {},
   "outputs": [
    {
     "data": {
      "text/plain": [
       "Offered          44368\n",
       "Bid              21727\n",
       "Sold             14163\n",
       "Bid Withdrawn    12598\n",
       "Name: Type, dtype: int64"
      ]
     },
     "execution_count": 11,
     "metadata": {},
     "output_type": "execute_result"
    }
   ],
   "source": [
    "transactions_df.Type.value_counts()"
   ]
  },
  {
   "cell_type": "code",
   "execution_count": null,
   "metadata": {},
   "outputs": [],
   "source": []
  },
  {
   "cell_type": "code",
   "execution_count": 12,
   "metadata": {},
   "outputs": [
    {
     "name": "stderr",
     "output_type": "stream",
     "text": [
      "C:\\Users\\tomi_\\Anaconda3\\lib\\site-packages\\pandas\\core\\frame.py:4102: SettingWithCopyWarning: \n",
      "A value is trying to be set on a copy of a slice from a DataFrame\n",
      "\n",
      "See the caveats in the documentation: http://pandas.pydata.org/pandas-docs/stable/user_guide/indexing.html#returning-a-view-versus-a-copy\n",
      "  errors=errors,\n"
     ]
    }
   ],
   "source": [
    "transactions_df.drop(columns=['Unnamed: 0'], inplace=True)"
   ]
  },
  {
   "cell_type": "code",
   "execution_count": null,
   "metadata": {},
   "outputs": [],
   "source": []
  },
  {
   "cell_type": "code",
   "execution_count": 13,
   "metadata": {},
   "outputs": [
    {
     "name": "stderr",
     "output_type": "stream",
     "text": [
      "C:\\Users\\tomi_\\Anaconda3\\lib\\site-packages\\ipykernel_launcher.py:5: SettingWithCopyWarning: \n",
      "A value is trying to be set on a copy of a slice from a DataFrame.\n",
      "Try using .loc[row_indexer,col_indexer] = value instead\n",
      "\n",
      "See the caveats in the documentation: http://pandas.pydata.org/pandas-docs/stable/user_guide/indexing.html#returning-a-view-versus-a-copy\n",
      "  \"\"\"\n",
      "C:\\Users\\tomi_\\Anaconda3\\lib\\site-packages\\ipykernel_launcher.py:8: SettingWithCopyWarning: \n",
      "A value is trying to be set on a copy of a slice from a DataFrame.\n",
      "Try using .loc[row_indexer,col_indexer] = value instead\n",
      "\n",
      "See the caveats in the documentation: http://pandas.pydata.org/pandas-docs/stable/user_guide/indexing.html#returning-a-view-versus-a-copy\n",
      "  \n"
     ]
    }
   ],
   "source": [
    "values_to_replace_dollars = ['$', '(', ')', ',', '<']\n",
    "values_to_replace_ethereum = ['Ξ', ',', '<']\n",
    "\n",
    "for x in values_to_replace_dollars:\n",
    "    transactions_df['amount_dollars'] = transactions_df['amount_dollars'].str.replace(x,'')\n",
    "    \n",
    "for x in values_to_replace_ethereum:\n",
    "    transactions_df['amount_ethereum'] = transactions_df['amount_ethereum'].str.replace(x,'')\n",
    "    \n"
   ]
  },
  {
   "cell_type": "markdown",
   "metadata": {},
   "source": [
    "##### Total rows with conversion Letter"
   ]
  },
  {
   "cell_type": "code",
   "execution_count": 14,
   "metadata": {},
   "outputs": [
    {
     "data": {
      "text/plain": [
       "560"
      ]
     },
     "execution_count": 14,
     "metadata": {},
     "output_type": "execute_result"
    }
   ],
   "source": [
    "transactions_with_letter = transactions_df[transactions_df['amount_dollars'].str.contains('[A-Za-z]')]\n",
    "len(transactions_with_letter)"
   ]
  },
  {
   "cell_type": "markdown",
   "metadata": {},
   "source": [
    "\n"
   ]
  },
  {
   "cell_type": "code",
   "execution_count": 15,
   "metadata": {},
   "outputs": [
    {
     "name": "stdout",
     "output_type": "stream",
     "text": [
      "transactions with recorded conversion in dollars\n"
     ]
    },
    {
     "data": {
      "text/plain": [
       "529"
      ]
     },
     "execution_count": 15,
     "metadata": {},
     "output_type": "execute_result"
    }
   ],
   "source": [
    "print('transactions with recorded conversion in dollars')\n",
    "len(transactions_with_letter[transactions_with_letter['amount_dollars'].str.contains('[MTBK]')])\n"
   ]
  },
  {
   "cell_type": "code",
   "execution_count": 16,
   "metadata": {},
   "outputs": [
    {
     "name": "stdout",
     "output_type": "stream",
     "text": [
      "transactions with recorded conversion in ethereum\n"
     ]
    },
    {
     "data": {
      "text/plain": [
       "230"
      ]
     },
     "execution_count": 16,
     "metadata": {},
     "output_type": "execute_result"
    }
   ],
   "source": [
    "print('transactions with recorded conversion in ethereum')\n",
    "len(transactions_with_letter[transactions_with_letter['amount_ethereum'].str.contains('[MTBK]')])"
   ]
  },
  {
   "cell_type": "markdown",
   "metadata": {},
   "source": [
    "##### Transactions with recorded conversion (K, M, B, T)"
   ]
  },
  {
   "cell_type": "code",
   "execution_count": 17,
   "metadata": {},
   "outputs": [
    {
     "data": {
      "text/plain": [
       "31"
      ]
     },
     "execution_count": 17,
     "metadata": {},
     "output_type": "execute_result"
    }
   ],
   "source": [
    "not_included_magnitudes = transactions_with_letter[transactions_with_letter['amount_dollars'].str.contains('[ZYP]')]\n",
    "len(not_included_magnitudes)"
   ]
  },
  {
   "cell_type": "code",
   "execution_count": 18,
   "metadata": {},
   "outputs": [
    {
     "data": {
      "text/plain": [
       "30"
      ]
     },
     "execution_count": 18,
     "metadata": {},
     "output_type": "execute_result"
    }
   ],
   "source": [
    "not_included_magnitudes = transactions_with_letter[transactions_with_letter['amount_ethereum'].str.contains('[ZYP]')]\n",
    "len(not_included_magnitudes)"
   ]
  },
  {
   "cell_type": "markdown",
   "metadata": {},
   "source": [
    "##### Removing rows with really large amounts"
   ]
  },
  {
   "cell_type": "code",
   "execution_count": 19,
   "metadata": {},
   "outputs": [],
   "source": [
    "transactions_df = transactions_df[~transactions_df['amount_dollars'].str.contains('[ZYP]')]"
   ]
  },
  {
   "cell_type": "code",
   "execution_count": 20,
   "metadata": {},
   "outputs": [],
   "source": [
    "transactions_df = transactions_df[~transactions_df['amount_ethereum'].str.contains('[ZYP]')]"
   ]
  },
  {
   "cell_type": "code",
   "execution_count": 21,
   "metadata": {},
   "outputs": [
    {
     "data": {
      "text/plain": [
       "92823"
      ]
     },
     "execution_count": 21,
     "metadata": {},
     "output_type": "execute_result"
    }
   ],
   "source": [
    "len(transactions_df)"
   ]
  },
  {
   "cell_type": "markdown",
   "metadata": {},
   "source": [
    "### Exploring values"
   ]
  },
  {
   "cell_type": "code",
   "execution_count": 22,
   "metadata": {},
   "outputs": [
    {
     "data": {
      "text/plain": [
       "Offered          44335\n",
       "Bid              21727\n",
       "Sold             14163\n",
       "Bid Withdrawn    12598\n",
       "Name: Type, dtype: int64"
      ]
     },
     "execution_count": 22,
     "metadata": {},
     "output_type": "execute_result"
    }
   ],
   "source": [
    "transactions_df.Type.value_counts()"
   ]
  },
  {
   "cell_type": "markdown",
   "metadata": {},
   "source": [
    "### Split into 3 tables"
   ]
  },
  {
   "cell_type": "markdown",
   "metadata": {},
   "source": [
    "### Converting Billions, Millions and Thousands"
   ]
  },
  {
   "cell_type": "code",
   "execution_count": 23,
   "metadata": {},
   "outputs": [
    {
     "name": "stdout",
     "output_type": "stream",
     "text": [
      "[150000000, 360000000, 2600000000, 3700000000]\n"
     ]
    }
   ],
   "source": [
    "multipliers = {'K':1000, 'M':1000000, 'B':1000000000, 'T':1000000000000}\n",
    "\n",
    "def string_to_int(string):\n",
    "    if string[-1].isdigit(): # check if no suffix\n",
    "        return float(string)\n",
    "    mult = multipliers[string[-1]] # look up suffix to get multiplier\n",
    "     # convert number to float, multiply by multiplier, then make int\n",
    "    return int(float(string[:-1]) * mult)\n",
    "\n",
    "testvals = [\"150M\", \"360M\", \"2.6B\", \"3.7B\"]\n",
    "\n",
    "print(list(map(string_to_int, testvals)))"
   ]
  },
  {
   "cell_type": "code",
   "execution_count": 24,
   "metadata": {},
   "outputs": [],
   "source": [
    "transactions_df['amount_dollars'] = transactions_df['amount_dollars'].map(string_to_int)"
   ]
  },
  {
   "cell_type": "code",
   "execution_count": 25,
   "metadata": {},
   "outputs": [],
   "source": [
    "transactions_df['amount_ethereum'] = transactions_df['amount_ethereum'].map(string_to_int)"
   ]
  },
  {
   "cell_type": "code",
   "execution_count": 26,
   "metadata": {},
   "outputs": [
    {
     "name": "stdout",
     "output_type": "stream",
     "text": [
      "<class 'pandas.core.frame.DataFrame'>\n",
      "Int64Index: 92823 entries, 0 to 64598\n",
      "Data columns (total 8 columns):\n",
      "Amount             92823 non-null object\n",
      "From               48488 non-null object\n",
      "To                 14592 non-null object\n",
      "Txn                92823 non-null object\n",
      "Type               92823 non-null object\n",
      "punk_id            92823 non-null float64\n",
      "amount_ethereum    92823 non-null float64\n",
      "amount_dollars     92823 non-null float64\n",
      "dtypes: float64(3), object(5)\n",
      "memory usage: 6.4+ MB\n"
     ]
    }
   ],
   "source": [
    "transactions_df.info()"
   ]
  },
  {
   "cell_type": "code",
   "execution_count": 28,
   "metadata": {},
   "outputs": [
    {
     "data": {
      "text/plain": [
       "92823"
      ]
     },
     "execution_count": 28,
     "metadata": {},
     "output_type": "execute_result"
    }
   ],
   "source": [
    "len(transactions_df)"
   ]
  },
  {
   "cell_type": "code",
   "execution_count": 29,
   "metadata": {},
   "outputs": [
    {
     "name": "stderr",
     "output_type": "stream",
     "text": [
      "C:\\Users\\tomi_\\Anaconda3\\lib\\site-packages\\ipykernel_launcher.py:3: UserWarning: Pandas doesn't allow columns to be created via a new attribute name - see https://pandas.pydata.org/pandas-docs/stable/indexing.html#attribute-access\n",
      "  This is separate from the ipykernel package so we can avoid doing imports until\n"
     ]
    }
   ],
   "source": [
    "transactions_df.amount_ethereum = transactions_df.amount_ethereum.astype('float')\n",
    "transactions_df.amount_dollars = transactions_df.amount_dollars.astype('float')\n",
    "transactions_df.transaction_date = transactions_df.Txn.astype('datetime64')"
   ]
  },
  {
   "cell_type": "code",
   "execution_count": 30,
   "metadata": {},
   "outputs": [],
   "source": [
    "transactions_df.to_csv('transactions.csv')"
   ]
  },
  {
   "cell_type": "markdown",
   "metadata": {},
   "source": [
    "### Splitting into 3 tables"
   ]
  },
  {
   "cell_type": "markdown",
   "metadata": {},
   "source": [
    "##### Sales Table"
   ]
  },
  {
   "cell_type": "code",
   "execution_count": 32,
   "metadata": {},
   "outputs": [
    {
     "data": {
      "text/plain": [
       "14163"
      ]
     },
     "execution_count": 32,
     "metadata": {},
     "output_type": "execute_result"
    }
   ],
   "source": [
    "sales = transactions_df[(transactions_df['Type']=='Sold')]\n",
    "len(sales)"
   ]
  },
  {
   "cell_type": "code",
   "execution_count": 33,
   "metadata": {},
   "outputs": [
    {
     "data": {
      "text/html": [
       "<div>\n",
       "<style scoped>\n",
       "    .dataframe tbody tr th:only-of-type {\n",
       "        vertical-align: middle;\n",
       "    }\n",
       "\n",
       "    .dataframe tbody tr th {\n",
       "        vertical-align: top;\n",
       "    }\n",
       "\n",
       "    .dataframe thead th {\n",
       "        text-align: right;\n",
       "    }\n",
       "</style>\n",
       "<table border=\"1\" class=\"dataframe\">\n",
       "  <thead>\n",
       "    <tr style=\"text-align: right;\">\n",
       "      <th></th>\n",
       "      <th>Amount</th>\n",
       "      <th>From</th>\n",
       "      <th>To</th>\n",
       "      <th>Txn</th>\n",
       "      <th>Type</th>\n",
       "      <th>punk_id</th>\n",
       "      <th>amount_ethereum</th>\n",
       "      <th>amount_dollars</th>\n",
       "    </tr>\n",
       "  </thead>\n",
       "  <tbody>\n",
       "    <tr>\n",
       "      <td>16</td>\n",
       "      <td>25Ξ ($2,822)</td>\n",
       "      <td>0xf5099e</td>\n",
       "      <td>0xe08c32</td>\n",
       "      <td>Nov 30, 2018</td>\n",
       "      <td>Sold</td>\n",
       "      <td>0.0</td>\n",
       "      <td>25.00</td>\n",
       "      <td>2822.0</td>\n",
       "    </tr>\n",
       "    <tr>\n",
       "      <td>24</td>\n",
       "      <td>1.60Ξ ($386)</td>\n",
       "      <td>0x00d7c9</td>\n",
       "      <td>0xa0a59c</td>\n",
       "      <td>Jul 07, 2017</td>\n",
       "      <td>Sold</td>\n",
       "      <td>0.0</td>\n",
       "      <td>1.60</td>\n",
       "      <td>386.0</td>\n",
       "    </tr>\n",
       "    <tr>\n",
       "      <td>31</td>\n",
       "      <td>0.98Ξ ($320)</td>\n",
       "      <td>0xc352b5</td>\n",
       "      <td>0x00d7c9</td>\n",
       "      <td>Jun 23, 2017</td>\n",
       "      <td>Sold</td>\n",
       "      <td>0.0</td>\n",
       "      <td>0.98</td>\n",
       "      <td>320.0</td>\n",
       "    </tr>\n",
       "    <tr>\n",
       "      <td>36</td>\n",
       "      <td>60Ξ ($36,305)</td>\n",
       "      <td>EliteCat…</td>\n",
       "      <td>0xcf6165</td>\n",
       "      <td>Nov 30, 2020</td>\n",
       "      <td>Sold</td>\n",
       "      <td>1.0</td>\n",
       "      <td>60.00</td>\n",
       "      <td>36305.0</td>\n",
       "    </tr>\n",
       "    <tr>\n",
       "      <td>62</td>\n",
       "      <td>31Ξ ($5,155)</td>\n",
       "      <td>0xf5099e</td>\n",
       "      <td>GoWest23</td>\n",
       "      <td>Apr 06, 2019</td>\n",
       "      <td>Sold</td>\n",
       "      <td>1.0</td>\n",
       "      <td>31.00</td>\n",
       "      <td>5155.0</td>\n",
       "    </tr>\n",
       "    <tr>\n",
       "      <td>...</td>\n",
       "      <td>...</td>\n",
       "      <td>...</td>\n",
       "      <td>...</td>\n",
       "      <td>...</td>\n",
       "      <td>...</td>\n",
       "      <td>...</td>\n",
       "      <td>...</td>\n",
       "      <td>...</td>\n",
       "    </tr>\n",
       "    <tr>\n",
       "      <td>64562</td>\n",
       "      <td>6.20Ξ ($7,744)</td>\n",
       "      <td>niwin</td>\n",
       "      <td>0xb166dd</td>\n",
       "      <td>Jan 27, 2021</td>\n",
       "      <td>Sold</td>\n",
       "      <td>9979.0</td>\n",
       "      <td>6.20</td>\n",
       "      <td>7744.0</td>\n",
       "    </tr>\n",
       "    <tr>\n",
       "      <td>64565</td>\n",
       "      <td>5Ξ ($1,824)</td>\n",
       "      <td>pastelcr…</td>\n",
       "      <td>niwin</td>\n",
       "      <td>Sep 28, 2020</td>\n",
       "      <td>Sold</td>\n",
       "      <td>9979.0</td>\n",
       "      <td>5.00</td>\n",
       "      <td>1824.0</td>\n",
       "    </tr>\n",
       "    <tr>\n",
       "      <td>64569</td>\n",
       "      <td>1Ξ ($214)</td>\n",
       "      <td>shilpixe…</td>\n",
       "      <td>pastelcr…</td>\n",
       "      <td>May 20, 2020</td>\n",
       "      <td>Sold</td>\n",
       "      <td>9979.0</td>\n",
       "      <td>1.00</td>\n",
       "      <td>214.0</td>\n",
       "    </tr>\n",
       "    <tr>\n",
       "      <td>64576</td>\n",
       "      <td>29Ξ ($68,110)</td>\n",
       "      <td>Kenney</td>\n",
       "      <td>0xaa614b</td>\n",
       "      <td>Jul 04, 2021</td>\n",
       "      <td>Sold</td>\n",
       "      <td>9980.0</td>\n",
       "      <td>29.00</td>\n",
       "      <td>68110.0</td>\n",
       "    </tr>\n",
       "    <tr>\n",
       "      <td>64578</td>\n",
       "      <td>0.10Ξ ($70)</td>\n",
       "      <td>0x58164b</td>\n",
       "      <td>Kenney</td>\n",
       "      <td>Apr 24, 2018</td>\n",
       "      <td>Sold</td>\n",
       "      <td>9980.0</td>\n",
       "      <td>0.10</td>\n",
       "      <td>70.0</td>\n",
       "    </tr>\n",
       "  </tbody>\n",
       "</table>\n",
       "<p>14163 rows × 8 columns</p>\n",
       "</div>"
      ],
      "text/plain": [
       "               Amount       From         To           Txn  Type  punk_id  \\\n",
       "16       25Ξ ($2,822)   0xf5099e   0xe08c32  Nov 30, 2018  Sold      0.0   \n",
       "24       1.60Ξ ($386)   0x00d7c9   0xa0a59c  Jul 07, 2017  Sold      0.0   \n",
       "31       0.98Ξ ($320)   0xc352b5   0x00d7c9  Jun 23, 2017  Sold      0.0   \n",
       "36      60Ξ ($36,305)  EliteCat…   0xcf6165  Nov 30, 2020  Sold      1.0   \n",
       "62       31Ξ ($5,155)   0xf5099e   GoWest23  Apr 06, 2019  Sold      1.0   \n",
       "...               ...        ...        ...           ...   ...      ...   \n",
       "64562  6.20Ξ ($7,744)      niwin   0xb166dd  Jan 27, 2021  Sold   9979.0   \n",
       "64565     5Ξ ($1,824)  pastelcr…      niwin  Sep 28, 2020  Sold   9979.0   \n",
       "64569       1Ξ ($214)  shilpixe…  pastelcr…  May 20, 2020  Sold   9979.0   \n",
       "64576   29Ξ ($68,110)     Kenney   0xaa614b  Jul 04, 2021  Sold   9980.0   \n",
       "64578     0.10Ξ ($70)   0x58164b     Kenney  Apr 24, 2018  Sold   9980.0   \n",
       "\n",
       "       amount_ethereum  amount_dollars  \n",
       "16               25.00          2822.0  \n",
       "24                1.60           386.0  \n",
       "31                0.98           320.0  \n",
       "36               60.00         36305.0  \n",
       "62               31.00          5155.0  \n",
       "...                ...             ...  \n",
       "64562             6.20          7744.0  \n",
       "64565             5.00          1824.0  \n",
       "64569             1.00           214.0  \n",
       "64576            29.00         68110.0  \n",
       "64578             0.10            70.0  \n",
       "\n",
       "[14163 rows x 8 columns]"
      ]
     },
     "execution_count": 33,
     "metadata": {},
     "output_type": "execute_result"
    }
   ],
   "source": [
    "sales"
   ]
  },
  {
   "cell_type": "code",
   "execution_count": 34,
   "metadata": {},
   "outputs": [],
   "source": [
    "transactions_df.to_csv('sales.csv')"
   ]
  },
  {
   "cell_type": "markdown",
   "metadata": {},
   "source": [
    "##### Bids"
   ]
  },
  {
   "cell_type": "code",
   "execution_count": 36,
   "metadata": {},
   "outputs": [
    {
     "data": {
      "text/plain": [
       "34325"
      ]
     },
     "execution_count": 36,
     "metadata": {},
     "output_type": "execute_result"
    }
   ],
   "source": [
    "bids = transactions_df[(transactions_df['Type']=='Bid') | (transactions_df['Type']=='Bid Withdrawn')]\n",
    "len(bids)"
   ]
  },
  {
   "cell_type": "code",
   "execution_count": 37,
   "metadata": {},
   "outputs": [
    {
     "data": {
      "text/html": [
       "<div>\n",
       "<style scoped>\n",
       "    .dataframe tbody tr th:only-of-type {\n",
       "        vertical-align: middle;\n",
       "    }\n",
       "\n",
       "    .dataframe tbody tr th {\n",
       "        vertical-align: top;\n",
       "    }\n",
       "\n",
       "    .dataframe thead th {\n",
       "        text-align: right;\n",
       "    }\n",
       "</style>\n",
       "<table border=\"1\" class=\"dataframe\">\n",
       "  <thead>\n",
       "    <tr style=\"text-align: right;\">\n",
       "      <th></th>\n",
       "      <th>Amount</th>\n",
       "      <th>From</th>\n",
       "      <th>To</th>\n",
       "      <th>Txn</th>\n",
       "      <th>Type</th>\n",
       "      <th>punk_id</th>\n",
       "      <th>amount_ethereum</th>\n",
       "      <th>amount_dollars</th>\n",
       "    </tr>\n",
       "  </thead>\n",
       "  <tbody>\n",
       "    <tr>\n",
       "      <td>0</td>\n",
       "      <td>250Ξ ($1.03M)</td>\n",
       "      <td>0x983ace</td>\n",
       "      <td>NaN</td>\n",
       "      <td>May 10, 2021</td>\n",
       "      <td>Bid Withdrawn</td>\n",
       "      <td>0.0</td>\n",
       "      <td>250.0</td>\n",
       "      <td>1030000.0</td>\n",
       "    </tr>\n",
       "    <tr>\n",
       "      <td>1</td>\n",
       "      <td>250Ξ ($537,615)</td>\n",
       "      <td>0x983ace</td>\n",
       "      <td>NaN</td>\n",
       "      <td>Apr 11, 2021</td>\n",
       "      <td>Bid</td>\n",
       "      <td>0.0</td>\n",
       "      <td>250.0</td>\n",
       "      <td>537615.0</td>\n",
       "    </tr>\n",
       "    <tr>\n",
       "      <td>2</td>\n",
       "      <td>100Ξ ($160,973)</td>\n",
       "      <td>0xd7510a</td>\n",
       "      <td>NaN</td>\n",
       "      <td>Mar 03, 2021</td>\n",
       "      <td>Bid Withdrawn</td>\n",
       "      <td>0.0</td>\n",
       "      <td>100.0</td>\n",
       "      <td>160973.0</td>\n",
       "    </tr>\n",
       "    <tr>\n",
       "      <td>3</td>\n",
       "      <td>100Ξ ($188,897)</td>\n",
       "      <td>0xd7510a</td>\n",
       "      <td>NaN</td>\n",
       "      <td>Feb 20, 2021</td>\n",
       "      <td>Bid</td>\n",
       "      <td>0.0</td>\n",
       "      <td>100.0</td>\n",
       "      <td>188897.0</td>\n",
       "    </tr>\n",
       "    <tr>\n",
       "      <td>4</td>\n",
       "      <td>69Ξ ($25,532)</td>\n",
       "      <td>natealex</td>\n",
       "      <td>NaN</td>\n",
       "      <td>Sep 16, 2020</td>\n",
       "      <td>Bid Withdrawn</td>\n",
       "      <td>0.0</td>\n",
       "      <td>69.0</td>\n",
       "      <td>25532.0</td>\n",
       "    </tr>\n",
       "    <tr>\n",
       "      <td>...</td>\n",
       "      <td>...</td>\n",
       "      <td>...</td>\n",
       "      <td>...</td>\n",
       "      <td>...</td>\n",
       "      <td>...</td>\n",
       "      <td>...</td>\n",
       "      <td>...</td>\n",
       "      <td>...</td>\n",
       "    </tr>\n",
       "    <tr>\n",
       "      <td>64579</td>\n",
       "      <td>0.10Ξ ($64)</td>\n",
       "      <td>Kenney</td>\n",
       "      <td>NaN</td>\n",
       "      <td>Apr 23, 2018</td>\n",
       "      <td>Bid</td>\n",
       "      <td>9980.0</td>\n",
       "      <td>0.1</td>\n",
       "      <td>64.0</td>\n",
       "    </tr>\n",
       "    <tr>\n",
       "      <td>64593</td>\n",
       "      <td>0.10Ξ ($21)</td>\n",
       "      <td>0x6611fe</td>\n",
       "      <td>NaN</td>\n",
       "      <td>Jul 10, 2017</td>\n",
       "      <td>Bid Withdrawn</td>\n",
       "      <td>9984.0</td>\n",
       "      <td>0.1</td>\n",
       "      <td>21.0</td>\n",
       "    </tr>\n",
       "    <tr>\n",
       "      <td>64594</td>\n",
       "      <td>0.10Ξ ($28)</td>\n",
       "      <td>0x6611fe</td>\n",
       "      <td>NaN</td>\n",
       "      <td>Jul 02, 2017</td>\n",
       "      <td>Bid</td>\n",
       "      <td>9984.0</td>\n",
       "      <td>0.1</td>\n",
       "      <td>28.0</td>\n",
       "    </tr>\n",
       "    <tr>\n",
       "      <td>64597</td>\n",
       "      <td>0.10Ξ ($9)</td>\n",
       "      <td>0x95</td>\n",
       "      <td>NaN</td>\n",
       "      <td>Dec 11, 2018</td>\n",
       "      <td>Bid Withdrawn</td>\n",
       "      <td>9985.0</td>\n",
       "      <td>0.1</td>\n",
       "      <td>9.0</td>\n",
       "    </tr>\n",
       "    <tr>\n",
       "      <td>64598</td>\n",
       "      <td>0.10Ξ ($12)</td>\n",
       "      <td>0x95</td>\n",
       "      <td>NaN</td>\n",
       "      <td>Nov 28, 2018</td>\n",
       "      <td>Bid</td>\n",
       "      <td>9985.0</td>\n",
       "      <td>0.1</td>\n",
       "      <td>12.0</td>\n",
       "    </tr>\n",
       "  </tbody>\n",
       "</table>\n",
       "<p>34325 rows × 8 columns</p>\n",
       "</div>"
      ],
      "text/plain": [
       "                Amount      From   To           Txn           Type  punk_id  \\\n",
       "0        250Ξ ($1.03M)  0x983ace  NaN  May 10, 2021  Bid Withdrawn      0.0   \n",
       "1      250Ξ ($537,615)  0x983ace  NaN  Apr 11, 2021            Bid      0.0   \n",
       "2      100Ξ ($160,973)  0xd7510a  NaN  Mar 03, 2021  Bid Withdrawn      0.0   \n",
       "3      100Ξ ($188,897)  0xd7510a  NaN  Feb 20, 2021            Bid      0.0   \n",
       "4        69Ξ ($25,532)  natealex  NaN  Sep 16, 2020  Bid Withdrawn      0.0   \n",
       "...                ...       ...  ...           ...            ...      ...   \n",
       "64579      0.10Ξ ($64)    Kenney  NaN  Apr 23, 2018            Bid   9980.0   \n",
       "64593      0.10Ξ ($21)  0x6611fe  NaN  Jul 10, 2017  Bid Withdrawn   9984.0   \n",
       "64594      0.10Ξ ($28)  0x6611fe  NaN  Jul 02, 2017            Bid   9984.0   \n",
       "64597       0.10Ξ ($9)      0x95  NaN  Dec 11, 2018  Bid Withdrawn   9985.0   \n",
       "64598      0.10Ξ ($12)      0x95  NaN  Nov 28, 2018            Bid   9985.0   \n",
       "\n",
       "       amount_ethereum  amount_dollars  \n",
       "0                250.0       1030000.0  \n",
       "1                250.0        537615.0  \n",
       "2                100.0        160973.0  \n",
       "3                100.0        188897.0  \n",
       "4                 69.0         25532.0  \n",
       "...                ...             ...  \n",
       "64579              0.1            64.0  \n",
       "64593              0.1            21.0  \n",
       "64594              0.1            28.0  \n",
       "64597              0.1             9.0  \n",
       "64598              0.1            12.0  \n",
       "\n",
       "[34325 rows x 8 columns]"
      ]
     },
     "execution_count": 37,
     "metadata": {},
     "output_type": "execute_result"
    }
   ],
   "source": [
    "bids"
   ]
  },
  {
   "cell_type": "code",
   "execution_count": 38,
   "metadata": {},
   "outputs": [],
   "source": [
    "transactions_df.to_csv('bids.csv')"
   ]
  },
  {
   "cell_type": "markdown",
   "metadata": {},
   "source": [
    "##### Offers"
   ]
  },
  {
   "cell_type": "code",
   "execution_count": 39,
   "metadata": {},
   "outputs": [
    {
     "data": {
      "text/plain": [
       "44335"
      ]
     },
     "execution_count": 39,
     "metadata": {},
     "output_type": "execute_result"
    }
   ],
   "source": [
    "offers = transactions_df[(transactions_df['Type']=='Offered')]\n",
    "len(offers)"
   ]
  },
  {
   "cell_type": "code",
   "execution_count": 40,
   "metadata": {},
   "outputs": [
    {
     "data": {
      "text/html": [
       "<div>\n",
       "<style scoped>\n",
       "    .dataframe tbody tr th:only-of-type {\n",
       "        vertical-align: middle;\n",
       "    }\n",
       "\n",
       "    .dataframe tbody tr th {\n",
       "        vertical-align: top;\n",
       "    }\n",
       "\n",
       "    .dataframe thead th {\n",
       "        text-align: right;\n",
       "    }\n",
       "</style>\n",
       "<table border=\"1\" class=\"dataframe\">\n",
       "  <thead>\n",
       "    <tr style=\"text-align: right;\">\n",
       "      <th></th>\n",
       "      <th>Amount</th>\n",
       "      <th>From</th>\n",
       "      <th>To</th>\n",
       "      <th>Txn</th>\n",
       "      <th>Type</th>\n",
       "      <th>punk_id</th>\n",
       "      <th>amount_ethereum</th>\n",
       "      <th>amount_dollars</th>\n",
       "    </tr>\n",
       "  </thead>\n",
       "  <tbody>\n",
       "    <tr>\n",
       "      <td>18</td>\n",
       "      <td>100Ξ ($18,303)</td>\n",
       "      <td>NaN</td>\n",
       "      <td>NaN</td>\n",
       "      <td>Sep 12, 2018</td>\n",
       "      <td>Offered</td>\n",
       "      <td>0.0</td>\n",
       "      <td>100.00</td>\n",
       "      <td>18303.0</td>\n",
       "    </tr>\n",
       "    <tr>\n",
       "      <td>19</td>\n",
       "      <td>200Ξ ($138,566)</td>\n",
       "      <td>NaN</td>\n",
       "      <td>NaN</td>\n",
       "      <td>Dec 16, 2017</td>\n",
       "      <td>Offered</td>\n",
       "      <td>0.0</td>\n",
       "      <td>200.00</td>\n",
       "      <td>138566.0</td>\n",
       "    </tr>\n",
       "    <tr>\n",
       "      <td>22</td>\n",
       "      <td>400Ξ ($96,376)</td>\n",
       "      <td>NaN</td>\n",
       "      <td>NaN</td>\n",
       "      <td>Jul 07, 2017</td>\n",
       "      <td>Offered</td>\n",
       "      <td>0.0</td>\n",
       "      <td>400.00</td>\n",
       "      <td>96376.0</td>\n",
       "    </tr>\n",
       "    <tr>\n",
       "      <td>38</td>\n",
       "      <td>79.50Ξ ($46,842)</td>\n",
       "      <td>NaN</td>\n",
       "      <td>NaN</td>\n",
       "      <td>Nov 25, 2020</td>\n",
       "      <td>Offered</td>\n",
       "      <td>1.0</td>\n",
       "      <td>79.50</td>\n",
       "      <td>46842.0</td>\n",
       "    </tr>\n",
       "    <tr>\n",
       "      <td>41</td>\n",
       "      <td>119.10Ξ ($65,980)</td>\n",
       "      <td>NaN</td>\n",
       "      <td>NaN</td>\n",
       "      <td>Nov 22, 2020</td>\n",
       "      <td>Offered</td>\n",
       "      <td>1.0</td>\n",
       "      <td>119.10</td>\n",
       "      <td>65980.0</td>\n",
       "    </tr>\n",
       "    <tr>\n",
       "      <td>...</td>\n",
       "      <td>...</td>\n",
       "      <td>...</td>\n",
       "      <td>...</td>\n",
       "      <td>...</td>\n",
       "      <td>...</td>\n",
       "      <td>...</td>\n",
       "      <td>...</td>\n",
       "      <td>...</td>\n",
       "    </tr>\n",
       "    <tr>\n",
       "      <td>64571</td>\n",
       "      <td>1Ξ ($187)</td>\n",
       "      <td>NaN</td>\n",
       "      <td>NaN</td>\n",
       "      <td>Apr 25, 2020</td>\n",
       "      <td>Offered</td>\n",
       "      <td>9979.0</td>\n",
       "      <td>1.00</td>\n",
       "      <td>187.0</td>\n",
       "    </tr>\n",
       "    <tr>\n",
       "      <td>64573</td>\n",
       "      <td>3.14Ξ ($797)</td>\n",
       "      <td>NaN</td>\n",
       "      <td>NaN</td>\n",
       "      <td>Jun 26, 2017</td>\n",
       "      <td>Offered</td>\n",
       "      <td>9979.0</td>\n",
       "      <td>3.14</td>\n",
       "      <td>797.0</td>\n",
       "    </tr>\n",
       "    <tr>\n",
       "      <td>64575</td>\n",
       "      <td>32Ξ ($58,248)</td>\n",
       "      <td>NaN</td>\n",
       "      <td>NaN</td>\n",
       "      <td>Jul 19, 2021</td>\n",
       "      <td>Offered</td>\n",
       "      <td>9980.0</td>\n",
       "      <td>32.00</td>\n",
       "      <td>58248.0</td>\n",
       "    </tr>\n",
       "    <tr>\n",
       "      <td>64586</td>\n",
       "      <td>99.99Ξ ($152,787)</td>\n",
       "      <td>NaN</td>\n",
       "      <td>NaN</td>\n",
       "      <td>Mar 05, 2021</td>\n",
       "      <td>Offered</td>\n",
       "      <td>9982.0</td>\n",
       "      <td>99.99</td>\n",
       "      <td>152787.0</td>\n",
       "    </tr>\n",
       "    <tr>\n",
       "      <td>64588</td>\n",
       "      <td>8Ξ ($1,588)</td>\n",
       "      <td>NaN</td>\n",
       "      <td>NaN</td>\n",
       "      <td>May 21, 2020</td>\n",
       "      <td>Offered</td>\n",
       "      <td>9982.0</td>\n",
       "      <td>8.00</td>\n",
       "      <td>1588.0</td>\n",
       "    </tr>\n",
       "  </tbody>\n",
       "</table>\n",
       "<p>44335 rows × 8 columns</p>\n",
       "</div>"
      ],
      "text/plain": [
       "                  Amount From   To           Txn     Type  punk_id  \\\n",
       "18        100Ξ ($18,303)  NaN  NaN  Sep 12, 2018  Offered      0.0   \n",
       "19       200Ξ ($138,566)  NaN  NaN  Dec 16, 2017  Offered      0.0   \n",
       "22        400Ξ ($96,376)  NaN  NaN  Jul 07, 2017  Offered      0.0   \n",
       "38      79.50Ξ ($46,842)  NaN  NaN  Nov 25, 2020  Offered      1.0   \n",
       "41     119.10Ξ ($65,980)  NaN  NaN  Nov 22, 2020  Offered      1.0   \n",
       "...                  ...  ...  ...           ...      ...      ...   \n",
       "64571          1Ξ ($187)  NaN  NaN  Apr 25, 2020  Offered   9979.0   \n",
       "64573       3.14Ξ ($797)  NaN  NaN  Jun 26, 2017  Offered   9979.0   \n",
       "64575      32Ξ ($58,248)  NaN  NaN  Jul 19, 2021  Offered   9980.0   \n",
       "64586  99.99Ξ ($152,787)  NaN  NaN  Mar 05, 2021  Offered   9982.0   \n",
       "64588        8Ξ ($1,588)  NaN  NaN  May 21, 2020  Offered   9982.0   \n",
       "\n",
       "       amount_ethereum  amount_dollars  \n",
       "18              100.00         18303.0  \n",
       "19              200.00        138566.0  \n",
       "22              400.00         96376.0  \n",
       "38               79.50         46842.0  \n",
       "41              119.10         65980.0  \n",
       "...                ...             ...  \n",
       "64571             1.00           187.0  \n",
       "64573             3.14           797.0  \n",
       "64575            32.00         58248.0  \n",
       "64586            99.99        152787.0  \n",
       "64588             8.00          1588.0  \n",
       "\n",
       "[44335 rows x 8 columns]"
      ]
     },
     "execution_count": 40,
     "metadata": {},
     "output_type": "execute_result"
    }
   ],
   "source": [
    "offers"
   ]
  },
  {
   "cell_type": "code",
   "execution_count": 41,
   "metadata": {},
   "outputs": [],
   "source": [
    "transactions_df.to_csv('offers.csv')"
   ]
  },
  {
   "cell_type": "code",
   "execution_count": null,
   "metadata": {},
   "outputs": [],
   "source": []
  }
 ],
 "metadata": {
  "kernelspec": {
   "display_name": "Python 3",
   "language": "python",
   "name": "python3"
  },
  "language_info": {
   "codemirror_mode": {
    "name": "ipython",
    "version": 3
   },
   "file_extension": ".py",
   "mimetype": "text/x-python",
   "name": "python",
   "nbconvert_exporter": "python",
   "pygments_lexer": "ipython3",
   "version": "3.7.4"
  }
 },
 "nbformat": 4,
 "nbformat_minor": 2
}
