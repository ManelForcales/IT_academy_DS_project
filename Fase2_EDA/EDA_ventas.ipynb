{
 "cells": [
  {
   "cell_type": "code",
   "execution_count": 1,
   "metadata": {},
   "outputs": [],
   "source": [
    "import pandas as pd\n",
    "import numpy as np\n",
    "pd.set_option('display.max_columns', None)\n",
    "import seaborn as sns\n",
    "import matplotlib.pyplot as plt"
   ]
  },
  {
   "cell_type": "code",
   "execution_count": 2,
   "metadata": {},
   "outputs": [
    {
     "data": {
      "text/html": [
       "<div>\n",
       "<style scoped>\n",
       "    .dataframe tbody tr th:only-of-type {\n",
       "        vertical-align: middle;\n",
       "    }\n",
       "\n",
       "    .dataframe tbody tr th {\n",
       "        vertical-align: top;\n",
       "    }\n",
       "\n",
       "    .dataframe thead th {\n",
       "        text-align: right;\n",
       "    }\n",
       "</style>\n",
       "<table border=\"1\" class=\"dataframe\">\n",
       "  <thead>\n",
       "    <tr style=\"text-align: right;\">\n",
       "      <th></th>\n",
       "      <th>Amount</th>\n",
       "      <th>From</th>\n",
       "      <th>To</th>\n",
       "      <th>Txn</th>\n",
       "      <th>Type</th>\n",
       "      <th>punk_id</th>\n",
       "      <th>amount_ethereum</th>\n",
       "      <th>amount_dollars</th>\n",
       "    </tr>\n",
       "  </thead>\n",
       "  <tbody>\n",
       "    <tr>\n",
       "      <th>0</th>\n",
       "      <td>250Ξ ($1.03M)</td>\n",
       "      <td>0x983ace</td>\n",
       "      <td>NaN</td>\n",
       "      <td>2021-05-10</td>\n",
       "      <td>Bid Withdrawn</td>\n",
       "      <td>0</td>\n",
       "      <td>250.0</td>\n",
       "      <td>1030000.0</td>\n",
       "    </tr>\n",
       "    <tr>\n",
       "      <th>1</th>\n",
       "      <td>250Ξ ($537,615)</td>\n",
       "      <td>0x983ace</td>\n",
       "      <td>NaN</td>\n",
       "      <td>2021-04-11</td>\n",
       "      <td>Bid</td>\n",
       "      <td>0</td>\n",
       "      <td>250.0</td>\n",
       "      <td>537615.0</td>\n",
       "    </tr>\n",
       "    <tr>\n",
       "      <th>2</th>\n",
       "      <td>100Ξ ($160,973)</td>\n",
       "      <td>0xd7510a</td>\n",
       "      <td>NaN</td>\n",
       "      <td>2021-03-03</td>\n",
       "      <td>Bid Withdrawn</td>\n",
       "      <td>0</td>\n",
       "      <td>100.0</td>\n",
       "      <td>160973.0</td>\n",
       "    </tr>\n",
       "    <tr>\n",
       "      <th>3</th>\n",
       "      <td>100Ξ ($188,897)</td>\n",
       "      <td>0xd7510a</td>\n",
       "      <td>NaN</td>\n",
       "      <td>2021-02-20</td>\n",
       "      <td>Bid</td>\n",
       "      <td>0</td>\n",
       "      <td>100.0</td>\n",
       "      <td>188897.0</td>\n",
       "    </tr>\n",
       "    <tr>\n",
       "      <th>4</th>\n",
       "      <td>69Ξ ($25,532)</td>\n",
       "      <td>natealex</td>\n",
       "      <td>NaN</td>\n",
       "      <td>2020-09-16</td>\n",
       "      <td>Bid Withdrawn</td>\n",
       "      <td>0</td>\n",
       "      <td>69.0</td>\n",
       "      <td>25532.0</td>\n",
       "    </tr>\n",
       "  </tbody>\n",
       "</table>\n",
       "</div>"
      ],
      "text/plain": [
       "            Amount      From   To        Txn           Type  punk_id  \\\n",
       "0    250Ξ ($1.03M)  0x983ace  NaN 2021-05-10  Bid Withdrawn        0   \n",
       "1  250Ξ ($537,615)  0x983ace  NaN 2021-04-11            Bid        0   \n",
       "2  100Ξ ($160,973)  0xd7510a  NaN 2021-03-03  Bid Withdrawn        0   \n",
       "3  100Ξ ($188,897)  0xd7510a  NaN 2021-02-20            Bid        0   \n",
       "4    69Ξ ($25,532)  natealex  NaN 2020-09-16  Bid Withdrawn        0   \n",
       "\n",
       "   amount_ethereum  amount_dollars  \n",
       "0            250.0       1030000.0  \n",
       "1            250.0        537615.0  \n",
       "2            100.0        160973.0  \n",
       "3            100.0        188897.0  \n",
       "4             69.0         25532.0  "
      ]
     },
     "execution_count": 2,
     "metadata": {},
     "output_type": "execute_result"
    }
   ],
   "source": [
    "df = pd.read_csv('../offers.csv')\n",
    "df.punk_id = df.punk_id.astype(int)\n",
    "df.drop('Unnamed: 0',axis=1,inplace=True)\n",
    "df['Txn'] = df['Txn'].astype('datetime64')\n",
    "#df.set_index('punk_id',inplace=True)\n",
    "df.head()"
   ]
  },
  {
   "cell_type": "code",
   "execution_count": 3,
   "metadata": {},
   "outputs": [
    {
     "data": {
      "text/plain": [
       "(92823, 8)"
      ]
     },
     "execution_count": 3,
     "metadata": {},
     "output_type": "execute_result"
    }
   ],
   "source": [
    "df.shape"
   ]
  },
  {
   "cell_type": "code",
   "execution_count": 4,
   "metadata": {},
   "outputs": [],
   "source": [
    "punks = pd.read_csv('../Fase1_ETL/to_database/raw_punks.csv')\n",
    "punks.drop('Unnamed: 0',axis=1,inplace=True)\n",
    "#punks.set_index('id',inplace=True)"
   ]
  },
  {
   "cell_type": "code",
   "execution_count": 5,
   "metadata": {},
   "outputs": [
    {
     "data": {
      "text/html": [
       "<div>\n",
       "<style scoped>\n",
       "    .dataframe tbody tr th:only-of-type {\n",
       "        vertical-align: middle;\n",
       "    }\n",
       "\n",
       "    .dataframe tbody tr th {\n",
       "        vertical-align: top;\n",
       "    }\n",
       "\n",
       "    .dataframe thead th {\n",
       "        text-align: right;\n",
       "    }\n",
       "</style>\n",
       "<table border=\"1\" class=\"dataframe\">\n",
       "  <thead>\n",
       "    <tr style=\"text-align: right;\">\n",
       "      <th></th>\n",
       "      <th>id</th>\n",
       "      <th>types</th>\n",
       "      <th>rarity</th>\n",
       "      <th>skin</th>\n",
       "      <th>total_traits</th>\n",
       "      <th>traits</th>\n",
       "      <th>total_hidden_traits</th>\n",
       "      <th>hidden_traits</th>\n",
       "    </tr>\n",
       "  </thead>\n",
       "  <tbody>\n",
       "    <tr>\n",
       "      <th>0</th>\n",
       "      <td>0</td>\n",
       "      <td>Female</td>\n",
       "      <td>2023</td>\n",
       "      <td>Mid</td>\n",
       "      <td>3</td>\n",
       "      <td>Blonde Bob,Earring,Green Eye Shadow</td>\n",
       "      <td>1</td>\n",
       "      <td>Earring</td>\n",
       "    </tr>\n",
       "    <tr>\n",
       "      <th>1</th>\n",
       "      <td>1</td>\n",
       "      <td>Male</td>\n",
       "      <td>4352</td>\n",
       "      <td>Dark</td>\n",
       "      <td>2</td>\n",
       "      <td>Mohawk,Smile</td>\n",
       "      <td>0</td>\n",
       "      <td>NaN</td>\n",
       "    </tr>\n",
       "    <tr>\n",
       "      <th>2</th>\n",
       "      <td>2</td>\n",
       "      <td>Female</td>\n",
       "      <td>8090</td>\n",
       "      <td>Light</td>\n",
       "      <td>1</td>\n",
       "      <td>Wild Hair</td>\n",
       "      <td>0</td>\n",
       "      <td>NaN</td>\n",
       "    </tr>\n",
       "    <tr>\n",
       "      <th>3</th>\n",
       "      <td>3</td>\n",
       "      <td>Male</td>\n",
       "      <td>7896</td>\n",
       "      <td>Dark</td>\n",
       "      <td>3</td>\n",
       "      <td>Nerd Glasses,Pipe,Wild Hair</td>\n",
       "      <td>0</td>\n",
       "      <td>NaN</td>\n",
       "    </tr>\n",
       "    <tr>\n",
       "      <th>4</th>\n",
       "      <td>4</td>\n",
       "      <td>Male</td>\n",
       "      <td>7332</td>\n",
       "      <td>Mid</td>\n",
       "      <td>4</td>\n",
       "      <td>Big Shades,Earring,Goat,Wild Hair</td>\n",
       "      <td>0</td>\n",
       "      <td>NaN</td>\n",
       "    </tr>\n",
       "  </tbody>\n",
       "</table>\n",
       "</div>"
      ],
      "text/plain": [
       "   id   types  rarity   skin  total_traits  \\\n",
       "0   0  Female    2023    Mid             3   \n",
       "1   1    Male    4352   Dark             2   \n",
       "2   2  Female    8090  Light             1   \n",
       "3   3    Male    7896   Dark             3   \n",
       "4   4    Male    7332    Mid             4   \n",
       "\n",
       "                                traits  total_hidden_traits hidden_traits  \n",
       "0  Blonde Bob,Earring,Green Eye Shadow                    1       Earring  \n",
       "1                         Mohawk,Smile                    0           NaN  \n",
       "2                            Wild Hair                    0           NaN  \n",
       "3          Nerd Glasses,Pipe,Wild Hair                    0           NaN  \n",
       "4    Big Shades,Earring,Goat,Wild Hair                    0           NaN  "
      ]
     },
     "execution_count": 5,
     "metadata": {},
     "output_type": "execute_result"
    }
   ],
   "source": [
    "punks.head()"
   ]
  },
  {
   "cell_type": "code",
   "execution_count": 6,
   "metadata": {},
   "outputs": [
    {
     "data": {
      "text/plain": [
       "(10000, 8)"
      ]
     },
     "execution_count": 6,
     "metadata": {},
     "output_type": "execute_result"
    }
   ],
   "source": [
    "punks.shape"
   ]
  },
  {
   "cell_type": "code",
   "execution_count": null,
   "metadata": {},
   "outputs": [],
   "source": []
  },
  {
   "cell_type": "code",
   "execution_count": 7,
   "metadata": {},
   "outputs": [
    {
     "data": {
      "text/html": [
       "<div>\n",
       "<style scoped>\n",
       "    .dataframe tbody tr th:only-of-type {\n",
       "        vertical-align: middle;\n",
       "    }\n",
       "\n",
       "    .dataframe tbody tr th {\n",
       "        vertical-align: top;\n",
       "    }\n",
       "\n",
       "    .dataframe thead th {\n",
       "        text-align: right;\n",
       "    }\n",
       "</style>\n",
       "<table border=\"1\" class=\"dataframe\">\n",
       "  <thead>\n",
       "    <tr style=\"text-align: right;\">\n",
       "      <th></th>\n",
       "      <th>Amount</th>\n",
       "      <th>From</th>\n",
       "      <th>To</th>\n",
       "      <th>Txn</th>\n",
       "      <th>Type</th>\n",
       "      <th>punk_id</th>\n",
       "      <th>amount_ethereum</th>\n",
       "      <th>amount_dollars</th>\n",
       "      <th>id</th>\n",
       "      <th>types</th>\n",
       "      <th>rarity</th>\n",
       "      <th>skin</th>\n",
       "      <th>total_traits</th>\n",
       "      <th>traits</th>\n",
       "      <th>total_hidden_traits</th>\n",
       "      <th>hidden_traits</th>\n",
       "    </tr>\n",
       "  </thead>\n",
       "  <tbody>\n",
       "    <tr>\n",
       "      <th>0</th>\n",
       "      <td>250Ξ ($1.03M)</td>\n",
       "      <td>0x983ace</td>\n",
       "      <td>NaN</td>\n",
       "      <td>2021-05-10</td>\n",
       "      <td>Bid Withdrawn</td>\n",
       "      <td>0</td>\n",
       "      <td>250.0</td>\n",
       "      <td>1030000.0</td>\n",
       "      <td>0</td>\n",
       "      <td>Female</td>\n",
       "      <td>2023</td>\n",
       "      <td>Mid</td>\n",
       "      <td>3</td>\n",
       "      <td>Blonde Bob,Earring,Green Eye Shadow</td>\n",
       "      <td>1</td>\n",
       "      <td>Earring</td>\n",
       "    </tr>\n",
       "    <tr>\n",
       "      <th>1</th>\n",
       "      <td>250Ξ ($537,615)</td>\n",
       "      <td>0x983ace</td>\n",
       "      <td>NaN</td>\n",
       "      <td>2021-04-11</td>\n",
       "      <td>Bid</td>\n",
       "      <td>0</td>\n",
       "      <td>250.0</td>\n",
       "      <td>537615.0</td>\n",
       "      <td>0</td>\n",
       "      <td>Female</td>\n",
       "      <td>2023</td>\n",
       "      <td>Mid</td>\n",
       "      <td>3</td>\n",
       "      <td>Blonde Bob,Earring,Green Eye Shadow</td>\n",
       "      <td>1</td>\n",
       "      <td>Earring</td>\n",
       "    </tr>\n",
       "    <tr>\n",
       "      <th>2</th>\n",
       "      <td>100Ξ ($160,973)</td>\n",
       "      <td>0xd7510a</td>\n",
       "      <td>NaN</td>\n",
       "      <td>2021-03-03</td>\n",
       "      <td>Bid Withdrawn</td>\n",
       "      <td>0</td>\n",
       "      <td>100.0</td>\n",
       "      <td>160973.0</td>\n",
       "      <td>0</td>\n",
       "      <td>Female</td>\n",
       "      <td>2023</td>\n",
       "      <td>Mid</td>\n",
       "      <td>3</td>\n",
       "      <td>Blonde Bob,Earring,Green Eye Shadow</td>\n",
       "      <td>1</td>\n",
       "      <td>Earring</td>\n",
       "    </tr>\n",
       "    <tr>\n",
       "      <th>3</th>\n",
       "      <td>100Ξ ($188,897)</td>\n",
       "      <td>0xd7510a</td>\n",
       "      <td>NaN</td>\n",
       "      <td>2021-02-20</td>\n",
       "      <td>Bid</td>\n",
       "      <td>0</td>\n",
       "      <td>100.0</td>\n",
       "      <td>188897.0</td>\n",
       "      <td>0</td>\n",
       "      <td>Female</td>\n",
       "      <td>2023</td>\n",
       "      <td>Mid</td>\n",
       "      <td>3</td>\n",
       "      <td>Blonde Bob,Earring,Green Eye Shadow</td>\n",
       "      <td>1</td>\n",
       "      <td>Earring</td>\n",
       "    </tr>\n",
       "    <tr>\n",
       "      <th>4</th>\n",
       "      <td>69Ξ ($25,532)</td>\n",
       "      <td>natealex</td>\n",
       "      <td>NaN</td>\n",
       "      <td>2020-09-16</td>\n",
       "      <td>Bid Withdrawn</td>\n",
       "      <td>0</td>\n",
       "      <td>69.0</td>\n",
       "      <td>25532.0</td>\n",
       "      <td>0</td>\n",
       "      <td>Female</td>\n",
       "      <td>2023</td>\n",
       "      <td>Mid</td>\n",
       "      <td>3</td>\n",
       "      <td>Blonde Bob,Earring,Green Eye Shadow</td>\n",
       "      <td>1</td>\n",
       "      <td>Earring</td>\n",
       "    </tr>\n",
       "  </tbody>\n",
       "</table>\n",
       "</div>"
      ],
      "text/plain": [
       "            Amount      From   To        Txn           Type  punk_id  \\\n",
       "0    250Ξ ($1.03M)  0x983ace  NaN 2021-05-10  Bid Withdrawn        0   \n",
       "1  250Ξ ($537,615)  0x983ace  NaN 2021-04-11            Bid        0   \n",
       "2  100Ξ ($160,973)  0xd7510a  NaN 2021-03-03  Bid Withdrawn        0   \n",
       "3  100Ξ ($188,897)  0xd7510a  NaN 2021-02-20            Bid        0   \n",
       "4    69Ξ ($25,532)  natealex  NaN 2020-09-16  Bid Withdrawn        0   \n",
       "\n",
       "   amount_ethereum  amount_dollars  id   types  rarity skin  total_traits  \\\n",
       "0            250.0       1030000.0   0  Female    2023  Mid             3   \n",
       "1            250.0        537615.0   0  Female    2023  Mid             3   \n",
       "2            100.0        160973.0   0  Female    2023  Mid             3   \n",
       "3            100.0        188897.0   0  Female    2023  Mid             3   \n",
       "4             69.0         25532.0   0  Female    2023  Mid             3   \n",
       "\n",
       "                                traits  total_hidden_traits hidden_traits  \n",
       "0  Blonde Bob,Earring,Green Eye Shadow                    1       Earring  \n",
       "1  Blonde Bob,Earring,Green Eye Shadow                    1       Earring  \n",
       "2  Blonde Bob,Earring,Green Eye Shadow                    1       Earring  \n",
       "3  Blonde Bob,Earring,Green Eye Shadow                    1       Earring  \n",
       "4  Blonde Bob,Earring,Green Eye Shadow                    1       Earring  "
      ]
     },
     "execution_count": 7,
     "metadata": {},
     "output_type": "execute_result"
    }
   ],
   "source": [
    "aggregated_df = df.merge(punks, how='left',left_on='punk_id',right_on='id',left_index=False, right_index=False, sort=False)\n",
    "aggregated_df.head()"
   ]
  },
  {
   "cell_type": "code",
   "execution_count": 8,
   "metadata": {},
   "outputs": [
    {
     "data": {
      "text/plain": [
       "array(['Bid Withdrawn', 'Bid', 'Sold', 'Offered'], dtype=object)"
      ]
     },
     "execution_count": 8,
     "metadata": {},
     "output_type": "execute_result"
    }
   ],
   "source": [
    "aggregated_df.Type.unique()"
   ]
  },
  {
   "cell_type": "code",
   "execution_count": 9,
   "metadata": {},
   "outputs": [],
   "source": [
    "# get punks who have been sold\n",
    "sold = aggregated_df[aggregated_df.Type == 'Sold']"
   ]
  },
  {
   "cell_type": "code",
   "execution_count": 10,
   "metadata": {},
   "outputs": [],
   "source": [
    "df_sold = sold[['punk_id','Txn','amount_ethereum','types','skin','rarity','traits','total_traits']].reset_index(drop=True)"
   ]
  },
  {
   "cell_type": "code",
   "execution_count": 11,
   "metadata": {},
   "outputs": [
    {
     "data": {
      "text/html": [
       "<div>\n",
       "<style scoped>\n",
       "    .dataframe tbody tr th:only-of-type {\n",
       "        vertical-align: middle;\n",
       "    }\n",
       "\n",
       "    .dataframe tbody tr th {\n",
       "        vertical-align: top;\n",
       "    }\n",
       "\n",
       "    .dataframe thead th {\n",
       "        text-align: right;\n",
       "    }\n",
       "</style>\n",
       "<table border=\"1\" class=\"dataframe\">\n",
       "  <thead>\n",
       "    <tr style=\"text-align: right;\">\n",
       "      <th></th>\n",
       "      <th>punk_id</th>\n",
       "      <th>Txn</th>\n",
       "      <th>amount_ethereum</th>\n",
       "      <th>types</th>\n",
       "      <th>skin</th>\n",
       "      <th>rarity</th>\n",
       "      <th>traits</th>\n",
       "      <th>total_traits</th>\n",
       "    </tr>\n",
       "  </thead>\n",
       "  <tbody>\n",
       "    <tr>\n",
       "      <th>0</th>\n",
       "      <td>0</td>\n",
       "      <td>2018-11-30</td>\n",
       "      <td>25.00</td>\n",
       "      <td>Female</td>\n",
       "      <td>Mid</td>\n",
       "      <td>2023</td>\n",
       "      <td>Blonde Bob,Earring,Green Eye Shadow</td>\n",
       "      <td>3</td>\n",
       "    </tr>\n",
       "    <tr>\n",
       "      <th>1</th>\n",
       "      <td>0</td>\n",
       "      <td>2017-07-07</td>\n",
       "      <td>1.60</td>\n",
       "      <td>Female</td>\n",
       "      <td>Mid</td>\n",
       "      <td>2023</td>\n",
       "      <td>Blonde Bob,Earring,Green Eye Shadow</td>\n",
       "      <td>3</td>\n",
       "    </tr>\n",
       "    <tr>\n",
       "      <th>2</th>\n",
       "      <td>0</td>\n",
       "      <td>2017-06-23</td>\n",
       "      <td>0.98</td>\n",
       "      <td>Female</td>\n",
       "      <td>Mid</td>\n",
       "      <td>2023</td>\n",
       "      <td>Blonde Bob,Earring,Green Eye Shadow</td>\n",
       "      <td>3</td>\n",
       "    </tr>\n",
       "    <tr>\n",
       "      <th>3</th>\n",
       "      <td>1</td>\n",
       "      <td>2020-11-30</td>\n",
       "      <td>60.00</td>\n",
       "      <td>Male</td>\n",
       "      <td>Dark</td>\n",
       "      <td>4352</td>\n",
       "      <td>Mohawk,Smile</td>\n",
       "      <td>2</td>\n",
       "    </tr>\n",
       "    <tr>\n",
       "      <th>4</th>\n",
       "      <td>1</td>\n",
       "      <td>2019-04-06</td>\n",
       "      <td>31.00</td>\n",
       "      <td>Male</td>\n",
       "      <td>Dark</td>\n",
       "      <td>4352</td>\n",
       "      <td>Mohawk,Smile</td>\n",
       "      <td>2</td>\n",
       "    </tr>\n",
       "  </tbody>\n",
       "</table>\n",
       "</div>"
      ],
      "text/plain": [
       "   punk_id        Txn  amount_ethereum   types  skin  rarity  \\\n",
       "0        0 2018-11-30            25.00  Female   Mid    2023   \n",
       "1        0 2017-07-07             1.60  Female   Mid    2023   \n",
       "2        0 2017-06-23             0.98  Female   Mid    2023   \n",
       "3        1 2020-11-30            60.00    Male  Dark    4352   \n",
       "4        1 2019-04-06            31.00    Male  Dark    4352   \n",
       "\n",
       "                                traits  total_traits  \n",
       "0  Blonde Bob,Earring,Green Eye Shadow             3  \n",
       "1  Blonde Bob,Earring,Green Eye Shadow             3  \n",
       "2  Blonde Bob,Earring,Green Eye Shadow             3  \n",
       "3                         Mohawk,Smile             2  \n",
       "4                         Mohawk,Smile             2  "
      ]
     },
     "execution_count": 11,
     "metadata": {},
     "output_type": "execute_result"
    }
   ],
   "source": [
    "df_sold.head()"
   ]
  },
  {
   "cell_type": "code",
   "execution_count": 12,
   "metadata": {},
   "outputs": [
    {
     "data": {
      "image/png": "[encoded data removed]",
      "text/plain": [
       "<Figure size 864x432 with 1 Axes>"
      ]
     },
     "metadata": {
      "needs_background": "light"
     },
     "output_type": "display_data"
    }
   ],
   "source": [
    "plt.subplots(figsize=(12,6))\n",
    "df_sold.sort_values(by='rarity').groupby('rarity').count()['types'].plot()\n",
    "plt.title ('number of times sold')\n",
    "plt.show()"
   ]
  },
  {
   "cell_type": "code",
   "execution_count": 13,
   "metadata": {},
   "outputs": [],
   "source": [
    "df_count_sold = df_sold.groupby('punk_id')['types'].count().to_frame(name='total_sold')\n",
    "df_median_price = df_sold.groupby('punk_id')['amount_ethereum'].mean().to_frame(name='avg_sold_price')\n",
    "df_max_price = df_sold.groupby('punk_id')['amount_ethereum'].max().to_frame(name='max_sold_price')"
   ]
  },
  {
   "cell_type": "code",
   "execution_count": 14,
   "metadata": {},
   "outputs": [
    {
     "data": {
      "text/html": [
       "<div>\n",
       "<style scoped>\n",
       "    .dataframe tbody tr th:only-of-type {\n",
       "        vertical-align: middle;\n",
       "    }\n",
       "\n",
       "    .dataframe tbody tr th {\n",
       "        vertical-align: top;\n",
       "    }\n",
       "\n",
       "    .dataframe thead th {\n",
       "        text-align: right;\n",
       "    }\n",
       "</style>\n",
       "<table border=\"1\" class=\"dataframe\">\n",
       "  <thead>\n",
       "    <tr style=\"text-align: right;\">\n",
       "      <th></th>\n",
       "      <th>total_sold</th>\n",
       "      <th>avg_sold_price</th>\n",
       "      <th>max_sold_price</th>\n",
       "      <th>id</th>\n",
       "      <th>types</th>\n",
       "      <th>rarity</th>\n",
       "      <th>skin</th>\n",
       "      <th>total_traits</th>\n",
       "      <th>traits</th>\n",
       "      <th>total_hidden_traits</th>\n",
       "      <th>hidden_traits</th>\n",
       "    </tr>\n",
       "  </thead>\n",
       "  <tbody>\n",
       "    <tr>\n",
       "      <th>0</th>\n",
       "      <td>3.0</td>\n",
       "      <td>9.193333</td>\n",
       "      <td>25.0</td>\n",
       "      <td>0</td>\n",
       "      <td>Female</td>\n",
       "      <td>2023</td>\n",
       "      <td>Mid</td>\n",
       "      <td>3</td>\n",
       "      <td>Blonde Bob,Earring,Green Eye Shadow</td>\n",
       "      <td>1</td>\n",
       "      <td>Earring</td>\n",
       "    </tr>\n",
       "    <tr>\n",
       "      <th>1</th>\n",
       "      <td>3.0</td>\n",
       "      <td>30.473333</td>\n",
       "      <td>60.0</td>\n",
       "      <td>1</td>\n",
       "      <td>Male</td>\n",
       "      <td>4352</td>\n",
       "      <td>Dark</td>\n",
       "      <td>2</td>\n",
       "      <td>Mohawk,Smile</td>\n",
       "      <td>0</td>\n",
       "      <td>NaN</td>\n",
       "    </tr>\n",
       "  </tbody>\n",
       "</table>\n",
       "</div>"
      ],
      "text/plain": [
       "   total_sold  avg_sold_price  max_sold_price  id   types  rarity  skin  \\\n",
       "0         3.0        9.193333            25.0   0  Female    2023   Mid   \n",
       "1         3.0       30.473333            60.0   1    Male    4352  Dark   \n",
       "\n",
       "   total_traits                               traits  total_hidden_traits  \\\n",
       "0             3  Blonde Bob,Earring,Green Eye Shadow                    1   \n",
       "1             2                         Mohawk,Smile                    0   \n",
       "\n",
       "  hidden_traits  \n",
       "0       Earring  \n",
       "1           NaN  "
      ]
     },
     "execution_count": 14,
     "metadata": {},
     "output_type": "execute_result"
    }
   ],
   "source": [
    "df_counts = pd.concat([df_count_sold,df_median_price,df_max_price,punks],axis=1)\n",
    "df_counts.head(2)"
   ]
  },
  {
   "cell_type": "code",
   "execution_count": 15,
   "metadata": {},
   "outputs": [],
   "source": [
    "df_counts = df_counts[['id','total_sold','avg_sold_price','max_sold_price','types','rarity','skin','traits','total_traits']]"
   ]
  },
  {
   "cell_type": "code",
   "execution_count": 16,
   "metadata": {},
   "outputs": [
    {
     "data": {
      "text/html": [
       "<div>\n",
       "<style scoped>\n",
       "    .dataframe tbody tr th:only-of-type {\n",
       "        vertical-align: middle;\n",
       "    }\n",
       "\n",
       "    .dataframe tbody tr th {\n",
       "        vertical-align: top;\n",
       "    }\n",
       "\n",
       "    .dataframe thead th {\n",
       "        text-align: right;\n",
       "    }\n",
       "</style>\n",
       "<table border=\"1\" class=\"dataframe\">\n",
       "  <thead>\n",
       "    <tr style=\"text-align: right;\">\n",
       "      <th></th>\n",
       "      <th>id</th>\n",
       "      <th>total_sold</th>\n",
       "      <th>avg_sold_price</th>\n",
       "      <th>max_sold_price</th>\n",
       "      <th>types</th>\n",
       "      <th>rarity</th>\n",
       "      <th>skin</th>\n",
       "      <th>traits</th>\n",
       "      <th>total_traits</th>\n",
       "    </tr>\n",
       "  </thead>\n",
       "  <tbody>\n",
       "    <tr>\n",
       "      <th>2201</th>\n",
       "      <td>2201</td>\n",
       "      <td>NaN</td>\n",
       "      <td>NaN</td>\n",
       "      <td>NaN</td>\n",
       "      <td>Female</td>\n",
       "      <td>136</td>\n",
       "      <td>Mid</td>\n",
       "      <td>Choker,Frumpy Hair</td>\n",
       "      <td>2</td>\n",
       "    </tr>\n",
       "  </tbody>\n",
       "</table>\n",
       "</div>"
      ],
      "text/plain": [
       "        id  total_sold  avg_sold_price  max_sold_price   types  rarity skin  \\\n",
       "2201  2201         NaN             NaN             NaN  Female     136  Mid   \n",
       "\n",
       "                  traits  total_traits  \n",
       "2201  Choker,Frumpy Hair             2  "
      ]
     },
     "execution_count": 16,
     "metadata": {},
     "output_type": "execute_result"
    }
   ],
   "source": [
    "df_counts[df_counts.id == 2201]"
   ]
  },
  {
   "cell_type": "code",
   "execution_count": 17,
   "metadata": {},
   "outputs": [
    {
     "data": {
      "text/html": [
       "<div>\n",
       "<style scoped>\n",
       "    .dataframe tbody tr th:only-of-type {\n",
       "        vertical-align: middle;\n",
       "    }\n",
       "\n",
       "    .dataframe tbody tr th {\n",
       "        vertical-align: top;\n",
       "    }\n",
       "\n",
       "    .dataframe thead th {\n",
       "        text-align: right;\n",
       "    }\n",
       "</style>\n",
       "<table border=\"1\" class=\"dataframe\">\n",
       "  <thead>\n",
       "    <tr style=\"text-align: right;\">\n",
       "      <th></th>\n",
       "      <th>id</th>\n",
       "      <th>total_sold</th>\n",
       "      <th>avg_sold_price</th>\n",
       "      <th>max_sold_price</th>\n",
       "      <th>types</th>\n",
       "      <th>rarity</th>\n",
       "      <th>skin</th>\n",
       "      <th>traits</th>\n",
       "      <th>total_traits</th>\n",
       "    </tr>\n",
       "  </thead>\n",
       "  <tbody>\n",
       "    <tr>\n",
       "      <th>0</th>\n",
       "      <td>0</td>\n",
       "      <td>3.0</td>\n",
       "      <td>9.193333</td>\n",
       "      <td>25.00</td>\n",
       "      <td>Female</td>\n",
       "      <td>2023</td>\n",
       "      <td>Mid</td>\n",
       "      <td>Blonde Bob,Earring,Green Eye Shadow</td>\n",
       "      <td>3</td>\n",
       "    </tr>\n",
       "    <tr>\n",
       "      <th>1</th>\n",
       "      <td>1</td>\n",
       "      <td>3.0</td>\n",
       "      <td>30.473333</td>\n",
       "      <td>60.00</td>\n",
       "      <td>Male</td>\n",
       "      <td>4352</td>\n",
       "      <td>Dark</td>\n",
       "      <td>Mohawk,Smile</td>\n",
       "      <td>2</td>\n",
       "    </tr>\n",
       "    <tr>\n",
       "      <th>14</th>\n",
       "      <td>14</td>\n",
       "      <td>3.0</td>\n",
       "      <td>1.750000</td>\n",
       "      <td>2.50</td>\n",
       "      <td>Female</td>\n",
       "      <td>155</td>\n",
       "      <td>Dark</td>\n",
       "      <td>Hot Lipstick,Pilot Helmet,Pipe</td>\n",
       "      <td>3</td>\n",
       "    </tr>\n",
       "    <tr>\n",
       "      <th>33</th>\n",
       "      <td>33</td>\n",
       "      <td>1.0</td>\n",
       "      <td>0.510000</td>\n",
       "      <td>0.51</td>\n",
       "      <td>Male</td>\n",
       "      <td>7635</td>\n",
       "      <td>Light</td>\n",
       "      <td>Peak Spike</td>\n",
       "      <td>1</td>\n",
       "    </tr>\n",
       "    <tr>\n",
       "      <th>53</th>\n",
       "      <td>53</td>\n",
       "      <td>2.0</td>\n",
       "      <td>21.000000</td>\n",
       "      <td>22.00</td>\n",
       "      <td>Female</td>\n",
       "      <td>2825</td>\n",
       "      <td>Light</td>\n",
       "      <td>Big Shades,Straight Hair</td>\n",
       "      <td>2</td>\n",
       "    </tr>\n",
       "    <tr>\n",
       "      <th>89</th>\n",
       "      <td>89</td>\n",
       "      <td>3.0</td>\n",
       "      <td>13.830000</td>\n",
       "      <td>20.00</td>\n",
       "      <td>Female</td>\n",
       "      <td>125</td>\n",
       "      <td>Dark</td>\n",
       "      <td>Choker</td>\n",
       "      <td>1</td>\n",
       "    </tr>\n",
       "    <tr>\n",
       "      <th>116</th>\n",
       "      <td>116</td>\n",
       "      <td>2.0</td>\n",
       "      <td>1.800000</td>\n",
       "      <td>2.40</td>\n",
       "      <td>Female</td>\n",
       "      <td>220</td>\n",
       "      <td>Dark</td>\n",
       "      <td>Black Lipstick,Clown Eyes Blue,Earring,Tiara</td>\n",
       "      <td>4</td>\n",
       "    </tr>\n",
       "    <tr>\n",
       "      <th>118</th>\n",
       "      <td>118</td>\n",
       "      <td>2.0</td>\n",
       "      <td>20.350000</td>\n",
       "      <td>20.45</td>\n",
       "      <td>Female</td>\n",
       "      <td>9954</td>\n",
       "      <td>Light</td>\n",
       "      <td>Bandana,Black Lipstick</td>\n",
       "      <td>2</td>\n",
       "    </tr>\n",
       "    <tr>\n",
       "      <th>124</th>\n",
       "      <td>124</td>\n",
       "      <td>3.0</td>\n",
       "      <td>17.300000</td>\n",
       "      <td>19.90</td>\n",
       "      <td>Male</td>\n",
       "      <td>6760</td>\n",
       "      <td>Mid</td>\n",
       "      <td>Earring,Normal Beard Black,Peak Spike</td>\n",
       "      <td>3</td>\n",
       "    </tr>\n",
       "    <tr>\n",
       "      <th>138</th>\n",
       "      <td>138</td>\n",
       "      <td>4.0</td>\n",
       "      <td>14.925000</td>\n",
       "      <td>15.95</td>\n",
       "      <td>Male</td>\n",
       "      <td>9806</td>\n",
       "      <td>Light</td>\n",
       "      <td>Horned Rim Glasses,Stringy Hair</td>\n",
       "      <td>2</td>\n",
       "    </tr>\n",
       "  </tbody>\n",
       "</table>\n",
       "</div>"
      ],
      "text/plain": [
       "      id  total_sold  avg_sold_price  max_sold_price   types  rarity   skin  \\\n",
       "0      0         3.0        9.193333           25.00  Female    2023    Mid   \n",
       "1      1         3.0       30.473333           60.00    Male    4352   Dark   \n",
       "14    14         3.0        1.750000            2.50  Female     155   Dark   \n",
       "33    33         1.0        0.510000            0.51    Male    7635  Light   \n",
       "53    53         2.0       21.000000           22.00  Female    2825  Light   \n",
       "89    89         3.0       13.830000           20.00  Female     125   Dark   \n",
       "116  116         2.0        1.800000            2.40  Female     220   Dark   \n",
       "118  118         2.0       20.350000           20.45  Female    9954  Light   \n",
       "124  124         3.0       17.300000           19.90    Male    6760    Mid   \n",
       "138  138         4.0       14.925000           15.95    Male    9806  Light   \n",
       "\n",
       "                                           traits  total_traits  \n",
       "0             Blonde Bob,Earring,Green Eye Shadow             3  \n",
       "1                                    Mohawk,Smile             2  \n",
       "14                 Hot Lipstick,Pilot Helmet,Pipe             3  \n",
       "33                                     Peak Spike             1  \n",
       "53                       Big Shades,Straight Hair             2  \n",
       "89                                         Choker             1  \n",
       "116  Black Lipstick,Clown Eyes Blue,Earring,Tiara             4  \n",
       "118                        Bandana,Black Lipstick             2  \n",
       "124         Earring,Normal Beard Black,Peak Spike             3  \n",
       "138               Horned Rim Glasses,Stringy Hair             2  "
      ]
     },
     "execution_count": 17,
     "metadata": {},
     "output_type": "execute_result"
    }
   ],
   "source": [
    "#df_counts.fillna(0,inplace=True)\n",
    "df_counts.dropna(inplace=True)\n",
    "df_counts.head(10)"
   ]
  },
  {
   "cell_type": "code",
   "execution_count": 18,
   "metadata": {},
   "outputs": [],
   "source": [
    "# vamos a analizar la venta de los mas raros\n",
    "df_raros = df_counts[df_counts.rarity<101].sort_values(by='rarity')\n",
    "df_otros = df_counts[df_counts.rarity>101].sort_values(by='rarity')"
   ]
  },
  {
   "cell_type": "code",
   "execution_count": 19,
   "metadata": {},
   "outputs": [
    {
     "data": {
      "text/html": [
       "<div>\n",
       "<style scoped>\n",
       "    .dataframe tbody tr th:only-of-type {\n",
       "        vertical-align: middle;\n",
       "    }\n",
       "\n",
       "    .dataframe tbody tr th {\n",
       "        vertical-align: top;\n",
       "    }\n",
       "\n",
       "    .dataframe thead th {\n",
       "        text-align: right;\n",
       "    }\n",
       "</style>\n",
       "<table border=\"1\" class=\"dataframe\">\n",
       "  <thead>\n",
       "    <tr style=\"text-align: right;\">\n",
       "      <th></th>\n",
       "      <th>id</th>\n",
       "      <th>total_sold</th>\n",
       "      <th>avg_sold_price</th>\n",
       "      <th>max_sold_price</th>\n",
       "      <th>types</th>\n",
       "      <th>rarity</th>\n",
       "      <th>skin</th>\n",
       "      <th>traits</th>\n",
       "      <th>total_traits</th>\n",
       "      <th>tipo</th>\n",
       "    </tr>\n",
       "  </thead>\n",
       "  <tbody>\n",
       "    <tr>\n",
       "      <th>8348</th>\n",
       "      <td>8348</td>\n",
       "      <td>3.0</td>\n",
       "      <td>37.633333</td>\n",
       "      <td>85.0</td>\n",
       "      <td>Male</td>\n",
       "      <td>1</td>\n",
       "      <td>Mid</td>\n",
       "      <td>Big Beard,Buck Teeth,Cigarette,Classic Shades,...</td>\n",
       "      <td>7</td>\n",
       "      <td>humano</td>\n",
       "    </tr>\n",
       "    <tr>\n",
       "      <th>7523</th>\n",
       "      <td>7523</td>\n",
       "      <td>1.0</td>\n",
       "      <td>8.000000</td>\n",
       "      <td>8.0</td>\n",
       "      <td>Alien</td>\n",
       "      <td>11</td>\n",
       "      <td>Alien</td>\n",
       "      <td>Earring,Knitted Cap,Medical Mask</td>\n",
       "      <td>3</td>\n",
       "      <td>rest</td>\n",
       "    </tr>\n",
       "    <tr>\n",
       "      <th>7804</th>\n",
       "      <td>7804</td>\n",
       "      <td>2.0</td>\n",
       "      <td>2106.000000</td>\n",
       "      <td>4200.0</td>\n",
       "      <td>Alien</td>\n",
       "      <td>12</td>\n",
       "      <td>Alien</td>\n",
       "      <td>Cap Forward,Pipe,Small Shades</td>\n",
       "      <td>3</td>\n",
       "      <td>rest</td>\n",
       "    </tr>\n",
       "    <tr>\n",
       "      <th>2890</th>\n",
       "      <td>2890</td>\n",
       "      <td>2.0</td>\n",
       "      <td>306.500000</td>\n",
       "      <td>605.0</td>\n",
       "      <td>Alien</td>\n",
       "      <td>14</td>\n",
       "      <td>Alien</td>\n",
       "      <td>Cap</td>\n",
       "      <td>1</td>\n",
       "      <td>rest</td>\n",
       "    </tr>\n",
       "    <tr>\n",
       "      <th>3100</th>\n",
       "      <td>3100</td>\n",
       "      <td>2.0</td>\n",
       "      <td>2104.000000</td>\n",
       "      <td>4200.0</td>\n",
       "      <td>Alien</td>\n",
       "      <td>15</td>\n",
       "      <td>Alien</td>\n",
       "      <td>Headband</td>\n",
       "      <td>1</td>\n",
       "      <td>rest</td>\n",
       "    </tr>\n",
       "    <tr>\n",
       "      <th>...</th>\n",
       "      <td>...</td>\n",
       "      <td>...</td>\n",
       "      <td>...</td>\n",
       "      <td>...</td>\n",
       "      <td>...</td>\n",
       "      <td>...</td>\n",
       "      <td>...</td>\n",
       "      <td>...</td>\n",
       "      <td>...</td>\n",
       "      <td>...</td>\n",
       "    </tr>\n",
       "    <tr>\n",
       "      <th>9703</th>\n",
       "      <td>9703</td>\n",
       "      <td>1.0</td>\n",
       "      <td>2.500000</td>\n",
       "      <td>2.5</td>\n",
       "      <td>Male</td>\n",
       "      <td>94</td>\n",
       "      <td>Dark</td>\n",
       "      <td>Beanie,Mole</td>\n",
       "      <td>2</td>\n",
       "      <td>humano</td>\n",
       "    </tr>\n",
       "    <tr>\n",
       "      <th>8562</th>\n",
       "      <td>8562</td>\n",
       "      <td>9.0</td>\n",
       "      <td>42.067778</td>\n",
       "      <td>105.0</td>\n",
       "      <td>Male</td>\n",
       "      <td>96</td>\n",
       "      <td>Dark</td>\n",
       "      <td>Beanie,Earring</td>\n",
       "      <td>2</td>\n",
       "      <td>humano</td>\n",
       "    </tr>\n",
       "    <tr>\n",
       "      <th>5684</th>\n",
       "      <td>5684</td>\n",
       "      <td>4.0</td>\n",
       "      <td>13.625000</td>\n",
       "      <td>44.0</td>\n",
       "      <td>Female</td>\n",
       "      <td>98</td>\n",
       "      <td>Dark</td>\n",
       "      <td>Choker,Pilot Helmet</td>\n",
       "      <td>2</td>\n",
       "      <td>humano</td>\n",
       "    </tr>\n",
       "    <tr>\n",
       "      <th>5787</th>\n",
       "      <td>5787</td>\n",
       "      <td>1.0</td>\n",
       "      <td>2.100000</td>\n",
       "      <td>2.1</td>\n",
       "      <td>Female</td>\n",
       "      <td>99</td>\n",
       "      <td>Mid</td>\n",
       "      <td>Black Lipstick,Choker,Purple Eye Shadow,Tiara</td>\n",
       "      <td>4</td>\n",
       "      <td>humano</td>\n",
       "    </tr>\n",
       "    <tr>\n",
       "      <th>1684</th>\n",
       "      <td>1684</td>\n",
       "      <td>2.0</td>\n",
       "      <td>20.745000</td>\n",
       "      <td>40.0</td>\n",
       "      <td>Female</td>\n",
       "      <td>100</td>\n",
       "      <td>Dark</td>\n",
       "      <td>Choker,Orange Side</td>\n",
       "      <td>2</td>\n",
       "      <td>humano</td>\n",
       "    </tr>\n",
       "  </tbody>\n",
       "</table>\n",
       "<p>65 rows × 10 columns</p>\n",
       "</div>"
      ],
      "text/plain": [
       "        id  total_sold  avg_sold_price  max_sold_price   types  rarity   skin  \\\n",
       "8348  8348         3.0       37.633333            85.0    Male       1    Mid   \n",
       "7523  7523         1.0        8.000000             8.0   Alien      11  Alien   \n",
       "7804  7804         2.0     2106.000000          4200.0   Alien      12  Alien   \n",
       "2890  2890         2.0      306.500000           605.0   Alien      14  Alien   \n",
       "3100  3100         2.0     2104.000000          4200.0   Alien      15  Alien   \n",
       "...    ...         ...             ...             ...     ...     ...    ...   \n",
       "9703  9703         1.0        2.500000             2.5    Male      94   Dark   \n",
       "8562  8562         9.0       42.067778           105.0    Male      96   Dark   \n",
       "5684  5684         4.0       13.625000            44.0  Female      98   Dark   \n",
       "5787  5787         1.0        2.100000             2.1  Female      99    Mid   \n",
       "1684  1684         2.0       20.745000            40.0  Female     100   Dark   \n",
       "\n",
       "                                                 traits  total_traits    tipo  \n",
       "8348  Big Beard,Buck Teeth,Cigarette,Classic Shades,...             7  humano  \n",
       "7523                   Earring,Knitted Cap,Medical Mask             3    rest  \n",
       "7804                      Cap Forward,Pipe,Small Shades             3    rest  \n",
       "2890                                                Cap             1    rest  \n",
       "3100                                           Headband             1    rest  \n",
       "...                                                 ...           ...     ...  \n",
       "9703                                        Beanie,Mole             2  humano  \n",
       "8562                                     Beanie,Earring             2  humano  \n",
       "5684                                Choker,Pilot Helmet             2  humano  \n",
       "5787      Black Lipstick,Choker,Purple Eye Shadow,Tiara             4  humano  \n",
       "1684                                 Choker,Orange Side             2  humano  \n",
       "\n",
       "[65 rows x 10 columns]"
      ]
     },
     "execution_count": 19,
     "metadata": {},
     "output_type": "execute_result"
    }
   ],
   "source": [
    "df_raros['tipo'] = df_raros.types.map({'Male':'humano','Female':'humano','Ape':'rest','Zombie':'rest','Alien':'rest'})\n",
    "df_raros"
   ]
  },
  {
   "cell_type": "code",
   "execution_count": 20,
   "metadata": {},
   "outputs": [
    {
     "data": {
      "text/plain": [
       "array([3., 1., 2., 4., 5., 6., 8., 9.])"
      ]
     },
     "execution_count": 20,
     "metadata": {},
     "output_type": "execute_result"
    }
   ],
   "source": [
    "df_raros.total_sold.unique()"
   ]
  },
  {
   "cell_type": "code",
   "execution_count": 21,
   "metadata": {},
   "outputs": [
    {
     "data": {
      "text/html": [
       "<div>\n",
       "<style scoped>\n",
       "    .dataframe tbody tr th:only-of-type {\n",
       "        vertical-align: middle;\n",
       "    }\n",
       "\n",
       "    .dataframe tbody tr th {\n",
       "        vertical-align: top;\n",
       "    }\n",
       "\n",
       "    .dataframe thead th {\n",
       "        text-align: right;\n",
       "    }\n",
       "</style>\n",
       "<table border=\"1\" class=\"dataframe\">\n",
       "  <thead>\n",
       "    <tr style=\"text-align: right;\">\n",
       "      <th></th>\n",
       "      <th>id</th>\n",
       "      <th>total_sold</th>\n",
       "      <th>avg_sold_price</th>\n",
       "      <th>max_sold_price</th>\n",
       "      <th>types</th>\n",
       "      <th>rarity</th>\n",
       "      <th>skin</th>\n",
       "      <th>traits</th>\n",
       "      <th>total_traits</th>\n",
       "      <th>tipo</th>\n",
       "    </tr>\n",
       "  </thead>\n",
       "  <tbody>\n",
       "  </tbody>\n",
       "</table>\n",
       "</div>"
      ],
      "text/plain": [
       "Empty DataFrame\n",
       "Columns: [id, total_sold, avg_sold_price, max_sold_price, types, rarity, skin, traits, total_traits, tipo]\n",
       "Index: []"
      ]
     },
     "execution_count": 21,
     "metadata": {},
     "output_type": "execute_result"
    }
   ],
   "source": [
    "df_raros[df_raros.avg_sold_price < 0]"
   ]
  },
  {
   "cell_type": "code",
   "execution_count": 22,
   "metadata": {},
   "outputs": [
    {
     "data": {
      "image/png": "[encoded data removed]",
      "text/plain": [
       "<Figure size 864x576 with 1 Axes>"
      ]
     },
     "metadata": {
      "needs_background": "light"
     },
     "output_type": "display_data"
    },
    {
     "data": {
      "text/html": [
       "<div>\n",
       "<style scoped>\n",
       "    .dataframe tbody tr th:only-of-type {\n",
       "        vertical-align: middle;\n",
       "    }\n",
       "\n",
       "    .dataframe tbody tr th {\n",
       "        vertical-align: top;\n",
       "    }\n",
       "\n",
       "    .dataframe thead th {\n",
       "        text-align: right;\n",
       "    }\n",
       "</style>\n",
       "<table border=\"1\" class=\"dataframe\">\n",
       "  <thead>\n",
       "    <tr style=\"text-align: right;\">\n",
       "      <th></th>\n",
       "      <th>id</th>\n",
       "      <th>total_sold</th>\n",
       "      <th>avg_sold_price</th>\n",
       "      <th>max_sold_price</th>\n",
       "      <th>types</th>\n",
       "      <th>rarity</th>\n",
       "      <th>skin</th>\n",
       "      <th>traits</th>\n",
       "      <th>total_traits</th>\n",
       "      <th>tipo</th>\n",
       "    </tr>\n",
       "  </thead>\n",
       "  <tbody>\n",
       "    <tr>\n",
       "      <th>8348</th>\n",
       "      <td>8348</td>\n",
       "      <td>3.0</td>\n",
       "      <td>37.633333</td>\n",
       "      <td>85.0</td>\n",
       "      <td>Male</td>\n",
       "      <td>1</td>\n",
       "      <td>Mid</td>\n",
       "      <td>Big Beard,Buck Teeth,Cigarette,Classic Shades,...</td>\n",
       "      <td>7</td>\n",
       "      <td>humano</td>\n",
       "    </tr>\n",
       "    <tr>\n",
       "      <th>7523</th>\n",
       "      <td>7523</td>\n",
       "      <td>1.0</td>\n",
       "      <td>8.000000</td>\n",
       "      <td>8.0</td>\n",
       "      <td>Alien</td>\n",
       "      <td>11</td>\n",
       "      <td>Alien</td>\n",
       "      <td>Earring,Knitted Cap,Medical Mask</td>\n",
       "      <td>3</td>\n",
       "      <td>rest</td>\n",
       "    </tr>\n",
       "    <tr>\n",
       "      <th>7804</th>\n",
       "      <td>7804</td>\n",
       "      <td>2.0</td>\n",
       "      <td>2106.000000</td>\n",
       "      <td>4200.0</td>\n",
       "      <td>Alien</td>\n",
       "      <td>12</td>\n",
       "      <td>Alien</td>\n",
       "      <td>Cap Forward,Pipe,Small Shades</td>\n",
       "      <td>3</td>\n",
       "      <td>rest</td>\n",
       "    </tr>\n",
       "    <tr>\n",
       "      <th>2890</th>\n",
       "      <td>2890</td>\n",
       "      <td>2.0</td>\n",
       "      <td>306.500000</td>\n",
       "      <td>605.0</td>\n",
       "      <td>Alien</td>\n",
       "      <td>14</td>\n",
       "      <td>Alien</td>\n",
       "      <td>Cap</td>\n",
       "      <td>1</td>\n",
       "      <td>rest</td>\n",
       "    </tr>\n",
       "    <tr>\n",
       "      <th>3100</th>\n",
       "      <td>3100</td>\n",
       "      <td>2.0</td>\n",
       "      <td>2104.000000</td>\n",
       "      <td>4200.0</td>\n",
       "      <td>Alien</td>\n",
       "      <td>15</td>\n",
       "      <td>Alien</td>\n",
       "      <td>Headband</td>\n",
       "      <td>1</td>\n",
       "      <td>rest</td>\n",
       "    </tr>\n",
       "    <tr>\n",
       "      <th>...</th>\n",
       "      <td>...</td>\n",
       "      <td>...</td>\n",
       "      <td>...</td>\n",
       "      <td>...</td>\n",
       "      <td>...</td>\n",
       "      <td>...</td>\n",
       "      <td>...</td>\n",
       "      <td>...</td>\n",
       "      <td>...</td>\n",
       "      <td>...</td>\n",
       "    </tr>\n",
       "    <tr>\n",
       "      <th>9703</th>\n",
       "      <td>9703</td>\n",
       "      <td>1.0</td>\n",
       "      <td>2.500000</td>\n",
       "      <td>2.5</td>\n",
       "      <td>Male</td>\n",
       "      <td>94</td>\n",
       "      <td>Dark</td>\n",
       "      <td>Beanie,Mole</td>\n",
       "      <td>2</td>\n",
       "      <td>humano</td>\n",
       "    </tr>\n",
       "    <tr>\n",
       "      <th>8562</th>\n",
       "      <td>8562</td>\n",
       "      <td>9.0</td>\n",
       "      <td>42.067778</td>\n",
       "      <td>105.0</td>\n",
       "      <td>Male</td>\n",
       "      <td>96</td>\n",
       "      <td>Dark</td>\n",
       "      <td>Beanie,Earring</td>\n",
       "      <td>2</td>\n",
       "      <td>humano</td>\n",
       "    </tr>\n",
       "    <tr>\n",
       "      <th>5684</th>\n",
       "      <td>5684</td>\n",
       "      <td>4.0</td>\n",
       "      <td>13.625000</td>\n",
       "      <td>44.0</td>\n",
       "      <td>Female</td>\n",
       "      <td>98</td>\n",
       "      <td>Dark</td>\n",
       "      <td>Choker,Pilot Helmet</td>\n",
       "      <td>2</td>\n",
       "      <td>humano</td>\n",
       "    </tr>\n",
       "    <tr>\n",
       "      <th>5787</th>\n",
       "      <td>5787</td>\n",
       "      <td>1.0</td>\n",
       "      <td>2.100000</td>\n",
       "      <td>2.1</td>\n",
       "      <td>Female</td>\n",
       "      <td>99</td>\n",
       "      <td>Mid</td>\n",
       "      <td>Black Lipstick,Choker,Purple Eye Shadow,Tiara</td>\n",
       "      <td>4</td>\n",
       "      <td>humano</td>\n",
       "    </tr>\n",
       "    <tr>\n",
       "      <th>1684</th>\n",
       "      <td>1684</td>\n",
       "      <td>2.0</td>\n",
       "      <td>20.745000</td>\n",
       "      <td>40.0</td>\n",
       "      <td>Female</td>\n",
       "      <td>100</td>\n",
       "      <td>Dark</td>\n",
       "      <td>Choker,Orange Side</td>\n",
       "      <td>2</td>\n",
       "      <td>humano</td>\n",
       "    </tr>\n",
       "  </tbody>\n",
       "</table>\n",
       "<p>65 rows × 10 columns</p>\n",
       "</div>"
      ],
      "text/plain": [
       "        id  total_sold  avg_sold_price  max_sold_price   types  rarity   skin  \\\n",
       "8348  8348         3.0       37.633333            85.0    Male       1    Mid   \n",
       "7523  7523         1.0        8.000000             8.0   Alien      11  Alien   \n",
       "7804  7804         2.0     2106.000000          4200.0   Alien      12  Alien   \n",
       "2890  2890         2.0      306.500000           605.0   Alien      14  Alien   \n",
       "3100  3100         2.0     2104.000000          4200.0   Alien      15  Alien   \n",
       "...    ...         ...             ...             ...     ...     ...    ...   \n",
       "9703  9703         1.0        2.500000             2.5    Male      94   Dark   \n",
       "8562  8562         9.0       42.067778           105.0    Male      96   Dark   \n",
       "5684  5684         4.0       13.625000            44.0  Female      98   Dark   \n",
       "5787  5787         1.0        2.100000             2.1  Female      99    Mid   \n",
       "1684  1684         2.0       20.745000            40.0  Female     100   Dark   \n",
       "\n",
       "                                                 traits  total_traits    tipo  \n",
       "8348  Big Beard,Buck Teeth,Cigarette,Classic Shades,...             7  humano  \n",
       "7523                   Earring,Knitted Cap,Medical Mask             3    rest  \n",
       "7804                      Cap Forward,Pipe,Small Shades             3    rest  \n",
       "2890                                                Cap             1    rest  \n",
       "3100                                           Headband             1    rest  \n",
       "...                                                 ...           ...     ...  \n",
       "9703                                        Beanie,Mole             2  humano  \n",
       "8562                                     Beanie,Earring             2  humano  \n",
       "5684                                Choker,Pilot Helmet             2  humano  \n",
       "5787      Black Lipstick,Choker,Purple Eye Shadow,Tiara             4  humano  \n",
       "1684                                 Choker,Orange Side             2  humano  \n",
       "\n",
       "[65 rows x 10 columns]"
      ]
     },
     "execution_count": 22,
     "metadata": {},
     "output_type": "execute_result"
    }
   ],
   "source": [
    "fig,ax = plt.subplots(figsize=(12,8))\n",
    "sns.histplot(data=df_raros['total_sold'],bins=50,stat='probability',ax=ax)\n",
    "plt.title ('TOP 100 RAREST PUNKS; nº TOTAL SALES HISTOGRAM')\n",
    "plt.show()\n",
    "df_raros"
   ]
  },
  {
   "cell_type": "code",
   "execution_count": 23,
   "metadata": {},
   "outputs": [],
   "source": [
    "def outliers(df, feature):\n",
    "    Q1= df[feature].quantile(0.25)\n",
    "    Q3 = df[feature].quantile(0.75)\n",
    "    print(f'25% at {Q1}, and 75% at {Q3}')\n",
    "    IQR = Q3 - Q1\n",
    "    upper_limit = Q3 + 1.5 * IQR\n",
    "    lower_limit = Q1 - 1.5 * IQR\n",
    "    return upper_limit, lower_limit"
   ]
  },
  {
   "cell_type": "code",
   "execution_count": 24,
   "metadata": {},
   "outputs": [],
   "source": [
    "variable_to_explore = 'avg_sold_price'\n",
    "#variable_to_explore = 'max_sold_price'"
   ]
  },
  {
   "cell_type": "code",
   "execution_count": 25,
   "metadata": {},
   "outputs": [
    {
     "name": "stdout",
     "output_type": "stream",
     "text": [
      "124.59248632478632 367.9736813865542 88.5\n",
      "25% at 2.2780000000000005, and 75% at 88.5\n",
      "217.833 -127.05499999999999\n"
     ]
    }
   ],
   "source": [
    "mediana = df_raros[variable_to_explore].mean()\n",
    "std = df_raros[variable_to_explore].std()\n",
    "perc_75 = df_raros[variable_to_explore].quantile(.75)\n",
    "print(mediana,std,perc_75)\n",
    "upper_raros, lower = outliers(df_raros, variable_to_explore)\n",
    "print(upper_raros,lower)"
   ]
  },
  {
   "cell_type": "markdown",
   "metadata": {},
   "source": [
    "fig,ax = plt.subplots(figsize=(16,9))\n",
    "sns.histplot(data=df_raros.avg_bid_price,bins=50,stat='frequency',ax=ax)\n",
    "plt.show()"
   ]
  },
  {
   "cell_type": "code",
   "execution_count": 26,
   "metadata": {
    "scrolled": false
   },
   "outputs": [
    {
     "data": {
      "image/png": "[encoded data removed]",
      "text/plain": [
       "<Figure size 720x432 with 1 Axes>"
      ]
     },
     "metadata": {
      "needs_background": "light"
     },
     "output_type": "display_data"
    }
   ],
   "source": [
    "fig,ax = plt.subplots(figsize=(10,6))\n",
    "sns.boxplot(x=\"tipo\", y=variable_to_explore,data=df_raros[~(df_raros[variable_to_explore]>upper_raros)],ax=ax)\n",
    "sns.catplot\n",
    "plt.title('top 100 rarest punks: outliers removed')\n",
    "#plt.ylim([0,900])\n",
    "plt.show()"
   ]
  },
  {
   "cell_type": "code",
   "execution_count": 27,
   "metadata": {},
   "outputs": [
    {
     "name": "stdout",
     "output_type": "stream",
     "text": [
      "14.060171419327801 21.28429411395847 20.933333333333334\n",
      "25% at 0.9199999999999999, and 75% at 20.933333333333334\n",
      "50.95333333333333 -29.1\n"
     ]
    }
   ],
   "source": [
    "mediana = df_otros[variable_to_explore].mean()\n",
    "std = df_otros[variable_to_explore].std()\n",
    "perc_75 = df_otros[variable_to_explore].quantile(0.75)\n",
    "print(mediana,std,perc_75)\n",
    "upper_otros, lower = outliers(df_otros, variable_to_explore)\n",
    "print(upper_otros,lower)"
   ]
  },
  {
   "cell_type": "code",
   "execution_count": 28,
   "metadata": {
    "scrolled": false
   },
   "outputs": [
    {
     "data": {
      "image/png": "[encoded data removed]",
      "text/plain": [
       "<Figure size 720x432 with 1 Axes>"
      ]
     },
     "metadata": {
      "needs_background": "light"
     },
     "output_type": "display_data"
    }
   ],
   "source": [
    "fig,ax = plt.subplots(figsize=(10,6))\n",
    "#display(df_otros.head())\n",
    "#display(df_otros.types.unique())\n",
    "df_otros['tipo'] = df_otros.types.map({'Male':'humano','Female':'humano','Ape':'rest','Zombie':'rest','Alien':'rest'})\n",
    "sns.boxplot(x=\"tipo\", y=variable_to_explore,data=df_otros[~(df_otros[variable_to_explore]>upper_otros)],ax=ax)\n",
    "plt.title('rest of punks: outliers removed')\n",
    "#plt.ylim([0,900])\n",
    "plt.show()"
   ]
  },
  {
   "cell_type": "code",
   "execution_count": 29,
   "metadata": {},
   "outputs": [],
   "source": [
    "data1 = df_raros[~(df_raros[variable_to_explore]>upper_raros)][variable_to_explore]\n",
    "\n",
    "data2 = df_otros[~(df_otros[variable_to_explore]>upper_otros)][variable_to_explore]"
   ]
  },
  {
   "cell_type": "code",
   "execution_count": 30,
   "metadata": {},
   "outputs": [
    {
     "data": {
      "text/plain": [
       "<matplotlib.legend.Legend at 0x7f3c5b07dfd0>"
      ]
     },
     "execution_count": 30,
     "metadata": {},
     "output_type": "execute_result"
    },
    {
     "data": {
      "image/png": "[encoded data removed]",
      "text/plain": [
       "<Figure size 432x288 with 1 Axes>"
      ]
     },
     "metadata": {
      "needs_background": "light"
     },
     "output_type": "display_data"
    }
   ],
   "source": [
    "# Segun la teoria del Central Limit Theory (CLT), la media de las muestras tiene una distrubucion Normal\n",
    "\n",
    "def get_means_of_price(data):\n",
    "    means_price = []\n",
    "    for i in range(5000):\n",
    "        price_samples= data.sample(n=10, replace=True) # take a sample of 300 values with replacement\n",
    "        means_price.append(price_samples.mean())\n",
    "    return means_price\n",
    "\n",
    "sns.histplot(get_means_of_price(data1),color='blue',kde=True,alpha=0.5)  \n",
    "sns.histplot(get_means_of_price(data2),color = 'red',kde=True)  \n",
    "plt.legend(['top raros','rest'])"
   ]
  },
  {
   "cell_type": "code",
   "execution_count": 31,
   "metadata": {},
   "outputs": [],
   "source": [
    "from scipy.stats import ttest_ind"
   ]
  },
  {
   "cell_type": "code",
   "execution_count": 32,
   "metadata": {},
   "outputs": [
    {
     "name": "stdout",
     "output_type": "stream",
     "text": [
      "Ttest_indResult(statistic=20.185895167592644, pvalue=2.0043920874118916e-87)\n"
     ]
    }
   ],
   "source": [
    "res = ttest_ind(a=data1,b=data2)\n",
    "print(res)"
   ]
  },
  {
   "cell_type": "code",
   "execution_count": 33,
   "metadata": {},
   "outputs": [
    {
     "name": "stdout",
     "output_type": "stream",
     "text": [
      "P-value is 0.0% and significance level (alpha) is 5% \n",
      "reject NULL hypothesis that both dist are equal\n"
     ]
    }
   ],
   "source": [
    "alpha = 0.05    \n",
    "print(f'P-value is {round(res.pvalue*100,2)}% and significance level (alpha) is 5% ')\n",
    "if res.pvalue < alpha:\n",
    "    print('reject NULL hypothesis that both dist are equal')\n",
    "else:\n",
    "    print('cannot reject NULL hypothesis that both dist are equal')\n"
   ]
  },
  {
   "cell_type": "code",
   "execution_count": 34,
   "metadata": {},
   "outputs": [],
   "source": [
    "# vamos a analizar la venta de los mas vendidos"
   ]
  },
  {
   "cell_type": "code",
   "execution_count": 35,
   "metadata": {},
   "outputs": [],
   "source": [
    "df_top_ventas = df_counts.sort_values(by='total_sold',ascending=False)[:100]\n",
    "df_otros = df_counts.sort_values(by='total_sold',ascending=False)[100:]"
   ]
  },
  {
   "cell_type": "code",
   "execution_count": 36,
   "metadata": {},
   "outputs": [
    {
     "data": {
      "text/plain": [
       "Int64Index([2937, 9117, 8508, 5287, 7072, 5705, 9335, 3914, 8970, 6523, 8389,\n",
       "            4631, 9089, 8586, 6397, 6276, 8436, 1791, 4253, 5965, 4261, 1737,\n",
       "            4632, 9922, 4960, 3306, 6936, 7281, 2907, 8919, 8512, 3565, 4241,\n",
       "            6672, 7443, 8871, 2998, 7435, 2043, 5635, 9350, 4808, 5354, 4174,\n",
       "            7005, 2317, 5275, 2125, 6230, 6303, 3654, 2390, 5575, 5559, 6654,\n",
       "            7094, 4770, 5366, 3782, 9507, 4861, 3771, 4951, 6989,  639, 7608,\n",
       "            6094, 3421, 2238, 7575, 8562, 2135, 6160, 3553, 6550, 8696, 2832,\n",
       "            2942, 8861, 4036, 5752, 8946, 3576, 6531, 4111, 5209, 5020, 3533,\n",
       "            2856, 3114, 4824, 9447, 6863, 2677,  441, 9856, 4046, 4878, 9539,\n",
       "            2860],\n",
       "           dtype='int64', name='id')"
      ]
     },
     "execution_count": 36,
     "metadata": {},
     "output_type": "execute_result"
    }
   ],
   "source": [
    "df_counts.sort_values(by='total_sold',ascending=False).set_index('id')['total_sold'][:100].index"
   ]
  },
  {
   "cell_type": "code",
   "execution_count": 37,
   "metadata": {},
   "outputs": [
    {
     "name": "stdout",
     "output_type": "stream",
     "text": [
      "avg_sold_price\n",
      "25% at 4.754944444444445, and 75% at 10.901893939393938\n",
      "20.12231818181818 -4.465479797979795\n"
     ]
    }
   ],
   "source": [
    "print(variable_to_explore)\n",
    "upper_ventas, lower = outliers(df_top_ventas, variable_to_explore)\n",
    "print(upper_ventas,lower)"
   ]
  },
  {
   "cell_type": "code",
   "execution_count": 38,
   "metadata": {},
   "outputs": [
    {
     "data": {
      "text/html": [
       "<div>\n",
       "<style scoped>\n",
       "    .dataframe tbody tr th:only-of-type {\n",
       "        vertical-align: middle;\n",
       "    }\n",
       "\n",
       "    .dataframe tbody tr th {\n",
       "        vertical-align: top;\n",
       "    }\n",
       "\n",
       "    .dataframe thead th {\n",
       "        text-align: right;\n",
       "    }\n",
       "</style>\n",
       "<table border=\"1\" class=\"dataframe\">\n",
       "  <thead>\n",
       "    <tr style=\"text-align: right;\">\n",
       "      <th></th>\n",
       "      <th>id</th>\n",
       "      <th>total_sold</th>\n",
       "      <th>avg_sold_price</th>\n",
       "      <th>max_sold_price</th>\n",
       "      <th>types</th>\n",
       "      <th>rarity</th>\n",
       "      <th>skin</th>\n",
       "      <th>traits</th>\n",
       "      <th>total_traits</th>\n",
       "    </tr>\n",
       "  </thead>\n",
       "  <tbody>\n",
       "    <tr>\n",
       "      <th>2937</th>\n",
       "      <td>2937</td>\n",
       "      <td>15.0</td>\n",
       "      <td>7.058000</td>\n",
       "      <td>22.22</td>\n",
       "      <td>Female</td>\n",
       "      <td>5431</td>\n",
       "      <td>Dark</td>\n",
       "      <td>Purple Eye Shadow,Purple Lipstick,Stringy Hair</td>\n",
       "      <td>3</td>\n",
       "    </tr>\n",
       "    <tr>\n",
       "      <th>9117</th>\n",
       "      <td>9117</td>\n",
       "      <td>15.0</td>\n",
       "      <td>4.760667</td>\n",
       "      <td>21.50</td>\n",
       "      <td>Male</td>\n",
       "      <td>6849</td>\n",
       "      <td>Light</td>\n",
       "      <td>Earring,Mohawk Thin,Normal Beard Black</td>\n",
       "      <td>3</td>\n",
       "    </tr>\n",
       "    <tr>\n",
       "      <th>8508</th>\n",
       "      <td>8508</td>\n",
       "      <td>14.0</td>\n",
       "      <td>5.557143</td>\n",
       "      <td>22.00</td>\n",
       "      <td>Male</td>\n",
       "      <td>9107</td>\n",
       "      <td>Light</td>\n",
       "      <td>Classic Shades,Earring,Mohawk Thin</td>\n",
       "      <td>3</td>\n",
       "    </tr>\n",
       "    <tr>\n",
       "      <th>5287</th>\n",
       "      <td>5287</td>\n",
       "      <td>14.0</td>\n",
       "      <td>4.239286</td>\n",
       "      <td>7.89</td>\n",
       "      <td>Male</td>\n",
       "      <td>7867</td>\n",
       "      <td>Mid</td>\n",
       "      <td>Eye Patch,Mohawk Thin,Pipe</td>\n",
       "      <td>3</td>\n",
       "    </tr>\n",
       "    <tr>\n",
       "      <th>7072</th>\n",
       "      <td>7072</td>\n",
       "      <td>14.0</td>\n",
       "      <td>10.547857</td>\n",
       "      <td>29.00</td>\n",
       "      <td>Male</td>\n",
       "      <td>2418</td>\n",
       "      <td>Mid</td>\n",
       "      <td>Cigarette,Vampire Hair</td>\n",
       "      <td>2</td>\n",
       "    </tr>\n",
       "  </tbody>\n",
       "</table>\n",
       "</div>"
      ],
      "text/plain": [
       "        id  total_sold  avg_sold_price  max_sold_price   types  rarity   skin  \\\n",
       "2937  2937        15.0        7.058000           22.22  Female    5431   Dark   \n",
       "9117  9117        15.0        4.760667           21.50    Male    6849  Light   \n",
       "8508  8508        14.0        5.557143           22.00    Male    9107  Light   \n",
       "5287  5287        14.0        4.239286            7.89    Male    7867    Mid   \n",
       "7072  7072        14.0       10.547857           29.00    Male    2418    Mid   \n",
       "\n",
       "                                              traits  total_traits  \n",
       "2937  Purple Eye Shadow,Purple Lipstick,Stringy Hair             3  \n",
       "9117          Earring,Mohawk Thin,Normal Beard Black             3  \n",
       "8508              Classic Shades,Earring,Mohawk Thin             3  \n",
       "5287                      Eye Patch,Mohawk Thin,Pipe             3  \n",
       "7072                          Cigarette,Vampire Hair             2  "
      ]
     },
     "execution_count": 38,
     "metadata": {},
     "output_type": "execute_result"
    }
   ],
   "source": [
    "df_top_ventas.head()"
   ]
  },
  {
   "cell_type": "code",
   "execution_count": 39,
   "metadata": {},
   "outputs": [
    {
     "data": {
      "image/png": "[encoded data removed]",
      "text/plain": [
       "<Figure size 720x432 with 1 Axes>"
      ]
     },
     "metadata": {
      "needs_background": "light"
     },
     "output_type": "display_data"
    }
   ],
   "source": [
    "fig,ax = plt.subplots(figsize=(10,6))\n",
    "#display(df_otros.head())\n",
    "#display(df_otros.types.unique())\n",
    "sns.boxplot(x='skin',y=variable_to_explore,data=df_top_ventas[~(df_top_ventas[variable_to_explore]>upper_ventas)],ax=ax)\n",
    "plt.title('top 100 sales: outliers removed')\n",
    "#plt.ylim([0,900])\n",
    "plt.show()"
   ]
  },
  {
   "cell_type": "code",
   "execution_count": 40,
   "metadata": {},
   "outputs": [
    {
     "name": "stdout",
     "output_type": "stream",
     "text": [
      "avg_sold_price\n",
      "25% at 0.895, and 75% at 21.1125\n",
      "51.43875 -29.431250000000002\n"
     ]
    }
   ],
   "source": [
    "print(variable_to_explore)\n",
    "upper_otros, lower = outliers(df_otros, variable_to_explore)\n",
    "print(upper_otros,lower)"
   ]
  },
  {
   "cell_type": "code",
   "execution_count": 41,
   "metadata": {},
   "outputs": [
    {
     "data": {
      "image/png": "[encoded data removed]",
      "text/plain": [
       "<Figure size 720x432 with 1 Axes>"
      ]
     },
     "metadata": {
      "needs_background": "light"
     },
     "output_type": "display_data"
    }
   ],
   "source": [
    "fig,ax = plt.subplots(figsize=(10,6))\n",
    "#display(df_otros.head())\n",
    "#display(df_otros.types.unique())\n",
    "sns.boxplot(x=\"types\", y=variable_to_explore,data=df_otros[~(df_otros[variable_to_explore]>upper_otros)],ax=ax)\n",
    "plt.title('rest of punks: outliers removed')\n",
    "#plt.ylim([0,900])\n",
    "plt.show()"
   ]
  },
  {
   "cell_type": "code",
   "execution_count": 42,
   "metadata": {},
   "outputs": [],
   "source": [
    "data1 = df_top_ventas[~(df_top_ventas[variable_to_explore]>upper_raros)][variable_to_explore]\n",
    "\n",
    "data2 = df_otros[~(df_otros[variable_to_explore]>upper_otros)][variable_to_explore]\n"
   ]
  },
  {
   "cell_type": "code",
   "execution_count": 43,
   "metadata": {},
   "outputs": [
    {
     "data": {
      "text/plain": [
       "<matplotlib.legend.Legend at 0x7f3c52185c40>"
      ]
     },
     "execution_count": 43,
     "metadata": {},
     "output_type": "execute_result"
    },
    {
     "data": {
      "image/png": "[encoded data removed]",
      "text/plain": [
       "<Figure size 432x288 with 1 Axes>"
      ]
     },
     "metadata": {
      "needs_background": "light"
     },
     "output_type": "display_data"
    }
   ],
   "source": [
    "sns.histplot(get_means_of_price(data1),color='blue',kde=True,alpha=0.5)  \n",
    "sns.histplot(get_means_of_price(data2),color = 'red',kde=True)  \n",
    "plt.legend(['top sales','rest'])"
   ]
  },
  {
   "cell_type": "code",
   "execution_count": 44,
   "metadata": {},
   "outputs": [
    {
     "name": "stdout",
     "output_type": "stream",
     "text": [
      "Ttest_indResult(statistic=-2.47636364072623, pvalue=0.013303252418371781)\n"
     ]
    }
   ],
   "source": [
    "res = ttest_ind(a=data1,b=data2)\n",
    "print(res)"
   ]
  },
  {
   "cell_type": "code",
   "execution_count": 45,
   "metadata": {},
   "outputs": [
    {
     "name": "stdout",
     "output_type": "stream",
     "text": [
      "P-value is 1.33% and significance level (alpha) is 5% \n",
      "reject NULL hypothesis that both dist are equal\n"
     ]
    }
   ],
   "source": [
    "alpha = 0.05    \n",
    "print(f'P-value is {round(res.pvalue*100,2)}% and significance level (alpha) is 5% ')\n",
    "if res.pvalue < alpha:\n",
    "    print('reject NULL hypothesis that both dist are equal')\n",
    "else:\n",
    "    print('cannot reject NULL hypothesis that both dist are equal')\n"
   ]
  },
  {
   "cell_type": "code",
   "execution_count": null,
   "metadata": {},
   "outputs": [],
   "source": []
  },
  {
   "cell_type": "code",
   "execution_count": 46,
   "metadata": {},
   "outputs": [],
   "source": [
    "# vamos a analizar la venta de los mas caros"
   ]
  },
  {
   "cell_type": "code",
   "execution_count": 47,
   "metadata": {},
   "outputs": [],
   "source": [
    "variable_to_explore = 'avg_sold_price'"
   ]
  },
  {
   "cell_type": "code",
   "execution_count": 48,
   "metadata": {},
   "outputs": [],
   "source": [
    "df_top_caros = df_counts.sort_values(by='avg_sold_price',ascending=False)[:100]\n",
    "df_otros = df_counts.sort_values(by='avg_sold_price',ascending=False)[100:]"
   ]
  },
  {
   "cell_type": "code",
   "execution_count": 49,
   "metadata": {},
   "outputs": [
    {
     "data": {
      "text/html": [
       "<div>\n",
       "<style scoped>\n",
       "    .dataframe tbody tr th:only-of-type {\n",
       "        vertical-align: middle;\n",
       "    }\n",
       "\n",
       "    .dataframe tbody tr th {\n",
       "        vertical-align: top;\n",
       "    }\n",
       "\n",
       "    .dataframe thead th {\n",
       "        text-align: right;\n",
       "    }\n",
       "</style>\n",
       "<table border=\"1\" class=\"dataframe\">\n",
       "  <thead>\n",
       "    <tr style=\"text-align: right;\">\n",
       "      <th></th>\n",
       "      <th>id</th>\n",
       "      <th>total_sold</th>\n",
       "      <th>avg_sold_price</th>\n",
       "      <th>max_sold_price</th>\n",
       "      <th>types</th>\n",
       "      <th>rarity</th>\n",
       "      <th>skin</th>\n",
       "      <th>traits</th>\n",
       "      <th>total_traits</th>\n",
       "    </tr>\n",
       "  </thead>\n",
       "  <tbody>\n",
       "    <tr>\n",
       "      <th>7804</th>\n",
       "      <td>7804</td>\n",
       "      <td>2.0</td>\n",
       "      <td>2106.000</td>\n",
       "      <td>4200.00</td>\n",
       "      <td>Alien</td>\n",
       "      <td>12</td>\n",
       "      <td>Alien</td>\n",
       "      <td>Cap Forward,Pipe,Small Shades</td>\n",
       "      <td>3</td>\n",
       "    </tr>\n",
       "    <tr>\n",
       "      <th>3100</th>\n",
       "      <td>3100</td>\n",
       "      <td>2.0</td>\n",
       "      <td>2104.000</td>\n",
       "      <td>4200.00</td>\n",
       "      <td>Alien</td>\n",
       "      <td>15</td>\n",
       "      <td>Alien</td>\n",
       "      <td>Headband</td>\n",
       "      <td>1</td>\n",
       "    </tr>\n",
       "    <tr>\n",
       "      <th>2140</th>\n",
       "      <td>2140</td>\n",
       "      <td>2.0</td>\n",
       "      <td>575.000</td>\n",
       "      <td>750.00</td>\n",
       "      <td>Ape</td>\n",
       "      <td>50</td>\n",
       "      <td>Ape</td>\n",
       "      <td>Knitted Cap,Small Shades</td>\n",
       "      <td>2</td>\n",
       "    </tr>\n",
       "    <tr>\n",
       "      <th>3393</th>\n",
       "      <td>3393</td>\n",
       "      <td>1.0</td>\n",
       "      <td>500.000</td>\n",
       "      <td>500.00</td>\n",
       "      <td>Zombie</td>\n",
       "      <td>506</td>\n",
       "      <td>Zombie</td>\n",
       "      <td>Crazy Hair,Frown</td>\n",
       "      <td>2</td>\n",
       "    </tr>\n",
       "    <tr>\n",
       "      <th>2066</th>\n",
       "      <td>2066</td>\n",
       "      <td>1.0</td>\n",
       "      <td>500.000</td>\n",
       "      <td>500.00</td>\n",
       "      <td>Zombie</td>\n",
       "      <td>535</td>\n",
       "      <td>Zombie</td>\n",
       "      <td>Knitted Cap</td>\n",
       "      <td>1</td>\n",
       "    </tr>\n",
       "    <tr>\n",
       "      <th>...</th>\n",
       "      <td>...</td>\n",
       "      <td>...</td>\n",
       "      <td>...</td>\n",
       "      <td>...</td>\n",
       "      <td>...</td>\n",
       "      <td>...</td>\n",
       "      <td>...</td>\n",
       "      <td>...</td>\n",
       "      <td>...</td>\n",
       "    </tr>\n",
       "    <tr>\n",
       "      <th>9400</th>\n",
       "      <td>9400</td>\n",
       "      <td>2.0</td>\n",
       "      <td>72.345</td>\n",
       "      <td>75.00</td>\n",
       "      <td>Female</td>\n",
       "      <td>1573</td>\n",
       "      <td>Light</td>\n",
       "      <td>Pipe,Purple Lipstick,VR,Wild Blonde</td>\n",
       "      <td>4</td>\n",
       "    </tr>\n",
       "    <tr>\n",
       "      <th>8686</th>\n",
       "      <td>8686</td>\n",
       "      <td>3.0</td>\n",
       "      <td>71.330</td>\n",
       "      <td>101.00</td>\n",
       "      <td>Male</td>\n",
       "      <td>3395</td>\n",
       "      <td>Dark</td>\n",
       "      <td>Gold Chain,Hoodie</td>\n",
       "      <td>2</td>\n",
       "    </tr>\n",
       "    <tr>\n",
       "      <th>8445</th>\n",
       "      <td>8445</td>\n",
       "      <td>2.0</td>\n",
       "      <td>70.440</td>\n",
       "      <td>80.88</td>\n",
       "      <td>Male</td>\n",
       "      <td>4225</td>\n",
       "      <td>Mid</td>\n",
       "      <td>Big Shades,Hoodie,Normal Beard,Smile</td>\n",
       "      <td>4</td>\n",
       "    </tr>\n",
       "    <tr>\n",
       "      <th>9376</th>\n",
       "      <td>9376</td>\n",
       "      <td>1.0</td>\n",
       "      <td>70.000</td>\n",
       "      <td>70.00</td>\n",
       "      <td>Female</td>\n",
       "      <td>293</td>\n",
       "      <td>Dark</td>\n",
       "      <td>Horned Rim Glasses,Orange Side,Purple Lipstick</td>\n",
       "      <td>3</td>\n",
       "    </tr>\n",
       "    <tr>\n",
       "      <th>3313</th>\n",
       "      <td>3313</td>\n",
       "      <td>1.0</td>\n",
       "      <td>70.000</td>\n",
       "      <td>70.00</td>\n",
       "      <td>Male</td>\n",
       "      <td>4253</td>\n",
       "      <td>Mid</td>\n",
       "      <td>3D Glasses,Crazy Hair,Smile</td>\n",
       "      <td>3</td>\n",
       "    </tr>\n",
       "  </tbody>\n",
       "</table>\n",
       "<p>100 rows × 9 columns</p>\n",
       "</div>"
      ],
      "text/plain": [
       "        id  total_sold  avg_sold_price  max_sold_price   types  rarity  \\\n",
       "7804  7804         2.0        2106.000         4200.00   Alien      12   \n",
       "3100  3100         2.0        2104.000         4200.00   Alien      15   \n",
       "2140  2140         2.0         575.000          750.00     Ape      50   \n",
       "3393  3393         1.0         500.000          500.00  Zombie     506   \n",
       "2066  2066         1.0         500.000          500.00  Zombie     535   \n",
       "...    ...         ...             ...             ...     ...     ...   \n",
       "9400  9400         2.0          72.345           75.00  Female    1573   \n",
       "8686  8686         3.0          71.330          101.00    Male    3395   \n",
       "8445  8445         2.0          70.440           80.88    Male    4225   \n",
       "9376  9376         1.0          70.000           70.00  Female     293   \n",
       "3313  3313         1.0          70.000           70.00    Male    4253   \n",
       "\n",
       "        skin                                          traits  total_traits  \n",
       "7804   Alien                   Cap Forward,Pipe,Small Shades             3  \n",
       "3100   Alien                                        Headband             1  \n",
       "2140     Ape                        Knitted Cap,Small Shades             2  \n",
       "3393  Zombie                                Crazy Hair,Frown             2  \n",
       "2066  Zombie                                     Knitted Cap             1  \n",
       "...      ...                                             ...           ...  \n",
       "9400   Light             Pipe,Purple Lipstick,VR,Wild Blonde             4  \n",
       "8686    Dark                               Gold Chain,Hoodie             2  \n",
       "8445     Mid            Big Shades,Hoodie,Normal Beard,Smile             4  \n",
       "9376    Dark  Horned Rim Glasses,Orange Side,Purple Lipstick             3  \n",
       "3313     Mid                     3D Glasses,Crazy Hair,Smile             3  \n",
       "\n",
       "[100 rows x 9 columns]"
      ]
     },
     "execution_count": 49,
     "metadata": {},
     "output_type": "execute_result"
    }
   ],
   "source": [
    "df_top_caros"
   ]
  },
  {
   "cell_type": "code",
   "execution_count": 50,
   "metadata": {},
   "outputs": [
    {
     "name": "stdout",
     "output_type": "stream",
     "text": [
      "avg_sold_price\n",
      "25% at 80.0, and 75% at 139.52\n",
      "228.8 -9.280000000000015\n"
     ]
    }
   ],
   "source": [
    "print(variable_to_explore)\n",
    "upper_ventas, lower = outliers(df_top_caros, variable_to_explore)\n",
    "print(upper_ventas,lower)"
   ]
  },
  {
   "cell_type": "code",
   "execution_count": 51,
   "metadata": {},
   "outputs": [
    {
     "data": {
      "image/png": "[encoded data removed]",
      "text/plain": [
       "<Figure size 720x432 with 1 Axes>"
      ]
     },
     "metadata": {
      "needs_background": "light"
     },
     "output_type": "display_data"
    }
   ],
   "source": [
    "fig,ax = plt.subplots(figsize=(10,6))\n",
    "#display(df_otros.head())\n",
    "#display(df_otros.types.unique())\n",
    "df_top_caros['tipo'] = df_top_caros.types.map({'Male':'humano','Female':'humano','Ape':'rest','Zombie':'rest','Alien':'rest'})\n",
    "sns.boxplot(x='tipo',y=variable_to_explore,data=df_top_caros[~(df_top_caros[variable_to_explore]>upper_ventas)],ax=ax)\n",
    "plt.title('top 100 expensive sales: outliers removed')\n",
    "#plt.ylim([0,900])\n",
    "plt.show()"
   ]
  },
  {
   "cell_type": "code",
   "execution_count": 52,
   "metadata": {},
   "outputs": [
    {
     "name": "stdout",
     "output_type": "stream",
     "text": [
      "avg_sold_price\n",
      "25% at 0.895, and 75% at 20.275\n",
      "49.345 -28.175\n"
     ]
    }
   ],
   "source": [
    "print(variable_to_explore)\n",
    "upper_otros, lower = outliers(df_otros, variable_to_explore)\n",
    "print(upper_otros,lower)"
   ]
  },
  {
   "cell_type": "code",
   "execution_count": 53,
   "metadata": {},
   "outputs": [
    {
     "data": {
      "image/png": "[encoded data removed]",
      "text/plain": [
       "<Figure size 720x432 with 1 Axes>"
      ]
     },
     "metadata": {
      "needs_background": "light"
     },
     "output_type": "display_data"
    }
   ],
   "source": [
    "fig,ax = plt.subplots(figsize=(10,6))\n",
    "#display(df_otros.head())\n",
    "#display(df_otros.types.unique())\n",
    "df_otros['tipo'] = df_otros.types.map({'Male':'humano','Female':'humano','Ape':'rest','Zombie':'rest','Alien':'rest'})\n",
    "sns.boxplot(x=\"tipo\", y=variable_to_explore,data=df_otros[~(df_otros[variable_to_explore]>upper_otros)],ax=ax)\n",
    "plt.title('rest of punks: outliers removed')\n",
    "#plt.ylim([0,900])\n",
    "plt.show()"
   ]
  },
  {
   "cell_type": "code",
   "execution_count": 54,
   "metadata": {},
   "outputs": [],
   "source": [
    "data1 = df_top_caros[~(df_top_caros[variable_to_explore]>upper_ventas)][variable_to_explore]\n",
    "\n",
    "data2 = df_otros[~(df_otros[variable_to_explore]>upper_otros)][variable_to_explore]\n"
   ]
  },
  {
   "cell_type": "code",
   "execution_count": 55,
   "metadata": {},
   "outputs": [
    {
     "data": {
      "text/plain": [
       "<matplotlib.legend.Legend at 0x7f3c5b264550>"
      ]
     },
     "execution_count": 55,
     "metadata": {},
     "output_type": "execute_result"
    },
    {
     "data": {
      "image/png": "[encoded data removed]",
      "text/plain": [
       "<Figure size 432x288 with 1 Axes>"
      ]
     },
     "metadata": {
      "needs_background": "light"
     },
     "output_type": "display_data"
    }
   ],
   "source": [
    "sns.histplot(get_means_of_price(data1),color='blue',kde=True,alpha=0.5)  \n",
    "sns.histplot(get_means_of_price(data2),color = 'red',kde=True)  \n",
    "plt.legend(['top sales','rest'])"
   ]
  },
  {
   "cell_type": "code",
   "execution_count": 57,
   "metadata": {},
   "outputs": [
    {
     "name": "stdout",
     "output_type": "stream",
     "text": [
      "P-value is 0.0% and significance level (alpha) is 5% \n",
      "reject NULL hypothesis that both dist are equal\n"
     ]
    }
   ],
   "source": [
    "res = ttest_ind(a=data1,b=data2)\n",
    "print(res)\n",
    "alpha = 0.05    \n",
    "print(f'P-value is {round(res.pvalue*100,2)}% and significance level (alpha) is 5% ')\n",
    "if res.pvalue < alpha:\n",
    "    print('reject NULL hypothesis that both dist are equal')\n",
    "else:\n",
    "    print('cannot reject NULL hypothesis that both dist are equal')"
   ]
  },
  {
   "cell_type": "code",
   "execution_count": null,
   "metadata": {},
   "outputs": [],
   "source": []
  },
  {
   "cell_type": "code",
   "execution_count": 58,
   "metadata": {},
   "outputs": [],
   "source": [
    "# vamos a analizar que traits tienen los mas caros"
   ]
  },
  {
   "cell_type": "code",
   "execution_count": 59,
   "metadata": {},
   "outputs": [],
   "source": [
    "#get traits \n",
    "def get_traits(dataframe,column):\n",
    "    traits ={}\n",
    "    for items in dataframe[column].str.split(','):\n",
    "        for elem in items:        \n",
    "            if len(elem) ==0:\n",
    "                #print(type(elem))\n",
    "                continue            \n",
    "            if elem in traits:\n",
    "                #print('exists, add one')\n",
    "                traits[elem] += 1\n",
    "            else:\n",
    "                #print('not exist, create set to one ')\n",
    "                traits[elem] = 1\n",
    "    return traits\n",
    "    "
   ]
  },
  {
   "cell_type": "code",
   "execution_count": 60,
   "metadata": {},
   "outputs": [],
   "source": [
    "columna = 'traits'\n",
    "traits_caros = get_traits(df_top_caros,columna)\n",
    "traits_rest = get_traits(df_otros,columna)"
   ]
  },
  {
   "cell_type": "code",
   "execution_count": 61,
   "metadata": {},
   "outputs": [
    {
     "data": {
      "text/plain": [
       "(66,\n",
       "         trait  occurences\n",
       " 0     Earring          33\n",
       " 1   Cigarette          14\n",
       " 2  3D Glasses          14\n",
       " 3      Hoodie          14\n",
       " 4      Beanie          11)"
      ]
     },
     "execution_count": 61,
     "metadata": {},
     "output_type": "execute_result"
    }
   ],
   "source": [
    "order_traits_caros = dict(sorted(traits_caros.items(),key= lambda x:x[1],reverse=True))\n",
    "df_traits_caros = pd.DataFrame(list(order_traits_caros.items()),columns = ['trait','occurences'])\n",
    "#df_traits_humans[df_traits_humans.occurences > 1]\n",
    "\n",
    "traits_caros = set (df_traits_caros.trait.values)\n",
    "len(traits_caros),df_traits_caros.head()"
   ]
  },
  {
   "cell_type": "code",
   "execution_count": 62,
   "metadata": {},
   "outputs": [
    {
     "data": {
      "image/png": "[encoded data removed]",
      "text/plain": [
       "<Figure size 720x360 with 1 Axes>"
      ]
     },
     "metadata": {
      "needs_background": "light"
     },
     "output_type": "display_data"
    }
   ],
   "source": [
    "sns.catplot(x='trait',y='occurences',data= df_traits_caros,kind='bar',height=5, aspect=10/5,color='blue')\n",
    "plt.title('TOP traits occurence based on TOP 100 MOST EXPENSIVEPUNKS')\n",
    "plt.xticks(rotation=90)\n",
    "plt.show()"
   ]
  },
  {
   "cell_type": "code",
   "execution_count": 63,
   "metadata": {},
   "outputs": [
    {
     "data": {
      "text/plain": [
       "(87,\n",
       "           trait  occurences\n",
       " 0       Earring        1438\n",
       " 1     Cigarette         521\n",
       " 2          Mole         411\n",
       " 3  Hot Lipstick         359\n",
       " 4  Nerd Glasses         342)"
      ]
     },
     "execution_count": 63,
     "metadata": {},
     "output_type": "execute_result"
    }
   ],
   "source": [
    "order_traits_resto = dict(sorted(traits_rest.items(),key= lambda x:x[1],reverse=True))\n",
    "df_traits_resto = pd.DataFrame(list(order_traits_resto.items()),columns = ['trait','occurences'])\n",
    "#df_traits_humans[df_traits_humans.occurences > 1]\n",
    "\n",
    "traits_resto = set (df_traits_resto.trait.values)\n",
    "len(traits_resto),df_traits_resto.head()"
   ]
  },
  {
   "cell_type": "code",
   "execution_count": 64,
   "metadata": {
    "scrolled": false
   },
   "outputs": [
    {
     "data": {
      "image/png": "[encoded data removed]",
      "text/plain": [
       "<Figure size 720x360 with 1 Axes>"
      ]
     },
     "metadata": {
      "needs_background": "light"
     },
     "output_type": "display_data"
    }
   ],
   "source": [
    "sns.catplot(x='trait',y='occurences',data= df_traits_resto,kind='bar',height=5, aspect=10/5,color='blue')\n",
    "plt.title('TOP traits occurence based on the rest')\n",
    "plt.xticks(rotation=90)\n",
    "plt.show()"
   ]
  },
  {
   "cell_type": "code",
   "execution_count": 243,
   "metadata": {},
   "outputs": [
    {
     "data": {
      "text/html": [
       "<div>\n",
       "<style scoped>\n",
       "    .dataframe tbody tr th:only-of-type {\n",
       "        vertical-align: middle;\n",
       "    }\n",
       "\n",
       "    .dataframe tbody tr th {\n",
       "        vertical-align: top;\n",
       "    }\n",
       "\n",
       "    .dataframe thead th {\n",
       "        text-align: right;\n",
       "    }\n",
       "</style>\n",
       "<table border=\"1\" class=\"dataframe\">\n",
       "  <thead>\n",
       "    <tr style=\"text-align: right;\">\n",
       "      <th></th>\n",
       "      <th>trait</th>\n",
       "      <th>occurences</th>\n",
       "    </tr>\n",
       "  </thead>\n",
       "  <tbody>\n",
       "    <tr>\n",
       "      <th>0</th>\n",
       "      <td>Earring</td>\n",
       "      <td>33</td>\n",
       "    </tr>\n",
       "    <tr>\n",
       "      <th>1</th>\n",
       "      <td>Cigarette</td>\n",
       "      <td>14</td>\n",
       "    </tr>\n",
       "    <tr>\n",
       "      <th>2</th>\n",
       "      <td>3D Glasses</td>\n",
       "      <td>14</td>\n",
       "    </tr>\n",
       "    <tr>\n",
       "      <th>3</th>\n",
       "      <td>Hoodie</td>\n",
       "      <td>14</td>\n",
       "    </tr>\n",
       "    <tr>\n",
       "      <th>4</th>\n",
       "      <td>Beanie</td>\n",
       "      <td>11</td>\n",
       "    </tr>\n",
       "  </tbody>\n",
       "</table>\n",
       "</div>"
      ],
      "text/plain": [
       "        trait  occurences\n",
       "0     Earring          33\n",
       "1   Cigarette          14\n",
       "2  3D Glasses          14\n",
       "3      Hoodie          14\n",
       "4      Beanie          11"
      ]
     },
     "execution_count": 243,
     "metadata": {},
     "output_type": "execute_result"
    }
   ],
   "source": [
    "df_traits_caros.head()"
   ]
  },
  {
   "cell_type": "code",
   "execution_count": 244,
   "metadata": {},
   "outputs": [
    {
     "data": {
      "text/plain": [
       "[]"
      ]
     },
     "execution_count": 244,
     "metadata": {},
     "output_type": "execute_result"
    }
   ],
   "source": [
    "list(traits_caros.difference(traits_resto))"
   ]
  },
  {
   "cell_type": "code",
   "execution_count": 72,
   "metadata": {},
   "outputs": [],
   "source": [
    "# los traits para los mas caros no son diferentes a los traits del resto"
   ]
  },
  {
   "cell_type": "code",
   "execution_count": 193,
   "metadata": {},
   "outputs": [],
   "source": [
    "traits_raros = ['Beanie', 'Luxurious Beard', 'Do-rag', 'Choker', 'Gold Chain',\n",
    "       'Muttonchops', 'Cowboy Hat', 'Medical Mask', 'Cap Forward',\n",
    "       'Frown', 'Mustache', '3D Glasses', 'Big Beard', 'Top Hat',\n",
    "       'Chinstrap', 'Clown Nose', 'Blonde Bob', 'Normal Beard', 'Smile',\n",
    "       'Front Beard', 'Buck Teeth', 'Straight Hair', 'Silver Chain',\n",
    "       'Spots', 'Rosy Cheeks', 'Vampire Hair', 'Tassle Hat', 'Goat',\n",
    "       'Fedora', 'Police Cap', 'Hoodie', 'Eye Mask', 'Vape', 'Handlebars',\n",
    "       'Pilot Helmet', 'Purple Eye Shadow', 'Tiara', 'Orange Side']"
   ]
  },
  {
   "cell_type": "code",
   "execution_count": 194,
   "metadata": {},
   "outputs": [],
   "source": [
    "def atribute_present(traits):\n",
    "    global traits_raros    \n",
    "    lista = traits.split(',')    \n",
    "    for trait in lista:\n",
    "        #print(trait)\n",
    "        if trait in traits_raros:\n",
    "            #print(trait)\n",
    "            return True\n",
    "        \n",
    "    return False    "
   ]
  },
  {
   "cell_type": "code",
   "execution_count": 224,
   "metadata": {},
   "outputs": [
    {
     "data": {
      "text/html": [
       "<div>\n",
       "<style scoped>\n",
       "    .dataframe tbody tr th:only-of-type {\n",
       "        vertical-align: middle;\n",
       "    }\n",
       "\n",
       "    .dataframe tbody tr th {\n",
       "        vertical-align: top;\n",
       "    }\n",
       "\n",
       "    .dataframe thead th {\n",
       "        text-align: right;\n",
       "    }\n",
       "</style>\n",
       "<table border=\"1\" class=\"dataframe\">\n",
       "  <thead>\n",
       "    <tr style=\"text-align: right;\">\n",
       "      <th></th>\n",
       "      <th>id</th>\n",
       "      <th>total_sold</th>\n",
       "      <th>avg_sold_price</th>\n",
       "      <th>max_sold_price</th>\n",
       "      <th>types</th>\n",
       "      <th>rarity</th>\n",
       "      <th>skin</th>\n",
       "      <th>traits</th>\n",
       "      <th>total_traits</th>\n",
       "    </tr>\n",
       "  </thead>\n",
       "  <tbody>\n",
       "    <tr>\n",
       "      <th>33</th>\n",
       "      <td>33</td>\n",
       "      <td>1.0</td>\n",
       "      <td>0.510000</td>\n",
       "      <td>0.51</td>\n",
       "      <td>Male</td>\n",
       "      <td>7635</td>\n",
       "      <td>Light</td>\n",
       "      <td>Peak Spike</td>\n",
       "      <td>1</td>\n",
       "    </tr>\n",
       "    <tr>\n",
       "      <th>118</th>\n",
       "      <td>118</td>\n",
       "      <td>2.0</td>\n",
       "      <td>20.350000</td>\n",
       "      <td>20.45</td>\n",
       "      <td>Female</td>\n",
       "      <td>9954</td>\n",
       "      <td>Light</td>\n",
       "      <td>Bandana,Black Lipstick</td>\n",
       "      <td>2</td>\n",
       "    </tr>\n",
       "    <tr>\n",
       "      <th>124</th>\n",
       "      <td>124</td>\n",
       "      <td>3.0</td>\n",
       "      <td>17.300000</td>\n",
       "      <td>19.90</td>\n",
       "      <td>Male</td>\n",
       "      <td>6760</td>\n",
       "      <td>Mid</td>\n",
       "      <td>Earring,Normal Beard Black,Peak Spike</td>\n",
       "      <td>3</td>\n",
       "    </tr>\n",
       "    <tr>\n",
       "      <th>138</th>\n",
       "      <td>138</td>\n",
       "      <td>4.0</td>\n",
       "      <td>14.925000</td>\n",
       "      <td>15.95</td>\n",
       "      <td>Male</td>\n",
       "      <td>9806</td>\n",
       "      <td>Light</td>\n",
       "      <td>Horned Rim Glasses,Stringy Hair</td>\n",
       "      <td>2</td>\n",
       "    </tr>\n",
       "    <tr>\n",
       "      <th>160</th>\n",
       "      <td>160</td>\n",
       "      <td>3.0</td>\n",
       "      <td>41.000000</td>\n",
       "      <td>53.00</td>\n",
       "      <td>Female</td>\n",
       "      <td>612</td>\n",
       "      <td>Mid</td>\n",
       "      <td>Clown Eyes Blue,Pigtails,Purple Lipstick</td>\n",
       "      <td>3</td>\n",
       "    </tr>\n",
       "    <tr>\n",
       "      <th>...</th>\n",
       "      <td>...</td>\n",
       "      <td>...</td>\n",
       "      <td>...</td>\n",
       "      <td>...</td>\n",
       "      <td>...</td>\n",
       "      <td>...</td>\n",
       "      <td>...</td>\n",
       "      <td>...</td>\n",
       "      <td>...</td>\n",
       "    </tr>\n",
       "    <tr>\n",
       "      <th>9971</th>\n",
       "      <td>9971</td>\n",
       "      <td>1.0</td>\n",
       "      <td>24.000000</td>\n",
       "      <td>24.00</td>\n",
       "      <td>Female</td>\n",
       "      <td>2992</td>\n",
       "      <td>Mid</td>\n",
       "      <td>Black Lipstick,Blue Eye Shadow,Dark Hair</td>\n",
       "      <td>3</td>\n",
       "    </tr>\n",
       "    <tr>\n",
       "      <th>9974</th>\n",
       "      <td>9974</td>\n",
       "      <td>1.0</td>\n",
       "      <td>10.000000</td>\n",
       "      <td>10.00</td>\n",
       "      <td>Female</td>\n",
       "      <td>2488</td>\n",
       "      <td>Mid</td>\n",
       "      <td>Blue Eye Shadow,Clown Hair Green</td>\n",
       "      <td>2</td>\n",
       "    </tr>\n",
       "    <tr>\n",
       "      <th>9976</th>\n",
       "      <td>9976</td>\n",
       "      <td>3.0</td>\n",
       "      <td>0.733333</td>\n",
       "      <td>1.50</td>\n",
       "      <td>Female</td>\n",
       "      <td>2139</td>\n",
       "      <td>Light</td>\n",
       "      <td>Half Shaved,Pipe</td>\n",
       "      <td>2</td>\n",
       "    </tr>\n",
       "    <tr>\n",
       "      <th>9979</th>\n",
       "      <td>9979</td>\n",
       "      <td>3.0</td>\n",
       "      <td>4.066667</td>\n",
       "      <td>6.20</td>\n",
       "      <td>Male</td>\n",
       "      <td>7564</td>\n",
       "      <td>Light</td>\n",
       "      <td>Cigarette,Earring,Nerd Glasses,Shaved Head</td>\n",
       "      <td>4</td>\n",
       "    </tr>\n",
       "    <tr>\n",
       "      <th>9980</th>\n",
       "      <td>9980</td>\n",
       "      <td>2.0</td>\n",
       "      <td>14.550000</td>\n",
       "      <td>29.00</td>\n",
       "      <td>Female</td>\n",
       "      <td>1159</td>\n",
       "      <td>Mid</td>\n",
       "      <td>Black Lipstick,Blonde Short,Cigarette,Classic ...</td>\n",
       "      <td>4</td>\n",
       "    </tr>\n",
       "  </tbody>\n",
       "</table>\n",
       "<p>2351 rows × 9 columns</p>\n",
       "</div>"
      ],
      "text/plain": [
       "        id  total_sold  avg_sold_price  max_sold_price   types  rarity   skin  \\\n",
       "33      33         1.0        0.510000            0.51    Male    7635  Light   \n",
       "118    118         2.0       20.350000           20.45  Female    9954  Light   \n",
       "124    124         3.0       17.300000           19.90    Male    6760    Mid   \n",
       "138    138         4.0       14.925000           15.95    Male    9806  Light   \n",
       "160    160         3.0       41.000000           53.00  Female     612    Mid   \n",
       "...    ...         ...             ...             ...     ...     ...    ...   \n",
       "9971  9971         1.0       24.000000           24.00  Female    2992    Mid   \n",
       "9974  9974         1.0       10.000000           10.00  Female    2488    Mid   \n",
       "9976  9976         3.0        0.733333            1.50  Female    2139  Light   \n",
       "9979  9979         3.0        4.066667            6.20    Male    7564  Light   \n",
       "9980  9980         2.0       14.550000           29.00  Female    1159    Mid   \n",
       "\n",
       "                                                 traits  total_traits  \n",
       "33                                           Peak Spike             1  \n",
       "118                              Bandana,Black Lipstick             2  \n",
       "124               Earring,Normal Beard Black,Peak Spike             3  \n",
       "138                     Horned Rim Glasses,Stringy Hair             2  \n",
       "160            Clown Eyes Blue,Pigtails,Purple Lipstick             3  \n",
       "...                                                 ...           ...  \n",
       "9971           Black Lipstick,Blue Eye Shadow,Dark Hair             3  \n",
       "9974                   Blue Eye Shadow,Clown Hair Green             2  \n",
       "9976                                   Half Shaved,Pipe             2  \n",
       "9979         Cigarette,Earring,Nerd Glasses,Shaved Head             4  \n",
       "9980  Black Lipstick,Blonde Short,Cigarette,Classic ...             4  \n",
       "\n",
       "[2351 rows x 9 columns]"
      ]
     },
     "execution_count": 224,
     "metadata": {},
     "output_type": "execute_result"
    }
   ],
   "source": [
    "df_counts[~(df_counts.traits.apply(atribute_present))] # atribute not present"
   ]
  },
  {
   "cell_type": "code",
   "execution_count": 225,
   "metadata": {},
   "outputs": [
    {
     "name": "stderr",
     "output_type": "stream",
     "text": [
      "<ipython-input-225-205c58af8d2d>:2: UserWarning: Boolean Series key will be reindexed to match DataFrame index.\n",
      "  df_raros = df_counts[df_counts.traits.apply(atribute_present)][df_counts.rarity<100].sort_values(by='rarity')\n",
      "<ipython-input-225-205c58af8d2d>:3: UserWarning: Boolean Series key will be reindexed to match DataFrame index.\n",
      "  df_otros = df_counts[~(df_counts.traits.apply(atribute_present))][df_counts.rarity>100].sort_values(by='rarity')\n"
     ]
    }
   ],
   "source": [
    "# vamos a analizar la venta de los que tienen atributos mas raros\n",
    "df_raros = df_counts[df_counts.traits.apply(atribute_present)][df_counts.rarity<100].sort_values(by='rarity')\n",
    "df_otros = df_counts[~(df_counts.traits.apply(atribute_present))][df_counts.rarity>100].sort_values(by='rarity')\n",
    "\n",
    "df_raros = df_counts[df_counts.traits.apply(atribute_present)]\n",
    "df_otros = df_counts[~(df_counts.traits.apply(atribute_present))]\n",
    "\n"
   ]
  },
  {
   "cell_type": "code",
   "execution_count": 226,
   "metadata": {},
   "outputs": [
    {
     "data": {
      "text/html": [
       "<div>\n",
       "<style scoped>\n",
       "    .dataframe tbody tr th:only-of-type {\n",
       "        vertical-align: middle;\n",
       "    }\n",
       "\n",
       "    .dataframe tbody tr th {\n",
       "        vertical-align: top;\n",
       "    }\n",
       "\n",
       "    .dataframe thead th {\n",
       "        text-align: right;\n",
       "    }\n",
       "</style>\n",
       "<table border=\"1\" class=\"dataframe\">\n",
       "  <thead>\n",
       "    <tr style=\"text-align: right;\">\n",
       "      <th></th>\n",
       "      <th>id</th>\n",
       "      <th>total_sold</th>\n",
       "      <th>avg_sold_price</th>\n",
       "      <th>max_sold_price</th>\n",
       "      <th>types</th>\n",
       "      <th>rarity</th>\n",
       "      <th>skin</th>\n",
       "      <th>traits</th>\n",
       "      <th>total_traits</th>\n",
       "    </tr>\n",
       "  </thead>\n",
       "  <tbody>\n",
       "    <tr>\n",
       "      <th>33</th>\n",
       "      <td>33</td>\n",
       "      <td>1.0</td>\n",
       "      <td>0.510000</td>\n",
       "      <td>0.51</td>\n",
       "      <td>Male</td>\n",
       "      <td>7635</td>\n",
       "      <td>Light</td>\n",
       "      <td>Peak Spike</td>\n",
       "      <td>1</td>\n",
       "    </tr>\n",
       "    <tr>\n",
       "      <th>118</th>\n",
       "      <td>118</td>\n",
       "      <td>2.0</td>\n",
       "      <td>20.350000</td>\n",
       "      <td>20.45</td>\n",
       "      <td>Female</td>\n",
       "      <td>9954</td>\n",
       "      <td>Light</td>\n",
       "      <td>Bandana,Black Lipstick</td>\n",
       "      <td>2</td>\n",
       "    </tr>\n",
       "    <tr>\n",
       "      <th>124</th>\n",
       "      <td>124</td>\n",
       "      <td>3.0</td>\n",
       "      <td>17.300000</td>\n",
       "      <td>19.90</td>\n",
       "      <td>Male</td>\n",
       "      <td>6760</td>\n",
       "      <td>Mid</td>\n",
       "      <td>Earring,Normal Beard Black,Peak Spike</td>\n",
       "      <td>3</td>\n",
       "    </tr>\n",
       "    <tr>\n",
       "      <th>138</th>\n",
       "      <td>138</td>\n",
       "      <td>4.0</td>\n",
       "      <td>14.925000</td>\n",
       "      <td>15.95</td>\n",
       "      <td>Male</td>\n",
       "      <td>9806</td>\n",
       "      <td>Light</td>\n",
       "      <td>Horned Rim Glasses,Stringy Hair</td>\n",
       "      <td>2</td>\n",
       "    </tr>\n",
       "    <tr>\n",
       "      <th>160</th>\n",
       "      <td>160</td>\n",
       "      <td>3.0</td>\n",
       "      <td>41.000000</td>\n",
       "      <td>53.00</td>\n",
       "      <td>Female</td>\n",
       "      <td>612</td>\n",
       "      <td>Mid</td>\n",
       "      <td>Clown Eyes Blue,Pigtails,Purple Lipstick</td>\n",
       "      <td>3</td>\n",
       "    </tr>\n",
       "    <tr>\n",
       "      <th>...</th>\n",
       "      <td>...</td>\n",
       "      <td>...</td>\n",
       "      <td>...</td>\n",
       "      <td>...</td>\n",
       "      <td>...</td>\n",
       "      <td>...</td>\n",
       "      <td>...</td>\n",
       "      <td>...</td>\n",
       "      <td>...</td>\n",
       "    </tr>\n",
       "    <tr>\n",
       "      <th>9971</th>\n",
       "      <td>9971</td>\n",
       "      <td>1.0</td>\n",
       "      <td>24.000000</td>\n",
       "      <td>24.00</td>\n",
       "      <td>Female</td>\n",
       "      <td>2992</td>\n",
       "      <td>Mid</td>\n",
       "      <td>Black Lipstick,Blue Eye Shadow,Dark Hair</td>\n",
       "      <td>3</td>\n",
       "    </tr>\n",
       "    <tr>\n",
       "      <th>9974</th>\n",
       "      <td>9974</td>\n",
       "      <td>1.0</td>\n",
       "      <td>10.000000</td>\n",
       "      <td>10.00</td>\n",
       "      <td>Female</td>\n",
       "      <td>2488</td>\n",
       "      <td>Mid</td>\n",
       "      <td>Blue Eye Shadow,Clown Hair Green</td>\n",
       "      <td>2</td>\n",
       "    </tr>\n",
       "    <tr>\n",
       "      <th>9976</th>\n",
       "      <td>9976</td>\n",
       "      <td>3.0</td>\n",
       "      <td>0.733333</td>\n",
       "      <td>1.50</td>\n",
       "      <td>Female</td>\n",
       "      <td>2139</td>\n",
       "      <td>Light</td>\n",
       "      <td>Half Shaved,Pipe</td>\n",
       "      <td>2</td>\n",
       "    </tr>\n",
       "    <tr>\n",
       "      <th>9979</th>\n",
       "      <td>9979</td>\n",
       "      <td>3.0</td>\n",
       "      <td>4.066667</td>\n",
       "      <td>6.20</td>\n",
       "      <td>Male</td>\n",
       "      <td>7564</td>\n",
       "      <td>Light</td>\n",
       "      <td>Cigarette,Earring,Nerd Glasses,Shaved Head</td>\n",
       "      <td>4</td>\n",
       "    </tr>\n",
       "    <tr>\n",
       "      <th>9980</th>\n",
       "      <td>9980</td>\n",
       "      <td>2.0</td>\n",
       "      <td>14.550000</td>\n",
       "      <td>29.00</td>\n",
       "      <td>Female</td>\n",
       "      <td>1159</td>\n",
       "      <td>Mid</td>\n",
       "      <td>Black Lipstick,Blonde Short,Cigarette,Classic ...</td>\n",
       "      <td>4</td>\n",
       "    </tr>\n",
       "  </tbody>\n",
       "</table>\n",
       "<p>2351 rows × 9 columns</p>\n",
       "</div>"
      ],
      "text/plain": [
       "        id  total_sold  avg_sold_price  max_sold_price   types  rarity   skin  \\\n",
       "33      33         1.0        0.510000            0.51    Male    7635  Light   \n",
       "118    118         2.0       20.350000           20.45  Female    9954  Light   \n",
       "124    124         3.0       17.300000           19.90    Male    6760    Mid   \n",
       "138    138         4.0       14.925000           15.95    Male    9806  Light   \n",
       "160    160         3.0       41.000000           53.00  Female     612    Mid   \n",
       "...    ...         ...             ...             ...     ...     ...    ...   \n",
       "9971  9971         1.0       24.000000           24.00  Female    2992    Mid   \n",
       "9974  9974         1.0       10.000000           10.00  Female    2488    Mid   \n",
       "9976  9976         3.0        0.733333            1.50  Female    2139  Light   \n",
       "9979  9979         3.0        4.066667            6.20    Male    7564  Light   \n",
       "9980  9980         2.0       14.550000           29.00  Female    1159    Mid   \n",
       "\n",
       "                                                 traits  total_traits  \n",
       "33                                           Peak Spike             1  \n",
       "118                              Bandana,Black Lipstick             2  \n",
       "124               Earring,Normal Beard Black,Peak Spike             3  \n",
       "138                     Horned Rim Glasses,Stringy Hair             2  \n",
       "160            Clown Eyes Blue,Pigtails,Purple Lipstick             3  \n",
       "...                                                 ...           ...  \n",
       "9971           Black Lipstick,Blue Eye Shadow,Dark Hair             3  \n",
       "9974                   Blue Eye Shadow,Clown Hair Green             2  \n",
       "9976                                   Half Shaved,Pipe             2  \n",
       "9979         Cigarette,Earring,Nerd Glasses,Shaved Head             4  \n",
       "9980  Black Lipstick,Blonde Short,Cigarette,Classic ...             4  \n",
       "\n",
       "[2351 rows x 9 columns]"
      ]
     },
     "execution_count": 226,
     "metadata": {},
     "output_type": "execute_result"
    }
   ],
   "source": [
    "df_otros"
   ]
  },
  {
   "cell_type": "code",
   "execution_count": 227,
   "metadata": {},
   "outputs": [
    {
     "name": "stdout",
     "output_type": "stream",
     "text": [
      "25% at 0.9766666666666667, and 75% at 22.13375\n"
     ]
    },
    {
     "name": "stderr",
     "output_type": "stream",
     "text": [
      "<ipython-input-227-fe7ca1799a93>:7: SettingWithCopyWarning: \n",
      "A value is trying to be set on a copy of a slice from a DataFrame.\n",
      "Try using .loc[row_indexer,col_indexer] = value instead\n",
      "\n",
      "See the caveats in the documentation: https://pandas.pydata.org/pandas-docs/stable/user_guide/indexing.html#returning-a-view-versus-a-copy\n",
      "  df_raros['tipo'] = df_raros.types.map({'Male':'humano','Female':'humano','Ape':'rest','Zombie':'rest','Alien':'rest'})\n"
     ]
    },
    {
     "data": {
      "image/png": "[encoded data removed]",
      "text/plain": [
       "<Figure size 720x432 with 1 Axes>"
      ]
     },
     "metadata": {
      "needs_background": "light"
     },
     "output_type": "display_data"
    }
   ],
   "source": [
    "upper_raros, lower = outliers(df_raros, variable_to_explore)\n",
    "\n",
    "\n",
    "fig,ax = plt.subplots(figsize=(10,6))\n",
    "#display(df_otros.head())\n",
    "#display(df_otros.types.unique())\n",
    "df_raros['tipo'] = df_raros.types.map({'Male':'humano','Female':'humano','Ape':'rest','Zombie':'rest','Alien':'rest'})\n",
    "sns.boxplot(x=\"tipo\", y=variable_to_explore,data=df_raros[~(df_raros[variable_to_explore]>upper_raros)],ax=ax)\n",
    "plt.title('avg price for punks with select traits amongst rarest punks')\n",
    "#plt.ylim([0,900])\n",
    "plt.show()"
   ]
  },
  {
   "cell_type": "code",
   "execution_count": 228,
   "metadata": {},
   "outputs": [
    {
     "name": "stdout",
     "output_type": "stream",
     "text": [
      "25% at 0.89625, and 75% at 19.81125\n"
     ]
    },
    {
     "name": "stderr",
     "output_type": "stream",
     "text": [
      "<ipython-input-228-4f3089f6be1f>:7: SettingWithCopyWarning: \n",
      "A value is trying to be set on a copy of a slice from a DataFrame.\n",
      "Try using .loc[row_indexer,col_indexer] = value instead\n",
      "\n",
      "See the caveats in the documentation: https://pandas.pydata.org/pandas-docs/stable/user_guide/indexing.html#returning-a-view-versus-a-copy\n",
      "  df_otros['tipo'] = df_otros.types.map({'Male':'humano','Female':'humano','Ape':'rest','Zombie':'rest','Alien':'rest'})\n"
     ]
    },
    {
     "data": {
      "image/png": "[encoded data removed]",
      "text/plain": [
       "<Figure size 720x432 with 1 Axes>"
      ]
     },
     "metadata": {
      "needs_background": "light"
     },
     "output_type": "display_data"
    }
   ],
   "source": [
    "upper_otros, lower = outliers(df_otros, variable_to_explore)\n",
    "\n",
    "\n",
    "fig,ax = plt.subplots(figsize=(10,6))\n",
    "#display(df_otros.head())\n",
    "#display(df_otros.types.unique())\n",
    "df_otros['tipo'] = df_otros.types.map({'Male':'humano','Female':'humano','Ape':'rest','Zombie':'rest','Alien':'rest'})\n",
    "sns.boxplot(x=\"tipo\", y=variable_to_explore,data=df_otros[~(df_otros[variable_to_explore]>upper_otros)],ax=ax)\n",
    "plt.title('avg price for punks with select traits for the rest of punks ')\n",
    "#plt.ylim([0,900])\n",
    "plt.show()"
   ]
  },
  {
   "cell_type": "code",
   "execution_count": 229,
   "metadata": {},
   "outputs": [],
   "source": [
    "data1 = df_raros[~(df_raros[variable_to_explore]>upper_raros)][variable_to_explore]\n",
    "\n",
    "data2 = df_otros[~(df_otros[variable_to_explore]>upper_otros)][variable_to_explore]\n"
   ]
  },
  {
   "cell_type": "code",
   "execution_count": 230,
   "metadata": {},
   "outputs": [
    {
     "data": {
      "image/png": "[encoded data removed]",
      "text/plain": [
       "<Figure size 864x432 with 1 Axes>"
      ]
     },
     "metadata": {
      "needs_background": "light"
     },
     "output_type": "display_data"
    }
   ],
   "source": [
    "gix,ax = plt.subplots(figsize=(12,6))\n",
    "\n",
    "sns.histplot(get_means_of_price(data1),color='blue',kde=True,alpha=0.5)  \n",
    "sns.histplot(get_means_of_price(data2),color = 'red',kde=True)  \n",
    "plt.legend(['selected traits for the top 100 rarest punks','selected traits for the rest of punks'])\n",
    "plt.title('AVG PRICE DISTRIBUTION')\n",
    "plt.show()"
   ]
  },
  {
   "cell_type": "code",
   "execution_count": 238,
   "metadata": {},
   "outputs": [
    {
     "name": "stdout",
     "output_type": "stream",
     "text": [
      "Ttest_indResult(statistic=-2.940404420004247, pvalue=0.0032917594435190566)\n",
      "P-value is 0.33% and significance level (alpha) is 5% \n",
      "reject NULL hypothesis, conclusion: dist are different\n"
     ]
    }
   ],
   "source": [
    "res = ttest_ind(a=data2,b=data1)\n",
    "print(res)\n",
    "alpha = 0.05    \n",
    "print(f'P-value is {round(res.pvalue*100,2)}% and significance level (alpha) is 5% ')\n",
    "if res.pvalue < alpha:\n",
    "    print('reject NULL hypothesis, conclusion: dist are different')\n",
    "else:\n",
    "    print('cannot reject NULL hypothesis, conclusion: dist are equal')"
   ]
  },
  {
   "cell_type": "code",
   "execution_count": 249,
   "metadata": {},
   "outputs": [
    {
     "data": {
      "text/html": [
       "<div>\n",
       "<style scoped>\n",
       "    .dataframe tbody tr th:only-of-type {\n",
       "        vertical-align: middle;\n",
       "    }\n",
       "\n",
       "    .dataframe tbody tr th {\n",
       "        vertical-align: top;\n",
       "    }\n",
       "\n",
       "    .dataframe thead th {\n",
       "        text-align: right;\n",
       "    }\n",
       "</style>\n",
       "<table border=\"1\" class=\"dataframe\">\n",
       "  <thead>\n",
       "    <tr style=\"text-align: right;\">\n",
       "      <th></th>\n",
       "      <th>id</th>\n",
       "      <th>total_sold</th>\n",
       "      <th>avg_sold_price</th>\n",
       "      <th>max_sold_price</th>\n",
       "      <th>types</th>\n",
       "      <th>rarity</th>\n",
       "      <th>skin</th>\n",
       "      <th>traits</th>\n",
       "      <th>total_traits</th>\n",
       "      <th>tipo</th>\n",
       "      <th>keep</th>\n",
       "    </tr>\n",
       "  </thead>\n",
       "  <tbody>\n",
       "    <tr>\n",
       "      <th>0</th>\n",
       "      <td>0</td>\n",
       "      <td>3.0</td>\n",
       "      <td>9.193333</td>\n",
       "      <td>25.00</td>\n",
       "      <td>Female</td>\n",
       "      <td>2023</td>\n",
       "      <td>Mid</td>\n",
       "      <td>Blonde Bob,Earring,Green Eye Shadow</td>\n",
       "      <td>3</td>\n",
       "      <td>humano</td>\n",
       "      <td>True</td>\n",
       "    </tr>\n",
       "    <tr>\n",
       "      <th>1</th>\n",
       "      <td>1</td>\n",
       "      <td>3.0</td>\n",
       "      <td>30.473333</td>\n",
       "      <td>60.00</td>\n",
       "      <td>Male</td>\n",
       "      <td>4352</td>\n",
       "      <td>Dark</td>\n",
       "      <td>Mohawk,Smile</td>\n",
       "      <td>2</td>\n",
       "      <td>humano</td>\n",
       "      <td>True</td>\n",
       "    </tr>\n",
       "    <tr>\n",
       "      <th>14</th>\n",
       "      <td>14</td>\n",
       "      <td>3.0</td>\n",
       "      <td>1.750000</td>\n",
       "      <td>2.50</td>\n",
       "      <td>Female</td>\n",
       "      <td>155</td>\n",
       "      <td>Dark</td>\n",
       "      <td>Hot Lipstick,Pilot Helmet,Pipe</td>\n",
       "      <td>3</td>\n",
       "      <td>humano</td>\n",
       "      <td>True</td>\n",
       "    </tr>\n",
       "    <tr>\n",
       "      <th>53</th>\n",
       "      <td>53</td>\n",
       "      <td>2.0</td>\n",
       "      <td>21.000000</td>\n",
       "      <td>22.00</td>\n",
       "      <td>Female</td>\n",
       "      <td>2825</td>\n",
       "      <td>Light</td>\n",
       "      <td>Big Shades,Straight Hair</td>\n",
       "      <td>2</td>\n",
       "      <td>humano</td>\n",
       "      <td>True</td>\n",
       "    </tr>\n",
       "    <tr>\n",
       "      <th>89</th>\n",
       "      <td>89</td>\n",
       "      <td>3.0</td>\n",
       "      <td>13.830000</td>\n",
       "      <td>20.00</td>\n",
       "      <td>Female</td>\n",
       "      <td>125</td>\n",
       "      <td>Dark</td>\n",
       "      <td>Choker</td>\n",
       "      <td>1</td>\n",
       "      <td>humano</td>\n",
       "      <td>True</td>\n",
       "    </tr>\n",
       "    <tr>\n",
       "      <th>...</th>\n",
       "      <td>...</td>\n",
       "      <td>...</td>\n",
       "      <td>...</td>\n",
       "      <td>...</td>\n",
       "      <td>...</td>\n",
       "      <td>...</td>\n",
       "      <td>...</td>\n",
       "      <td>...</td>\n",
       "      <td>...</td>\n",
       "      <td>...</td>\n",
       "      <td>...</td>\n",
       "    </tr>\n",
       "    <tr>\n",
       "      <th>9961</th>\n",
       "      <td>9961</td>\n",
       "      <td>1.0</td>\n",
       "      <td>0.410000</td>\n",
       "      <td>0.41</td>\n",
       "      <td>Male</td>\n",
       "      <td>3525</td>\n",
       "      <td>Light</td>\n",
       "      <td>Medical Mask,Normal Beard,Shaved Head,VR</td>\n",
       "      <td>4</td>\n",
       "      <td>humano</td>\n",
       "      <td>True</td>\n",
       "    </tr>\n",
       "    <tr>\n",
       "      <th>9963</th>\n",
       "      <td>9963</td>\n",
       "      <td>3.0</td>\n",
       "      <td>17.050000</td>\n",
       "      <td>40.00</td>\n",
       "      <td>Male</td>\n",
       "      <td>3150</td>\n",
       "      <td>Albino</td>\n",
       "      <td>Chinstrap,Earring,Purple Hair,VR</td>\n",
       "      <td>4</td>\n",
       "      <td>humano</td>\n",
       "      <td>True</td>\n",
       "    </tr>\n",
       "    <tr>\n",
       "      <th>9965</th>\n",
       "      <td>9965</td>\n",
       "      <td>1.0</td>\n",
       "      <td>0.290000</td>\n",
       "      <td>0.29</td>\n",
       "      <td>Male</td>\n",
       "      <td>4988</td>\n",
       "      <td>Albino</td>\n",
       "      <td>Earring,Hoodie,Nerd Glasses</td>\n",
       "      <td>3</td>\n",
       "      <td>humano</td>\n",
       "      <td>True</td>\n",
       "    </tr>\n",
       "    <tr>\n",
       "      <th>9972</th>\n",
       "      <td>9972</td>\n",
       "      <td>2.0</td>\n",
       "      <td>3.495000</td>\n",
       "      <td>5.99</td>\n",
       "      <td>Male</td>\n",
       "      <td>5312</td>\n",
       "      <td>Light</td>\n",
       "      <td>Big Shades,Frown,Frumpy Hair</td>\n",
       "      <td>3</td>\n",
       "      <td>humano</td>\n",
       "      <td>True</td>\n",
       "    </tr>\n",
       "    <tr>\n",
       "      <th>9973</th>\n",
       "      <td>9973</td>\n",
       "      <td>1.0</td>\n",
       "      <td>15.850000</td>\n",
       "      <td>15.85</td>\n",
       "      <td>Male</td>\n",
       "      <td>6130</td>\n",
       "      <td>Mid</td>\n",
       "      <td>Chinstrap,Do-rag,Eye Patch</td>\n",
       "      <td>3</td>\n",
       "      <td>humano</td>\n",
       "      <td>True</td>\n",
       "    </tr>\n",
       "  </tbody>\n",
       "</table>\n",
       "<p>3264 rows × 11 columns</p>\n",
       "</div>"
      ],
      "text/plain": [
       "        id  total_sold  avg_sold_price  max_sold_price   types  rarity  \\\n",
       "0        0         3.0        9.193333           25.00  Female    2023   \n",
       "1        1         3.0       30.473333           60.00    Male    4352   \n",
       "14      14         3.0        1.750000            2.50  Female     155   \n",
       "53      53         2.0       21.000000           22.00  Female    2825   \n",
       "89      89         3.0       13.830000           20.00  Female     125   \n",
       "...    ...         ...             ...             ...     ...     ...   \n",
       "9961  9961         1.0        0.410000            0.41    Male    3525   \n",
       "9963  9963         3.0       17.050000           40.00    Male    3150   \n",
       "9965  9965         1.0        0.290000            0.29    Male    4988   \n",
       "9972  9972         2.0        3.495000            5.99    Male    5312   \n",
       "9973  9973         1.0       15.850000           15.85    Male    6130   \n",
       "\n",
       "        skin                                    traits  total_traits    tipo  \\\n",
       "0        Mid       Blonde Bob,Earring,Green Eye Shadow             3  humano   \n",
       "1       Dark                              Mohawk,Smile             2  humano   \n",
       "14      Dark            Hot Lipstick,Pilot Helmet,Pipe             3  humano   \n",
       "53     Light                  Big Shades,Straight Hair             2  humano   \n",
       "89      Dark                                    Choker             1  humano   \n",
       "...      ...                                       ...           ...     ...   \n",
       "9961   Light  Medical Mask,Normal Beard,Shaved Head,VR             4  humano   \n",
       "9963  Albino          Chinstrap,Earring,Purple Hair,VR             4  humano   \n",
       "9965  Albino               Earring,Hoodie,Nerd Glasses             3  humano   \n",
       "9972   Light              Big Shades,Frown,Frumpy Hair             3  humano   \n",
       "9973     Mid                Chinstrap,Do-rag,Eye Patch             3  humano   \n",
       "\n",
       "      keep  \n",
       "0     True  \n",
       "1     True  \n",
       "14    True  \n",
       "53    True  \n",
       "89    True  \n",
       "...    ...  \n",
       "9961  True  \n",
       "9963  True  \n",
       "9965  True  \n",
       "9972  True  \n",
       "9973  True  \n",
       "\n",
       "[3264 rows x 11 columns]"
      ]
     },
     "execution_count": 249,
     "metadata": {},
     "output_type": "execute_result"
    }
   ],
   "source": [
    "df_raros"
   ]
  },
  {
   "cell_type": "code",
   "execution_count": 248,
   "metadata": {},
   "outputs": [
    {
     "name": "stderr",
     "output_type": "stream",
     "text": [
      "<ipython-input-248-cfe6debd57dc>:1: SettingWithCopyWarning: \n",
      "A value is trying to be set on a copy of a slice from a DataFrame.\n",
      "Try using .loc[row_indexer,col_indexer] = value instead\n",
      "\n",
      "See the caveats in the documentation: https://pandas.pydata.org/pandas-docs/stable/user_guide/indexing.html#returning-a-view-versus-a-copy\n",
      "  df_raros['keep']= df_raros.traits.apply(atribute_present)\n"
     ]
    }
   ],
   "source": [
    "df_raros['keep']= df_raros.traits.apply(atribute_present)"
   ]
  },
  {
   "cell_type": "code",
   "execution_count": 250,
   "metadata": {},
   "outputs": [],
   "source": [
    "df_new = df_raros[df_raros.keep == True]"
   ]
  },
  {
   "cell_type": "code",
   "execution_count": 251,
   "metadata": {},
   "outputs": [
    {
     "ename": "ValueError",
     "evalue": "Could not interpret input 'trait'",
     "output_type": "error",
     "traceback": [
      "\u001b[0;31m---------------------------------------------------------------------------\u001b[0m",
      "\u001b[0;31mValueError\u001b[0m                                Traceback (most recent call last)",
      "\u001b[0;32m<ipython-input-251-82bfc1781424>\u001b[0m in \u001b[0;36m<module>\u001b[0;34m\u001b[0m\n\u001b[0;32m----> 1\u001b[0;31m \u001b[0msns\u001b[0m\u001b[0;34m.\u001b[0m\u001b[0mcatplot\u001b[0m\u001b[0;34m(\u001b[0m\u001b[0mx\u001b[0m\u001b[0;34m=\u001b[0m\u001b[0;34m'trait'\u001b[0m\u001b[0;34m,\u001b[0m\u001b[0my\u001b[0m\u001b[0;34m=\u001b[0m\u001b[0;34m'occurences'\u001b[0m\u001b[0;34m,\u001b[0m\u001b[0mdata\u001b[0m\u001b[0;34m=\u001b[0m \u001b[0mdf_new\u001b[0m\u001b[0;34m,\u001b[0m\u001b[0mkind\u001b[0m\u001b[0;34m=\u001b[0m\u001b[0;34m'bar'\u001b[0m\u001b[0;34m,\u001b[0m\u001b[0mheight\u001b[0m\u001b[0;34m=\u001b[0m\u001b[0;36m5\u001b[0m\u001b[0;34m,\u001b[0m \u001b[0maspect\u001b[0m\u001b[0;34m=\u001b[0m\u001b[0;36m10\u001b[0m\u001b[0;34m/\u001b[0m\u001b[0;36m5\u001b[0m\u001b[0;34m,\u001b[0m\u001b[0mcolor\u001b[0m\u001b[0;34m=\u001b[0m\u001b[0;34m'orange'\u001b[0m\u001b[0;34m)\u001b[0m\u001b[0;34m\u001b[0m\u001b[0;34m\u001b[0m\u001b[0m\n\u001b[0m\u001b[1;32m      2\u001b[0m \u001b[0mplt\u001b[0m\u001b[0;34m.\u001b[0m\u001b[0mtitle\u001b[0m\u001b[0;34m(\u001b[0m\u001b[0;34m'traits from rarest punks not amongst the top 30 most common traits'\u001b[0m\u001b[0;34m)\u001b[0m\u001b[0;34m\u001b[0m\u001b[0;34m\u001b[0m\u001b[0m\n\u001b[1;32m      3\u001b[0m \u001b[0mplt\u001b[0m\u001b[0;34m.\u001b[0m\u001b[0mxticks\u001b[0m\u001b[0;34m(\u001b[0m\u001b[0mrotation\u001b[0m\u001b[0;34m=\u001b[0m\u001b[0;36m90\u001b[0m\u001b[0;34m)\u001b[0m\u001b[0;34m\u001b[0m\u001b[0;34m\u001b[0m\u001b[0m\n\u001b[1;32m      4\u001b[0m \u001b[0mplt\u001b[0m\u001b[0;34m.\u001b[0m\u001b[0mshow\u001b[0m\u001b[0;34m(\u001b[0m\u001b[0;34m)\u001b[0m\u001b[0;34m\u001b[0m\u001b[0;34m\u001b[0m\u001b[0m\n",
      "\u001b[0;32m~/.local/lib/python3.8/site-packages/seaborn/_decorators.py\u001b[0m in \u001b[0;36minner_f\u001b[0;34m(*args, **kwargs)\u001b[0m\n\u001b[1;32m     44\u001b[0m             )\n\u001b[1;32m     45\u001b[0m         \u001b[0mkwargs\u001b[0m\u001b[0;34m.\u001b[0m\u001b[0mupdate\u001b[0m\u001b[0;34m(\u001b[0m\u001b[0;34m{\u001b[0m\u001b[0mk\u001b[0m\u001b[0;34m:\u001b[0m \u001b[0marg\u001b[0m \u001b[0;32mfor\u001b[0m \u001b[0mk\u001b[0m\u001b[0;34m,\u001b[0m \u001b[0marg\u001b[0m \u001b[0;32min\u001b[0m \u001b[0mzip\u001b[0m\u001b[0;34m(\u001b[0m\u001b[0msig\u001b[0m\u001b[0;34m.\u001b[0m\u001b[0mparameters\u001b[0m\u001b[0;34m,\u001b[0m \u001b[0margs\u001b[0m\u001b[0;34m)\u001b[0m\u001b[0;34m}\u001b[0m\u001b[0;34m)\u001b[0m\u001b[0;34m\u001b[0m\u001b[0;34m\u001b[0m\u001b[0m\n\u001b[0;32m---> 46\u001b[0;31m         \u001b[0;32mreturn\u001b[0m \u001b[0mf\u001b[0m\u001b[0;34m(\u001b[0m\u001b[0;34m**\u001b[0m\u001b[0mkwargs\u001b[0m\u001b[0;34m)\u001b[0m\u001b[0;34m\u001b[0m\u001b[0;34m\u001b[0m\u001b[0m\n\u001b[0m\u001b[1;32m     47\u001b[0m     \u001b[0;32mreturn\u001b[0m \u001b[0minner_f\u001b[0m\u001b[0;34m\u001b[0m\u001b[0;34m\u001b[0m\u001b[0m\n\u001b[1;32m     48\u001b[0m \u001b[0;34m\u001b[0m\u001b[0m\n",
      "\u001b[0;32m~/.local/lib/python3.8/site-packages/seaborn/categorical.py\u001b[0m in \u001b[0;36mcatplot\u001b[0;34m(x, y, hue, data, row, col, col_wrap, estimator, ci, n_boot, units, seed, order, hue_order, row_order, col_order, kind, height, aspect, orient, color, palette, legend, legend_out, sharex, sharey, margin_titles, facet_kws, **kwargs)\u001b[0m\n\u001b[1;32m   3777\u001b[0m     \u001b[0mp\u001b[0m \u001b[0;34m=\u001b[0m \u001b[0m_CategoricalPlotter\u001b[0m\u001b[0;34m(\u001b[0m\u001b[0;34m)\u001b[0m\u001b[0;34m\u001b[0m\u001b[0;34m\u001b[0m\u001b[0m\n\u001b[1;32m   3778\u001b[0m     \u001b[0mp\u001b[0m\u001b[0;34m.\u001b[0m\u001b[0mrequire_numeric\u001b[0m \u001b[0;34m=\u001b[0m \u001b[0mplotter_class\u001b[0m\u001b[0;34m.\u001b[0m\u001b[0mrequire_numeric\u001b[0m\u001b[0;34m\u001b[0m\u001b[0;34m\u001b[0m\u001b[0m\n\u001b[0;32m-> 3779\u001b[0;31m     \u001b[0mp\u001b[0m\u001b[0;34m.\u001b[0m\u001b[0mestablish_variables\u001b[0m\u001b[0;34m(\u001b[0m\u001b[0mx_\u001b[0m\u001b[0;34m,\u001b[0m \u001b[0my_\u001b[0m\u001b[0;34m,\u001b[0m \u001b[0mhue\u001b[0m\u001b[0;34m,\u001b[0m \u001b[0mdata\u001b[0m\u001b[0;34m,\u001b[0m \u001b[0morient\u001b[0m\u001b[0;34m,\u001b[0m \u001b[0morder\u001b[0m\u001b[0;34m,\u001b[0m \u001b[0mhue_order\u001b[0m\u001b[0;34m)\u001b[0m\u001b[0;34m\u001b[0m\u001b[0;34m\u001b[0m\u001b[0m\n\u001b[0m\u001b[1;32m   3780\u001b[0m     if (\n\u001b[1;32m   3781\u001b[0m         \u001b[0morder\u001b[0m \u001b[0;32mis\u001b[0m \u001b[0;32mnot\u001b[0m \u001b[0;32mNone\u001b[0m\u001b[0;34m\u001b[0m\u001b[0;34m\u001b[0m\u001b[0m\n",
      "\u001b[0;32m~/.local/lib/python3.8/site-packages/seaborn/categorical.py\u001b[0m in \u001b[0;36mestablish_variables\u001b[0;34m(self, x, y, hue, data, orient, order, hue_order, units)\u001b[0m\n\u001b[1;32m    151\u001b[0m                 \u001b[0;32mif\u001b[0m \u001b[0misinstance\u001b[0m\u001b[0;34m(\u001b[0m\u001b[0mvar\u001b[0m\u001b[0;34m,\u001b[0m \u001b[0mstr\u001b[0m\u001b[0;34m)\u001b[0m\u001b[0;34m:\u001b[0m\u001b[0;34m\u001b[0m\u001b[0;34m\u001b[0m\u001b[0m\n\u001b[1;32m    152\u001b[0m                     \u001b[0merr\u001b[0m \u001b[0;34m=\u001b[0m \u001b[0;34m\"Could not interpret input '{}'\"\u001b[0m\u001b[0;34m.\u001b[0m\u001b[0mformat\u001b[0m\u001b[0;34m(\u001b[0m\u001b[0mvar\u001b[0m\u001b[0;34m)\u001b[0m\u001b[0;34m\u001b[0m\u001b[0;34m\u001b[0m\u001b[0m\n\u001b[0;32m--> 153\u001b[0;31m                     \u001b[0;32mraise\u001b[0m \u001b[0mValueError\u001b[0m\u001b[0;34m(\u001b[0m\u001b[0merr\u001b[0m\u001b[0;34m)\u001b[0m\u001b[0;34m\u001b[0m\u001b[0;34m\u001b[0m\u001b[0m\n\u001b[0m\u001b[1;32m    154\u001b[0m \u001b[0;34m\u001b[0m\u001b[0m\n\u001b[1;32m    155\u001b[0m             \u001b[0;31m# Figure out the plotting orientation\u001b[0m\u001b[0;34m\u001b[0m\u001b[0;34m\u001b[0m\u001b[0;34m\u001b[0m\u001b[0m\n",
      "\u001b[0;31mValueError\u001b[0m: Could not interpret input 'trait'"
     ]
    }
   ],
   "source": [
    "sns.catplot(x='trait',y='occurences',data= df_new,kind='bar',height=5, aspect=10/5,color='orange')\n",
    "plt.title('traits from rarest punks not amongst the top 30 most common traits')\n",
    "plt.xticks(rotation=90)\n",
    "plt.show()"
   ]
  },
  {
   "cell_type": "code",
   "execution_count": null,
   "metadata": {},
   "outputs": [],
   "source": []
  }
 ],
 "metadata": {
  "kernelspec": {
   "display_name": "Python 3",
   "language": "python",
   "name": "python3"
  },
  "language_info": {
   "codemirror_mode": {
    "name": "ipython",
    "version": 3
   },
   "file_extension": ".py",
   "mimetype": "text/x-python",
   "name": "python",
   "nbconvert_exporter": "python",
   "pygments_lexer": "ipython3",
   "version": "3.8.8"
  }
 },
 "nbformat": 4,
 "nbformat_minor": 4
}
