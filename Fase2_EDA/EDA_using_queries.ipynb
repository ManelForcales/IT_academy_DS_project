{
 "cells": [
  {
   "cell_type": "code",
   "execution_count": 1,
   "metadata": {},
   "outputs": [],
   "source": [
    "import mysql.connector\n",
    "import pandas as pd"
   ]
  },
  {
   "cell_type": "code",
   "execution_count": 2,
   "metadata": {},
   "outputs": [
    {
     "data": {
      "text/plain": [
       "<mysql.connector.cursor_cext.CMySQLCursor at 0x7f55c89a1b20>"
      ]
     },
     "execution_count": 2,
     "metadata": {},
     "output_type": "execute_result"
    }
   ],
   "source": [
    "mydb = mysql.connector.connect(\n",
    "    host = 'localhost',    \n",
    "    user = 'manel',\n",
    "    password = 'itacademy',\n",
    "    database=\"mydb\")\n",
    "\n",
    "mycursor = mydb.cursor()\n",
    "mycursor"
   ]
  },
  {
   "cell_type": "code",
   "execution_count": 3,
   "metadata": {},
   "outputs": [
    {
     "name": "stdout",
     "output_type": "stream",
     "text": [
      "('Sale',)\n",
      "('contains_hidden_trait',)\n",
      "('contains_trait',)\n",
      "('hidden_trait',)\n",
      "('punk',)\n",
      "('skin',)\n",
      "('trait',)\n",
      "('type',)\n"
     ]
    }
   ],
   "source": [
    "sql_query = 'SHOW TABLES'\n",
    "mycursor.execute(sql_query)\n",
    "\n",
    "for x in mycursor:\n",
    "  print(x) "
   ]
  },
  {
   "cell_type": "code",
   "execution_count": 89,
   "metadata": {},
   "outputs": [
    {
     "data": {
      "text/html": [
       "<div>\n",
       "<style scoped>\n",
       "    .dataframe tbody tr th:only-of-type {\n",
       "        vertical-align: middle;\n",
       "    }\n",
       "\n",
       "    .dataframe tbody tr th {\n",
       "        vertical-align: top;\n",
       "    }\n",
       "\n",
       "    .dataframe thead th {\n",
       "        text-align: right;\n",
       "    }\n",
       "</style>\n",
       "<table border=\"1\" class=\"dataframe\">\n",
       "  <thead>\n",
       "    <tr style=\"text-align: right;\">\n",
       "      <th></th>\n",
       "      <th>name</th>\n",
       "      <th>punk_id</th>\n",
       "    </tr>\n",
       "  </thead>\n",
       "  <tbody>\n",
       "    <tr>\n",
       "      <th>0</th>\n",
       "      <td>Blonde Bob</td>\n",
       "      <td>8680</td>\n",
       "    </tr>\n",
       "    <tr>\n",
       "      <th>1</th>\n",
       "      <td>Blonde Bob</td>\n",
       "      <td>8636</td>\n",
       "    </tr>\n",
       "    <tr>\n",
       "      <th>2</th>\n",
       "      <td>Blonde Bob</td>\n",
       "      <td>8539</td>\n",
       "    </tr>\n",
       "    <tr>\n",
       "      <th>3</th>\n",
       "      <td>Blonde Bob</td>\n",
       "      <td>8529</td>\n",
       "    </tr>\n",
       "    <tr>\n",
       "      <th>4</th>\n",
       "      <td>Blonde Bob</td>\n",
       "      <td>8506</td>\n",
       "    </tr>\n",
       "    <tr>\n",
       "      <th>...</th>\n",
       "      <td>...</td>\n",
       "      <td>...</td>\n",
       "    </tr>\n",
       "    <tr>\n",
       "      <th>27534</th>\n",
       "      <td>Front Beard Dark</td>\n",
       "      <td>8853</td>\n",
       "    </tr>\n",
       "    <tr>\n",
       "      <th>27535</th>\n",
       "      <td>Front Beard Dark</td>\n",
       "      <td>8798</td>\n",
       "    </tr>\n",
       "    <tr>\n",
       "      <th>27536</th>\n",
       "      <td>Front Beard Dark</td>\n",
       "      <td>8761</td>\n",
       "    </tr>\n",
       "    <tr>\n",
       "      <th>27537</th>\n",
       "      <td>Front Beard Dark</td>\n",
       "      <td>8753</td>\n",
       "    </tr>\n",
       "    <tr>\n",
       "      <th>27538</th>\n",
       "      <td>Front Beard Dark</td>\n",
       "      <td>8720</td>\n",
       "    </tr>\n",
       "  </tbody>\n",
       "</table>\n",
       "<p>27539 rows × 2 columns</p>\n",
       "</div>"
      ],
      "text/plain": [
       "                   name  punk_id\n",
       "0            Blonde Bob     8680\n",
       "1            Blonde Bob     8636\n",
       "2            Blonde Bob     8539\n",
       "3            Blonde Bob     8529\n",
       "4            Blonde Bob     8506\n",
       "...                 ...      ...\n",
       "27534  Front Beard Dark     8853\n",
       "27535  Front Beard Dark     8798\n",
       "27536  Front Beard Dark     8761\n",
       "27537  Front Beard Dark     8753\n",
       "27538  Front Beard Dark     8720\n",
       "\n",
       "[27539 rows x 2 columns]"
      ]
     },
     "execution_count": 89,
     "metadata": {},
     "output_type": "execute_result"
    }
   ],
   "source": [
    "# join both tables and\n",
    "sql_query = '''SELECT t.name,c_t.punk_id from trait AS t \n",
    "            LEFT JOIN contains_trait AS c_t\n",
    "            ON t.id = c_t.trait_id\n",
    "            ;'''\n",
    "\n",
    "\n",
    "df = pd.read_sql_query(sql_query,mydb)\n",
    "\n",
    "df"
   ]
  },
  {
   "cell_type": "code",
   "execution_count": 91,
   "metadata": {},
   "outputs": [
    {
     "data": {
      "text/html": [
       "<div>\n",
       "<style scoped>\n",
       "    .dataframe tbody tr th:only-of-type {\n",
       "        vertical-align: middle;\n",
       "    }\n",
       "\n",
       "    .dataframe tbody tr th {\n",
       "        vertical-align: top;\n",
       "    }\n",
       "\n",
       "    .dataframe thead th {\n",
       "        text-align: right;\n",
       "    }\n",
       "</style>\n",
       "<table border=\"1\" class=\"dataframe\">\n",
       "  <thead>\n",
       "    <tr style=\"text-align: right;\">\n",
       "      <th></th>\n",
       "      <th>rarity</th>\n",
       "      <th>total_traits</th>\n",
       "      <th>name</th>\n",
       "    </tr>\n",
       "  </thead>\n",
       "  <tbody>\n",
       "    <tr>\n",
       "      <th>0</th>\n",
       "      <td>2023</td>\n",
       "      <td>3</td>\n",
       "      <td>Mohawk</td>\n",
       "    </tr>\n",
       "    <tr>\n",
       "      <th>1</th>\n",
       "      <td>2023</td>\n",
       "      <td>3</td>\n",
       "      <td>Smile</td>\n",
       "    </tr>\n",
       "    <tr>\n",
       "      <th>2</th>\n",
       "      <td>4352</td>\n",
       "      <td>2</td>\n",
       "      <td>Wild Hair</td>\n",
       "    </tr>\n",
       "    <tr>\n",
       "      <th>3</th>\n",
       "      <td>8090</td>\n",
       "      <td>1</td>\n",
       "      <td>Wild Hair</td>\n",
       "    </tr>\n",
       "    <tr>\n",
       "      <th>4</th>\n",
       "      <td>8090</td>\n",
       "      <td>1</td>\n",
       "      <td>Nerd Glasses</td>\n",
       "    </tr>\n",
       "    <tr>\n",
       "      <th>...</th>\n",
       "      <td>...</td>\n",
       "      <td>...</td>\n",
       "      <td>...</td>\n",
       "    </tr>\n",
       "    <tr>\n",
       "      <th>27531</th>\n",
       "      <td>498</td>\n",
       "      <td>2</td>\n",
       "      <td>Wild White Hair</td>\n",
       "    </tr>\n",
       "    <tr>\n",
       "      <th>27532</th>\n",
       "      <td>498</td>\n",
       "      <td>2</td>\n",
       "      <td>Black Lipstick</td>\n",
       "    </tr>\n",
       "    <tr>\n",
       "      <th>27533</th>\n",
       "      <td>498</td>\n",
       "      <td>2</td>\n",
       "      <td>Clown Eyes Green</td>\n",
       "    </tr>\n",
       "    <tr>\n",
       "      <th>27534</th>\n",
       "      <td>1271</td>\n",
       "      <td>3</td>\n",
       "      <td>Mohawk</td>\n",
       "    </tr>\n",
       "    <tr>\n",
       "      <th>27535</th>\n",
       "      <td>1271</td>\n",
       "      <td>3</td>\n",
       "      <td>Nerd Glasses</td>\n",
       "    </tr>\n",
       "  </tbody>\n",
       "</table>\n",
       "<p>27536 rows × 3 columns</p>\n",
       "</div>"
      ],
      "text/plain": [
       "       rarity  total_traits              name\n",
       "0        2023             3            Mohawk\n",
       "1        2023             3             Smile\n",
       "2        4352             2         Wild Hair\n",
       "3        8090             1         Wild Hair\n",
       "4        8090             1      Nerd Glasses\n",
       "...       ...           ...               ...\n",
       "27531     498             2   Wild White Hair\n",
       "27532     498             2    Black Lipstick\n",
       "27533     498             2  Clown Eyes Green\n",
       "27534    1271             3            Mohawk\n",
       "27535    1271             3      Nerd Glasses\n",
       "\n",
       "[27536 rows x 3 columns]"
      ]
     },
     "execution_count": 91,
     "metadata": {},
     "output_type": "execute_result"
    }
   ],
   "source": [
    "# join both tables and\n",
    "sql_query = '''SELECT p.rarity,p.total_traits,new.name \n",
    "            FROM punk AS p\n",
    "            JOIN \n",
    "            (SELECT t.name,c_t.punk_id from trait AS t \n",
    "            LEFT JOIN contains_trait AS c_t\n",
    "            ON t.id = c_t.trait_id) AS new\n",
    "            ON p.id = new.punk_id\n",
    "            ;'''\n",
    "\n",
    "\n",
    "df = pd.read_sql_query(sql_query,mydb)\n",
    "\n",
    "df"
   ]
  },
  {
   "cell_type": "code",
   "execution_count": 32,
   "metadata": {},
   "outputs": [
    {
     "data": {
      "text/plain": [
       "22654        1\n",
       "22655        1\n",
       "22656        1\n",
       "17275        2\n",
       "17274        2\n",
       "         ...  \n",
       "935       9999\n",
       "934       9999\n",
       "2402     10000\n",
       "2403     10000\n",
       "2404     10000\n",
       "Name: rarity, Length: 27536, dtype: int64"
      ]
     },
     "execution_count": 32,
     "metadata": {},
     "output_type": "execute_result"
    }
   ],
   "source": [
    "df.rarity.sort_values()"
   ]
  },
  {
   "cell_type": "code",
   "execution_count": null,
   "metadata": {},
   "outputs": [],
   "source": []
  }
 ],
 "metadata": {
  "kernelspec": {
   "display_name": "Python 3",
   "language": "python",
   "name": "python3"
  },
  "language_info": {
   "codemirror_mode": {
    "name": "ipython",
    "version": 3
   },
   "file_extension": ".py",
   "mimetype": "text/x-python",
   "name": "python",
   "nbconvert_exporter": "python",
   "pygments_lexer": "ipython3",
   "version": "3.8.8"
  }
 },
 "nbformat": 4,
 "nbformat_minor": 4
}
