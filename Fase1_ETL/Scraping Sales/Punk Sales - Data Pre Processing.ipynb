{
 "cells": [
  {
   "cell_type": "code",
   "execution_count": 1,
   "metadata": {},
   "outputs": [],
   "source": [
    "import numpy as np\n",
    "import pandas as pd"
   ]
  },
  {
   "cell_type": "markdown",
   "metadata": {},
   "source": [
    "### Importing Datasets"
   ]
  },
  {
   "cell_type": "code",
   "execution_count": 2,
   "metadata": {},
   "outputs": [],
   "source": [
    "df1 = pd.read_csv('df5000-6001.csv')"
   ]
  },
  {
   "cell_type": "code",
   "execution_count": 3,
   "metadata": {},
   "outputs": [],
   "source": [
    "df2 = pd.read_csv('df6000-7001.csv')"
   ]
  },
  {
   "cell_type": "code",
   "execution_count": 4,
   "metadata": {},
   "outputs": [],
   "source": [
    "df3 = pd.read_csv('df7000-8001.csv')"
   ]
  },
  {
   "cell_type": "code",
   "execution_count": 5,
   "metadata": {},
   "outputs": [],
   "source": [
    "df4 = pd.read_csv('df8000-9001.csv')"
   ]
  },
  {
   "cell_type": "code",
   "execution_count": 6,
   "metadata": {},
   "outputs": [],
   "source": [
    "df5 = pd.read_csv('df9000-10001.csv')"
   ]
  },
  {
   "cell_type": "code",
   "execution_count": null,
   "metadata": {},
   "outputs": [],
   "source": []
  },
  {
   "cell_type": "markdown",
   "metadata": {},
   "source": [
    "### Appending Datasets"
   ]
  },
  {
   "cell_type": "code",
   "execution_count": 7,
   "metadata": {},
   "outputs": [],
   "source": [
    "sales_df = df1.append([df2, df3, df4, df5])"
   ]
  },
  {
   "cell_type": "code",
   "execution_count": 8,
   "metadata": {},
   "outputs": [
    {
     "data": {
      "text/html": [
       "<div>\n",
       "<style scoped>\n",
       "    .dataframe tbody tr th:only-of-type {\n",
       "        vertical-align: middle;\n",
       "    }\n",
       "\n",
       "    .dataframe tbody tr th {\n",
       "        vertical-align: top;\n",
       "    }\n",
       "\n",
       "    .dataframe thead th {\n",
       "        text-align: right;\n",
       "    }\n",
       "</style>\n",
       "<table border=\"1\" class=\"dataframe\">\n",
       "  <thead>\n",
       "    <tr style=\"text-align: right;\">\n",
       "      <th></th>\n",
       "      <th>Unnamed: 0</th>\n",
       "      <th>id</th>\n",
       "      <th>amount_ethereum</th>\n",
       "      <th>amount_dollars</th>\n",
       "      <th>transaction_date</th>\n",
       "    </tr>\n",
       "  </thead>\n",
       "  <tbody>\n",
       "    <tr>\n",
       "      <td>0</td>\n",
       "      <td>0</td>\n",
       "      <td>5000</td>\n",
       "      <td>0.30Ξ</td>\n",
       "      <td>($67)</td>\n",
       "      <td>Aug 03, 2017</td>\n",
       "    </tr>\n",
       "    <tr>\n",
       "      <td>1</td>\n",
       "      <td>1</td>\n",
       "      <td>5001</td>\n",
       "      <td>1.20Ξ</td>\n",
       "      <td>($247)</td>\n",
       "      <td>Jul 29, 2017</td>\n",
       "    </tr>\n",
       "    <tr>\n",
       "      <td>2</td>\n",
       "      <td>2</td>\n",
       "      <td>5002</td>\n",
       "      <td>205Ξ</td>\n",
       "      <td>($382,579)</td>\n",
       "      <td>Jul 17, 2021</td>\n",
       "    </tr>\n",
       "    <tr>\n",
       "      <td>3</td>\n",
       "      <td>3</td>\n",
       "      <td>5002</td>\n",
       "      <td>49Ξ</td>\n",
       "      <td>($11,542)</td>\n",
       "      <td>Jun 01, 2020</td>\n",
       "    </tr>\n",
       "    <tr>\n",
       "      <td>4</td>\n",
       "      <td>4</td>\n",
       "      <td>5002</td>\n",
       "      <td>0.26Ξ</td>\n",
       "      <td>($88)</td>\n",
       "      <td>Oct 13, 2017</td>\n",
       "    </tr>\n",
       "    <tr>\n",
       "      <td>...</td>\n",
       "      <td>...</td>\n",
       "      <td>...</td>\n",
       "      <td>...</td>\n",
       "      <td>...</td>\n",
       "      <td>...</td>\n",
       "    </tr>\n",
       "    <tr>\n",
       "      <td>1534</td>\n",
       "      <td>1534</td>\n",
       "      <td>9990</td>\n",
       "      <td>24.50Ξ</td>\n",
       "      <td>($44,981)</td>\n",
       "      <td>Mar 20, 2021</td>\n",
       "    </tr>\n",
       "    <tr>\n",
       "      <td>1535</td>\n",
       "      <td>1535</td>\n",
       "      <td>9997</td>\n",
       "      <td>99.99Ξ</td>\n",
       "      <td>($169,770)</td>\n",
       "      <td>Feb 08, 2021</td>\n",
       "    </tr>\n",
       "    <tr>\n",
       "      <td>1536</td>\n",
       "      <td>1536</td>\n",
       "      <td>9997</td>\n",
       "      <td>59Ξ</td>\n",
       "      <td>($21,062)</td>\n",
       "      <td>Sep 27, 2020</td>\n",
       "    </tr>\n",
       "    <tr>\n",
       "      <td>1537</td>\n",
       "      <td>1537</td>\n",
       "      <td>9998</td>\n",
       "      <td>38Ξ</td>\n",
       "      <td>($61,170)</td>\n",
       "      <td>Mar 03, 2021</td>\n",
       "    </tr>\n",
       "    <tr>\n",
       "      <td>1538</td>\n",
       "      <td>1538</td>\n",
       "      <td>9998</td>\n",
       "      <td>15Ξ</td>\n",
       "      <td>($9,499)</td>\n",
       "      <td>Dec 27, 2020</td>\n",
       "    </tr>\n",
       "  </tbody>\n",
       "</table>\n",
       "<p>7879 rows × 5 columns</p>\n",
       "</div>"
      ],
      "text/plain": [
       "      Unnamed: 0    id amount_ethereum amount_dollars transaction_date\n",
       "0              0  5000           0.30Ξ          ($67)     Aug 03, 2017\n",
       "1              1  5001           1.20Ξ         ($247)     Jul 29, 2017\n",
       "2              2  5002            205Ξ     ($382,579)     Jul 17, 2021\n",
       "3              3  5002             49Ξ      ($11,542)     Jun 01, 2020\n",
       "4              4  5002           0.26Ξ          ($88)     Oct 13, 2017\n",
       "...          ...   ...             ...            ...              ...\n",
       "1534        1534  9990          24.50Ξ      ($44,981)     Mar 20, 2021\n",
       "1535        1535  9997          99.99Ξ     ($169,770)     Feb 08, 2021\n",
       "1536        1536  9997             59Ξ      ($21,062)     Sep 27, 2020\n",
       "1537        1537  9998             38Ξ      ($61,170)     Mar 03, 2021\n",
       "1538        1538  9998             15Ξ       ($9,499)     Dec 27, 2020\n",
       "\n",
       "[7879 rows x 5 columns]"
      ]
     },
     "execution_count": 8,
     "metadata": {},
     "output_type": "execute_result"
    }
   ],
   "source": [
    "sales_df"
   ]
  },
  {
   "cell_type": "markdown",
   "metadata": {},
   "source": [
    "# Data cleaning"
   ]
  },
  {
   "cell_type": "markdown",
   "metadata": {},
   "source": [
    "### Value's anomalies detection"
   ]
  },
  {
   "cell_type": "markdown",
   "metadata": {},
   "source": [
    "\"amount_ethereum\" column is expressing its results with an \"Ξ\" attached next to the value"
   ]
  },
  {
   "cell_type": "code",
   "execution_count": 9,
   "metadata": {
    "scrolled": true
   },
   "outputs": [
    {
     "data": {
      "text/plain": [
       "0.25Ξ     217\n",
       "0.10Ξ     158\n",
       "0.30Ξ     117\n",
       "0.50Ξ     116\n",
       "1Ξ        106\n",
       "         ... \n",
       "16.86Ξ      1\n",
       "1.74Ξ       1\n",
       "40.50Ξ      1\n",
       "36.60Ξ      1\n",
       "2.35Ξ       1\n",
       "Name: amount_ethereum, Length: 1199, dtype: int64"
      ]
     },
     "execution_count": 9,
     "metadata": {},
     "output_type": "execute_result"
    }
   ],
   "source": [
    "sales_df.amount_ethereum.value_counts()"
   ]
  },
  {
   "cell_type": "markdown",
   "metadata": {},
   "source": [
    "\"amount_dollars\" column is expressing its results wraped by parenthesis and with the $ character"
   ]
  },
  {
   "cell_type": "code",
   "execution_count": 10,
   "metadata": {},
   "outputs": [
    {
     "data": {
      "text/plain": [
       "($45)         89\n",
       "($38)         49\n",
       "($47)         45\n",
       "($118)        35\n",
       "($60)         34\n",
       "              ..\n",
       "($724)         1\n",
       "($5,398)       1\n",
       "($830)         1\n",
       "($45,899)      1\n",
       "($191,680)     1\n",
       "Name: amount_dollars, Length: 4996, dtype: int64"
      ]
     },
     "execution_count": 10,
     "metadata": {},
     "output_type": "execute_result"
    }
   ],
   "source": [
    "sales_df.amount_dollars.value_counts()"
   ]
  },
  {
   "cell_type": "markdown",
   "metadata": {},
   "source": [
    "There are some values between 0 and 0.01. In order to convert these columns to numeric, it's necessary to modify its values to FLOAT. We will covert them all to \"0.01\""
   ]
  },
  {
   "cell_type": "code",
   "execution_count": 11,
   "metadata": {
    "scrolled": true
   },
   "outputs": [
    {
     "data": {
      "text/html": [
       "<div>\n",
       "<style scoped>\n",
       "    .dataframe tbody tr th:only-of-type {\n",
       "        vertical-align: middle;\n",
       "    }\n",
       "\n",
       "    .dataframe tbody tr th {\n",
       "        vertical-align: top;\n",
       "    }\n",
       "\n",
       "    .dataframe thead th {\n",
       "        text-align: right;\n",
       "    }\n",
       "</style>\n",
       "<table border=\"1\" class=\"dataframe\">\n",
       "  <thead>\n",
       "    <tr style=\"text-align: right;\">\n",
       "      <th></th>\n",
       "      <th>Unnamed: 0</th>\n",
       "      <th>id</th>\n",
       "      <th>amount_ethereum</th>\n",
       "      <th>amount_dollars</th>\n",
       "      <th>transaction_date</th>\n",
       "    </tr>\n",
       "  </thead>\n",
       "  <tbody>\n",
       "    <tr>\n",
       "      <td>1242</td>\n",
       "      <td>1242</td>\n",
       "      <td>9776</td>\n",
       "      <td>&lt;0.01Ξ</td>\n",
       "      <td>($&lt;0.01)</td>\n",
       "      <td>Aug 06, 2018</td>\n",
       "    </tr>\n",
       "    <tr>\n",
       "      <td>1240</td>\n",
       "      <td>1240</td>\n",
       "      <td>8789</td>\n",
       "      <td>&lt;0.01Ξ</td>\n",
       "      <td>($&lt;0.01)</td>\n",
       "      <td>Sep 20, 2020</td>\n",
       "    </tr>\n",
       "    <tr>\n",
       "      <td>1025</td>\n",
       "      <td>1025</td>\n",
       "      <td>5674</td>\n",
       "      <td>19.20Ξ</td>\n",
       "      <td>($&lt;0.01)</td>\n",
       "      <td>May 06, 2021</td>\n",
       "    </tr>\n",
       "    <tr>\n",
       "      <td>1355</td>\n",
       "      <td>1355</td>\n",
       "      <td>8871</td>\n",
       "      <td>&lt;0.01Ξ</td>\n",
       "      <td>($&lt;0.01)</td>\n",
       "      <td>Sep 17, 2020</td>\n",
       "    </tr>\n",
       "    <tr>\n",
       "      <td>610</td>\n",
       "      <td>610</td>\n",
       "      <td>7387</td>\n",
       "      <td>&lt;0.01Ξ</td>\n",
       "      <td>($&lt;0.01)</td>\n",
       "      <td>Sep 17, 2020</td>\n",
       "    </tr>\n",
       "    <tr>\n",
       "      <td>...</td>\n",
       "      <td>...</td>\n",
       "      <td>...</td>\n",
       "      <td>...</td>\n",
       "      <td>...</td>\n",
       "      <td>...</td>\n",
       "    </tr>\n",
       "    <tr>\n",
       "      <td>109</td>\n",
       "      <td>109</td>\n",
       "      <td>9085</td>\n",
       "      <td>0.00Ξ</td>\n",
       "      <td>($0.00)</td>\n",
       "      <td>Jul 18, 2021</td>\n",
       "    </tr>\n",
       "    <tr>\n",
       "      <td>961</td>\n",
       "      <td>961</td>\n",
       "      <td>9620</td>\n",
       "      <td>0.00Ξ</td>\n",
       "      <td>($0.00)</td>\n",
       "      <td>Jul 16, 2021</td>\n",
       "    </tr>\n",
       "    <tr>\n",
       "      <td>675</td>\n",
       "      <td>675</td>\n",
       "      <td>9426</td>\n",
       "      <td>0.00Ξ</td>\n",
       "      <td>($0.00)</td>\n",
       "      <td>Jul 10, 2021</td>\n",
       "    </tr>\n",
       "    <tr>\n",
       "      <td>1462</td>\n",
       "      <td>1462</td>\n",
       "      <td>9926</td>\n",
       "      <td>&lt;0.01Ξ</td>\n",
       "      <td>($0)</td>\n",
       "      <td>Jun 24, 2017</td>\n",
       "    </tr>\n",
       "    <tr>\n",
       "      <td>1270</td>\n",
       "      <td>1270</td>\n",
       "      <td>8815</td>\n",
       "      <td>&lt;0.01Ξ</td>\n",
       "      <td>($0)</td>\n",
       "      <td>Jul 10, 2017</td>\n",
       "    </tr>\n",
       "  </tbody>\n",
       "</table>\n",
       "<p>7879 rows × 5 columns</p>\n",
       "</div>"
      ],
      "text/plain": [
       "      Unnamed: 0    id amount_ethereum amount_dollars transaction_date\n",
       "1242        1242  9776          <0.01Ξ       ($<0.01)     Aug 06, 2018\n",
       "1240        1240  8789          <0.01Ξ       ($<0.01)     Sep 20, 2020\n",
       "1025        1025  5674          19.20Ξ       ($<0.01)     May 06, 2021\n",
       "1355        1355  8871          <0.01Ξ       ($<0.01)     Sep 17, 2020\n",
       "610          610  7387          <0.01Ξ       ($<0.01)     Sep 17, 2020\n",
       "...          ...   ...             ...            ...              ...\n",
       "109          109  9085           0.00Ξ        ($0.00)     Jul 18, 2021\n",
       "961          961  9620           0.00Ξ        ($0.00)     Jul 16, 2021\n",
       "675          675  9426           0.00Ξ        ($0.00)     Jul 10, 2021\n",
       "1462        1462  9926          <0.01Ξ           ($0)     Jun 24, 2017\n",
       "1270        1270  8815          <0.01Ξ           ($0)     Jul 10, 2017\n",
       "\n",
       "[7879 rows x 5 columns]"
      ]
     },
     "execution_count": 11,
     "metadata": {},
     "output_type": "execute_result"
    }
   ],
   "source": [
    "sales_df.sort_values(by='amount_dollars', ascending=False)"
   ]
  },
  {
   "cell_type": "markdown",
   "metadata": {},
   "source": [
    "There are some transactions which are being displayed under the \"million\" (M) nomenclature. They got to be converted before doing any kind of exploration."
   ]
  },
  {
   "cell_type": "code",
   "execution_count": 12,
   "metadata": {},
   "outputs": [
    {
     "data": {
      "text/html": [
       "<div>\n",
       "<style scoped>\n",
       "    .dataframe tbody tr th:only-of-type {\n",
       "        vertical-align: middle;\n",
       "    }\n",
       "\n",
       "    .dataframe tbody tr th {\n",
       "        vertical-align: top;\n",
       "    }\n",
       "\n",
       "    .dataframe thead th {\n",
       "        text-align: right;\n",
       "    }\n",
       "</style>\n",
       "<table border=\"1\" class=\"dataframe\">\n",
       "  <thead>\n",
       "    <tr style=\"text-align: right;\">\n",
       "      <th></th>\n",
       "      <th>Unnamed: 0</th>\n",
       "      <th>id</th>\n",
       "      <th>amount_ethereum</th>\n",
       "      <th>amount_dollars</th>\n",
       "      <th>transaction_date</th>\n",
       "    </tr>\n",
       "  </thead>\n",
       "  <tbody>\n",
       "    <tr>\n",
       "      <td>737</td>\n",
       "      <td>737</td>\n",
       "      <td>6487</td>\n",
       "      <td>550Ξ</td>\n",
       "      <td>($1.05M)</td>\n",
       "      <td>Feb 22, 2021</td>\n",
       "    </tr>\n",
       "    <tr>\n",
       "      <td>738</td>\n",
       "      <td>738</td>\n",
       "      <td>6487</td>\n",
       "      <td>100Ξ</td>\n",
       "      <td>($20,857)</td>\n",
       "      <td>May 24, 2020</td>\n",
       "    </tr>\n",
       "  </tbody>\n",
       "</table>\n",
       "</div>"
      ],
      "text/plain": [
       "     Unnamed: 0    id amount_ethereum amount_dollars transaction_date\n",
       "737         737  6487            550Ξ       ($1.05M)     Feb 22, 2021\n",
       "738         738  6487            100Ξ      ($20,857)     May 24, 2020"
      ]
     },
     "execution_count": 12,
     "metadata": {},
     "output_type": "execute_result"
    }
   ],
   "source": [
    "sales_df.loc[sales_df['id']==6487]"
   ]
  },
  {
   "cell_type": "markdown",
   "metadata": {},
   "source": [
    "### Dropping unnecessary column and removing unwanted characters ( \"Ξ\" & parenthesis)"
   ]
  },
  {
   "cell_type": "code",
   "execution_count": 13,
   "metadata": {},
   "outputs": [],
   "source": [
    "sales_df.drop(columns=['Unnamed: 0'], inplace=True)"
   ]
  },
  {
   "cell_type": "code",
   "execution_count": 14,
   "metadata": {},
   "outputs": [],
   "source": [
    "values_to_replace_dollars = ['$', '(', ')', ',', '<']\n",
    "values_to_replace_ethereum = ['Ξ', ',', '<']\n",
    "\n",
    "for x in values_to_replace_dollars:\n",
    "    sales_df['amount_dollars'] = sales_df['amount_dollars'].str.replace(x,'')\n",
    "    \n",
    "for x in values_to_replace_ethereum:\n",
    "    sales_df['amount_ethereum'] = sales_df['amount_ethereum'].str.replace(x,'')\n",
    "    \n"
   ]
  },
  {
   "cell_type": "code",
   "execution_count": 15,
   "metadata": {},
   "outputs": [
    {
     "data": {
      "text/html": [
       "<div>\n",
       "<style scoped>\n",
       "    .dataframe tbody tr th:only-of-type {\n",
       "        vertical-align: middle;\n",
       "    }\n",
       "\n",
       "    .dataframe tbody tr th {\n",
       "        vertical-align: top;\n",
       "    }\n",
       "\n",
       "    .dataframe thead th {\n",
       "        text-align: right;\n",
       "    }\n",
       "</style>\n",
       "<table border=\"1\" class=\"dataframe\">\n",
       "  <thead>\n",
       "    <tr style=\"text-align: right;\">\n",
       "      <th></th>\n",
       "      <th>id</th>\n",
       "      <th>amount_ethereum</th>\n",
       "      <th>amount_dollars</th>\n",
       "      <th>transaction_date</th>\n",
       "    </tr>\n",
       "  </thead>\n",
       "  <tbody>\n",
       "    <tr>\n",
       "      <td>0</td>\n",
       "      <td>5000</td>\n",
       "      <td>0.30</td>\n",
       "      <td>67</td>\n",
       "      <td>Aug 03, 2017</td>\n",
       "    </tr>\n",
       "    <tr>\n",
       "      <td>1</td>\n",
       "      <td>5001</td>\n",
       "      <td>1.20</td>\n",
       "      <td>247</td>\n",
       "      <td>Jul 29, 2017</td>\n",
       "    </tr>\n",
       "    <tr>\n",
       "      <td>2</td>\n",
       "      <td>5002</td>\n",
       "      <td>205</td>\n",
       "      <td>382579</td>\n",
       "      <td>Jul 17, 2021</td>\n",
       "    </tr>\n",
       "    <tr>\n",
       "      <td>3</td>\n",
       "      <td>5002</td>\n",
       "      <td>49</td>\n",
       "      <td>11542</td>\n",
       "      <td>Jun 01, 2020</td>\n",
       "    </tr>\n",
       "    <tr>\n",
       "      <td>4</td>\n",
       "      <td>5002</td>\n",
       "      <td>0.26</td>\n",
       "      <td>88</td>\n",
       "      <td>Oct 13, 2017</td>\n",
       "    </tr>\n",
       "    <tr>\n",
       "      <td>...</td>\n",
       "      <td>...</td>\n",
       "      <td>...</td>\n",
       "      <td>...</td>\n",
       "      <td>...</td>\n",
       "    </tr>\n",
       "    <tr>\n",
       "      <td>1534</td>\n",
       "      <td>9990</td>\n",
       "      <td>24.50</td>\n",
       "      <td>44981</td>\n",
       "      <td>Mar 20, 2021</td>\n",
       "    </tr>\n",
       "    <tr>\n",
       "      <td>1535</td>\n",
       "      <td>9997</td>\n",
       "      <td>99.99</td>\n",
       "      <td>169770</td>\n",
       "      <td>Feb 08, 2021</td>\n",
       "    </tr>\n",
       "    <tr>\n",
       "      <td>1536</td>\n",
       "      <td>9997</td>\n",
       "      <td>59</td>\n",
       "      <td>21062</td>\n",
       "      <td>Sep 27, 2020</td>\n",
       "    </tr>\n",
       "    <tr>\n",
       "      <td>1537</td>\n",
       "      <td>9998</td>\n",
       "      <td>38</td>\n",
       "      <td>61170</td>\n",
       "      <td>Mar 03, 2021</td>\n",
       "    </tr>\n",
       "    <tr>\n",
       "      <td>1538</td>\n",
       "      <td>9998</td>\n",
       "      <td>15</td>\n",
       "      <td>9499</td>\n",
       "      <td>Dec 27, 2020</td>\n",
       "    </tr>\n",
       "  </tbody>\n",
       "</table>\n",
       "<p>7879 rows × 4 columns</p>\n",
       "</div>"
      ],
      "text/plain": [
       "        id amount_ethereum amount_dollars transaction_date\n",
       "0     5000            0.30             67     Aug 03, 2017\n",
       "1     5001            1.20            247     Jul 29, 2017\n",
       "2     5002             205         382579     Jul 17, 2021\n",
       "3     5002              49          11542     Jun 01, 2020\n",
       "4     5002            0.26             88     Oct 13, 2017\n",
       "...    ...             ...            ...              ...\n",
       "1534  9990           24.50          44981     Mar 20, 2021\n",
       "1535  9997           99.99         169770     Feb 08, 2021\n",
       "1536  9997              59          21062     Sep 27, 2020\n",
       "1537  9998              38          61170     Mar 03, 2021\n",
       "1538  9998              15           9499     Dec 27, 2020\n",
       "\n",
       "[7879 rows x 4 columns]"
      ]
     },
     "execution_count": 15,
     "metadata": {},
     "output_type": "execute_result"
    }
   ],
   "source": [
    "sales_df"
   ]
  },
  {
   "cell_type": "markdown",
   "metadata": {},
   "source": [
    "### Converting Million nomenclature values to standard format"
   ]
  },
  {
   "cell_type": "code",
   "execution_count": 16,
   "metadata": {},
   "outputs": [
    {
     "name": "stdout",
     "output_type": "stream",
     "text": [
      "[150000000, 360000000, 2600000000, 3700000000]\n"
     ]
    }
   ],
   "source": [
    "multipliers = {'K':1000, 'M':1000000, 'B':1000000000}\n",
    "\n",
    "def string_to_int(string):\n",
    "    if string[-1].isdigit(): # check if no suffix\n",
    "        return float(string)\n",
    "    mult = multipliers[string[-1]] # look up suffix to get multiplier\n",
    "     # convert number to float, multiply by multiplier, then make int\n",
    "    return int(float(string[:-1]) * mult)\n",
    "\n",
    "testvals = [\"150M\", \"360M\", \"2.6B\", \"3.7B\"]\n",
    "\n",
    "print(list(map(string_to_int, testvals)))"
   ]
  },
  {
   "cell_type": "code",
   "execution_count": 17,
   "metadata": {},
   "outputs": [],
   "source": [
    "sales_df['amount_dollars'] = sales_df['amount_dollars'].map(string_to_int)"
   ]
  },
  {
   "cell_type": "code",
   "execution_count": 21,
   "metadata": {},
   "outputs": [],
   "source": [
    "sales_df['amount_ethereum'] = sales_df['amount_ethereum'].map(string_to_int)"
   ]
  },
  {
   "cell_type": "markdown",
   "metadata": {},
   "source": [
    "checking same punk_id with previous \"M\" nomenclature"
   ]
  },
  {
   "cell_type": "code",
   "execution_count": 18,
   "metadata": {},
   "outputs": [
    {
     "data": {
      "text/html": [
       "<div>\n",
       "<style scoped>\n",
       "    .dataframe tbody tr th:only-of-type {\n",
       "        vertical-align: middle;\n",
       "    }\n",
       "\n",
       "    .dataframe tbody tr th {\n",
       "        vertical-align: top;\n",
       "    }\n",
       "\n",
       "    .dataframe thead th {\n",
       "        text-align: right;\n",
       "    }\n",
       "</style>\n",
       "<table border=\"1\" class=\"dataframe\">\n",
       "  <thead>\n",
       "    <tr style=\"text-align: right;\">\n",
       "      <th></th>\n",
       "      <th>id</th>\n",
       "      <th>amount_ethereum</th>\n",
       "      <th>amount_dollars</th>\n",
       "      <th>transaction_date</th>\n",
       "    </tr>\n",
       "  </thead>\n",
       "  <tbody>\n",
       "    <tr>\n",
       "      <td>737</td>\n",
       "      <td>6487</td>\n",
       "      <td>550</td>\n",
       "      <td>1050000.0</td>\n",
       "      <td>Feb 22, 2021</td>\n",
       "    </tr>\n",
       "    <tr>\n",
       "      <td>738</td>\n",
       "      <td>6487</td>\n",
       "      <td>100</td>\n",
       "      <td>20857.0</td>\n",
       "      <td>May 24, 2020</td>\n",
       "    </tr>\n",
       "  </tbody>\n",
       "</table>\n",
       "</div>"
      ],
      "text/plain": [
       "       id amount_ethereum  amount_dollars transaction_date\n",
       "737  6487             550       1050000.0     Feb 22, 2021\n",
       "738  6487             100         20857.0     May 24, 2020"
      ]
     },
     "execution_count": 18,
     "metadata": {},
     "output_type": "execute_result"
    }
   ],
   "source": [
    "sales_df.loc[sales_df['id']==6487]"
   ]
  },
  {
   "cell_type": "markdown",
   "metadata": {},
   "source": [
    "### Define Types to work with"
   ]
  },
  {
   "cell_type": "code",
   "execution_count": 25,
   "metadata": {},
   "outputs": [],
   "source": [
    "sales_df.amount_ethereum = sales_df.amount_ethereum.astype('float')\n",
    "sales_df.amount_dollars = sales_df.amount_dollars.astype('float')\n",
    "sales_df.transaction_date = sales_df.transaction_date.astype('datetime64')"
   ]
  },
  {
   "cell_type": "code",
   "execution_count": 26,
   "metadata": {},
   "outputs": [
    {
     "name": "stdout",
     "output_type": "stream",
     "text": [
      "<class 'pandas.core.frame.DataFrame'>\n",
      "Int64Index: 7879 entries, 0 to 1538\n",
      "Data columns (total 4 columns):\n",
      "id                  7879 non-null int32\n",
      "amount_ethereum     7879 non-null float64\n",
      "amount_dollars      7879 non-null float64\n",
      "transaction_date    7879 non-null datetime64[ns]\n",
      "dtypes: datetime64[ns](1), float64(2), int32(1)\n",
      "memory usage: 277.0 KB\n"
     ]
    }
   ],
   "source": [
    "sales_df.info()"
   ]
  },
  {
   "cell_type": "code",
   "execution_count": 27,
   "metadata": {
    "scrolled": true
   },
   "outputs": [
    {
     "data": {
      "text/html": [
       "<div>\n",
       "<style scoped>\n",
       "    .dataframe tbody tr th:only-of-type {\n",
       "        vertical-align: middle;\n",
       "    }\n",
       "\n",
       "    .dataframe tbody tr th {\n",
       "        vertical-align: top;\n",
       "    }\n",
       "\n",
       "    .dataframe thead th {\n",
       "        text-align: right;\n",
       "    }\n",
       "</style>\n",
       "<table border=\"1\" class=\"dataframe\">\n",
       "  <thead>\n",
       "    <tr style=\"text-align: right;\">\n",
       "      <th></th>\n",
       "      <th>id</th>\n",
       "      <th>amount_ethereum</th>\n",
       "      <th>amount_dollars</th>\n",
       "    </tr>\n",
       "  </thead>\n",
       "  <tbody>\n",
       "    <tr>\n",
       "      <td>count</td>\n",
       "      <td>7879.000000</td>\n",
       "      <td>7879.000000</td>\n",
       "      <td>7.879000e+03</td>\n",
       "    </tr>\n",
       "    <tr>\n",
       "      <td>mean</td>\n",
       "      <td>7489.610484</td>\n",
       "      <td>13.753407</td>\n",
       "      <td>2.646613e+04</td>\n",
       "    </tr>\n",
       "    <tr>\n",
       "      <td>std</td>\n",
       "      <td>1430.529939</td>\n",
       "      <td>51.941691</td>\n",
       "      <td>9.675711e+04</td>\n",
       "    </tr>\n",
       "    <tr>\n",
       "      <td>min</td>\n",
       "      <td>5000.000000</td>\n",
       "      <td>0.000000</td>\n",
       "      <td>0.000000e+00</td>\n",
       "    </tr>\n",
       "    <tr>\n",
       "      <td>25%</td>\n",
       "      <td>6254.000000</td>\n",
       "      <td>1.000000</td>\n",
       "      <td>2.220000e+02</td>\n",
       "    </tr>\n",
       "    <tr>\n",
       "      <td>50%</td>\n",
       "      <td>7473.000000</td>\n",
       "      <td>5.600000</td>\n",
       "      <td>2.816000e+03</td>\n",
       "    </tr>\n",
       "    <tr>\n",
       "      <td>75%</td>\n",
       "      <td>8728.000000</td>\n",
       "      <td>21.000000</td>\n",
       "      <td>4.123700e+04</td>\n",
       "    </tr>\n",
       "    <tr>\n",
       "      <td>max</td>\n",
       "      <td>9998.000000</td>\n",
       "      <td>4200.000000</td>\n",
       "      <td>7.570000e+06</td>\n",
       "    </tr>\n",
       "  </tbody>\n",
       "</table>\n",
       "</div>"
      ],
      "text/plain": [
       "                id  amount_ethereum  amount_dollars\n",
       "count  7879.000000      7879.000000    7.879000e+03\n",
       "mean   7489.610484        13.753407    2.646613e+04\n",
       "std    1430.529939        51.941691    9.675711e+04\n",
       "min    5000.000000         0.000000    0.000000e+00\n",
       "25%    6254.000000         1.000000    2.220000e+02\n",
       "50%    7473.000000         5.600000    2.816000e+03\n",
       "75%    8728.000000        21.000000    4.123700e+04\n",
       "max    9998.000000      4200.000000    7.570000e+06"
      ]
     },
     "execution_count": 27,
     "metadata": {},
     "output_type": "execute_result"
    }
   ],
   "source": [
    "sales_df.describe()"
   ]
  },
  {
   "cell_type": "markdown",
   "metadata": {},
   "source": [
    "### Export .csv"
   ]
  },
  {
   "cell_type": "code",
   "execution_count": 28,
   "metadata": {},
   "outputs": [],
   "source": [
    "sales_df.to_csv('sales.csv')"
   ]
  },
  {
   "cell_type": "code",
   "execution_count": null,
   "metadata": {},
   "outputs": [],
   "source": []
  }
 ],
 "metadata": {
  "kernelspec": {
   "display_name": "Python 3",
   "language": "python",
   "name": "python3"
  },
  "language_info": {
   "codemirror_mode": {
    "name": "ipython",
    "version": 3
   },
   "file_extension": ".py",
   "mimetype": "text/x-python",
   "name": "python",
   "nbconvert_exporter": "python",
   "pygments_lexer": "ipython3",
   "version": "3.8.8"
  }
 },
 "nbformat": 4,
 "nbformat_minor": 2
}
