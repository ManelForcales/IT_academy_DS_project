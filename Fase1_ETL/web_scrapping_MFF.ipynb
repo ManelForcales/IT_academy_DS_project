{
 "cells": [
  {
   "cell_type": "code",
   "execution_count": 1,
   "metadata": {},
   "outputs": [],
   "source": [
    "import requests\n",
    "from bs4 import BeautifulSoup\n",
    "import re\n",
    "from IPython.display import Image\n",
    "import time"
   ]
  },
  {
   "cell_type": "code",
   "execution_count": 2,
   "metadata": {},
   "outputs": [],
   "source": [
    "import pandas as pd\n",
    "import numpy as np\n",
    "pd.set_option('display.max_columns', None)"
   ]
  },
  {
   "cell_type": "code",
   "execution_count": 3,
   "metadata": {},
   "outputs": [
    {
     "name": "stderr",
     "output_type": "stream",
     "text": [
      "<ipython-input-3-b56b380520ce>:6: DeprecationWarning: use setter for headless property instead of set_headless\n",
      "  opts.set_headless()\n"
     ]
    }
   ],
   "source": [
    "# Utilizamos Selenium para extraer datos\n",
    "\n",
    "from selenium.webdriver import Firefox\n",
    "from selenium.webdriver.firefox.options import Options\n",
    "opts = Options()\n",
    "opts.set_headless()\n",
    "assert opts.headless  # Operating in headless mode\n",
    "#browser = Firefox(options=opts)"
   ]
  },
  {
   "cell_type": "code",
   "execution_count": 4,
   "metadata": {},
   "outputs": [],
   "source": [
    "def extract_rarity_value(text):\n",
    "    text = text.replace(',','')\n",
    "    data = int(re.findall('(\\d+)',text)[0])\n",
    "    return data\n",
    "    "
   ]
  },
  {
   "cell_type": "code",
   "execution_count": 94,
   "metadata": {},
   "outputs": [],
   "source": [
    "types=[]\n",
    "skin=[]\n",
    "total_traits =[]\n",
    "traits =[]\n",
    "punk_id=[]\n",
    "rarity = []\n",
    "\n",
    "try:\n",
    "    for i in range(100,5000):\n",
    "        punk_id.append(i)\n",
    "        browser = Firefox(executable_path = '/home/vant/Descargas/geckodriver-v0.29.1-linux64/geckodriver')\n",
    "        url = 'https://defypunk.com/punks/'+str(i)\n",
    "        browser.get(url)\n",
    "        browser.implicitly_wait(20)\n",
    "\n",
    "        rars = browser.find_element_by_xpath('/html/body/div/div/main/div/div/div/div[1]/div[2]')\n",
    "\n",
    "        rarity.append(extract_rarity_value(rars.text))\n",
    "\n",
    "        items = browser.find_element_by_xpath('/html/body/div/div/main/div/div/div/div[1]')\n",
    "        # these are the items marked with tag a\n",
    "        values = items.find_elements_by_tag_name('a')\n",
    "\n",
    "        types.append(values[0].text)\n",
    "        skin_property =(values[1].text).split('-')\n",
    "        skin.append(skin_property[0])\n",
    "        total_traits.append(values[2].text)\n",
    "        traits.append(','.join([x.text for x in values[3:]]))\n",
    "        browser.close()\n",
    "    except Exception as err:\n",
    "        print(f'exepcion {err}')\n",
    "        df = pd.DataFrame({'id':punk_id,'types':types,'rarity':rarity,'skin':skin,'total_traits':total_traits,'traits':traits})\n",
    "        \n",
    "        "
   ]
  },
  {
   "cell_type": "code",
   "execution_count": null,
   "metadata": {},
   "outputs": [],
   "source": []
  },
  {
   "cell_type": "code",
   "execution_count": 95,
   "metadata": {},
   "outputs": [],
   "source": [
    "df = pd.DataFrame({'id':punk_id,'types':types,'rarity':rarity,'skin':skin,'total_traits':total_traits,'traits':traits})\n",
    "#df.set_index('id',inplace=True)"
   ]
  },
  {
   "cell_type": "code",
   "execution_count": 101,
   "metadata": {},
   "outputs": [
    {
     "data": {
      "text/html": [
       "<div>\n",
       "<style scoped>\n",
       "    .dataframe tbody tr th:only-of-type {\n",
       "        vertical-align: middle;\n",
       "    }\n",
       "\n",
       "    .dataframe tbody tr th {\n",
       "        vertical-align: top;\n",
       "    }\n",
       "\n",
       "    .dataframe thead th {\n",
       "        text-align: right;\n",
       "    }\n",
       "</style>\n",
       "<table border=\"1\" class=\"dataframe\">\n",
       "  <thead>\n",
       "    <tr style=\"text-align: right;\">\n",
       "      <th></th>\n",
       "      <th>id</th>\n",
       "      <th>types</th>\n",
       "      <th>rarity</th>\n",
       "      <th>skin</th>\n",
       "      <th>total_traits</th>\n",
       "      <th>traits</th>\n",
       "    </tr>\n",
       "  </thead>\n",
       "  <tbody>\n",
       "    <tr>\n",
       "      <th>0</th>\n",
       "      <td>0</td>\n",
       "      <td>Female</td>\n",
       "      <td>2023</td>\n",
       "      <td>Mid</td>\n",
       "      <td>3</td>\n",
       "      <td>Blonde Bob,Earring,Green Eye Shadow,Hidden Ear...</td>\n",
       "    </tr>\n",
       "    <tr>\n",
       "      <th>1</th>\n",
       "      <td>1</td>\n",
       "      <td>Male</td>\n",
       "      <td>4352</td>\n",
       "      <td>Dark</td>\n",
       "      <td>2</td>\n",
       "      <td>Mohawk,Smile</td>\n",
       "    </tr>\n",
       "    <tr>\n",
       "      <th>2</th>\n",
       "      <td>2</td>\n",
       "      <td>Female</td>\n",
       "      <td>8090</td>\n",
       "      <td>Light</td>\n",
       "      <td>1</td>\n",
       "      <td>Wild Hair</td>\n",
       "    </tr>\n",
       "    <tr>\n",
       "      <th>3</th>\n",
       "      <td>3</td>\n",
       "      <td>Male</td>\n",
       "      <td>7896</td>\n",
       "      <td>Dark</td>\n",
       "      <td>3</td>\n",
       "      <td>Nerd Glasses,Pipe,Wild Hair</td>\n",
       "    </tr>\n",
       "    <tr>\n",
       "      <th>4</th>\n",
       "      <td>4</td>\n",
       "      <td>Male</td>\n",
       "      <td>7332</td>\n",
       "      <td>Mid</td>\n",
       "      <td>4</td>\n",
       "      <td>Big Shades,Earring,Goat,Wild Hair</td>\n",
       "    </tr>\n",
       "  </tbody>\n",
       "</table>\n",
       "</div>"
      ],
      "text/plain": [
       "   id   types  rarity   skin total_traits  \\\n",
       "0   0  Female    2023    Mid            3   \n",
       "1   1    Male    4352   Dark            2   \n",
       "2   2  Female    8090  Light            1   \n",
       "3   3    Male    7896   Dark            3   \n",
       "4   4    Male    7332    Mid            4   \n",
       "\n",
       "                                              traits  \n",
       "0  Blonde Bob,Earring,Green Eye Shadow,Hidden Ear...  \n",
       "1                                       Mohawk,Smile  \n",
       "2                                          Wild Hair  \n",
       "3                        Nerd Glasses,Pipe,Wild Hair  \n",
       "4                  Big Shades,Earring,Goat,Wild Hair  "
      ]
     },
     "execution_count": 101,
     "metadata": {},
     "output_type": "execute_result"
    }
   ],
   "source": [
    "df.head()"
   ]
  },
  {
   "cell_type": "code",
   "execution_count": 97,
   "metadata": {},
   "outputs": [
    {
     "data": {
      "text/html": [
       "<div>\n",
       "<style scoped>\n",
       "    .dataframe tbody tr th:only-of-type {\n",
       "        vertical-align: middle;\n",
       "    }\n",
       "\n",
       "    .dataframe tbody tr th {\n",
       "        vertical-align: top;\n",
       "    }\n",
       "\n",
       "    .dataframe thead th {\n",
       "        text-align: right;\n",
       "    }\n",
       "</style>\n",
       "<table border=\"1\" class=\"dataframe\">\n",
       "  <thead>\n",
       "    <tr style=\"text-align: right;\">\n",
       "      <th></th>\n",
       "      <th>id</th>\n",
       "      <th>types</th>\n",
       "      <th>rarity</th>\n",
       "      <th>skin</th>\n",
       "      <th>total_traits</th>\n",
       "      <th>traits</th>\n",
       "    </tr>\n",
       "  </thead>\n",
       "  <tbody>\n",
       "    <tr>\n",
       "      <th>95</th>\n",
       "      <td>95</td>\n",
       "      <td>Male</td>\n",
       "      <td>9339</td>\n",
       "      <td>Mid</td>\n",
       "      <td>2</td>\n",
       "      <td>Earring,Mohawk</td>\n",
       "    </tr>\n",
       "    <tr>\n",
       "      <th>96</th>\n",
       "      <td>96</td>\n",
       "      <td>Female</td>\n",
       "      <td>2161</td>\n",
       "      <td>Light</td>\n",
       "      <td>1</td>\n",
       "      <td>Blonde Bob</td>\n",
       "    </tr>\n",
       "    <tr>\n",
       "      <th>97</th>\n",
       "      <td>97</td>\n",
       "      <td>Male</td>\n",
       "      <td>8093</td>\n",
       "      <td>Mid</td>\n",
       "      <td>1</td>\n",
       "      <td>Wild Hair</td>\n",
       "    </tr>\n",
       "    <tr>\n",
       "      <th>98</th>\n",
       "      <td>98</td>\n",
       "      <td>Female</td>\n",
       "      <td>436</td>\n",
       "      <td>Light</td>\n",
       "      <td>3</td>\n",
       "      <td>Black Lipstick,Dark Hair,Welding Goggles</td>\n",
       "    </tr>\n",
       "    <tr>\n",
       "      <th>99</th>\n",
       "      <td>99</td>\n",
       "      <td>Male</td>\n",
       "      <td>4997</td>\n",
       "      <td>Mid</td>\n",
       "      <td>2</td>\n",
       "      <td>Cigarette,Hoodie</td>\n",
       "    </tr>\n",
       "  </tbody>\n",
       "</table>\n",
       "</div>"
      ],
      "text/plain": [
       "    id   types  rarity   skin total_traits  \\\n",
       "95  95    Male    9339    Mid            2   \n",
       "96  96  Female    2161  Light            1   \n",
       "97  97    Male    8093    Mid            1   \n",
       "98  98  Female     436  Light            3   \n",
       "99  99    Male    4997    Mid            2   \n",
       "\n",
       "                                      traits  \n",
       "95                            Earring,Mohawk  \n",
       "96                                Blonde Bob  \n",
       "97                                 Wild Hair  \n",
       "98  Black Lipstick,Dark Hair,Welding Goggles  \n",
       "99                          Cigarette,Hoodie  "
      ]
     },
     "execution_count": 97,
     "metadata": {},
     "output_type": "execute_result"
    }
   ],
   "source": [
    "df.tail()"
   ]
  },
  {
   "cell_type": "code",
   "execution_count": 99,
   "metadata": {},
   "outputs": [
    {
     "data": {
      "text/plain": [
       "array(['Female', 'Male'], dtype=object)"
      ]
     },
     "execution_count": 99,
     "metadata": {},
     "output_type": "execute_result"
    }
   ],
   "source": [
    "df.types.unique()"
   ]
  },
  {
   "cell_type": "code",
   "execution_count": 100,
   "metadata": {},
   "outputs": [],
   "source": [
    "df.to_csv('punks_atributes1.csv')"
   ]
  },
  {
   "cell_type": "code",
   "execution_count": null,
   "metadata": {},
   "outputs": [],
   "source": []
  },
  {
   "cell_type": "code",
   "execution_count": null,
   "metadata": {},
   "outputs": [],
   "source": []
  },
  {
   "cell_type": "code",
   "execution_count": null,
   "metadata": {},
   "outputs": [],
   "source": []
  },
  {
   "cell_type": "code",
   "execution_count": null,
   "metadata": {},
   "outputs": [],
   "source": []
  },
  {
   "cell_type": "code",
   "execution_count": null,
   "metadata": {},
   "outputs": [],
   "source": []
  },
  {
   "cell_type": "code",
   "execution_count": null,
   "metadata": {},
   "outputs": [],
   "source": []
  },
  {
   "cell_type": "code",
   "execution_count": null,
   "metadata": {},
   "outputs": [],
   "source": [
    "  \n",
    "    # seleccionamos dentro de la Current Market Status la diferente info\n",
    "    query_text = '/html/body/div[2]/div[3]/div[3]/div//div/text()'\n",
    "    texts = sel.xpath(query_text).extract()\n",
    "    texts = [text.strip() for text in texts] # remove spaces at the beggining and the end\n",
    "    texts = [text for text in texts if len(text)>2] # remove useless empty text\n",
    "    \n",
    "    if 'for sale' in texts[1]:        \n",
    "        text = texts[1].replace(',','')        \n",
    "        pattern = \"[0-9].*\\Ξ\\s\\(\\$[0-9]*\\)\"\n",
    "        x = re.findall(pattern, text)                  \n",
    "        datos['sale price']= x\n",
    "    else:\n",
    "        datos['transacion type']= None\n",
    "   \n",
    "    if 'a bid of' in texts[2]:\n",
    "        text = texts[2].replace(',','')\n",
    "        print(text)\n",
    "        pattern = \"[0-9].*\\Ξ\\s\\(\\$[0-9]*\\)\"\n",
    "        x = re.findall(pattern, text)                 \n",
    "        datos['bid price']= x[0]\n",
    "    else:\n",
    "        datos['bid price']= None\n",
    "        \n",
    "    print(datos)"
   ]
  },
  {
   "cell_type": "code",
   "execution_count": null,
   "metadata": {},
   "outputs": [],
   "source": []
  },
  {
   "cell_type": "code",
   "execution_count": null,
   "metadata": {},
   "outputs": [],
   "source": []
  },
  {
   "cell_type": "code",
   "execution_count": null,
   "metadata": {},
   "outputs": [],
   "source": []
  }
 ],
 "metadata": {
  "kernelspec": {
   "display_name": "Python 3",
   "language": "python",
   "name": "python3"
  },
  "language_info": {
   "codemirror_mode": {
    "name": "ipython",
    "version": 3
   },
   "file_extension": ".py",
   "mimetype": "text/x-python",
   "name": "python",
   "nbconvert_exporter": "python",
   "pygments_lexer": "ipython3",
   "version": "3.8.8"
  }
 },
 "nbformat": 4,
 "nbformat_minor": 4
}
