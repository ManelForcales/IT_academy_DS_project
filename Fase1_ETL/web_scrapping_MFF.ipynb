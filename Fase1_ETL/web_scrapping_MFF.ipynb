{
 "cells": [
  {
   "cell_type": "code",
   "execution_count": 1,
   "metadata": {},
   "outputs": [],
   "source": [
    "import requests\n",
    "from bs4 import BeautifulSoup\n",
    "import re\n",
    "from IPython.display import Image\n",
    "import time"
   ]
  },
  {
   "cell_type": "code",
   "execution_count": 2,
   "metadata": {},
   "outputs": [],
   "source": [
    "import pandas as pd\n",
    "import numpy as np\n",
    "pd.set_option('display.max_columns', None)"
   ]
  },
  {
   "cell_type": "code",
   "execution_count": 3,
   "metadata": {},
   "outputs": [
    {
     "name": "stderr",
     "output_type": "stream",
     "text": [
      "<ipython-input-3-b56b380520ce>:6: DeprecationWarning: use setter for headless property instead of set_headless\n",
      "  opts.set_headless()\n"
     ]
    }
   ],
   "source": [
    "# Utilizamos Selenium para extraer datos\n",
    "\n",
    "from selenium.webdriver import Firefox\n",
    "from selenium.webdriver.firefox.options import Options\n",
    "opts = Options()\n",
    "opts.set_headless()\n",
    "assert opts.headless  # Operating in headless mode\n",
    "#browser = Firefox(options=opts)"
   ]
  },
  {
   "cell_type": "code",
   "execution_count": 4,
   "metadata": {},
   "outputs": [],
   "source": [
    "def extract_rarity_value(text):\n",
    "    text = text.replace(',','')\n",
    "    data = int(re.findall('(\\d+)',text)[0])\n",
    "    return data\n",
    "    "
   ]
  },
  {
   "cell_type": "code",
   "execution_count": 7,
   "metadata": {},
   "outputs": [],
   "source": [
    "types=[]\n",
    "skin=[]\n",
    "total_traits =[]\n",
    "traits =[]\n",
    "punk_id=[]\n",
    "rarity = []\n",
    "\n",
    "try:\n",
    "    for i in range(2000,2000):\n",
    "        punk_id.append(i)\n",
    "        browser = Firefox(executable_path = '/home/vant/Descargas/geckodriver-v0.29.1-linux64/geckodriver')\n",
    "        url = 'https://defypunk.com/punks/'+str(i)\n",
    "        browser.get(url)\n",
    "        browser.implicitly_wait(20)\n",
    "\n",
    "        rars = browser.find_element_by_xpath('/html/body/div/div/main/div/div/div/div[1]/div[2]')\n",
    "\n",
    "        rarity.append(extract_rarity_value(rars.text))\n",
    "\n",
    "        items = browser.find_element_by_xpath('/html/body/div/div/main/div/div/div/div[1]')\n",
    "        # these are the items marked with tag a\n",
    "        values = items.find_elements_by_tag_name('a')\n",
    "\n",
    "        types.append(values[0].text)\n",
    "        skin_property =(values[1].text).split('-')\n",
    "        skin.append(skin_property[0])\n",
    "        total_traits.append(values[2].text)\n",
    "        traits.append(','.join([x.text for x in values[3:]]))\n",
    "        browser.close()\n",
    "except Exception as err:\n",
    "    print(f'exepcion {err}')\n",
    "    df = pd.DataFrame({'id':punk_id,'types':types,'rarity':rarity,'skin':skin,'total_traits':total_traits,'traits':traits})\n"
   ]
  },
  {
   "cell_type": "code",
   "execution_count": null,
   "metadata": {},
   "outputs": [],
   "source": []
  },
  {
   "cell_type": "code",
   "execution_count": 9,
   "metadata": {},
   "outputs": [],
   "source": [
    "df = pd.DataFrame({'id':punk_id,'types':types,'rarity':rarity,'skin':skin,'total_traits':total_traits,'traits':traits})\n",
    "#df.set_index('id',inplace=True)"
   ]
  },
  {
   "cell_type": "code",
   "execution_count": 10,
   "metadata": {},
   "outputs": [
    {
     "data": {
      "text/html": [
       "<div>\n",
       "<style scoped>\n",
       "    .dataframe tbody tr th:only-of-type {\n",
       "        vertical-align: middle;\n",
       "    }\n",
       "\n",
       "    .dataframe tbody tr th {\n",
       "        vertical-align: top;\n",
       "    }\n",
       "\n",
       "    .dataframe thead th {\n",
       "        text-align: right;\n",
       "    }\n",
       "</style>\n",
       "<table border=\"1\" class=\"dataframe\">\n",
       "  <thead>\n",
       "    <tr style=\"text-align: right;\">\n",
       "      <th></th>\n",
       "      <th>id</th>\n",
       "      <th>types</th>\n",
       "      <th>rarity</th>\n",
       "      <th>skin</th>\n",
       "      <th>total_traits</th>\n",
       "      <th>traits</th>\n",
       "    </tr>\n",
       "  </thead>\n",
       "  <tbody>\n",
       "    <tr>\n",
       "      <th>0</th>\n",
       "      <td>100</td>\n",
       "      <td>Female</td>\n",
       "      <td>3658</td>\n",
       "      <td>Mid</td>\n",
       "      <td>1</td>\n",
       "      <td>Tassle Hat</td>\n",
       "    </tr>\n",
       "    <tr>\n",
       "      <th>1</th>\n",
       "      <td>101</td>\n",
       "      <td>Male</td>\n",
       "      <td>4069</td>\n",
       "      <td>Mid</td>\n",
       "      <td>2</td>\n",
       "      <td>Nerd Glasses,Police Cap</td>\n",
       "    </tr>\n",
       "    <tr>\n",
       "      <th>2</th>\n",
       "      <td>102</td>\n",
       "      <td>Male</td>\n",
       "      <td>2078</td>\n",
       "      <td>Mid</td>\n",
       "      <td>2</td>\n",
       "      <td>Luxurious Beard,Vampire Hair</td>\n",
       "    </tr>\n",
       "    <tr>\n",
       "      <th>3</th>\n",
       "      <td>103</td>\n",
       "      <td>Female</td>\n",
       "      <td>2005</td>\n",
       "      <td>Dark</td>\n",
       "      <td>3</td>\n",
       "      <td>Black Lipstick,Blonde Bob,Green Eye Shadow</td>\n",
       "    </tr>\n",
       "    <tr>\n",
       "      <th>4</th>\n",
       "      <td>104</td>\n",
       "      <td>Male</td>\n",
       "      <td>6805</td>\n",
       "      <td>Dark</td>\n",
       "      <td>4</td>\n",
       "      <td>Crazy Hair,Earring,Eye Patch,Normal Beard Black</td>\n",
       "    </tr>\n",
       "  </tbody>\n",
       "</table>\n",
       "</div>"
      ],
      "text/plain": [
       "    id   types  rarity  skin total_traits  \\\n",
       "0  100  Female    3658   Mid            1   \n",
       "1  101    Male    4069   Mid            2   \n",
       "2  102    Male    2078   Mid            2   \n",
       "3  103  Female    2005  Dark            3   \n",
       "4  104    Male    6805  Dark            4   \n",
       "\n",
       "                                            traits  \n",
       "0                                       Tassle Hat  \n",
       "1                          Nerd Glasses,Police Cap  \n",
       "2                     Luxurious Beard,Vampire Hair  \n",
       "3       Black Lipstick,Blonde Bob,Green Eye Shadow  \n",
       "4  Crazy Hair,Earring,Eye Patch,Normal Beard Black  "
      ]
     },
     "execution_count": 10,
     "metadata": {},
     "output_type": "execute_result"
    }
   ],
   "source": [
    "df.head()"
   ]
  },
  {
   "cell_type": "code",
   "execution_count": 11,
   "metadata": {},
   "outputs": [
    {
     "data": {
      "text/html": [
       "<div>\n",
       "<style scoped>\n",
       "    .dataframe tbody tr th:only-of-type {\n",
       "        vertical-align: middle;\n",
       "    }\n",
       "\n",
       "    .dataframe tbody tr th {\n",
       "        vertical-align: top;\n",
       "    }\n",
       "\n",
       "    .dataframe thead th {\n",
       "        text-align: right;\n",
       "    }\n",
       "</style>\n",
       "<table border=\"1\" class=\"dataframe\">\n",
       "  <thead>\n",
       "    <tr style=\"text-align: right;\">\n",
       "      <th></th>\n",
       "      <th>id</th>\n",
       "      <th>types</th>\n",
       "      <th>rarity</th>\n",
       "      <th>skin</th>\n",
       "      <th>total_traits</th>\n",
       "      <th>traits</th>\n",
       "    </tr>\n",
       "  </thead>\n",
       "  <tbody>\n",
       "    <tr>\n",
       "      <th>1895</th>\n",
       "      <td>1995</td>\n",
       "      <td>Male</td>\n",
       "      <td>5995</td>\n",
       "      <td>Dark</td>\n",
       "      <td>3</td>\n",
       "      <td>Cap,Front Beard,Mole</td>\n",
       "    </tr>\n",
       "    <tr>\n",
       "      <th>1896</th>\n",
       "      <td>1996</td>\n",
       "      <td>Female</td>\n",
       "      <td>3020</td>\n",
       "      <td>Mid</td>\n",
       "      <td>2</td>\n",
       "      <td>Dark Hair,Pipe</td>\n",
       "    </tr>\n",
       "    <tr>\n",
       "      <th>1897</th>\n",
       "      <td>1997</td>\n",
       "      <td>Male</td>\n",
       "      <td>4187</td>\n",
       "      <td>Mid</td>\n",
       "      <td>3</td>\n",
       "      <td>Cigarette,Clown Nose,Frumpy Hair</td>\n",
       "    </tr>\n",
       "    <tr>\n",
       "      <th>1898</th>\n",
       "      <td>1998</td>\n",
       "      <td>Male</td>\n",
       "      <td>7540</td>\n",
       "      <td>Dark</td>\n",
       "      <td>3</td>\n",
       "      <td>Big Shades,Earring,Shaved Head</td>\n",
       "    </tr>\n",
       "    <tr>\n",
       "      <th>1899</th>\n",
       "      <td>1999</td>\n",
       "      <td>Male</td>\n",
       "      <td>1376</td>\n",
       "      <td>Dark</td>\n",
       "      <td>2</td>\n",
       "      <td>Cowboy Hat,Front Beard</td>\n",
       "    </tr>\n",
       "  </tbody>\n",
       "</table>\n",
       "</div>"
      ],
      "text/plain": [
       "        id   types  rarity  skin total_traits  \\\n",
       "1895  1995    Male    5995  Dark            3   \n",
       "1896  1996  Female    3020   Mid            2   \n",
       "1897  1997    Male    4187   Mid            3   \n",
       "1898  1998    Male    7540  Dark            3   \n",
       "1899  1999    Male    1376  Dark            2   \n",
       "\n",
       "                                traits  \n",
       "1895              Cap,Front Beard,Mole  \n",
       "1896                    Dark Hair,Pipe  \n",
       "1897  Cigarette,Clown Nose,Frumpy Hair  \n",
       "1898    Big Shades,Earring,Shaved Head  \n",
       "1899            Cowboy Hat,Front Beard  "
      ]
     },
     "execution_count": 11,
     "metadata": {},
     "output_type": "execute_result"
    }
   ],
   "source": [
    "df.tail()"
   ]
  },
  {
   "cell_type": "code",
   "execution_count": 14,
   "metadata": {},
   "outputs": [
    {
     "data": {
      "text/plain": [
       "RangeIndex(start=0, stop=1900, step=1)"
      ]
     },
     "execution_count": 14,
     "metadata": {},
     "output_type": "execute_result"
    }
   ],
   "source": [
    "df.index"
   ]
  },
  {
   "cell_type": "code",
   "execution_count": 15,
   "metadata": {},
   "outputs": [],
   "source": [
    "df.to_csv('punks_atributes2.csv')"
   ]
  },
  {
   "cell_type": "code",
   "execution_count": null,
   "metadata": {},
   "outputs": [],
   "source": []
  },
  {
   "cell_type": "code",
   "execution_count": null,
   "metadata": {},
   "outputs": [],
   "source": []
  },
  {
   "cell_type": "code",
   "execution_count": null,
   "metadata": {},
   "outputs": [],
   "source": []
  },
  {
   "cell_type": "code",
   "execution_count": null,
   "metadata": {},
   "outputs": [],
   "source": []
  },
  {
   "cell_type": "code",
   "execution_count": null,
   "metadata": {},
   "outputs": [],
   "source": []
  },
  {
   "cell_type": "code",
   "execution_count": null,
   "metadata": {},
   "outputs": [],
   "source": []
  },
  {
   "cell_type": "code",
   "execution_count": null,
   "metadata": {},
   "outputs": [],
   "source": [
    "  \n",
    "    # seleccionamos dentro de la Current Market Status la diferente info\n",
    "    query_text = '/html/body/div[2]/div[3]/div[3]/div//div/text()'\n",
    "    texts = sel.xpath(query_text).extract()\n",
    "    texts = [text.strip() for text in texts] # remove spaces at the beggining and the end\n",
    "    texts = [text for text in texts if len(text)>2] # remove useless empty text\n",
    "    \n",
    "    if 'for sale' in texts[1]:        \n",
    "        text = texts[1].replace(',','')        \n",
    "        pattern = \"[0-9].*\\Ξ\\s\\(\\$[0-9]*\\)\"\n",
    "        x = re.findall(pattern, text)                  \n",
    "        datos['sale price']= x\n",
    "    else:\n",
    "        datos['transacion type']= None\n",
    "   \n",
    "    if 'a bid of' in texts[2]:\n",
    "        text = texts[2].replace(',','')\n",
    "        print(text)\n",
    "        pattern = \"[0-9].*\\Ξ\\s\\(\\$[0-9]*\\)\"\n",
    "        x = re.findall(pattern, text)                 \n",
    "        datos['bid price']= x[0]\n",
    "    else:\n",
    "        datos['bid price']= None\n",
    "        \n",
    "    print(datos)"
   ]
  },
  {
   "cell_type": "code",
   "execution_count": null,
   "metadata": {},
   "outputs": [],
   "source": []
  },
  {
   "cell_type": "code",
   "execution_count": null,
   "metadata": {},
   "outputs": [],
   "source": []
  },
  {
   "cell_type": "code",
   "execution_count": null,
   "metadata": {},
   "outputs": [],
   "source": []
  }
 ],
 "metadata": {
  "kernelspec": {
   "display_name": "Python 3",
   "language": "python",
   "name": "python3"
  },
  "language_info": {
   "codemirror_mode": {
    "name": "ipython",
    "version": 3
   },
   "file_extension": ".py",
   "mimetype": "text/x-python",
   "name": "python",
   "nbconvert_exporter": "python",
   "pygments_lexer": "ipython3",
   "version": "3.8.8"
  }
 },
 "nbformat": 4,
 "nbformat_minor": 4
}
