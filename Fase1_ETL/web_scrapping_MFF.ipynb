{
 "cells": [
  {
   "cell_type": "code",
   "execution_count": 48,
   "metadata": {},
   "outputs": [],
   "source": [
    "import requests\n",
    "from bs4 import BeautifulSoup\n",
    "import re\n",
    "from IPython.display import Image\n",
    "import time"
   ]
  },
  {
   "cell_type": "code",
   "execution_count": 49,
   "metadata": {},
   "outputs": [],
   "source": [
    "import pandas as pd\n",
    "import numpy as np\n",
    "pd.set_option('display.max_columns', None)"
   ]
  },
  {
   "cell_type": "code",
   "execution_count": 50,
   "metadata": {},
   "outputs": [],
   "source": [
    "from scrapy import Selector"
   ]
  },
  {
   "cell_type": "code",
   "execution_count": 53,
   "metadata": {},
   "outputs": [],
   "source": [
    "directory ='https://www.larvalabs.com/cryptopunks/details/'"
   ]
  },
  {
   "cell_type": "code",
   "execution_count": 67,
   "metadata": {},
   "outputs": [],
   "source": [
    "def extract_data(selector,query):\n",
    "    value = selector.xpath(query).extract()\n",
    "    return value\n",
    "    "
   ]
  },
  {
   "cell_type": "code",
   "execution_count": 75,
   "metadata": {},
   "outputs": [
    {
     "name": "stdout",
     "output_type": "stream",
     "text": [
      "0\n",
      "['Green Eye Shadow', 'Earring', 'Blonde Bob']\n",
      "1\n",
      "['Smile', 'Mohawk']\n"
     ]
    }
   ],
   "source": [
    "id_punk =[]\n",
    "tipo =[]\n",
    "traits =[]\n",
    "number_traits = []\n",
    "\n",
    "for i in range(2):\n",
    "    print(i)\n",
    "    id_punk.append(i)\n",
    "    url = directory+str(i)    \n",
    "    # leemos la pagina web i guardamos el contenido HTML    \n",
    "    html = requests.get(url).content    \n",
    "    # parseamos el contenido HTML con la libreria Selector de scapy\n",
    "    sel = Selector(text = html)\n",
    "    # seleccionamos type\n",
    "    query = '//div/h4/a/text()'\n",
    "    value = extract_data(sel,query)[0]    \n",
    "    tipo.append(value)\n",
    "    # seleccionamos traits\n",
    "    query='/html/body/div[2]/div[3]/div[2]/div/div/div/a/text()'\n",
    "    value = extract_data(sel,query)\n",
    "    number_traits.append(len(value))\n",
    "    traits.append(','.join(value))\n",
    "    "
   ]
  },
  {
   "cell_type": "code",
   "execution_count": 76,
   "metadata": {},
   "outputs": [
    {
     "data": {
      "text/html": [
       "<div>\n",
       "<style scoped>\n",
       "    .dataframe tbody tr th:only-of-type {\n",
       "        vertical-align: middle;\n",
       "    }\n",
       "\n",
       "    .dataframe tbody tr th {\n",
       "        vertical-align: top;\n",
       "    }\n",
       "\n",
       "    .dataframe thead th {\n",
       "        text-align: right;\n",
       "    }\n",
       "</style>\n",
       "<table border=\"1\" class=\"dataframe\">\n",
       "  <thead>\n",
       "    <tr style=\"text-align: right;\">\n",
       "      <th></th>\n",
       "      <th>id</th>\n",
       "      <th>type</th>\n",
       "      <th>number_traits</th>\n",
       "      <th>traits</th>\n",
       "    </tr>\n",
       "  </thead>\n",
       "  <tbody>\n",
       "    <tr>\n",
       "      <th>0</th>\n",
       "      <td>0</td>\n",
       "      <td>Female</td>\n",
       "      <td>3</td>\n",
       "      <td>Green Eye Shadow,Earring,Blonde Bob</td>\n",
       "    </tr>\n",
       "    <tr>\n",
       "      <th>1</th>\n",
       "      <td>1</td>\n",
       "      <td>Male</td>\n",
       "      <td>2</td>\n",
       "      <td>Smile,Mohawk</td>\n",
       "    </tr>\n",
       "  </tbody>\n",
       "</table>\n",
       "</div>"
      ],
      "text/plain": [
       "   id    type  number_traits                               traits\n",
       "0   0  Female              3  Green Eye Shadow,Earring,Blonde Bob\n",
       "1   1    Male              2                         Smile,Mohawk"
      ]
     },
     "execution_count": 76,
     "metadata": {},
     "output_type": "execute_result"
    }
   ],
   "source": [
    "results = {'id':id_punk,'type':tipo,'number_traits':number_traits,'traits':traits}\n",
    "pd.DataFrame(results)"
   ]
  },
  {
   "cell_type": "code",
   "execution_count": null,
   "metadata": {},
   "outputs": [],
   "source": [
    "  \n",
    "    # seleccionamos dentro de la Current Market Status la diferente info\n",
    "    query_text = '/html/body/div[2]/div[3]/div[3]/div//div/text()'\n",
    "    texts = sel.xpath(query_text).extract()\n",
    "    texts = [text.strip() for text in texts] # remove spaces at the beggining and the end\n",
    "    texts = [text for text in texts if len(text)>2] # remove useless empty text\n",
    "    \n",
    "    if 'for sale' in texts[1]:        \n",
    "        text = texts[1].replace(',','')        \n",
    "        pattern = \"[0-9].*\\Ξ\\s\\(\\$[0-9]*\\)\"\n",
    "        x = re.findall(pattern, text)                  \n",
    "        datos['sale price']= x\n",
    "    else:\n",
    "        datos['sale price']= None\n",
    "   \n",
    "    if 'a bid of' in texts[2]:\n",
    "        text = texts[2].replace(',','')\n",
    "        print(text)\n",
    "        pattern = \"[0-9].*\\Ξ\\s\\(\\$[0-9]*\\)\"\n",
    "        x = re.findall(pattern, text)                 \n",
    "        datos['bid price']= x[0]\n",
    "    else:\n",
    "        datos['bid price']= None\n",
    "        \n",
    "    print(datos)"
   ]
  },
  {
   "cell_type": "code",
   "execution_count": null,
   "metadata": {},
   "outputs": [],
   "source": []
  },
  {
   "cell_type": "code",
   "execution_count": null,
   "metadata": {},
   "outputs": [],
   "source": []
  },
  {
   "cell_type": "code",
   "execution_count": null,
   "metadata": {},
   "outputs": [],
   "source": []
  }
 ],
 "metadata": {
  "kernelspec": {
   "display_name": "Python 3",
   "language": "python",
   "name": "python3"
  },
  "language_info": {
   "codemirror_mode": {
    "name": "ipython",
    "version": 3
   },
   "file_extension": ".py",
   "mimetype": "text/x-python",
   "name": "python",
   "nbconvert_exporter": "python",
   "pygments_lexer": "ipython3",
   "version": "3.8.8"
  }
 },
 "nbformat": 4,
 "nbformat_minor": 4
}
