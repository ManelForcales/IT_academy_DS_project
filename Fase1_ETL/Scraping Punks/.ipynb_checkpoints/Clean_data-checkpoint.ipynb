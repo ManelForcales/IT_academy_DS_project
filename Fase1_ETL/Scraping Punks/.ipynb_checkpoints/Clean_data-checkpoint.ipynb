{
 "cells": [
  {
   "cell_type": "code",
   "execution_count": 15,
   "metadata": {},
   "outputs": [],
   "source": [
    "import pandas as pd\n",
    "import numpy as np\n",
    "import re"
   ]
  },
  {
   "cell_type": "code",
   "execution_count": null,
   "metadata": {},
   "outputs": [],
   "source": [
    "# upload all files\n",
    "df1 = pd.read_csv('punks_atributes1.csv')\n",
    "df2 = pd.read_csv('punks_atributes2.csv')\n",
    "df3 = pd.read_csv('punks_atributes3.csv')\n",
    "df4 = pd.read_csv('punks_atributes4.csv')\n",
    "df5 = pd.read_csv('punks_atributes5.csv')"
   ]
  },
  {
   "cell_type": "code",
   "execution_count": null,
   "metadata": {},
   "outputs": [],
   "source": [
    "# merge into a single csv\n",
    "df = pd.concat([df1,df2,df3,df4,df5],ignore_index=False)\n",
    "df.drop('Unnamed: 0',axis=1,inplace=True)"
   ]
  },
  {
   "cell_type": "code",
   "execution_count": null,
   "metadata": {},
   "outputs": [],
   "source": [
    "# tenemos 10,000 punks\n",
    "df.shape"
   ]
  },
  {
   "cell_type": "code",
   "execution_count": null,
   "metadata": {},
   "outputs": [],
   "source": [
    "df.head(10)"
   ]
  },
  {
   "cell_type": "code",
   "execution_count": null,
   "metadata": {},
   "outputs": [],
   "source": [
    "df.tail()"
   ]
  },
  {
   "cell_type": "code",
   "execution_count": null,
   "metadata": {},
   "outputs": [],
   "source": [
    "df.info()"
   ]
  },
  {
   "cell_type": "code",
   "execution_count": null,
   "metadata": {},
   "outputs": [],
   "source": [
    "# some missing values\n",
    "df[df.traits.isnull()]"
   ]
  },
  {
   "cell_type": "code",
   "execution_count": null,
   "metadata": {},
   "outputs": [],
   "source": [
    "df.fillna('',inplace=True)"
   ]
  },
  {
   "cell_type": "code",
   "execution_count": null,
   "metadata": {},
   "outputs": [],
   "source": [
    "df1 = df.copy()"
   ]
  },
  {
   "cell_type": "code",
   "execution_count": null,
   "metadata": {},
   "outputs": [],
   "source": [
    "def get_number_hidden_traits(text):\n",
    "    pattern = ',Hidden\\s(\\w+)'\n",
    "    try:\n",
    "        hidden = re.findall(pattern,text)\n",
    "        return len(hidden)    \n",
    "    except:\n",
    "        return 0"
   ]
  },
  {
   "cell_type": "code",
   "execution_count": null,
   "metadata": {},
   "outputs": [],
   "source": [
    "#examples of regex\n",
    "text1 = 'Blonde Bob,Earring,Green Eye Shadow,Hidden Earring,,Hidden Eear'\n",
    "text2 = 'Blonde Bob,Earring,Green Eye Shadow'\n",
    "text3= 'Earring,Hidden bob'\n",
    "\n",
    "def extract_hidden_traits(text):\n",
    "    match = re.findall(',Hidden\\s(\\w+)',text)\n",
    "    if not match:\n",
    "        #print(\"List is empty\")\n",
    "        return '' \n",
    "    else:\n",
    "        return ','.join(match)\n",
    "\n",
    "\n",
    "extract_hidden_traits(text3)"
   ]
  },
  {
   "cell_type": "code",
   "execution_count": null,
   "metadata": {},
   "outputs": [],
   "source": [
    "df1['total_hidden_traits']=df1['traits'].apply(get_number_hidden_traits)"
   ]
  },
  {
   "cell_type": "code",
   "execution_count": null,
   "metadata": {},
   "outputs": [],
   "source": [
    "df1['hidden_traits']=df1['traits'].apply(extract_hidden_traits)"
   ]
  },
  {
   "cell_type": "code",
   "execution_count": null,
   "metadata": {},
   "outputs": [],
   "source": [
    "text1 = 'Blonde Bob,Earring,Green Eye Shadow,Hidden Earring,Hidden Eear'\n",
    "\n",
    "def remove_hidden_traits(text):\n",
    "    match = re.findall(',Hidden\\s(\\w+)',text)    \n",
    "    if not match:\n",
    "        #print(\"List is empty\")\n",
    "        return text \n",
    "    else:\n",
    "        to_remove= ',Hidden '+',Hidden '.join(match)        \n",
    "        clean = text.replace(to_remove,'')        \n",
    "        return clean\n",
    "\n",
    "\n",
    "remove_hidden_traits(text1)\n",
    "    "
   ]
  },
  {
   "cell_type": "code",
   "execution_count": null,
   "metadata": {},
   "outputs": [],
   "source": [
    "df1['traits'] = df1['traits'].apply(remove_hidden_traits)"
   ]
  },
  {
   "cell_type": "code",
   "execution_count": null,
   "metadata": {},
   "outputs": [],
   "source": [
    "df1.traits.head()"
   ]
  },
  {
   "cell_type": "code",
   "execution_count": null,
   "metadata": {},
   "outputs": [],
   "source": [
    "df1"
   ]
  },
  {
   "cell_type": "code",
   "execution_count": null,
   "metadata": {},
   "outputs": [],
   "source": [
    "df1.to_csv('raw_punks.csv')"
   ]
  },
  {
   "cell_type": "code",
   "execution_count": null,
   "metadata": {},
   "outputs": [],
   "source": [
    "#get traits \n",
    "traits ={}\n",
    "for items in df1.traits.str.split(','):\n",
    "    for elem in items:        \n",
    "        if len(elem) ==0:\n",
    "            #print(type(elem))\n",
    "            continue            \n",
    "        if elem in traits:\n",
    "            #print('exists, add one')\n",
    "            traits[elem] += 1\n",
    "        else:\n",
    "            #print('not exist, create set to one ')\n",
    "            traits[elem] = 1\n",
    "    "
   ]
  },
  {
   "cell_type": "code",
   "execution_count": null,
   "metadata": {},
   "outputs": [],
   "source": [
    "df_traits = pd.DataFrame(list(traits.items()),columns = ['trait','occurences']) \n",
    "df_traits.drop('occurences',axis=1,inplace=True)"
   ]
  },
  {
   "cell_type": "code",
   "execution_count": null,
   "metadata": {},
   "outputs": [],
   "source": [
    "df_traits.to_csv('.././to_database/trait.csv')"
   ]
  },
  {
   "cell_type": "code",
   "execution_count": null,
   "metadata": {},
   "outputs": [],
   "source": [
    "hidden_trait = []\n",
    "for row in df1.hidden_traits.str.split(','):\n",
    "    for elem in row:\n",
    "        if len(elem) ==0:\n",
    "            continue\n",
    "        else: \n",
    "            hidden_trait.append(elem)\n"
   ]
  },
  {
   "cell_type": "code",
   "execution_count": null,
   "metadata": {},
   "outputs": [],
   "source": [
    "hidden_trait= list(set(hidden_trait))"
   ]
  },
  {
   "cell_type": "code",
   "execution_count": null,
   "metadata": {},
   "outputs": [],
   "source": [
    "df_hidden_trait = pd.DataFrame(hidden_trait,columns=['name'])"
   ]
  },
  {
   "cell_type": "code",
   "execution_count": null,
   "metadata": {},
   "outputs": [],
   "source": [
    "df_hidden_trait.to_csv(r'.././to_database/hidden_trait.csv',index=True)"
   ]
  },
  {
   "cell_type": "code",
   "execution_count": null,
   "metadata": {},
   "outputs": [],
   "source": []
  },
  {
   "cell_type": "code",
   "execution_count": null,
   "metadata": {},
   "outputs": [],
   "source": [
    "df2=df1.copy()"
   ]
  },
  {
   "cell_type": "code",
   "execution_count": null,
   "metadata": {},
   "outputs": [],
   "source": [
    "df2.head()"
   ]
  },
  {
   "cell_type": "code",
   "execution_count": null,
   "metadata": {},
   "outputs": [],
   "source": []
  },
  {
   "cell_type": "code",
   "execution_count": null,
   "metadata": {},
   "outputs": [],
   "source": [
    "tipos = {'Alien':1,'Ape':2,'Zombie':3,'Male':4,'Female':5}"
   ]
  },
  {
   "cell_type": "code",
   "execution_count": null,
   "metadata": {},
   "outputs": [],
   "source": [
    "df2['type_id']= df2['types'].map(tipos)"
   ]
  },
  {
   "cell_type": "code",
   "execution_count": null,
   "metadata": {},
   "outputs": [],
   "source": [
    "piel = {'Alien':1,'Ape':2,'Zombie':3,'Albino':4,'Dark':5,'Light':6,'Mid':7}"
   ]
  },
  {
   "cell_type": "code",
   "execution_count": null,
   "metadata": {},
   "outputs": [],
   "source": [
    "df2['skin_id']= df2['skin'].map(piel)"
   ]
  },
  {
   "cell_type": "code",
   "execution_count": null,
   "metadata": {},
   "outputs": [],
   "source": [
    "df2.head()"
   ]
  },
  {
   "cell_type": "code",
   "execution_count": null,
   "metadata": {},
   "outputs": [],
   "source": [
    "df2.tail()"
   ]
  },
  {
   "cell_type": "code",
   "execution_count": null,
   "metadata": {},
   "outputs": [],
   "source": [
    "df2.set_index('id',inplace=True)"
   ]
  },
  {
   "cell_type": "code",
   "execution_count": null,
   "metadata": {},
   "outputs": [],
   "source": [
    "df2"
   ]
  },
  {
   "cell_type": "code",
   "execution_count": null,
   "metadata": {},
   "outputs": [],
   "source": [
    "df2[['type_id','rarity','skin_id','total_traits','total_hidden_traits']].to_csv(r'.././to_database/punk.csv',index=True)"
   ]
  },
  {
   "cell_type": "code",
   "execution_count": null,
   "metadata": {},
   "outputs": [],
   "source": []
  },
  {
   "cell_type": "code",
   "execution_count": null,
   "metadata": {},
   "outputs": [],
   "source": [
    "df2"
   ]
  },
  {
   "cell_type": "code",
   "execution_count": null,
   "metadata": {},
   "outputs": [],
   "source": []
  },
  {
   "cell_type": "code",
   "execution_count": null,
   "metadata": {},
   "outputs": [],
   "source": [
    "df_trait = pd.read_csv('.././to_database/trait.csv')"
   ]
  },
  {
   "cell_type": "code",
   "execution_count": null,
   "metadata": {},
   "outputs": [],
   "source": [
    "df_trait.set_index('id',inplace=True)"
   ]
  },
  {
   "cell_type": "code",
   "execution_count": null,
   "metadata": {},
   "outputs": [],
   "source": [
    "df_trait.head()"
   ]
  },
  {
   "cell_type": "code",
   "execution_count": null,
   "metadata": {},
   "outputs": [],
   "source": [
    "df2.head()"
   ]
  },
  {
   "cell_type": "code",
   "execution_count": null,
   "metadata": {},
   "outputs": [],
   "source": [
    "def get_trait_id(df,col_name,word):\n",
    "    index = df.index[df[col_name]==word].values[0]\n",
    "    #print(index)\n",
    "    return index"
   ]
  },
  {
   "cell_type": "code",
   "execution_count": null,
   "metadata": {},
   "outputs": [],
   "source": [
    "punk_id= []\n",
    "trait_id = []\n",
    "for item in df2.traits.iteritems():    \n",
    "    words = item[1].split(',') \n",
    "    #print(words)\n",
    "    for word in words:\n",
    "        if len(word) == 0:\n",
    "            continue\n",
    "        else:   \n",
    "            punk_id.append(item[0])\n",
    "            trait_id.append(get_trait_id(df_trait,'trait',word))"
   ]
  },
  {
   "cell_type": "code",
   "execution_count": null,
   "metadata": {},
   "outputs": [],
   "source": [
    "df_contains_trait = pd.DataFrame({'punk_id':punk_id,'trait_id':trait_id})"
   ]
  },
  {
   "cell_type": "code",
   "execution_count": null,
   "metadata": {},
   "outputs": [],
   "source": [
    "df_contains_trait.to_csv(r'.././to_database/contains_trait.csv',index=False)"
   ]
  },
  {
   "cell_type": "code",
   "execution_count": null,
   "metadata": {},
   "outputs": [],
   "source": [
    "df_contains_trait"
   ]
  },
  {
   "cell_type": "code",
   "execution_count": null,
   "metadata": {},
   "outputs": [],
   "source": [
    "df_hidden_trait = pd.read_csv('.././to_database/hidden_trait.csv')\n",
    "df_hidden_trait.set_index('id',inplace=True)\n",
    "punk_id= []\n",
    "trait_id = []\n",
    "for item in df2.hidden_traits.iteritems():\n",
    "    words = item[1].split(',')    \n",
    "    #print(words)\n",
    "    for word in words:        \n",
    "        if len(word) == 0:\n",
    "            continue\n",
    "        else:\n",
    "            punk_id.append(item[0])\n",
    "            trait_id.append(get_trait_id(df_hidden_trait,'name',word))\n",
    "\n",
    "            \n",
    "df_contains_hidden_trait = pd.DataFrame({'punk_id':punk_id,'hidden_trait_id':trait_id})"
   ]
  },
  {
   "cell_type": "code",
   "execution_count": null,
   "metadata": {},
   "outputs": [],
   "source": [
    "df_contains_hidden_trait.to_csv(r'.././to_database/contains_hidden_trait.csv',index=False)"
   ]
  },
  {
   "cell_type": "code",
   "execution_count": null,
   "metadata": {},
   "outputs": [],
   "source": [
    "df_contains_hidden_trait"
   ]
  }
 ],
 "metadata": {
  "kernelspec": {
   "display_name": "Python 3",
   "language": "python",
   "name": "python3"
  },
  "language_info": {
   "codemirror_mode": {
    "name": "ipython",
    "version": 3
   },
   "file_extension": ".py",
   "mimetype": "text/x-python",
   "name": "python",
   "nbconvert_exporter": "python",
   "pygments_lexer": "ipython3",
   "version": "3.8.8"
  }
 },
 "nbformat": 4,
 "nbformat_minor": 4
}
