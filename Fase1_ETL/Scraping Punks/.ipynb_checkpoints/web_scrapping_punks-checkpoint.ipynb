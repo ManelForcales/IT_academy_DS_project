{
 "cells": [
  {
   "cell_type": "code",
   "execution_count": 71,
   "metadata": {},
   "outputs": [],
   "source": [
    "import requests\n",
    "from bs4 import BeautifulSoup\n",
    "import re\n",
    "from IPython.display import Image\n",
    "import time"
   ]
  },
  {
   "cell_type": "code",
   "execution_count": 72,
   "metadata": {},
   "outputs": [],
   "source": [
    "import pandas as pd\n",
    "import numpy as np\n",
    "pd.set_option('display.max_columns', None)"
   ]
  },
  {
   "cell_type": "code",
   "execution_count": 73,
   "metadata": {},
   "outputs": [
    {
     "name": "stderr",
     "output_type": "stream",
     "text": [
      "<ipython-input-73-b56b380520ce>:6: DeprecationWarning: use setter for headless property instead of set_headless\n",
      "  opts.set_headless()\n"
     ]
    }
   ],
   "source": [
    "# Utilizamos Selenium para extraer datos\n",
    "\n",
    "from selenium.webdriver import Firefox\n",
    "from selenium.webdriver.firefox.options import Options\n",
    "opts = Options()\n",
    "opts.set_headless()\n",
    "assert opts.headless  # Operating in headless mode\n",
    "#browser = Firefox(options=opts)"
   ]
  },
  {
   "cell_type": "code",
   "execution_count": 114,
   "metadata": {},
   "outputs": [],
   "source": [
    "def extract_rarity_value(text):\n",
    "    text = text.replace(',','')\n",
    "    data = int(re.findall('(\\d+)',text)[0])\n",
    "    return data\n",
    "    "
   ]
  },
  {
   "cell_type": "code",
   "execution_count": 115,
   "metadata": {},
   "outputs": [],
   "source": [
    "types=[]\n",
    "skin=[]\n",
    "total_traits =[]\n",
    "traits =[]\n",
    "punk_id=[]\n",
    "rarity = []\n",
    "\n",
    "total_punks = 10000\n",
    "\n",
    "for i in range(total_punks):\n",
    "    try:\n",
    "        punk_id.append(i)\n",
    "        browser = Firefox(executable_path = '/home/vant/Descargas/geckodriver-v0.29.1-linux64/geckodriver')\n",
    "        url = 'https://defypunk.com/punks/'+str(i)\n",
    "        browser.get(url)\n",
    "        browser.implicitly_wait(20)\n",
    "\n",
    "        rars = browser.find_element_by_xpath('/html/body/div/div/main/div/div/div/div[1]/div[2]')\n",
    "\n",
    "        rarity.append(extract_rarity_value(rars.text))\n",
    "\n",
    "        items = browser.find_element_by_xpath('/html/body/div/div/main/div/div/div/div[1]')\n",
    "        # these are the items marked with tag a\n",
    "        values = items.find_elements_by_tag_name('a')\n",
    "\n",
    "        types.append(values[0].text)\n",
    "        skin_property =(values[1].text).split('-')\n",
    "        skin.append(skin_property[0])\n",
    "        total_traits.append(values[2].text)\n",
    "        traits.append(','.join([x.text for x in values[3:]]))\n",
    "        browser.close()\n",
    "    except Exception as err:\n",
    "        print(f'exepcion {err}')\n",
    "        if len(types) == len(skin) == len(total_traits) == len(traits) == len(punk_id) == len(rarity):\n",
    "            df = pd.DataFrame({'id':punk_id,'types':types,'rarity':rarity,'skin':skin,'total_traits':total_traits,'traits':traits})\n",
    "        else:\n",
    "            print('not all have same length: investigate possible discrepancies')"
   ]
  },
  {
   "cell_type": "code",
   "execution_count": 119,
   "metadata": {},
   "outputs": [],
   "source": [
    "df = pd.DataFrame({'id':punk_id,'types':types,'rarity':rarity,'skin':skin,'total_traits':total_traits,'traits':traits})\n",
    "#df.set_index('id',inplace=True)"
   ]
  },
  {
   "cell_type": "code",
   "execution_count": 120,
   "metadata": {},
   "outputs": [
    {
     "data": {
      "text/html": [
       "<div>\n",
       "<style scoped>\n",
       "    .dataframe tbody tr th:only-of-type {\n",
       "        vertical-align: middle;\n",
       "    }\n",
       "\n",
       "    .dataframe tbody tr th {\n",
       "        vertical-align: top;\n",
       "    }\n",
       "\n",
       "    .dataframe thead th {\n",
       "        text-align: right;\n",
       "    }\n",
       "</style>\n",
       "<table border=\"1\" class=\"dataframe\">\n",
       "  <thead>\n",
       "    <tr style=\"text-align: right;\">\n",
       "      <th></th>\n",
       "      <th>id</th>\n",
       "      <th>types</th>\n",
       "      <th>rarity</th>\n",
       "      <th>skin</th>\n",
       "      <th>total_traits</th>\n",
       "      <th>traits</th>\n",
       "    </tr>\n",
       "  </thead>\n",
       "  <tbody>\n",
       "    <tr>\n",
       "      <th>0</th>\n",
       "      <td>0</td>\n",
       "      <td>Female</td>\n",
       "      <td>2023</td>\n",
       "      <td>Mid</td>\n",
       "      <td>3</td>\n",
       "      <td>Blonde Bob,Earring,Green Eye Shadow,Hidden Ear...</td>\n",
       "    </tr>\n",
       "    <tr>\n",
       "      <th>1</th>\n",
       "      <td>1</td>\n",
       "      <td>Male</td>\n",
       "      <td>4352</td>\n",
       "      <td>Dark</td>\n",
       "      <td>2</td>\n",
       "      <td>Mohawk,Smile</td>\n",
       "    </tr>\n",
       "    <tr>\n",
       "      <th>2</th>\n",
       "      <td>2</td>\n",
       "      <td>Female</td>\n",
       "      <td>8090</td>\n",
       "      <td>Light</td>\n",
       "      <td>1</td>\n",
       "      <td>Wild Hair</td>\n",
       "    </tr>\n",
       "    <tr>\n",
       "      <th>3</th>\n",
       "      <td>3</td>\n",
       "      <td>Male</td>\n",
       "      <td>7896</td>\n",
       "      <td>Dark</td>\n",
       "      <td>3</td>\n",
       "      <td>Nerd Glasses,Pipe,Wild Hair</td>\n",
       "    </tr>\n",
       "    <tr>\n",
       "      <th>4</th>\n",
       "      <td>4</td>\n",
       "      <td>Male</td>\n",
       "      <td>7332</td>\n",
       "      <td>Mid</td>\n",
       "      <td>4</td>\n",
       "      <td>Big Shades,Earring,Goat,Wild Hair</td>\n",
       "    </tr>\n",
       "  </tbody>\n",
       "</table>\n",
       "</div>"
      ],
      "text/plain": [
       "   id   types  rarity   skin total_traits  \\\n",
       "0   0  Female    2023    Mid            3   \n",
       "1   1    Male    4352   Dark            2   \n",
       "2   2  Female    8090  Light            1   \n",
       "3   3    Male    7896   Dark            3   \n",
       "4   4    Male    7332    Mid            4   \n",
       "\n",
       "                                              traits  \n",
       "0  Blonde Bob,Earring,Green Eye Shadow,Hidden Ear...  \n",
       "1                                       Mohawk,Smile  \n",
       "2                                          Wild Hair  \n",
       "3                        Nerd Glasses,Pipe,Wild Hair  \n",
       "4                  Big Shades,Earring,Goat,Wild Hair  "
      ]
     },
     "execution_count": 120,
     "metadata": {},
     "output_type": "execute_result"
    }
   ],
   "source": [
    "df.tail()"
   ]
  },
  {
   "cell_type": "markdown",
   "metadata": {},
   "source": [
    "df.to_csv('punks_atributes.csv')"
   ]
  },
  {
   "cell_type": "code",
   "execution_count": 1,
   "metadata": {},
   "outputs": [],
   "source": [
    "# srapping historic Sales"
   ]
  },
  {
   "cell_type": "code",
   "execution_count": 60,
   "metadata": {},
   "outputs": [
    {
     "name": "stdout",
     "output_type": "stream",
     "text": [
      "exepcion Message: TypeError: browsingContext.currentWindowGlobal is null\n",
      "\n",
      "exepcion Message: Unable to locate element: table\n",
      "\n",
      "exepcion Message: TypeError: browsingContext.currentWindowGlobal is null\n",
      "\n",
      "exepcion Message: Unable to locate element: table\n",
      "\n",
      "exepcion Message: Unable to locate element: table\n",
      "\n"
     ]
    }
   ],
   "source": [
    "punk_id =[]\n",
    "amount_eth = []\n",
    "amount_dollars = []\n",
    "transaction_date = []\n",
    "\n",
    "\n",
    "for j in range(3250,3500):\n",
    "    try:        \n",
    "        browser = Firefox(executable_path = '/home/vant/Descargas/geckodriver-v0.29.1-linux64/geckodriver')\n",
    "        url = 'https://www.larvalabs.com/cryptopunks/details/'+str(j)\n",
    "        browser.get(url)\n",
    "        browser.implicitly_wait(10)\n",
    "\n",
    "        table = browser.find_element_by_tag_name('table')\n",
    "        #rows = table.find_elements_by_tag_name('td')\n",
    "        \n",
    "        rows = table.find_elements_by_class_name('punk-history-row-sold')\n",
    "        for row in rows:\n",
    "            punk_id.append(j)\n",
    "            items = row.text.split(' ')             \n",
    "            amount_eth.append(items[3])\n",
    "            amount_dollars.append(items[4])\n",
    "            transaction_date.append(' '.join(items[5:]))\n",
    "            \n",
    "     \n",
    "        browser.close()\n",
    "        \n",
    "\n",
    "        \n",
    "    except Exception as err:\n",
    "        print(f'exepcion {err}')\n",
    "        \n",
    "df = pd.DataFrame({'id':punk_id,'amount_eth':amount_eth,'amount_dollars':amount_dollars,'transaction':transaction_date})\n",
    "        "
   ]
  },
  {
   "cell_type": "code",
   "execution_count": 61,
   "metadata": {},
   "outputs": [
    {
     "data": {
      "text/plain": [
       "(459, 459, 459, 459)"
      ]
     },
     "execution_count": 61,
     "metadata": {},
     "output_type": "execute_result"
    }
   ],
   "source": [
    "len(punk_id),len(amount_eth),len(amount_dollars),len(transaction_date)"
   ]
  },
  {
   "cell_type": "code",
   "execution_count": 62,
   "metadata": {},
   "outputs": [],
   "source": [
    "df = pd.DataFrame({'id':punk_id,'amount_eth':amount_eth,'amount_dollars':amount_dollars,'transaction':transaction_date})"
   ]
  },
  {
   "cell_type": "code",
   "execution_count": 63,
   "metadata": {},
   "outputs": [
    {
     "data": {
      "text/plain": [
       "(     id amount_eth amount_dollars   transaction\n",
       " 0  3250        15Ξ      ($25,985)  Feb 15, 2021\n",
       " 1  3250      5.85Ξ       ($2,053)  Oct 08, 2020\n",
       " 2  3253      0.40Ξ          ($44)  Nov 27, 2018\n",
       " 3  3253      0.30Ξ          ($81)  Jul 04, 2017\n",
       " 4  3254      4.99Ξ       ($1,756)  Sep 27, 2020,\n",
       "        id amount_eth amount_dollars   transaction\n",
       " 454  3498        13Ξ      ($25,021)  Feb 19, 2021\n",
       " 455  3498         9Ξ      ($16,367)  Feb 14, 2021\n",
       " 456  3498      0.45Ξ          ($78)  May 06, 2019\n",
       " 457  3499      2.50Ξ         ($821)  Sep 24, 2020\n",
       " 458  3499      1.99Ξ         ($724)  Aug 02, 2020)"
      ]
     },
     "execution_count": 63,
     "metadata": {},
     "output_type": "execute_result"
    }
   ],
   "source": [
    "df.head(),df.tail()"
   ]
  },
  {
   "cell_type": "code",
   "execution_count": 64,
   "metadata": {},
   "outputs": [],
   "source": [
    "df.to_csv('df3250_3500.csv')"
   ]
  },
  {
   "cell_type": "code",
   "execution_count": null,
   "metadata": {},
   "outputs": [],
   "source": []
  },
  {
   "cell_type": "code",
   "execution_count": null,
   "metadata": {},
   "outputs": [],
   "source": []
  },
  {
   "cell_type": "code",
   "execution_count": 55,
   "metadata": {},
   "outputs": [
    {
     "data": {
      "text/html": [
       "<div>\n",
       "<style scoped>\n",
       "    .dataframe tbody tr th:only-of-type {\n",
       "        vertical-align: middle;\n",
       "    }\n",
       "\n",
       "    .dataframe tbody tr th {\n",
       "        vertical-align: top;\n",
       "    }\n",
       "\n",
       "    .dataframe thead th {\n",
       "        text-align: right;\n",
       "    }\n",
       "</style>\n",
       "<table border=\"1\" class=\"dataframe\">\n",
       "  <thead>\n",
       "    <tr style=\"text-align: right;\">\n",
       "      <th></th>\n",
       "      <th>Type</th>\n",
       "      <th>From</th>\n",
       "      <th>To</th>\n",
       "      <th>Amount</th>\n",
       "      <th>Txn</th>\n",
       "    </tr>\n",
       "  </thead>\n",
       "  <tbody>\n",
       "  </tbody>\n",
       "</table>\n",
       "</div>"
      ],
      "text/plain": [
       "Empty DataFrame\n",
       "Columns: [Type, From, To, Amount, Txn]\n",
       "Index: []"
      ]
     },
     "execution_count": 55,
     "metadata": {},
     "output_type": "execute_result"
    }
   ],
   "source": [
    "# scrap whole table \n",
    "columns = ['Type', 'From', 'To', 'Amount', 'Txn']\n",
    "df = pd.DataFrame(columns=columns)\n",
    "df"
   ]
  },
  {
   "cell_type": "code",
   "execution_count": 56,
   "metadata": {},
   "outputs": [],
   "source": [
    "# scrap whole table \n",
    "columns = ['Type', 'From', 'To', 'Amount', 'Txn']\n",
    "df = pd.DataFrame(columns=columns)\n",
    "\n",
    "for j in range(2):\n",
    "    try:        \n",
    "        browser = Firefox(executable_path = '/home/vant/Descargas/geckodriver-v0.29.1-linux64/geckodriver')\n",
    "        url = 'https://www.larvalabs.com/cryptopunks/details/'+str(j)\n",
    "        browser.get(url)\n",
    "        browser.implicitly_wait(15)\n",
    "\n",
    "        table = browser.find_element_by_tag_name('table')\n",
    "        \n",
    "        resultados = []\n",
    "        for element in table.find_elements_by_tag_name(\"td\"):\n",
    "            resultados.append(element.text)  \n",
    "        \n",
    "        datos = {}\n",
    "        for i in range(len(columns)):\n",
    "            datos[columns[i]]=resultados[i::len(columns)]\n",
    "\n",
    "        df_new = pd.DataFrame(datos)\n",
    "        df_new['punk_id']= j       \n",
    "        \n",
    "        # makes index continuous\n",
    "        df = df.append(df_new, ignore_index = True)      \n",
    "        browser.close()\n",
    "        \n",
    "    except Exception as err:\n",
    "        print(f'exepcion {err}')\n",
    "        df.head()\n",
    "        \n",
    "        "
   ]
  },
  {
   "cell_type": "code",
   "execution_count": 66,
   "metadata": {},
   "outputs": [
    {
     "data": {
      "text/html": [
       "<div>\n",
       "<style scoped>\n",
       "    .dataframe tbody tr th:only-of-type {\n",
       "        vertical-align: middle;\n",
       "    }\n",
       "\n",
       "    .dataframe tbody tr th {\n",
       "        vertical-align: top;\n",
       "    }\n",
       "\n",
       "    .dataframe thead th {\n",
       "        text-align: right;\n",
       "    }\n",
       "</style>\n",
       "<table border=\"1\" class=\"dataframe\">\n",
       "  <thead>\n",
       "    <tr style=\"text-align: right;\">\n",
       "      <th></th>\n",
       "      <th>Type</th>\n",
       "      <th>From</th>\n",
       "      <th>To</th>\n",
       "      <th>Amount</th>\n",
       "      <th>Txn</th>\n",
       "      <th>punk_id</th>\n",
       "    </tr>\n",
       "  </thead>\n",
       "  <tbody>\n",
       "    <tr>\n",
       "      <th>0</th>\n",
       "      <td>Bid Withdrawn</td>\n",
       "      <td>0x983ace</td>\n",
       "      <td></td>\n",
       "      <td>250Ξ ($1.03M)</td>\n",
       "      <td>May 10, 2021</td>\n",
       "      <td>0.0</td>\n",
       "    </tr>\n",
       "    <tr>\n",
       "      <th>1</th>\n",
       "      <td>Bid</td>\n",
       "      <td>0x983ace</td>\n",
       "      <td></td>\n",
       "      <td>250Ξ ($537,615)</td>\n",
       "      <td>Apr 11, 2021</td>\n",
       "      <td>0.0</td>\n",
       "    </tr>\n",
       "    <tr>\n",
       "      <th>2</th>\n",
       "      <td>Bid Withdrawn</td>\n",
       "      <td>0xd7510a</td>\n",
       "      <td></td>\n",
       "      <td>100Ξ ($160,973)</td>\n",
       "      <td>Mar 03, 2021</td>\n",
       "      <td>0.0</td>\n",
       "    </tr>\n",
       "    <tr>\n",
       "      <th>3</th>\n",
       "      <td>Bid</td>\n",
       "      <td>0xd7510a</td>\n",
       "      <td></td>\n",
       "      <td>100Ξ ($188,897)</td>\n",
       "      <td>Feb 20, 2021</td>\n",
       "      <td>0.0</td>\n",
       "    </tr>\n",
       "    <tr>\n",
       "      <th>4</th>\n",
       "      <td>Bid Withdrawn</td>\n",
       "      <td>natealex</td>\n",
       "      <td></td>\n",
       "      <td>69Ξ ($25,532)</td>\n",
       "      <td>Sep 16, 2020</td>\n",
       "      <td>0.0</td>\n",
       "    </tr>\n",
       "    <tr>\n",
       "      <th>...</th>\n",
       "      <td>...</td>\n",
       "      <td>...</td>\n",
       "      <td>...</td>\n",
       "      <td>...</td>\n",
       "      <td>...</td>\n",
       "      <td>...</td>\n",
       "    </tr>\n",
       "    <tr>\n",
       "      <th>83</th>\n",
       "      <td>Bid</td>\n",
       "      <td>sov</td>\n",
       "      <td></td>\n",
       "      <td>0.35Ξ ($98)</td>\n",
       "      <td>Jun 25, 2017</td>\n",
       "      <td>1.0</td>\n",
       "    </tr>\n",
       "    <tr>\n",
       "      <th>84</th>\n",
       "      <td>Bid</td>\n",
       "      <td>0xa0a59c</td>\n",
       "      <td></td>\n",
       "      <td>&lt;0.01Ξ ($1)</td>\n",
       "      <td>Jun 25, 2017</td>\n",
       "      <td>1.0</td>\n",
       "    </tr>\n",
       "    <tr>\n",
       "      <th>85</th>\n",
       "      <td>Bid Withdrawn</td>\n",
       "      <td>sov</td>\n",
       "      <td></td>\n",
       "      <td>0.20Ξ ($61)</td>\n",
       "      <td>Jun 24, 2017</td>\n",
       "      <td>1.0</td>\n",
       "    </tr>\n",
       "    <tr>\n",
       "      <th>86</th>\n",
       "      <td>Bid</td>\n",
       "      <td>sov</td>\n",
       "      <td></td>\n",
       "      <td>0.20Ξ ($61)</td>\n",
       "      <td>Jun 24, 2017</td>\n",
       "      <td>1.0</td>\n",
       "    </tr>\n",
       "    <tr>\n",
       "      <th>87</th>\n",
       "      <td>Claimed</td>\n",
       "      <td></td>\n",
       "      <td>0xc352b5</td>\n",
       "      <td></td>\n",
       "      <td>Jun 23, 2017</td>\n",
       "      <td>1.0</td>\n",
       "    </tr>\n",
       "  </tbody>\n",
       "</table>\n",
       "<p>88 rows × 6 columns</p>\n",
       "</div>"
      ],
      "text/plain": [
       "             Type      From        To           Amount           Txn  punk_id\n",
       "0   Bid Withdrawn  0x983ace              250Ξ ($1.03M)  May 10, 2021      0.0\n",
       "1             Bid  0x983ace            250Ξ ($537,615)  Apr 11, 2021      0.0\n",
       "2   Bid Withdrawn  0xd7510a            100Ξ ($160,973)  Mar 03, 2021      0.0\n",
       "3             Bid  0xd7510a            100Ξ ($188,897)  Feb 20, 2021      0.0\n",
       "4   Bid Withdrawn  natealex              69Ξ ($25,532)  Sep 16, 2020      0.0\n",
       "..            ...       ...       ...              ...           ...      ...\n",
       "83            Bid       sov                0.35Ξ ($98)  Jun 25, 2017      1.0\n",
       "84            Bid  0xa0a59c                <0.01Ξ ($1)  Jun 25, 2017      1.0\n",
       "85  Bid Withdrawn       sov                0.20Ξ ($61)  Jun 24, 2017      1.0\n",
       "86            Bid       sov                0.20Ξ ($61)  Jun 24, 2017      1.0\n",
       "87        Claimed            0xc352b5                   Jun 23, 2017      1.0\n",
       "\n",
       "[88 rows x 6 columns]"
      ]
     },
     "execution_count": 66,
     "metadata": {},
     "output_type": "execute_result"
    }
   ],
   "source": [
    "df"
   ]
  },
  {
   "cell_type": "code",
   "execution_count": 67,
   "metadata": {},
   "outputs": [],
   "source": [
    "df.to_csv('.././to_database/dummy.csv')"
   ]
  },
  {
   "cell_type": "code",
   "execution_count": null,
   "metadata": {},
   "outputs": [],
   "source": []
  }
 ],
 "metadata": {
  "kernelspec": {
   "display_name": "Python 3",
   "language": "python",
   "name": "python3"
  },
  "language_info": {
   "codemirror_mode": {
    "name": "ipython",
    "version": 3
   },
   "file_extension": ".py",
   "mimetype": "text/x-python",
   "name": "python",
   "nbconvert_exporter": "python",
   "pygments_lexer": "ipython3",
   "version": "3.8.8"
  }
 },
 "nbformat": 4,
 "nbformat_minor": 4
}
