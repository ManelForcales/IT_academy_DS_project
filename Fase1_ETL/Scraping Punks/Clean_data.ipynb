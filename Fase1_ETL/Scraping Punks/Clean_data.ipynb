{
 "cells": [
  {
   "cell_type": "code",
   "execution_count": 1,
   "metadata": {},
   "outputs": [],
   "source": [
    "import pandas as pd\n",
    "import numpy as np\n",
    "import re"
   ]
  },
  {
   "cell_type": "code",
   "execution_count": 2,
   "metadata": {},
   "outputs": [],
   "source": [
    "# upload all files\n",
    "df1 = pd.read_csv('punks_atributes1.csv')\n",
    "df2 = pd.read_csv('punks_atributes2.csv')\n",
    "df3 = pd.read_csv('punks_atributes3.csv')\n",
    "df4 = pd.read_csv('punks_atributes4.csv')\n",
    "df5 = pd.read_csv('punks_atributes5.csv')"
   ]
  },
  {
   "cell_type": "code",
   "execution_count": 3,
   "metadata": {},
   "outputs": [],
   "source": [
    "# merge into a single csv\n",
    "df = pd.concat([df1,df2,df3,df4,df5],ignore_index=False)\n",
    "df.drop('Unnamed: 0',axis=1,inplace=True)"
   ]
  },
  {
   "cell_type": "code",
   "execution_count": 4,
   "metadata": {},
   "outputs": [
    {
     "data": {
      "text/plain": [
       "(10000, 6)"
      ]
     },
     "execution_count": 4,
     "metadata": {},
     "output_type": "execute_result"
    }
   ],
   "source": [
    "# tenemos 10,000 punks\n",
    "df.shape"
   ]
  },
  {
   "cell_type": "code",
   "execution_count": 5,
   "metadata": {},
   "outputs": [
    {
     "data": {
      "text/html": [
       "<div>\n",
       "<style scoped>\n",
       "    .dataframe tbody tr th:only-of-type {\n",
       "        vertical-align: middle;\n",
       "    }\n",
       "\n",
       "    .dataframe tbody tr th {\n",
       "        vertical-align: top;\n",
       "    }\n",
       "\n",
       "    .dataframe thead th {\n",
       "        text-align: right;\n",
       "    }\n",
       "</style>\n",
       "<table border=\"1\" class=\"dataframe\">\n",
       "  <thead>\n",
       "    <tr style=\"text-align: right;\">\n",
       "      <th></th>\n",
       "      <th>id</th>\n",
       "      <th>types</th>\n",
       "      <th>rarity</th>\n",
       "      <th>skin</th>\n",
       "      <th>total_traits</th>\n",
       "      <th>traits</th>\n",
       "    </tr>\n",
       "  </thead>\n",
       "  <tbody>\n",
       "    <tr>\n",
       "      <th>0</th>\n",
       "      <td>0</td>\n",
       "      <td>Female</td>\n",
       "      <td>2023</td>\n",
       "      <td>Mid</td>\n",
       "      <td>3</td>\n",
       "      <td>Blonde Bob,Earring,Green Eye Shadow,Hidden Ear...</td>\n",
       "    </tr>\n",
       "    <tr>\n",
       "      <th>1</th>\n",
       "      <td>1</td>\n",
       "      <td>Male</td>\n",
       "      <td>4352</td>\n",
       "      <td>Dark</td>\n",
       "      <td>2</td>\n",
       "      <td>Mohawk,Smile</td>\n",
       "    </tr>\n",
       "    <tr>\n",
       "      <th>2</th>\n",
       "      <td>2</td>\n",
       "      <td>Female</td>\n",
       "      <td>8090</td>\n",
       "      <td>Light</td>\n",
       "      <td>1</td>\n",
       "      <td>Wild Hair</td>\n",
       "    </tr>\n",
       "    <tr>\n",
       "      <th>3</th>\n",
       "      <td>3</td>\n",
       "      <td>Male</td>\n",
       "      <td>7896</td>\n",
       "      <td>Dark</td>\n",
       "      <td>3</td>\n",
       "      <td>Nerd Glasses,Pipe,Wild Hair</td>\n",
       "    </tr>\n",
       "    <tr>\n",
       "      <th>4</th>\n",
       "      <td>4</td>\n",
       "      <td>Male</td>\n",
       "      <td>7332</td>\n",
       "      <td>Mid</td>\n",
       "      <td>4</td>\n",
       "      <td>Big Shades,Earring,Goat,Wild Hair</td>\n",
       "    </tr>\n",
       "    <tr>\n",
       "      <th>5</th>\n",
       "      <td>5</td>\n",
       "      <td>Female</td>\n",
       "      <td>1960</td>\n",
       "      <td>Mid</td>\n",
       "      <td>3</td>\n",
       "      <td>Earring,Half Shaved,Purple Eye Shadow,Hidden E...</td>\n",
       "    </tr>\n",
       "    <tr>\n",
       "      <th>6</th>\n",
       "      <td>6</td>\n",
       "      <td>Male</td>\n",
       "      <td>7425</td>\n",
       "      <td>Mid</td>\n",
       "      <td>1</td>\n",
       "      <td>Do-rag</td>\n",
       "    </tr>\n",
       "    <tr>\n",
       "      <th>7</th>\n",
       "      <td>7</td>\n",
       "      <td>Female</td>\n",
       "      <td>866</td>\n",
       "      <td>Mid</td>\n",
       "      <td>3</td>\n",
       "      <td>Clown Eyes Blue,Spots,Wild White Hair</td>\n",
       "    </tr>\n",
       "    <tr>\n",
       "      <th>8</th>\n",
       "      <td>8</td>\n",
       "      <td>Male</td>\n",
       "      <td>6530</td>\n",
       "      <td>Dark</td>\n",
       "      <td>2</td>\n",
       "      <td>Luxurious Beard,Messy Hair</td>\n",
       "    </tr>\n",
       "    <tr>\n",
       "      <th>9</th>\n",
       "      <td>9</td>\n",
       "      <td>Male</td>\n",
       "      <td>1761</td>\n",
       "      <td>Mid</td>\n",
       "      <td>3</td>\n",
       "      <td>Big Beard,Clown Nose,Police Cap</td>\n",
       "    </tr>\n",
       "  </tbody>\n",
       "</table>\n",
       "</div>"
      ],
      "text/plain": [
       "   id   types  rarity   skin  total_traits  \\\n",
       "0   0  Female    2023    Mid             3   \n",
       "1   1    Male    4352   Dark             2   \n",
       "2   2  Female    8090  Light             1   \n",
       "3   3    Male    7896   Dark             3   \n",
       "4   4    Male    7332    Mid             4   \n",
       "5   5  Female    1960    Mid             3   \n",
       "6   6    Male    7425    Mid             1   \n",
       "7   7  Female     866    Mid             3   \n",
       "8   8    Male    6530   Dark             2   \n",
       "9   9    Male    1761    Mid             3   \n",
       "\n",
       "                                              traits  \n",
       "0  Blonde Bob,Earring,Green Eye Shadow,Hidden Ear...  \n",
       "1                                       Mohawk,Smile  \n",
       "2                                          Wild Hair  \n",
       "3                        Nerd Glasses,Pipe,Wild Hair  \n",
       "4                  Big Shades,Earring,Goat,Wild Hair  \n",
       "5  Earring,Half Shaved,Purple Eye Shadow,Hidden E...  \n",
       "6                                             Do-rag  \n",
       "7              Clown Eyes Blue,Spots,Wild White Hair  \n",
       "8                         Luxurious Beard,Messy Hair  \n",
       "9                    Big Beard,Clown Nose,Police Cap  "
      ]
     },
     "execution_count": 5,
     "metadata": {},
     "output_type": "execute_result"
    }
   ],
   "source": [
    "df.head(10)"
   ]
  },
  {
   "cell_type": "code",
   "execution_count": 6,
   "metadata": {},
   "outputs": [
    {
     "data": {
      "text/html": [
       "<div>\n",
       "<style scoped>\n",
       "    .dataframe tbody tr th:only-of-type {\n",
       "        vertical-align: middle;\n",
       "    }\n",
       "\n",
       "    .dataframe tbody tr th {\n",
       "        vertical-align: top;\n",
       "    }\n",
       "\n",
       "    .dataframe thead th {\n",
       "        text-align: right;\n",
       "    }\n",
       "</style>\n",
       "<table border=\"1\" class=\"dataframe\">\n",
       "  <thead>\n",
       "    <tr style=\"text-align: right;\">\n",
       "      <th></th>\n",
       "      <th>id</th>\n",
       "      <th>types</th>\n",
       "      <th>rarity</th>\n",
       "      <th>skin</th>\n",
       "      <th>total_traits</th>\n",
       "      <th>traits</th>\n",
       "    </tr>\n",
       "  </thead>\n",
       "  <tbody>\n",
       "    <tr>\n",
       "      <th>2553</th>\n",
       "      <td>9995</td>\n",
       "      <td>Female</td>\n",
       "      <td>2466</td>\n",
       "      <td>Albino</td>\n",
       "      <td>2</td>\n",
       "      <td>Purple Eye Shadow,Straight Hair Dark</td>\n",
       "    </tr>\n",
       "    <tr>\n",
       "      <th>2554</th>\n",
       "      <td>9996</td>\n",
       "      <td>Male</td>\n",
       "      <td>4323</td>\n",
       "      <td>Light</td>\n",
       "      <td>4</td>\n",
       "      <td>Cigarette,Crazy Hair,Earring,Smile</td>\n",
       "    </tr>\n",
       "    <tr>\n",
       "      <th>2555</th>\n",
       "      <td>9997</td>\n",
       "      <td>Zombie</td>\n",
       "      <td>498</td>\n",
       "      <td>Zombie</td>\n",
       "      <td>2</td>\n",
       "      <td>Cap Forward,Front Beard</td>\n",
       "    </tr>\n",
       "    <tr>\n",
       "      <th>2556</th>\n",
       "      <td>9998</td>\n",
       "      <td>Female</td>\n",
       "      <td>1271</td>\n",
       "      <td>Mid</td>\n",
       "      <td>3</td>\n",
       "      <td>Black Lipstick,Clown Eyes Green,Wild White Hair</td>\n",
       "    </tr>\n",
       "    <tr>\n",
       "      <th>2557</th>\n",
       "      <td>9999</td>\n",
       "      <td>Female</td>\n",
       "      <td>9233</td>\n",
       "      <td>Dark</td>\n",
       "      <td>2</td>\n",
       "      <td>Mohawk,Nerd Glasses</td>\n",
       "    </tr>\n",
       "  </tbody>\n",
       "</table>\n",
       "</div>"
      ],
      "text/plain": [
       "        id   types  rarity    skin  total_traits  \\\n",
       "2553  9995  Female    2466  Albino             2   \n",
       "2554  9996    Male    4323   Light             4   \n",
       "2555  9997  Zombie     498  Zombie             2   \n",
       "2556  9998  Female    1271     Mid             3   \n",
       "2557  9999  Female    9233    Dark             2   \n",
       "\n",
       "                                               traits  \n",
       "2553             Purple Eye Shadow,Straight Hair Dark  \n",
       "2554               Cigarette,Crazy Hair,Earring,Smile  \n",
       "2555                          Cap Forward,Front Beard  \n",
       "2556  Black Lipstick,Clown Eyes Green,Wild White Hair  \n",
       "2557                              Mohawk,Nerd Glasses  "
      ]
     },
     "execution_count": 6,
     "metadata": {},
     "output_type": "execute_result"
    }
   ],
   "source": [
    "df.tail()"
   ]
  },
  {
   "cell_type": "code",
   "execution_count": 7,
   "metadata": {},
   "outputs": [
    {
     "name": "stdout",
     "output_type": "stream",
     "text": [
      "<class 'pandas.core.frame.DataFrame'>\n",
      "Int64Index: 10000 entries, 0 to 2557\n",
      "Data columns (total 6 columns):\n",
      " #   Column        Non-Null Count  Dtype \n",
      "---  ------        --------------  ----- \n",
      " 0   id            10000 non-null  int64 \n",
      " 1   types         10000 non-null  object\n",
      " 2   rarity        10000 non-null  int64 \n",
      " 3   skin          10000 non-null  object\n",
      " 4   total_traits  10000 non-null  int64 \n",
      " 5   traits        9992 non-null   object\n",
      "dtypes: int64(3), object(3)\n",
      "memory usage: 546.9+ KB\n"
     ]
    }
   ],
   "source": [
    "df.info()"
   ]
  },
  {
   "cell_type": "code",
   "execution_count": 8,
   "metadata": {},
   "outputs": [
    {
     "data": {
      "text/html": [
       "<div>\n",
       "<style scoped>\n",
       "    .dataframe tbody tr th:only-of-type {\n",
       "        vertical-align: middle;\n",
       "    }\n",
       "\n",
       "    .dataframe tbody tr th {\n",
       "        vertical-align: top;\n",
       "    }\n",
       "\n",
       "    .dataframe thead th {\n",
       "        text-align: right;\n",
       "    }\n",
       "</style>\n",
       "<table border=\"1\" class=\"dataframe\">\n",
       "  <thead>\n",
       "    <tr style=\"text-align: right;\">\n",
       "      <th></th>\n",
       "      <th>id</th>\n",
       "      <th>types</th>\n",
       "      <th>rarity</th>\n",
       "      <th>skin</th>\n",
       "      <th>total_traits</th>\n",
       "      <th>traits</th>\n",
       "    </tr>\n",
       "  </thead>\n",
       "  <tbody>\n",
       "    <tr>\n",
       "      <th>181</th>\n",
       "      <td>281</td>\n",
       "      <td>Male</td>\n",
       "      <td>7</td>\n",
       "      <td>Light</td>\n",
       "      <td>0</td>\n",
       "      <td>NaN</td>\n",
       "    </tr>\n",
       "    <tr>\n",
       "      <th>410</th>\n",
       "      <td>510</td>\n",
       "      <td>Male</td>\n",
       "      <td>9</td>\n",
       "      <td>Mid</td>\n",
       "      <td>0</td>\n",
       "      <td>NaN</td>\n",
       "    </tr>\n",
       "    <tr>\n",
       "      <th>541</th>\n",
       "      <td>641</td>\n",
       "      <td>Female</td>\n",
       "      <td>6</td>\n",
       "      <td>Light</td>\n",
       "      <td>0</td>\n",
       "      <td>NaN</td>\n",
       "    </tr>\n",
       "    <tr>\n",
       "      <th>641</th>\n",
       "      <td>741</td>\n",
       "      <td>Male</td>\n",
       "      <td>5</td>\n",
       "      <td>Dark</td>\n",
       "      <td>0</td>\n",
       "      <td>NaN</td>\n",
       "    </tr>\n",
       "    <tr>\n",
       "      <th>950</th>\n",
       "      <td>1050</td>\n",
       "      <td>Female</td>\n",
       "      <td>8</td>\n",
       "      <td>Mid</td>\n",
       "      <td>0</td>\n",
       "      <td>NaN</td>\n",
       "    </tr>\n",
       "    <tr>\n",
       "      <th>204</th>\n",
       "      <td>2204</td>\n",
       "      <td>Female</td>\n",
       "      <td>4</td>\n",
       "      <td>Dark</td>\n",
       "      <td>0</td>\n",
       "      <td>NaN</td>\n",
       "    </tr>\n",
       "    <tr>\n",
       "      <th>307</th>\n",
       "      <td>3307</td>\n",
       "      <td>Male</td>\n",
       "      <td>3</td>\n",
       "      <td>Albino</td>\n",
       "      <td>0</td>\n",
       "      <td>NaN</td>\n",
       "    </tr>\n",
       "    <tr>\n",
       "      <th>3487</th>\n",
       "      <td>6487</td>\n",
       "      <td>Female</td>\n",
       "      <td>2</td>\n",
       "      <td>Albino</td>\n",
       "      <td>0</td>\n",
       "      <td>NaN</td>\n",
       "    </tr>\n",
       "  </tbody>\n",
       "</table>\n",
       "</div>"
      ],
      "text/plain": [
       "        id   types  rarity    skin  total_traits traits\n",
       "181    281    Male       7   Light             0    NaN\n",
       "410    510    Male       9     Mid             0    NaN\n",
       "541    641  Female       6   Light             0    NaN\n",
       "641    741    Male       5    Dark             0    NaN\n",
       "950   1050  Female       8     Mid             0    NaN\n",
       "204   2204  Female       4    Dark             0    NaN\n",
       "307   3307    Male       3  Albino             0    NaN\n",
       "3487  6487  Female       2  Albino             0    NaN"
      ]
     },
     "execution_count": 8,
     "metadata": {},
     "output_type": "execute_result"
    }
   ],
   "source": [
    "# some missing values\n",
    "df[df.traits.isnull()]"
   ]
  },
  {
   "cell_type": "code",
   "execution_count": 9,
   "metadata": {},
   "outputs": [],
   "source": [
    "df.fillna('',inplace=True)"
   ]
  },
  {
   "cell_type": "code",
   "execution_count": 10,
   "metadata": {},
   "outputs": [],
   "source": [
    "df1 = df.copy()"
   ]
  },
  {
   "cell_type": "code",
   "execution_count": 11,
   "metadata": {},
   "outputs": [],
   "source": [
    "def get_number_hidden_traits(text):\n",
    "    pattern = ',Hidden\\s(\\w+)'\n",
    "    try:\n",
    "        hidden = re.findall(pattern,text)\n",
    "        return len(hidden)    \n",
    "    except:\n",
    "        return 0"
   ]
  },
  {
   "cell_type": "code",
   "execution_count": 12,
   "metadata": {},
   "outputs": [
    {
     "data": {
      "text/plain": [
       "'bob'"
      ]
     },
     "execution_count": 12,
     "metadata": {},
     "output_type": "execute_result"
    }
   ],
   "source": [
    "#examples of regex\n",
    "text1 = 'Blonde Bob,Earring,Green Eye Shadow,Hidden Earring,,Hidden Eear'\n",
    "text2 = 'Blonde Bob,Earring,Green Eye Shadow'\n",
    "text3= 'Earring,Hidden bob'\n",
    "\n",
    "def extract_hidden_traits(text):\n",
    "    match = re.findall(',Hidden\\s(\\w+)',text)\n",
    "    if not match:\n",
    "        #print(\"List is empty\")\n",
    "        return '' \n",
    "    else:\n",
    "        return ','.join(match)\n",
    "\n",
    "\n",
    "extract_hidden_traits(text3)"
   ]
  },
  {
   "cell_type": "code",
   "execution_count": 13,
   "metadata": {},
   "outputs": [],
   "source": [
    "df1['total_hidden_traits']=df1['traits'].apply(get_number_hidden_traits)"
   ]
  },
  {
   "cell_type": "code",
   "execution_count": 14,
   "metadata": {},
   "outputs": [],
   "source": [
    "df1['hidden_traits']=df1['traits'].apply(extract_hidden_traits)"
   ]
  },
  {
   "cell_type": "code",
   "execution_count": 15,
   "metadata": {},
   "outputs": [
    {
     "data": {
      "text/plain": [
       "'Blonde Bob,Earring,Green Eye Shadow'"
      ]
     },
     "execution_count": 15,
     "metadata": {},
     "output_type": "execute_result"
    }
   ],
   "source": [
    "text1 = 'Blonde Bob,Earring,Green Eye Shadow,Hidden Earring,Hidden Eear'\n",
    "\n",
    "def remove_hidden_traits(text):\n",
    "    match = re.findall(',Hidden\\s(\\w+)',text)    \n",
    "    if not match:\n",
    "        #print(\"List is empty\")\n",
    "        return text \n",
    "    else:\n",
    "        to_remove= ',Hidden '+',Hidden '.join(match)        \n",
    "        clean = text.replace(to_remove,'')        \n",
    "        return clean\n",
    "\n",
    "\n",
    "remove_hidden_traits(text1)\n",
    "    "
   ]
  },
  {
   "cell_type": "code",
   "execution_count": 16,
   "metadata": {},
   "outputs": [],
   "source": [
    "df1['traits'] = df1['traits'].apply(remove_hidden_traits)"
   ]
  },
  {
   "cell_type": "code",
   "execution_count": 17,
   "metadata": {},
   "outputs": [
    {
     "data": {
      "text/plain": [
       "0    Blonde Bob,Earring,Green Eye Shadow\n",
       "1                           Mohawk,Smile\n",
       "2                              Wild Hair\n",
       "3            Nerd Glasses,Pipe,Wild Hair\n",
       "4      Big Shades,Earring,Goat,Wild Hair\n",
       "Name: traits, dtype: object"
      ]
     },
     "execution_count": 17,
     "metadata": {},
     "output_type": "execute_result"
    }
   ],
   "source": [
    "df1.traits.head()"
   ]
  },
  {
   "cell_type": "code",
   "execution_count": 18,
   "metadata": {},
   "outputs": [
    {
     "data": {
      "text/html": [
       "<div>\n",
       "<style scoped>\n",
       "    .dataframe tbody tr th:only-of-type {\n",
       "        vertical-align: middle;\n",
       "    }\n",
       "\n",
       "    .dataframe tbody tr th {\n",
       "        vertical-align: top;\n",
       "    }\n",
       "\n",
       "    .dataframe thead th {\n",
       "        text-align: right;\n",
       "    }\n",
       "</style>\n",
       "<table border=\"1\" class=\"dataframe\">\n",
       "  <thead>\n",
       "    <tr style=\"text-align: right;\">\n",
       "      <th></th>\n",
       "      <th>id</th>\n",
       "      <th>types</th>\n",
       "      <th>rarity</th>\n",
       "      <th>skin</th>\n",
       "      <th>total_traits</th>\n",
       "      <th>traits</th>\n",
       "      <th>total_hidden_traits</th>\n",
       "      <th>hidden_traits</th>\n",
       "    </tr>\n",
       "  </thead>\n",
       "  <tbody>\n",
       "    <tr>\n",
       "      <th>0</th>\n",
       "      <td>0</td>\n",
       "      <td>Female</td>\n",
       "      <td>2023</td>\n",
       "      <td>Mid</td>\n",
       "      <td>3</td>\n",
       "      <td>Blonde Bob,Earring,Green Eye Shadow</td>\n",
       "      <td>1</td>\n",
       "      <td>Earring</td>\n",
       "    </tr>\n",
       "    <tr>\n",
       "      <th>1</th>\n",
       "      <td>1</td>\n",
       "      <td>Male</td>\n",
       "      <td>4352</td>\n",
       "      <td>Dark</td>\n",
       "      <td>2</td>\n",
       "      <td>Mohawk,Smile</td>\n",
       "      <td>0</td>\n",
       "      <td></td>\n",
       "    </tr>\n",
       "    <tr>\n",
       "      <th>2</th>\n",
       "      <td>2</td>\n",
       "      <td>Female</td>\n",
       "      <td>8090</td>\n",
       "      <td>Light</td>\n",
       "      <td>1</td>\n",
       "      <td>Wild Hair</td>\n",
       "      <td>0</td>\n",
       "      <td></td>\n",
       "    </tr>\n",
       "    <tr>\n",
       "      <th>3</th>\n",
       "      <td>3</td>\n",
       "      <td>Male</td>\n",
       "      <td>7896</td>\n",
       "      <td>Dark</td>\n",
       "      <td>3</td>\n",
       "      <td>Nerd Glasses,Pipe,Wild Hair</td>\n",
       "      <td>0</td>\n",
       "      <td></td>\n",
       "    </tr>\n",
       "    <tr>\n",
       "      <th>4</th>\n",
       "      <td>4</td>\n",
       "      <td>Male</td>\n",
       "      <td>7332</td>\n",
       "      <td>Mid</td>\n",
       "      <td>4</td>\n",
       "      <td>Big Shades,Earring,Goat,Wild Hair</td>\n",
       "      <td>0</td>\n",
       "      <td></td>\n",
       "    </tr>\n",
       "    <tr>\n",
       "      <th>...</th>\n",
       "      <td>...</td>\n",
       "      <td>...</td>\n",
       "      <td>...</td>\n",
       "      <td>...</td>\n",
       "      <td>...</td>\n",
       "      <td>...</td>\n",
       "      <td>...</td>\n",
       "      <td>...</td>\n",
       "    </tr>\n",
       "    <tr>\n",
       "      <th>2553</th>\n",
       "      <td>9995</td>\n",
       "      <td>Female</td>\n",
       "      <td>2466</td>\n",
       "      <td>Albino</td>\n",
       "      <td>2</td>\n",
       "      <td>Purple Eye Shadow,Straight Hair Dark</td>\n",
       "      <td>0</td>\n",
       "      <td></td>\n",
       "    </tr>\n",
       "    <tr>\n",
       "      <th>2554</th>\n",
       "      <td>9996</td>\n",
       "      <td>Male</td>\n",
       "      <td>4323</td>\n",
       "      <td>Light</td>\n",
       "      <td>4</td>\n",
       "      <td>Cigarette,Crazy Hair,Earring,Smile</td>\n",
       "      <td>0</td>\n",
       "      <td></td>\n",
       "    </tr>\n",
       "    <tr>\n",
       "      <th>2555</th>\n",
       "      <td>9997</td>\n",
       "      <td>Zombie</td>\n",
       "      <td>498</td>\n",
       "      <td>Zombie</td>\n",
       "      <td>2</td>\n",
       "      <td>Cap Forward,Front Beard</td>\n",
       "      <td>0</td>\n",
       "      <td></td>\n",
       "    </tr>\n",
       "    <tr>\n",
       "      <th>2556</th>\n",
       "      <td>9998</td>\n",
       "      <td>Female</td>\n",
       "      <td>1271</td>\n",
       "      <td>Mid</td>\n",
       "      <td>3</td>\n",
       "      <td>Black Lipstick,Clown Eyes Green,Wild White Hair</td>\n",
       "      <td>0</td>\n",
       "      <td></td>\n",
       "    </tr>\n",
       "    <tr>\n",
       "      <th>2557</th>\n",
       "      <td>9999</td>\n",
       "      <td>Female</td>\n",
       "      <td>9233</td>\n",
       "      <td>Dark</td>\n",
       "      <td>2</td>\n",
       "      <td>Mohawk,Nerd Glasses</td>\n",
       "      <td>0</td>\n",
       "      <td></td>\n",
       "    </tr>\n",
       "  </tbody>\n",
       "</table>\n",
       "<p>10000 rows × 8 columns</p>\n",
       "</div>"
      ],
      "text/plain": [
       "        id   types  rarity    skin  total_traits  \\\n",
       "0        0  Female    2023     Mid             3   \n",
       "1        1    Male    4352    Dark             2   \n",
       "2        2  Female    8090   Light             1   \n",
       "3        3    Male    7896    Dark             3   \n",
       "4        4    Male    7332     Mid             4   \n",
       "...    ...     ...     ...     ...           ...   \n",
       "2553  9995  Female    2466  Albino             2   \n",
       "2554  9996    Male    4323   Light             4   \n",
       "2555  9997  Zombie     498  Zombie             2   \n",
       "2556  9998  Female    1271     Mid             3   \n",
       "2557  9999  Female    9233    Dark             2   \n",
       "\n",
       "                                               traits  total_hidden_traits  \\\n",
       "0                 Blonde Bob,Earring,Green Eye Shadow                    1   \n",
       "1                                        Mohawk,Smile                    0   \n",
       "2                                           Wild Hair                    0   \n",
       "3                         Nerd Glasses,Pipe,Wild Hair                    0   \n",
       "4                   Big Shades,Earring,Goat,Wild Hair                    0   \n",
       "...                                               ...                  ...   \n",
       "2553             Purple Eye Shadow,Straight Hair Dark                    0   \n",
       "2554               Cigarette,Crazy Hair,Earring,Smile                    0   \n",
       "2555                          Cap Forward,Front Beard                    0   \n",
       "2556  Black Lipstick,Clown Eyes Green,Wild White Hair                    0   \n",
       "2557                              Mohawk,Nerd Glasses                    0   \n",
       "\n",
       "     hidden_traits  \n",
       "0          Earring  \n",
       "1                   \n",
       "2                   \n",
       "3                   \n",
       "4                   \n",
       "...            ...  \n",
       "2553                \n",
       "2554                \n",
       "2555                \n",
       "2556                \n",
       "2557                \n",
       "\n",
       "[10000 rows x 8 columns]"
      ]
     },
     "execution_count": 18,
     "metadata": {},
     "output_type": "execute_result"
    }
   ],
   "source": [
    "df1"
   ]
  },
  {
   "cell_type": "code",
   "execution_count": 19,
   "metadata": {},
   "outputs": [],
   "source": [
    "df1.to_csv('../to_database/raw_punks.csv')"
   ]
  },
  {
   "cell_type": "code",
   "execution_count": null,
   "metadata": {},
   "outputs": [],
   "source": [
    "#get traits \n",
    "traits ={}\n",
    "for items in df1.traits.str.split(','):\n",
    "    for elem in items:        \n",
    "        if len(elem) ==0:\n",
    "            #print(type(elem))\n",
    "            continue            \n",
    "        if elem in traits:\n",
    "            #print('exists, add one')\n",
    "            traits[elem] += 1\n",
    "        else:\n",
    "            #print('not exist, create set to one ')\n",
    "            traits[elem] = 1\n",
    "    "
   ]
  },
  {
   "cell_type": "code",
   "execution_count": null,
   "metadata": {},
   "outputs": [],
   "source": [
    "df_traits = pd.DataFrame(list(traits.items()),columns = ['trait','occurences']) \n",
    "df_traits.drop('occurences',axis=1,inplace=True)"
   ]
  },
  {
   "cell_type": "code",
   "execution_count": null,
   "metadata": {},
   "outputs": [],
   "source": [
    "df_traits.to_csv('.././to_database/trait.csv')"
   ]
  },
  {
   "cell_type": "code",
   "execution_count": null,
   "metadata": {},
   "outputs": [],
   "source": [
    "hidden_trait = []\n",
    "for row in df1.hidden_traits.str.split(','):\n",
    "    for elem in row:\n",
    "        if len(elem) ==0:\n",
    "            continue\n",
    "        else: \n",
    "            hidden_trait.append(elem)\n"
   ]
  },
  {
   "cell_type": "code",
   "execution_count": null,
   "metadata": {},
   "outputs": [],
   "source": [
    "hidden_trait= list(set(hidden_trait))"
   ]
  },
  {
   "cell_type": "code",
   "execution_count": null,
   "metadata": {},
   "outputs": [],
   "source": [
    "df_hidden_trait = pd.DataFrame(hidden_trait,columns=['name'])"
   ]
  },
  {
   "cell_type": "code",
   "execution_count": null,
   "metadata": {},
   "outputs": [],
   "source": [
    "df_hidden_trait.to_csv(r'.././to_database/hidden_trait.csv',index=True)"
   ]
  },
  {
   "cell_type": "code",
   "execution_count": null,
   "metadata": {},
   "outputs": [],
   "source": []
  },
  {
   "cell_type": "code",
   "execution_count": null,
   "metadata": {},
   "outputs": [],
   "source": [
    "df2=df1.copy()"
   ]
  },
  {
   "cell_type": "code",
   "execution_count": null,
   "metadata": {},
   "outputs": [],
   "source": [
    "df2.head()"
   ]
  },
  {
   "cell_type": "code",
   "execution_count": null,
   "metadata": {},
   "outputs": [],
   "source": []
  },
  {
   "cell_type": "code",
   "execution_count": null,
   "metadata": {},
   "outputs": [],
   "source": [
    "tipos = {'Alien':1,'Ape':2,'Zombie':3,'Male':4,'Female':5}"
   ]
  },
  {
   "cell_type": "code",
   "execution_count": null,
   "metadata": {},
   "outputs": [],
   "source": [
    "df2['type_id']= df2['types'].map(tipos)"
   ]
  },
  {
   "cell_type": "code",
   "execution_count": null,
   "metadata": {},
   "outputs": [],
   "source": [
    "piel = {'Alien':1,'Ape':2,'Zombie':3,'Albino':4,'Dark':5,'Light':6,'Mid':7}"
   ]
  },
  {
   "cell_type": "code",
   "execution_count": null,
   "metadata": {},
   "outputs": [],
   "source": [
    "df2['skin_id']= df2['skin'].map(piel)"
   ]
  },
  {
   "cell_type": "code",
   "execution_count": null,
   "metadata": {},
   "outputs": [],
   "source": [
    "df2.head()"
   ]
  },
  {
   "cell_type": "code",
   "execution_count": null,
   "metadata": {},
   "outputs": [],
   "source": [
    "df2.tail()"
   ]
  },
  {
   "cell_type": "code",
   "execution_count": null,
   "metadata": {},
   "outputs": [],
   "source": [
    "df2.set_index('id',inplace=True)"
   ]
  },
  {
   "cell_type": "code",
   "execution_count": null,
   "metadata": {},
   "outputs": [],
   "source": [
    "df2"
   ]
  },
  {
   "cell_type": "code",
   "execution_count": null,
   "metadata": {},
   "outputs": [],
   "source": [
    "df2[['type_id','rarity','skin_id','total_traits','total_hidden_traits']].to_csv(r'.././to_database/punk.csv',index=True)"
   ]
  },
  {
   "cell_type": "code",
   "execution_count": null,
   "metadata": {},
   "outputs": [],
   "source": []
  },
  {
   "cell_type": "code",
   "execution_count": null,
   "metadata": {},
   "outputs": [],
   "source": [
    "df2"
   ]
  },
  {
   "cell_type": "code",
   "execution_count": null,
   "metadata": {},
   "outputs": [],
   "source": []
  },
  {
   "cell_type": "code",
   "execution_count": null,
   "metadata": {},
   "outputs": [],
   "source": [
    "df_trait = pd.read_csv('.././to_database/trait.csv')"
   ]
  },
  {
   "cell_type": "code",
   "execution_count": null,
   "metadata": {},
   "outputs": [],
   "source": [
    "df_trait.set_index('id',inplace=True)"
   ]
  },
  {
   "cell_type": "code",
   "execution_count": null,
   "metadata": {},
   "outputs": [],
   "source": [
    "df_trait.head()"
   ]
  },
  {
   "cell_type": "code",
   "execution_count": null,
   "metadata": {},
   "outputs": [],
   "source": [
    "df2.head()"
   ]
  },
  {
   "cell_type": "code",
   "execution_count": null,
   "metadata": {},
   "outputs": [],
   "source": [
    "def get_trait_id(df,col_name,word):\n",
    "    index = df.index[df[col_name]==word].values[0]\n",
    "    #print(index)\n",
    "    return index"
   ]
  },
  {
   "cell_type": "code",
   "execution_count": null,
   "metadata": {},
   "outputs": [],
   "source": [
    "punk_id= []\n",
    "trait_id = []\n",
    "for item in df2.traits.iteritems():    \n",
    "    words = item[1].split(',') \n",
    "    #print(words)\n",
    "    for word in words:\n",
    "        if len(word) == 0:\n",
    "            continue\n",
    "        else:   \n",
    "            punk_id.append(item[0])\n",
    "            trait_id.append(get_trait_id(df_trait,'trait',word))"
   ]
  },
  {
   "cell_type": "code",
   "execution_count": null,
   "metadata": {},
   "outputs": [],
   "source": [
    "df_contains_trait = pd.DataFrame({'punk_id':punk_id,'trait_id':trait_id})"
   ]
  },
  {
   "cell_type": "code",
   "execution_count": null,
   "metadata": {},
   "outputs": [],
   "source": [
    "df_contains_trait.to_csv(r'.././to_database/contains_trait.csv',index=False)"
   ]
  },
  {
   "cell_type": "code",
   "execution_count": null,
   "metadata": {},
   "outputs": [],
   "source": [
    "df_contains_trait"
   ]
  },
  {
   "cell_type": "code",
   "execution_count": null,
   "metadata": {},
   "outputs": [],
   "source": [
    "df_hidden_trait = pd.read_csv('.././to_database/hidden_trait.csv')\n",
    "df_hidden_trait.set_index('id',inplace=True)\n",
    "punk_id= []\n",
    "trait_id = []\n",
    "for item in df2.hidden_traits.iteritems():\n",
    "    words = item[1].split(',')    \n",
    "    #print(words)\n",
    "    for word in words:        \n",
    "        if len(word) == 0:\n",
    "            continue\n",
    "        else:\n",
    "            punk_id.append(item[0])\n",
    "            trait_id.append(get_trait_id(df_hidden_trait,'name',word))\n",
    "\n",
    "            \n",
    "df_contains_hidden_trait = pd.DataFrame({'punk_id':punk_id,'hidden_trait_id':trait_id})"
   ]
  },
  {
   "cell_type": "code",
   "execution_count": null,
   "metadata": {},
   "outputs": [],
   "source": [
    "df_contains_hidden_trait.to_csv(r'.././to_database/contains_hidden_trait.csv',index=False)"
   ]
  },
  {
   "cell_type": "code",
   "execution_count": null,
   "metadata": {},
   "outputs": [],
   "source": [
    "df_contains_hidden_trait"
   ]
  }
 ],
 "metadata": {
  "kernelspec": {
   "display_name": "Python 3",
   "language": "python",
   "name": "python3"
  },
  "language_info": {
   "codemirror_mode": {
    "name": "ipython",
    "version": 3
   },
   "file_extension": ".py",
   "mimetype": "text/x-python",
   "name": "python",
   "nbconvert_exporter": "python",
   "pygments_lexer": "ipython3",
   "version": "3.8.8"
  }
 },
 "nbformat": 4,
 "nbformat_minor": 4
}
