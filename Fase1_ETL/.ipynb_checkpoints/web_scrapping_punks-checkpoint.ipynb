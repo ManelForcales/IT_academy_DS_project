{
 "cells": [
  {
   "cell_type": "code",
   "execution_count": 3,
   "metadata": {},
   "outputs": [],
   "source": [
    "import requests\n",
    "from bs4 import BeautifulSoup\n",
    "import re\n",
    "from IPython.display import Image\n",
    "import time"
   ]
  },
  {
   "cell_type": "code",
   "execution_count": 4,
   "metadata": {},
   "outputs": [],
   "source": [
    "import pandas as pd\n",
    "import numpy as np\n",
    "pd.set_option('display.max_columns', None)"
   ]
  },
  {
   "cell_type": "code",
   "execution_count": 5,
   "metadata": {},
   "outputs": [
    {
     "name": "stderr",
     "output_type": "stream",
     "text": [
      "<ipython-input-5-b56b380520ce>:6: DeprecationWarning: use setter for headless property instead of set_headless\n",
      "  opts.set_headless()\n"
     ]
    }
   ],
   "source": [
    "# Utilizamos Selenium para extraer datos\n",
    "\n",
    "from selenium.webdriver import Firefox\n",
    "from selenium.webdriver.firefox.options import Options\n",
    "opts = Options()\n",
    "opts.set_headless()\n",
    "assert opts.headless  # Operating in headless mode\n",
    "#browser = Firefox(options=opts)"
   ]
  },
  {
   "cell_type": "code",
   "execution_count": 114,
   "metadata": {},
   "outputs": [],
   "source": [
    "def extract_rarity_value(text):\n",
    "    text = text.replace(',','')\n",
    "    data = int(re.findall('(\\d+)',text)[0])\n",
    "    return data\n",
    "    "
   ]
  },
  {
   "cell_type": "code",
   "execution_count": 115,
   "metadata": {},
   "outputs": [],
   "source": [
    "types=[]\n",
    "skin=[]\n",
    "total_traits =[]\n",
    "traits =[]\n",
    "punk_id=[]\n",
    "rarity = []\n",
    "\n",
    "total_punks = 10000\n",
    "\n",
    "for i in range(total_punks):\n",
    "    try:\n",
    "        punk_id.append(i)\n",
    "        browser = Firefox(executable_path = '/home/vant/Descargas/geckodriver-v0.29.1-linux64/geckodriver')\n",
    "        url = 'https://defypunk.com/punks/'+str(i)\n",
    "        browser.get(url)\n",
    "        browser.implicitly_wait(20)\n",
    "\n",
    "        rars = browser.find_element_by_xpath('/html/body/div/div/main/div/div/div/div[1]/div[2]')\n",
    "\n",
    "        rarity.append(extract_rarity_value(rars.text))\n",
    "\n",
    "        items = browser.find_element_by_xpath('/html/body/div/div/main/div/div/div/div[1]')\n",
    "        # these are the items marked with tag a\n",
    "        values = items.find_elements_by_tag_name('a')\n",
    "\n",
    "        types.append(values[0].text)\n",
    "        skin_property =(values[1].text).split('-')\n",
    "        skin.append(skin_property[0])\n",
    "        total_traits.append(values[2].text)\n",
    "        traits.append(','.join([x.text for x in values[3:]]))\n",
    "        browser.close()\n",
    "    except Exception as err:\n",
    "        print(f'exepcion {err}')\n",
    "        if len(types) == len(skin) == len(total_traits) == len(traits) == len(punk_id) == len(rarity):\n",
    "            df = pd.DataFrame({'id':punk_id,'types':types,'rarity':rarity,'skin':skin,'total_traits':total_traits,'traits':traits})\n",
    "        else:\n",
    "            print('not all have same length: investigate possible discrepancies')"
   ]
  },
  {
   "cell_type": "code",
   "execution_count": 119,
   "metadata": {},
   "outputs": [],
   "source": [
    "df = pd.DataFrame({'id':punk_id,'types':types,'rarity':rarity,'skin':skin,'total_traits':total_traits,'traits':traits})\n",
    "#df.set_index('id',inplace=True)"
   ]
  },
  {
   "cell_type": "code",
   "execution_count": 120,
   "metadata": {},
   "outputs": [
    {
     "data": {
      "text/html": [
       "<div>\n",
       "<style scoped>\n",
       "    .dataframe tbody tr th:only-of-type {\n",
       "        vertical-align: middle;\n",
       "    }\n",
       "\n",
       "    .dataframe tbody tr th {\n",
       "        vertical-align: top;\n",
       "    }\n",
       "\n",
       "    .dataframe thead th {\n",
       "        text-align: right;\n",
       "    }\n",
       "</style>\n",
       "<table border=\"1\" class=\"dataframe\">\n",
       "  <thead>\n",
       "    <tr style=\"text-align: right;\">\n",
       "      <th></th>\n",
       "      <th>id</th>\n",
       "      <th>types</th>\n",
       "      <th>rarity</th>\n",
       "      <th>skin</th>\n",
       "      <th>total_traits</th>\n",
       "      <th>traits</th>\n",
       "    </tr>\n",
       "  </thead>\n",
       "  <tbody>\n",
       "    <tr>\n",
       "      <th>0</th>\n",
       "      <td>0</td>\n",
       "      <td>Female</td>\n",
       "      <td>2023</td>\n",
       "      <td>Mid</td>\n",
       "      <td>3</td>\n",
       "      <td>Blonde Bob,Earring,Green Eye Shadow,Hidden Ear...</td>\n",
       "    </tr>\n",
       "    <tr>\n",
       "      <th>1</th>\n",
       "      <td>1</td>\n",
       "      <td>Male</td>\n",
       "      <td>4352</td>\n",
       "      <td>Dark</td>\n",
       "      <td>2</td>\n",
       "      <td>Mohawk,Smile</td>\n",
       "    </tr>\n",
       "    <tr>\n",
       "      <th>2</th>\n",
       "      <td>2</td>\n",
       "      <td>Female</td>\n",
       "      <td>8090</td>\n",
       "      <td>Light</td>\n",
       "      <td>1</td>\n",
       "      <td>Wild Hair</td>\n",
       "    </tr>\n",
       "    <tr>\n",
       "      <th>3</th>\n",
       "      <td>3</td>\n",
       "      <td>Male</td>\n",
       "      <td>7896</td>\n",
       "      <td>Dark</td>\n",
       "      <td>3</td>\n",
       "      <td>Nerd Glasses,Pipe,Wild Hair</td>\n",
       "    </tr>\n",
       "    <tr>\n",
       "      <th>4</th>\n",
       "      <td>4</td>\n",
       "      <td>Male</td>\n",
       "      <td>7332</td>\n",
       "      <td>Mid</td>\n",
       "      <td>4</td>\n",
       "      <td>Big Shades,Earring,Goat,Wild Hair</td>\n",
       "    </tr>\n",
       "  </tbody>\n",
       "</table>\n",
       "</div>"
      ],
      "text/plain": [
       "   id   types  rarity   skin total_traits  \\\n",
       "0   0  Female    2023    Mid            3   \n",
       "1   1    Male    4352   Dark            2   \n",
       "2   2  Female    8090  Light            1   \n",
       "3   3    Male    7896   Dark            3   \n",
       "4   4    Male    7332    Mid            4   \n",
       "\n",
       "                                              traits  \n",
       "0  Blonde Bob,Earring,Green Eye Shadow,Hidden Ear...  \n",
       "1                                       Mohawk,Smile  \n",
       "2                                          Wild Hair  \n",
       "3                        Nerd Glasses,Pipe,Wild Hair  \n",
       "4                  Big Shades,Earring,Goat,Wild Hair  "
      ]
     },
     "execution_count": 120,
     "metadata": {},
     "output_type": "execute_result"
    }
   ],
   "source": [
    "df.tail()"
   ]
  },
  {
   "cell_type": "markdown",
   "metadata": {},
   "source": [
    "df.to_csv('punks_atributes.csv')"
   ]
  },
  {
   "cell_type": "code",
   "execution_count": 1,
   "metadata": {},
   "outputs": [],
   "source": [
    "# srapping historic Sales"
   ]
  },
  {
   "cell_type": "code",
   "execution_count": null,
   "metadata": {},
   "outputs": [],
   "source": [
    "punk_id =[]\n",
    "amount_eth = []\n",
    "amount_dollars = []\n",
    "transaction_date = []\n",
    "\n",
    "\n",
    "for j in range(3001,3500):\n",
    "    try:        \n",
    "        browser = Firefox(executable_path = '/home/vant/Descargas/geckodriver-v0.29.1-linux64/geckodriver')\n",
    "        url = 'https://www.larvalabs.com/cryptopunks/details/'+str(j)\n",
    "        browser.get(url)\n",
    "        browser.implicitly_wait(8)\n",
    "\n",
    "        table = browser.find_element_by_tag_name('table')\n",
    "        #rows = table.find_elements_by_tag_name('td')\n",
    "        \n",
    "        rows = table.find_elements_by_class_name('punk-history-row-sold')\n",
    "        for row in rows:\n",
    "            punk_id.append(j)\n",
    "            items = row.text.split(' ')             \n",
    "            amount_eth.append(items[3])\n",
    "            amount_dollars.append(items[4])\n",
    "            transaction_date.append(' '.join(items[5:]))\n",
    "            \n",
    "     \n",
    "        browser.close()\n",
    "        \n",
    "\n",
    "        \n",
    "    except Exception as err:\n",
    "        print(f'exepcion {err}')\n",
    "        \n",
    "df = pd.DataFrame({'id':punk_id,'amount_eth':amount_eth,'amount_dollars':amount_dollars,'transaction':transaction_date})\n",
    "        "
   ]
  },
  {
   "cell_type": "code",
   "execution_count": 38,
   "metadata": {},
   "outputs": [
    {
     "data": {
      "text/plain": [
       "(4, 4, 4, 4)"
      ]
     },
     "execution_count": 38,
     "metadata": {},
     "output_type": "execute_result"
    }
   ],
   "source": [
    "len(punk_id),len(amount_eth),len(amount_dollars),len(transaction_date)"
   ]
  },
  {
   "cell_type": "code",
   "execution_count": 28,
   "metadata": {},
   "outputs": [],
   "source": [
    "df = pd.DataFrame({'id':punk_id,'amount_eth':amount_eth,'amount_dollars':amount_dollars,'transaction':transaction_date})"
   ]
  },
  {
   "cell_type": "code",
   "execution_count": 32,
   "metadata": {},
   "outputs": [
    {
     "data": {
      "text/html": [
       "<div>\n",
       "<style scoped>\n",
       "    .dataframe tbody tr th:only-of-type {\n",
       "        vertical-align: middle;\n",
       "    }\n",
       "\n",
       "    .dataframe tbody tr th {\n",
       "        vertical-align: top;\n",
       "    }\n",
       "\n",
       "    .dataframe thead th {\n",
       "        text-align: right;\n",
       "    }\n",
       "</style>\n",
       "<table border=\"1\" class=\"dataframe\">\n",
       "  <thead>\n",
       "    <tr style=\"text-align: right;\">\n",
       "      <th></th>\n",
       "      <th>id</th>\n",
       "      <th>amount_eth</th>\n",
       "      <th>amount_dollars</th>\n",
       "      <th>transaction</th>\n",
       "    </tr>\n",
       "  </thead>\n",
       "  <tbody>\n",
       "    <tr>\n",
       "      <th>215</th>\n",
       "      <td>2999</td>\n",
       "      <td>2.30Ξ</td>\n",
       "      <td>($796)</td>\n",
       "      <td>Sep 24, 2020</td>\n",
       "    </tr>\n",
       "    <tr>\n",
       "      <th>216</th>\n",
       "      <td>3000</td>\n",
       "      <td>13.85Ξ</td>\n",
       "      <td>($26,554)</td>\n",
       "      <td>Feb 20, 2021</td>\n",
       "    </tr>\n",
       "    <tr>\n",
       "      <th>217</th>\n",
       "      <td>3000</td>\n",
       "      <td>12Ξ</td>\n",
       "      <td>($23,038)</td>\n",
       "      <td>Feb 19, 2021</td>\n",
       "    </tr>\n",
       "    <tr>\n",
       "      <th>218</th>\n",
       "      <td>3000</td>\n",
       "      <td>7.10Ξ</td>\n",
       "      <td>($12,440)</td>\n",
       "      <td>Feb 11, 2021</td>\n",
       "    </tr>\n",
       "    <tr>\n",
       "      <th>219</th>\n",
       "      <td>3001</td>\n",
       "      <td>23.99Ξ</td>\n",
       "      <td>($42,879)</td>\n",
       "      <td>Mar 15, 2021</td>\n",
       "    </tr>\n",
       "  </tbody>\n",
       "</table>\n",
       "</div>"
      ],
      "text/plain": [
       "       id amount_eth amount_dollars   transaction\n",
       "215  2999      2.30Ξ         ($796)  Sep 24, 2020\n",
       "216  3000     13.85Ξ      ($26,554)  Feb 20, 2021\n",
       "217  3000        12Ξ      ($23,038)  Feb 19, 2021\n",
       "218  3000      7.10Ξ      ($12,440)  Feb 11, 2021\n",
       "219  3001     23.99Ξ      ($42,879)  Mar 15, 2021"
      ]
     },
     "execution_count": 32,
     "metadata": {},
     "output_type": "execute_result"
    }
   ],
   "source": [
    "df.tail()"
   ]
  },
  {
   "cell_type": "code",
   "execution_count": 33,
   "metadata": {},
   "outputs": [],
   "source": [
    "df.to_csv('df3001_3500.csv')"
   ]
  },
  {
   "cell_type": "code",
   "execution_count": null,
   "metadata": {},
   "outputs": [],
   "source": []
  },
  {
   "cell_type": "code",
   "execution_count": null,
   "metadata": {},
   "outputs": [],
   "source": []
  },
  {
   "cell_type": "code",
   "execution_count": null,
   "metadata": {},
   "outputs": [],
   "source": []
  },
  {
   "cell_type": "code",
   "execution_count": null,
   "metadata": {},
   "outputs": [],
   "source": []
  },
  {
   "cell_type": "code",
   "execution_count": null,
   "metadata": {},
   "outputs": [],
   "source": []
  },
  {
   "cell_type": "code",
   "execution_count": null,
   "metadata": {},
   "outputs": [],
   "source": []
  }
 ],
 "metadata": {
  "kernelspec": {
   "display_name": "Python 3",
   "language": "python",
   "name": "python3"
  },
  "language_info": {
   "codemirror_mode": {
    "name": "ipython",
    "version": 3
   },
   "file_extension": ".py",
   "mimetype": "text/x-python",
   "name": "python",
   "nbconvert_exporter": "python",
   "pygments_lexer": "ipython3",
   "version": "3.8.8"
  }
 },
 "nbformat": 4,
 "nbformat_minor": 4
}
