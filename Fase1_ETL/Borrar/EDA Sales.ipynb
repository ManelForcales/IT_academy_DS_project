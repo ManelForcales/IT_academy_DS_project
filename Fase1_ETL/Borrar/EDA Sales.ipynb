{
 "cells": [
  {
   "cell_type": "code",
   "execution_count": 1,
   "metadata": {},
   "outputs": [],
   "source": [
    "import numpy as np\n",
    "import pandas as pd\n",
    "import seaborn as sns\n",
    "import matplotlib.pyplot as plt"
   ]
  },
  {
   "cell_type": "code",
   "execution_count": 2,
   "metadata": {},
   "outputs": [
    {
     "data": {
      "text/plain": [
       "<Figure size 1008x720 with 0 Axes>"
      ]
     },
     "metadata": {},
     "output_type": "display_data"
    }
   ],
   "source": [
    "from matplotlib import rcParams\n",
    "rcParams['figure.figsize'] = 14, 10\n",
    "sns.set_context('paper', font_scale=1.5, rc={\"lines.linewidth\": 2.5})\n",
    "sns.despine()\n",
    "sns.set_style(\"dark\")"
   ]
  },
  {
   "cell_type": "markdown",
   "metadata": {},
   "source": [
    "# Importing Datasets"
   ]
  },
  {
   "cell_type": "markdown",
   "metadata": {},
   "source": [
    "### Raw Punk Attributes --> Datasets with unnested values"
   ]
  },
  {
   "cell_type": "code",
   "execution_count": 3,
   "metadata": {},
   "outputs": [],
   "source": [
    "punk_attributes = pd.read_csv('raw_punks.csv')"
   ]
  },
  {
   "cell_type": "code",
   "execution_count": 4,
   "metadata": {},
   "outputs": [
    {
     "data": {
      "text/html": [
       "<div>\n",
       "<style scoped>\n",
       "    .dataframe tbody tr th:only-of-type {\n",
       "        vertical-align: middle;\n",
       "    }\n",
       "\n",
       "    .dataframe tbody tr th {\n",
       "        vertical-align: top;\n",
       "    }\n",
       "\n",
       "    .dataframe thead th {\n",
       "        text-align: right;\n",
       "    }\n",
       "</style>\n",
       "<table border=\"1\" class=\"dataframe\">\n",
       "  <thead>\n",
       "    <tr style=\"text-align: right;\">\n",
       "      <th></th>\n",
       "      <th>Unnamed: 0</th>\n",
       "      <th>id</th>\n",
       "      <th>types</th>\n",
       "      <th>rarity</th>\n",
       "      <th>skin</th>\n",
       "      <th>total_traits</th>\n",
       "      <th>traits</th>\n",
       "      <th>total_hidden_traits</th>\n",
       "      <th>hidden_traits</th>\n",
       "    </tr>\n",
       "  </thead>\n",
       "  <tbody>\n",
       "    <tr>\n",
       "      <td>0</td>\n",
       "      <td>0</td>\n",
       "      <td>0</td>\n",
       "      <td>Female</td>\n",
       "      <td>2023</td>\n",
       "      <td>Mid</td>\n",
       "      <td>3</td>\n",
       "      <td>Blonde Bob,Earring,Green Eye Shadow</td>\n",
       "      <td>1</td>\n",
       "      <td>Earring</td>\n",
       "    </tr>\n",
       "    <tr>\n",
       "      <td>1</td>\n",
       "      <td>1</td>\n",
       "      <td>1</td>\n",
       "      <td>Male</td>\n",
       "      <td>4352</td>\n",
       "      <td>Dark</td>\n",
       "      <td>2</td>\n",
       "      <td>Mohawk,Smile</td>\n",
       "      <td>0</td>\n",
       "      <td>NaN</td>\n",
       "    </tr>\n",
       "    <tr>\n",
       "      <td>2</td>\n",
       "      <td>2</td>\n",
       "      <td>2</td>\n",
       "      <td>Female</td>\n",
       "      <td>8090</td>\n",
       "      <td>Light</td>\n",
       "      <td>1</td>\n",
       "      <td>Wild Hair</td>\n",
       "      <td>0</td>\n",
       "      <td>NaN</td>\n",
       "    </tr>\n",
       "    <tr>\n",
       "      <td>3</td>\n",
       "      <td>3</td>\n",
       "      <td>3</td>\n",
       "      <td>Male</td>\n",
       "      <td>7896</td>\n",
       "      <td>Dark</td>\n",
       "      <td>3</td>\n",
       "      <td>Nerd Glasses,Pipe,Wild Hair</td>\n",
       "      <td>0</td>\n",
       "      <td>NaN</td>\n",
       "    </tr>\n",
       "    <tr>\n",
       "      <td>4</td>\n",
       "      <td>4</td>\n",
       "      <td>4</td>\n",
       "      <td>Male</td>\n",
       "      <td>7332</td>\n",
       "      <td>Mid</td>\n",
       "      <td>4</td>\n",
       "      <td>Big Shades,Earring,Goat,Wild Hair</td>\n",
       "      <td>0</td>\n",
       "      <td>NaN</td>\n",
       "    </tr>\n",
       "    <tr>\n",
       "      <td>...</td>\n",
       "      <td>...</td>\n",
       "      <td>...</td>\n",
       "      <td>...</td>\n",
       "      <td>...</td>\n",
       "      <td>...</td>\n",
       "      <td>...</td>\n",
       "      <td>...</td>\n",
       "      <td>...</td>\n",
       "      <td>...</td>\n",
       "    </tr>\n",
       "    <tr>\n",
       "      <td>9995</td>\n",
       "      <td>9995</td>\n",
       "      <td>9995</td>\n",
       "      <td>Female</td>\n",
       "      <td>2466</td>\n",
       "      <td>Albino</td>\n",
       "      <td>2</td>\n",
       "      <td>Purple Eye Shadow,Straight Hair Dark</td>\n",
       "      <td>0</td>\n",
       "      <td>NaN</td>\n",
       "    </tr>\n",
       "    <tr>\n",
       "      <td>9996</td>\n",
       "      <td>9996</td>\n",
       "      <td>9996</td>\n",
       "      <td>Male</td>\n",
       "      <td>4323</td>\n",
       "      <td>Light</td>\n",
       "      <td>4</td>\n",
       "      <td>Cigarette,Crazy Hair,Earring,Smile</td>\n",
       "      <td>0</td>\n",
       "      <td>NaN</td>\n",
       "    </tr>\n",
       "    <tr>\n",
       "      <td>9997</td>\n",
       "      <td>9997</td>\n",
       "      <td>9997</td>\n",
       "      <td>Zombie</td>\n",
       "      <td>498</td>\n",
       "      <td>Zombie</td>\n",
       "      <td>2</td>\n",
       "      <td>Cap Forward,Front Beard</td>\n",
       "      <td>0</td>\n",
       "      <td>NaN</td>\n",
       "    </tr>\n",
       "    <tr>\n",
       "      <td>9998</td>\n",
       "      <td>9998</td>\n",
       "      <td>9998</td>\n",
       "      <td>Female</td>\n",
       "      <td>1271</td>\n",
       "      <td>Mid</td>\n",
       "      <td>3</td>\n",
       "      <td>Black Lipstick,Clown Eyes Green,Wild White Hair</td>\n",
       "      <td>0</td>\n",
       "      <td>NaN</td>\n",
       "    </tr>\n",
       "    <tr>\n",
       "      <td>9999</td>\n",
       "      <td>9999</td>\n",
       "      <td>9999</td>\n",
       "      <td>Female</td>\n",
       "      <td>9233</td>\n",
       "      <td>Dark</td>\n",
       "      <td>2</td>\n",
       "      <td>Mohawk,Nerd Glasses</td>\n",
       "      <td>0</td>\n",
       "      <td>NaN</td>\n",
       "    </tr>\n",
       "  </tbody>\n",
       "</table>\n",
       "<p>10000 rows × 9 columns</p>\n",
       "</div>"
      ],
      "text/plain": [
       "      Unnamed: 0    id   types  rarity    skin  total_traits  \\\n",
       "0              0     0  Female    2023     Mid             3   \n",
       "1              1     1    Male    4352    Dark             2   \n",
       "2              2     2  Female    8090   Light             1   \n",
       "3              3     3    Male    7896    Dark             3   \n",
       "4              4     4    Male    7332     Mid             4   \n",
       "...          ...   ...     ...     ...     ...           ...   \n",
       "9995        9995  9995  Female    2466  Albino             2   \n",
       "9996        9996  9996    Male    4323   Light             4   \n",
       "9997        9997  9997  Zombie     498  Zombie             2   \n",
       "9998        9998  9998  Female    1271     Mid             3   \n",
       "9999        9999  9999  Female    9233    Dark             2   \n",
       "\n",
       "                                               traits  total_hidden_traits  \\\n",
       "0                 Blonde Bob,Earring,Green Eye Shadow                    1   \n",
       "1                                        Mohawk,Smile                    0   \n",
       "2                                           Wild Hair                    0   \n",
       "3                         Nerd Glasses,Pipe,Wild Hair                    0   \n",
       "4                   Big Shades,Earring,Goat,Wild Hair                    0   \n",
       "...                                               ...                  ...   \n",
       "9995             Purple Eye Shadow,Straight Hair Dark                    0   \n",
       "9996               Cigarette,Crazy Hair,Earring,Smile                    0   \n",
       "9997                          Cap Forward,Front Beard                    0   \n",
       "9998  Black Lipstick,Clown Eyes Green,Wild White Hair                    0   \n",
       "9999                              Mohawk,Nerd Glasses                    0   \n",
       "\n",
       "     hidden_traits  \n",
       "0          Earring  \n",
       "1              NaN  \n",
       "2              NaN  \n",
       "3              NaN  \n",
       "4              NaN  \n",
       "...            ...  \n",
       "9995           NaN  \n",
       "9996           NaN  \n",
       "9997           NaN  \n",
       "9998           NaN  \n",
       "9999           NaN  \n",
       "\n",
       "[10000 rows x 9 columns]"
      ]
     },
     "execution_count": 4,
     "metadata": {},
     "output_type": "execute_result"
    }
   ],
   "source": [
    "punk_attributes"
   ]
  },
  {
   "cell_type": "code",
   "execution_count": 5,
   "metadata": {},
   "outputs": [],
   "source": [
    "transactions = pd.read_csv('transactions.csv')"
   ]
  },
  {
   "cell_type": "code",
   "execution_count": 6,
   "metadata": {},
   "outputs": [
    {
     "data": {
      "text/html": [
       "<div>\n",
       "<style scoped>\n",
       "    .dataframe tbody tr th:only-of-type {\n",
       "        vertical-align: middle;\n",
       "    }\n",
       "\n",
       "    .dataframe tbody tr th {\n",
       "        vertical-align: top;\n",
       "    }\n",
       "\n",
       "    .dataframe thead th {\n",
       "        text-align: right;\n",
       "    }\n",
       "</style>\n",
       "<table border=\"1\" class=\"dataframe\">\n",
       "  <thead>\n",
       "    <tr style=\"text-align: right;\">\n",
       "      <th></th>\n",
       "      <th>Unnamed: 0</th>\n",
       "      <th>Amount</th>\n",
       "      <th>From</th>\n",
       "      <th>To</th>\n",
       "      <th>Txn</th>\n",
       "      <th>Type</th>\n",
       "      <th>punk_id</th>\n",
       "      <th>amount_ethereum</th>\n",
       "      <th>amount_dollars</th>\n",
       "    </tr>\n",
       "  </thead>\n",
       "  <tbody>\n",
       "    <tr>\n",
       "      <td>0</td>\n",
       "      <td>0</td>\n",
       "      <td>250Ξ ($1.03M)</td>\n",
       "      <td>0x983ace</td>\n",
       "      <td>NaN</td>\n",
       "      <td>May 10, 2021</td>\n",
       "      <td>Bid Withdrawn</td>\n",
       "      <td>0.0</td>\n",
       "      <td>250.0</td>\n",
       "      <td>1030000.0</td>\n",
       "    </tr>\n",
       "    <tr>\n",
       "      <td>1</td>\n",
       "      <td>1</td>\n",
       "      <td>250Ξ ($537,615)</td>\n",
       "      <td>0x983ace</td>\n",
       "      <td>NaN</td>\n",
       "      <td>Apr 11, 2021</td>\n",
       "      <td>Bid</td>\n",
       "      <td>0.0</td>\n",
       "      <td>250.0</td>\n",
       "      <td>537615.0</td>\n",
       "    </tr>\n",
       "    <tr>\n",
       "      <td>2</td>\n",
       "      <td>2</td>\n",
       "      <td>100Ξ ($160,973)</td>\n",
       "      <td>0xd7510a</td>\n",
       "      <td>NaN</td>\n",
       "      <td>Mar 03, 2021</td>\n",
       "      <td>Bid Withdrawn</td>\n",
       "      <td>0.0</td>\n",
       "      <td>100.0</td>\n",
       "      <td>160973.0</td>\n",
       "    </tr>\n",
       "    <tr>\n",
       "      <td>3</td>\n",
       "      <td>3</td>\n",
       "      <td>100Ξ ($188,897)</td>\n",
       "      <td>0xd7510a</td>\n",
       "      <td>NaN</td>\n",
       "      <td>Feb 20, 2021</td>\n",
       "      <td>Bid</td>\n",
       "      <td>0.0</td>\n",
       "      <td>100.0</td>\n",
       "      <td>188897.0</td>\n",
       "    </tr>\n",
       "    <tr>\n",
       "      <td>4</td>\n",
       "      <td>4</td>\n",
       "      <td>69Ξ ($25,532)</td>\n",
       "      <td>natealex</td>\n",
       "      <td>NaN</td>\n",
       "      <td>Sep 16, 2020</td>\n",
       "      <td>Bid Withdrawn</td>\n",
       "      <td>0.0</td>\n",
       "      <td>69.0</td>\n",
       "      <td>25532.0</td>\n",
       "    </tr>\n",
       "    <tr>\n",
       "      <td>...</td>\n",
       "      <td>...</td>\n",
       "      <td>...</td>\n",
       "      <td>...</td>\n",
       "      <td>...</td>\n",
       "      <td>...</td>\n",
       "      <td>...</td>\n",
       "      <td>...</td>\n",
       "      <td>...</td>\n",
       "      <td>...</td>\n",
       "    </tr>\n",
       "    <tr>\n",
       "      <td>92818</td>\n",
       "      <td>64588</td>\n",
       "      <td>8Ξ ($1,588)</td>\n",
       "      <td>NaN</td>\n",
       "      <td>NaN</td>\n",
       "      <td>May 21, 2020</td>\n",
       "      <td>Offered</td>\n",
       "      <td>9982.0</td>\n",
       "      <td>8.0</td>\n",
       "      <td>1588.0</td>\n",
       "    </tr>\n",
       "    <tr>\n",
       "      <td>92819</td>\n",
       "      <td>64593</td>\n",
       "      <td>0.10Ξ ($21)</td>\n",
       "      <td>0x6611fe</td>\n",
       "      <td>NaN</td>\n",
       "      <td>Jul 10, 2017</td>\n",
       "      <td>Bid Withdrawn</td>\n",
       "      <td>9984.0</td>\n",
       "      <td>0.1</td>\n",
       "      <td>21.0</td>\n",
       "    </tr>\n",
       "    <tr>\n",
       "      <td>92820</td>\n",
       "      <td>64594</td>\n",
       "      <td>0.10Ξ ($28)</td>\n",
       "      <td>0x6611fe</td>\n",
       "      <td>NaN</td>\n",
       "      <td>Jul 02, 2017</td>\n",
       "      <td>Bid</td>\n",
       "      <td>9984.0</td>\n",
       "      <td>0.1</td>\n",
       "      <td>28.0</td>\n",
       "    </tr>\n",
       "    <tr>\n",
       "      <td>92821</td>\n",
       "      <td>64597</td>\n",
       "      <td>0.10Ξ ($9)</td>\n",
       "      <td>0x95</td>\n",
       "      <td>NaN</td>\n",
       "      <td>Dec 11, 2018</td>\n",
       "      <td>Bid Withdrawn</td>\n",
       "      <td>9985.0</td>\n",
       "      <td>0.1</td>\n",
       "      <td>9.0</td>\n",
       "    </tr>\n",
       "    <tr>\n",
       "      <td>92822</td>\n",
       "      <td>64598</td>\n",
       "      <td>0.10Ξ ($12)</td>\n",
       "      <td>0x95</td>\n",
       "      <td>NaN</td>\n",
       "      <td>Nov 28, 2018</td>\n",
       "      <td>Bid</td>\n",
       "      <td>9985.0</td>\n",
       "      <td>0.1</td>\n",
       "      <td>12.0</td>\n",
       "    </tr>\n",
       "  </tbody>\n",
       "</table>\n",
       "<p>92823 rows × 9 columns</p>\n",
       "</div>"
      ],
      "text/plain": [
       "       Unnamed: 0           Amount      From   To           Txn  \\\n",
       "0               0    250Ξ ($1.03M)  0x983ace  NaN  May 10, 2021   \n",
       "1               1  250Ξ ($537,615)  0x983ace  NaN  Apr 11, 2021   \n",
       "2               2  100Ξ ($160,973)  0xd7510a  NaN  Mar 03, 2021   \n",
       "3               3  100Ξ ($188,897)  0xd7510a  NaN  Feb 20, 2021   \n",
       "4               4    69Ξ ($25,532)  natealex  NaN  Sep 16, 2020   \n",
       "...           ...              ...       ...  ...           ...   \n",
       "92818       64588      8Ξ ($1,588)       NaN  NaN  May 21, 2020   \n",
       "92819       64593      0.10Ξ ($21)  0x6611fe  NaN  Jul 10, 2017   \n",
       "92820       64594      0.10Ξ ($28)  0x6611fe  NaN  Jul 02, 2017   \n",
       "92821       64597       0.10Ξ ($9)      0x95  NaN  Dec 11, 2018   \n",
       "92822       64598      0.10Ξ ($12)      0x95  NaN  Nov 28, 2018   \n",
       "\n",
       "                Type  punk_id  amount_ethereum  amount_dollars  \n",
       "0      Bid Withdrawn      0.0            250.0       1030000.0  \n",
       "1                Bid      0.0            250.0        537615.0  \n",
       "2      Bid Withdrawn      0.0            100.0        160973.0  \n",
       "3                Bid      0.0            100.0        188897.0  \n",
       "4      Bid Withdrawn      0.0             69.0         25532.0  \n",
       "...              ...      ...              ...             ...  \n",
       "92818        Offered   9982.0              8.0          1588.0  \n",
       "92819  Bid Withdrawn   9984.0              0.1            21.0  \n",
       "92820            Bid   9984.0              0.1            28.0  \n",
       "92821  Bid Withdrawn   9985.0              0.1             9.0  \n",
       "92822            Bid   9985.0              0.1            12.0  \n",
       "\n",
       "[92823 rows x 9 columns]"
      ]
     },
     "execution_count": 6,
     "metadata": {},
     "output_type": "execute_result"
    }
   ],
   "source": [
    "transactions"
   ]
  },
  {
   "cell_type": "code",
   "execution_count": 7,
   "metadata": {},
   "outputs": [],
   "source": [
    "offers = pd.read_csv('offers.csv')"
   ]
  },
  {
   "cell_type": "code",
   "execution_count": 8,
   "metadata": {},
   "outputs": [
    {
     "data": {
      "text/html": [
       "<div>\n",
       "<style scoped>\n",
       "    .dataframe tbody tr th:only-of-type {\n",
       "        vertical-align: middle;\n",
       "    }\n",
       "\n",
       "    .dataframe tbody tr th {\n",
       "        vertical-align: top;\n",
       "    }\n",
       "\n",
       "    .dataframe thead th {\n",
       "        text-align: right;\n",
       "    }\n",
       "</style>\n",
       "<table border=\"1\" class=\"dataframe\">\n",
       "  <thead>\n",
       "    <tr style=\"text-align: right;\">\n",
       "      <th></th>\n",
       "      <th>Unnamed: 0</th>\n",
       "      <th>Amount</th>\n",
       "      <th>From</th>\n",
       "      <th>To</th>\n",
       "      <th>Txn</th>\n",
       "      <th>Type</th>\n",
       "      <th>punk_id</th>\n",
       "      <th>amount_ethereum</th>\n",
       "      <th>amount_dollars</th>\n",
       "    </tr>\n",
       "  </thead>\n",
       "  <tbody>\n",
       "    <tr>\n",
       "      <td>0</td>\n",
       "      <td>18</td>\n",
       "      <td>100Ξ ($18,303)</td>\n",
       "      <td>NaN</td>\n",
       "      <td>NaN</td>\n",
       "      <td>Sep 12, 2018</td>\n",
       "      <td>Offered</td>\n",
       "      <td>0.0</td>\n",
       "      <td>100.00</td>\n",
       "      <td>18303.0</td>\n",
       "    </tr>\n",
       "    <tr>\n",
       "      <td>1</td>\n",
       "      <td>19</td>\n",
       "      <td>200Ξ ($138,566)</td>\n",
       "      <td>NaN</td>\n",
       "      <td>NaN</td>\n",
       "      <td>Dec 16, 2017</td>\n",
       "      <td>Offered</td>\n",
       "      <td>0.0</td>\n",
       "      <td>200.00</td>\n",
       "      <td>138566.0</td>\n",
       "    </tr>\n",
       "    <tr>\n",
       "      <td>2</td>\n",
       "      <td>22</td>\n",
       "      <td>400Ξ ($96,376)</td>\n",
       "      <td>NaN</td>\n",
       "      <td>NaN</td>\n",
       "      <td>Jul 07, 2017</td>\n",
       "      <td>Offered</td>\n",
       "      <td>0.0</td>\n",
       "      <td>400.00</td>\n",
       "      <td>96376.0</td>\n",
       "    </tr>\n",
       "    <tr>\n",
       "      <td>3</td>\n",
       "      <td>38</td>\n",
       "      <td>79.50Ξ ($46,842)</td>\n",
       "      <td>NaN</td>\n",
       "      <td>NaN</td>\n",
       "      <td>Nov 25, 2020</td>\n",
       "      <td>Offered</td>\n",
       "      <td>1.0</td>\n",
       "      <td>79.50</td>\n",
       "      <td>46842.0</td>\n",
       "    </tr>\n",
       "    <tr>\n",
       "      <td>4</td>\n",
       "      <td>41</td>\n",
       "      <td>119.10Ξ ($65,980)</td>\n",
       "      <td>NaN</td>\n",
       "      <td>NaN</td>\n",
       "      <td>Nov 22, 2020</td>\n",
       "      <td>Offered</td>\n",
       "      <td>1.0</td>\n",
       "      <td>119.10</td>\n",
       "      <td>65980.0</td>\n",
       "    </tr>\n",
       "    <tr>\n",
       "      <td>...</td>\n",
       "      <td>...</td>\n",
       "      <td>...</td>\n",
       "      <td>...</td>\n",
       "      <td>...</td>\n",
       "      <td>...</td>\n",
       "      <td>...</td>\n",
       "      <td>...</td>\n",
       "      <td>...</td>\n",
       "      <td>...</td>\n",
       "    </tr>\n",
       "    <tr>\n",
       "      <td>44330</td>\n",
       "      <td>64571</td>\n",
       "      <td>1Ξ ($187)</td>\n",
       "      <td>NaN</td>\n",
       "      <td>NaN</td>\n",
       "      <td>Apr 25, 2020</td>\n",
       "      <td>Offered</td>\n",
       "      <td>9979.0</td>\n",
       "      <td>1.00</td>\n",
       "      <td>187.0</td>\n",
       "    </tr>\n",
       "    <tr>\n",
       "      <td>44331</td>\n",
       "      <td>64573</td>\n",
       "      <td>3.14Ξ ($797)</td>\n",
       "      <td>NaN</td>\n",
       "      <td>NaN</td>\n",
       "      <td>Jun 26, 2017</td>\n",
       "      <td>Offered</td>\n",
       "      <td>9979.0</td>\n",
       "      <td>3.14</td>\n",
       "      <td>797.0</td>\n",
       "    </tr>\n",
       "    <tr>\n",
       "      <td>44332</td>\n",
       "      <td>64575</td>\n",
       "      <td>32Ξ ($58,248)</td>\n",
       "      <td>NaN</td>\n",
       "      <td>NaN</td>\n",
       "      <td>Jul 19, 2021</td>\n",
       "      <td>Offered</td>\n",
       "      <td>9980.0</td>\n",
       "      <td>32.00</td>\n",
       "      <td>58248.0</td>\n",
       "    </tr>\n",
       "    <tr>\n",
       "      <td>44333</td>\n",
       "      <td>64586</td>\n",
       "      <td>99.99Ξ ($152,787)</td>\n",
       "      <td>NaN</td>\n",
       "      <td>NaN</td>\n",
       "      <td>Mar 05, 2021</td>\n",
       "      <td>Offered</td>\n",
       "      <td>9982.0</td>\n",
       "      <td>99.99</td>\n",
       "      <td>152787.0</td>\n",
       "    </tr>\n",
       "    <tr>\n",
       "      <td>44334</td>\n",
       "      <td>64588</td>\n",
       "      <td>8Ξ ($1,588)</td>\n",
       "      <td>NaN</td>\n",
       "      <td>NaN</td>\n",
       "      <td>May 21, 2020</td>\n",
       "      <td>Offered</td>\n",
       "      <td>9982.0</td>\n",
       "      <td>8.00</td>\n",
       "      <td>1588.0</td>\n",
       "    </tr>\n",
       "  </tbody>\n",
       "</table>\n",
       "<p>44335 rows × 9 columns</p>\n",
       "</div>"
      ],
      "text/plain": [
       "       Unnamed: 0             Amount  From   To           Txn     Type  \\\n",
       "0              18     100Ξ ($18,303)   NaN  NaN  Sep 12, 2018  Offered   \n",
       "1              19    200Ξ ($138,566)   NaN  NaN  Dec 16, 2017  Offered   \n",
       "2              22     400Ξ ($96,376)   NaN  NaN  Jul 07, 2017  Offered   \n",
       "3              38   79.50Ξ ($46,842)   NaN  NaN  Nov 25, 2020  Offered   \n",
       "4              41  119.10Ξ ($65,980)   NaN  NaN  Nov 22, 2020  Offered   \n",
       "...           ...                ...   ...  ...           ...      ...   \n",
       "44330       64571          1Ξ ($187)   NaN  NaN  Apr 25, 2020  Offered   \n",
       "44331       64573       3.14Ξ ($797)   NaN  NaN  Jun 26, 2017  Offered   \n",
       "44332       64575      32Ξ ($58,248)   NaN  NaN  Jul 19, 2021  Offered   \n",
       "44333       64586  99.99Ξ ($152,787)   NaN  NaN  Mar 05, 2021  Offered   \n",
       "44334       64588        8Ξ ($1,588)   NaN  NaN  May 21, 2020  Offered   \n",
       "\n",
       "       punk_id  amount_ethereum  amount_dollars  \n",
       "0          0.0           100.00         18303.0  \n",
       "1          0.0           200.00        138566.0  \n",
       "2          0.0           400.00         96376.0  \n",
       "3          1.0            79.50         46842.0  \n",
       "4          1.0           119.10         65980.0  \n",
       "...        ...              ...             ...  \n",
       "44330   9979.0             1.00           187.0  \n",
       "44331   9979.0             3.14           797.0  \n",
       "44332   9980.0            32.00         58248.0  \n",
       "44333   9982.0            99.99        152787.0  \n",
       "44334   9982.0             8.00          1588.0  \n",
       "\n",
       "[44335 rows x 9 columns]"
      ]
     },
     "execution_count": 8,
     "metadata": {},
     "output_type": "execute_result"
    }
   ],
   "source": [
    "offers"
   ]
  },
  {
   "cell_type": "code",
   "execution_count": 9,
   "metadata": {},
   "outputs": [],
   "source": [
    "bids = pd.read_csv('bids.csv')"
   ]
  },
  {
   "cell_type": "code",
   "execution_count": 10,
   "metadata": {},
   "outputs": [
    {
     "data": {
      "text/html": [
       "<div>\n",
       "<style scoped>\n",
       "    .dataframe tbody tr th:only-of-type {\n",
       "        vertical-align: middle;\n",
       "    }\n",
       "\n",
       "    .dataframe tbody tr th {\n",
       "        vertical-align: top;\n",
       "    }\n",
       "\n",
       "    .dataframe thead th {\n",
       "        text-align: right;\n",
       "    }\n",
       "</style>\n",
       "<table border=\"1\" class=\"dataframe\">\n",
       "  <thead>\n",
       "    <tr style=\"text-align: right;\">\n",
       "      <th></th>\n",
       "      <th>Unnamed: 0</th>\n",
       "      <th>Amount</th>\n",
       "      <th>From</th>\n",
       "      <th>To</th>\n",
       "      <th>Txn</th>\n",
       "      <th>Type</th>\n",
       "      <th>punk_id</th>\n",
       "      <th>amount_ethereum</th>\n",
       "      <th>amount_dollars</th>\n",
       "    </tr>\n",
       "  </thead>\n",
       "  <tbody>\n",
       "    <tr>\n",
       "      <td>0</td>\n",
       "      <td>0</td>\n",
       "      <td>250Ξ ($1.03M)</td>\n",
       "      <td>0x983ace</td>\n",
       "      <td>NaN</td>\n",
       "      <td>May 10, 2021</td>\n",
       "      <td>Bid Withdrawn</td>\n",
       "      <td>0.0</td>\n",
       "      <td>250.0</td>\n",
       "      <td>1030000.0</td>\n",
       "    </tr>\n",
       "    <tr>\n",
       "      <td>1</td>\n",
       "      <td>1</td>\n",
       "      <td>250Ξ ($537,615)</td>\n",
       "      <td>0x983ace</td>\n",
       "      <td>NaN</td>\n",
       "      <td>Apr 11, 2021</td>\n",
       "      <td>Bid</td>\n",
       "      <td>0.0</td>\n",
       "      <td>250.0</td>\n",
       "      <td>537615.0</td>\n",
       "    </tr>\n",
       "    <tr>\n",
       "      <td>2</td>\n",
       "      <td>2</td>\n",
       "      <td>100Ξ ($160,973)</td>\n",
       "      <td>0xd7510a</td>\n",
       "      <td>NaN</td>\n",
       "      <td>Mar 03, 2021</td>\n",
       "      <td>Bid Withdrawn</td>\n",
       "      <td>0.0</td>\n",
       "      <td>100.0</td>\n",
       "      <td>160973.0</td>\n",
       "    </tr>\n",
       "    <tr>\n",
       "      <td>3</td>\n",
       "      <td>3</td>\n",
       "      <td>100Ξ ($188,897)</td>\n",
       "      <td>0xd7510a</td>\n",
       "      <td>NaN</td>\n",
       "      <td>Feb 20, 2021</td>\n",
       "      <td>Bid</td>\n",
       "      <td>0.0</td>\n",
       "      <td>100.0</td>\n",
       "      <td>188897.0</td>\n",
       "    </tr>\n",
       "    <tr>\n",
       "      <td>4</td>\n",
       "      <td>4</td>\n",
       "      <td>69Ξ ($25,532)</td>\n",
       "      <td>natealex</td>\n",
       "      <td>NaN</td>\n",
       "      <td>Sep 16, 2020</td>\n",
       "      <td>Bid Withdrawn</td>\n",
       "      <td>0.0</td>\n",
       "      <td>69.0</td>\n",
       "      <td>25532.0</td>\n",
       "    </tr>\n",
       "    <tr>\n",
       "      <td>...</td>\n",
       "      <td>...</td>\n",
       "      <td>...</td>\n",
       "      <td>...</td>\n",
       "      <td>...</td>\n",
       "      <td>...</td>\n",
       "      <td>...</td>\n",
       "      <td>...</td>\n",
       "      <td>...</td>\n",
       "      <td>...</td>\n",
       "    </tr>\n",
       "    <tr>\n",
       "      <td>34320</td>\n",
       "      <td>64579</td>\n",
       "      <td>0.10Ξ ($64)</td>\n",
       "      <td>Kenney</td>\n",
       "      <td>NaN</td>\n",
       "      <td>Apr 23, 2018</td>\n",
       "      <td>Bid</td>\n",
       "      <td>9980.0</td>\n",
       "      <td>0.1</td>\n",
       "      <td>64.0</td>\n",
       "    </tr>\n",
       "    <tr>\n",
       "      <td>34321</td>\n",
       "      <td>64593</td>\n",
       "      <td>0.10Ξ ($21)</td>\n",
       "      <td>0x6611fe</td>\n",
       "      <td>NaN</td>\n",
       "      <td>Jul 10, 2017</td>\n",
       "      <td>Bid Withdrawn</td>\n",
       "      <td>9984.0</td>\n",
       "      <td>0.1</td>\n",
       "      <td>21.0</td>\n",
       "    </tr>\n",
       "    <tr>\n",
       "      <td>34322</td>\n",
       "      <td>64594</td>\n",
       "      <td>0.10Ξ ($28)</td>\n",
       "      <td>0x6611fe</td>\n",
       "      <td>NaN</td>\n",
       "      <td>Jul 02, 2017</td>\n",
       "      <td>Bid</td>\n",
       "      <td>9984.0</td>\n",
       "      <td>0.1</td>\n",
       "      <td>28.0</td>\n",
       "    </tr>\n",
       "    <tr>\n",
       "      <td>34323</td>\n",
       "      <td>64597</td>\n",
       "      <td>0.10Ξ ($9)</td>\n",
       "      <td>0x95</td>\n",
       "      <td>NaN</td>\n",
       "      <td>Dec 11, 2018</td>\n",
       "      <td>Bid Withdrawn</td>\n",
       "      <td>9985.0</td>\n",
       "      <td>0.1</td>\n",
       "      <td>9.0</td>\n",
       "    </tr>\n",
       "    <tr>\n",
       "      <td>34324</td>\n",
       "      <td>64598</td>\n",
       "      <td>0.10Ξ ($12)</td>\n",
       "      <td>0x95</td>\n",
       "      <td>NaN</td>\n",
       "      <td>Nov 28, 2018</td>\n",
       "      <td>Bid</td>\n",
       "      <td>9985.0</td>\n",
       "      <td>0.1</td>\n",
       "      <td>12.0</td>\n",
       "    </tr>\n",
       "  </tbody>\n",
       "</table>\n",
       "<p>34325 rows × 9 columns</p>\n",
       "</div>"
      ],
      "text/plain": [
       "       Unnamed: 0           Amount      From  To           Txn           Type  \\\n",
       "0               0    250Ξ ($1.03M)  0x983ace NaN  May 10, 2021  Bid Withdrawn   \n",
       "1               1  250Ξ ($537,615)  0x983ace NaN  Apr 11, 2021            Bid   \n",
       "2               2  100Ξ ($160,973)  0xd7510a NaN  Mar 03, 2021  Bid Withdrawn   \n",
       "3               3  100Ξ ($188,897)  0xd7510a NaN  Feb 20, 2021            Bid   \n",
       "4               4    69Ξ ($25,532)  natealex NaN  Sep 16, 2020  Bid Withdrawn   \n",
       "...           ...              ...       ...  ..           ...            ...   \n",
       "34320       64579      0.10Ξ ($64)    Kenney NaN  Apr 23, 2018            Bid   \n",
       "34321       64593      0.10Ξ ($21)  0x6611fe NaN  Jul 10, 2017  Bid Withdrawn   \n",
       "34322       64594      0.10Ξ ($28)  0x6611fe NaN  Jul 02, 2017            Bid   \n",
       "34323       64597       0.10Ξ ($9)      0x95 NaN  Dec 11, 2018  Bid Withdrawn   \n",
       "34324       64598      0.10Ξ ($12)      0x95 NaN  Nov 28, 2018            Bid   \n",
       "\n",
       "       punk_id  amount_ethereum  amount_dollars  \n",
       "0          0.0            250.0       1030000.0  \n",
       "1          0.0            250.0        537615.0  \n",
       "2          0.0            100.0        160973.0  \n",
       "3          0.0            100.0        188897.0  \n",
       "4          0.0             69.0         25532.0  \n",
       "...        ...              ...             ...  \n",
       "34320   9980.0              0.1            64.0  \n",
       "34321   9984.0              0.1            21.0  \n",
       "34322   9984.0              0.1            28.0  \n",
       "34323   9985.0              0.1             9.0  \n",
       "34324   9985.0              0.1            12.0  \n",
       "\n",
       "[34325 rows x 9 columns]"
      ]
     },
     "execution_count": 10,
     "metadata": {},
     "output_type": "execute_result"
    }
   ],
   "source": [
    "bids"
   ]
  },
  {
   "cell_type": "markdown",
   "metadata": {},
   "source": [
    "### Punk Sales"
   ]
  },
  {
   "cell_type": "code",
   "execution_count": 11,
   "metadata": {},
   "outputs": [],
   "source": [
    "sales = pd.read_csv('sales.csv')"
   ]
  },
  {
   "cell_type": "code",
   "execution_count": 12,
   "metadata": {},
   "outputs": [],
   "source": [
    "sales['Txn'] = sales['Txn'].astype('datetime64')"
   ]
  },
  {
   "cell_type": "code",
   "execution_count": 13,
   "metadata": {},
   "outputs": [
    {
     "data": {
      "text/html": [
       "<div>\n",
       "<style scoped>\n",
       "    .dataframe tbody tr th:only-of-type {\n",
       "        vertical-align: middle;\n",
       "    }\n",
       "\n",
       "    .dataframe tbody tr th {\n",
       "        vertical-align: top;\n",
       "    }\n",
       "\n",
       "    .dataframe thead th {\n",
       "        text-align: right;\n",
       "    }\n",
       "</style>\n",
       "<table border=\"1\" class=\"dataframe\">\n",
       "  <thead>\n",
       "    <tr style=\"text-align: right;\">\n",
       "      <th></th>\n",
       "      <th>Unnamed: 0</th>\n",
       "      <th>Amount</th>\n",
       "      <th>From</th>\n",
       "      <th>To</th>\n",
       "      <th>Txn</th>\n",
       "      <th>Type</th>\n",
       "      <th>punk_id</th>\n",
       "      <th>amount_ethereum</th>\n",
       "      <th>amount_dollars</th>\n",
       "    </tr>\n",
       "  </thead>\n",
       "  <tbody>\n",
       "    <tr>\n",
       "      <td>0</td>\n",
       "      <td>16</td>\n",
       "      <td>25Ξ ($2,822)</td>\n",
       "      <td>0xf5099e</td>\n",
       "      <td>0xe08c32</td>\n",
       "      <td>2018-11-30</td>\n",
       "      <td>Sold</td>\n",
       "      <td>0.0</td>\n",
       "      <td>25.00</td>\n",
       "      <td>2822.0</td>\n",
       "    </tr>\n",
       "    <tr>\n",
       "      <td>1</td>\n",
       "      <td>24</td>\n",
       "      <td>1.60Ξ ($386)</td>\n",
       "      <td>0x00d7c9</td>\n",
       "      <td>0xa0a59c</td>\n",
       "      <td>2017-07-07</td>\n",
       "      <td>Sold</td>\n",
       "      <td>0.0</td>\n",
       "      <td>1.60</td>\n",
       "      <td>386.0</td>\n",
       "    </tr>\n",
       "    <tr>\n",
       "      <td>2</td>\n",
       "      <td>31</td>\n",
       "      <td>0.98Ξ ($320)</td>\n",
       "      <td>0xc352b5</td>\n",
       "      <td>0x00d7c9</td>\n",
       "      <td>2017-06-23</td>\n",
       "      <td>Sold</td>\n",
       "      <td>0.0</td>\n",
       "      <td>0.98</td>\n",
       "      <td>320.0</td>\n",
       "    </tr>\n",
       "    <tr>\n",
       "      <td>3</td>\n",
       "      <td>36</td>\n",
       "      <td>60Ξ ($36,305)</td>\n",
       "      <td>EliteCat…</td>\n",
       "      <td>0xcf6165</td>\n",
       "      <td>2020-11-30</td>\n",
       "      <td>Sold</td>\n",
       "      <td>1.0</td>\n",
       "      <td>60.00</td>\n",
       "      <td>36305.0</td>\n",
       "    </tr>\n",
       "    <tr>\n",
       "      <td>4</td>\n",
       "      <td>62</td>\n",
       "      <td>31Ξ ($5,155)</td>\n",
       "      <td>0xf5099e</td>\n",
       "      <td>GoWest23</td>\n",
       "      <td>2019-04-06</td>\n",
       "      <td>Sold</td>\n",
       "      <td>1.0</td>\n",
       "      <td>31.00</td>\n",
       "      <td>5155.0</td>\n",
       "    </tr>\n",
       "    <tr>\n",
       "      <td>...</td>\n",
       "      <td>...</td>\n",
       "      <td>...</td>\n",
       "      <td>...</td>\n",
       "      <td>...</td>\n",
       "      <td>...</td>\n",
       "      <td>...</td>\n",
       "      <td>...</td>\n",
       "      <td>...</td>\n",
       "      <td>...</td>\n",
       "    </tr>\n",
       "    <tr>\n",
       "      <td>14158</td>\n",
       "      <td>64562</td>\n",
       "      <td>6.20Ξ ($7,744)</td>\n",
       "      <td>niwin</td>\n",
       "      <td>0xb166dd</td>\n",
       "      <td>2021-01-27</td>\n",
       "      <td>Sold</td>\n",
       "      <td>9979.0</td>\n",
       "      <td>6.20</td>\n",
       "      <td>7744.0</td>\n",
       "    </tr>\n",
       "    <tr>\n",
       "      <td>14159</td>\n",
       "      <td>64565</td>\n",
       "      <td>5Ξ ($1,824)</td>\n",
       "      <td>pastelcr…</td>\n",
       "      <td>niwin</td>\n",
       "      <td>2020-09-28</td>\n",
       "      <td>Sold</td>\n",
       "      <td>9979.0</td>\n",
       "      <td>5.00</td>\n",
       "      <td>1824.0</td>\n",
       "    </tr>\n",
       "    <tr>\n",
       "      <td>14160</td>\n",
       "      <td>64569</td>\n",
       "      <td>1Ξ ($214)</td>\n",
       "      <td>shilpixe…</td>\n",
       "      <td>pastelcr…</td>\n",
       "      <td>2020-05-20</td>\n",
       "      <td>Sold</td>\n",
       "      <td>9979.0</td>\n",
       "      <td>1.00</td>\n",
       "      <td>214.0</td>\n",
       "    </tr>\n",
       "    <tr>\n",
       "      <td>14161</td>\n",
       "      <td>64576</td>\n",
       "      <td>29Ξ ($68,110)</td>\n",
       "      <td>Kenney</td>\n",
       "      <td>0xaa614b</td>\n",
       "      <td>2021-07-04</td>\n",
       "      <td>Sold</td>\n",
       "      <td>9980.0</td>\n",
       "      <td>29.00</td>\n",
       "      <td>68110.0</td>\n",
       "    </tr>\n",
       "    <tr>\n",
       "      <td>14162</td>\n",
       "      <td>64578</td>\n",
       "      <td>0.10Ξ ($70)</td>\n",
       "      <td>0x58164b</td>\n",
       "      <td>Kenney</td>\n",
       "      <td>2018-04-24</td>\n",
       "      <td>Sold</td>\n",
       "      <td>9980.0</td>\n",
       "      <td>0.10</td>\n",
       "      <td>70.0</td>\n",
       "    </tr>\n",
       "  </tbody>\n",
       "</table>\n",
       "<p>14163 rows × 9 columns</p>\n",
       "</div>"
      ],
      "text/plain": [
       "       Unnamed: 0          Amount       From         To        Txn  Type  \\\n",
       "0              16    25Ξ ($2,822)   0xf5099e   0xe08c32 2018-11-30  Sold   \n",
       "1              24    1.60Ξ ($386)   0x00d7c9   0xa0a59c 2017-07-07  Sold   \n",
       "2              31    0.98Ξ ($320)   0xc352b5   0x00d7c9 2017-06-23  Sold   \n",
       "3              36   60Ξ ($36,305)  EliteCat…   0xcf6165 2020-11-30  Sold   \n",
       "4              62    31Ξ ($5,155)   0xf5099e   GoWest23 2019-04-06  Sold   \n",
       "...           ...             ...        ...        ...        ...   ...   \n",
       "14158       64562  6.20Ξ ($7,744)      niwin   0xb166dd 2021-01-27  Sold   \n",
       "14159       64565     5Ξ ($1,824)  pastelcr…      niwin 2020-09-28  Sold   \n",
       "14160       64569       1Ξ ($214)  shilpixe…  pastelcr… 2020-05-20  Sold   \n",
       "14161       64576   29Ξ ($68,110)     Kenney   0xaa614b 2021-07-04  Sold   \n",
       "14162       64578     0.10Ξ ($70)   0x58164b     Kenney 2018-04-24  Sold   \n",
       "\n",
       "       punk_id  amount_ethereum  amount_dollars  \n",
       "0          0.0            25.00          2822.0  \n",
       "1          0.0             1.60           386.0  \n",
       "2          0.0             0.98           320.0  \n",
       "3          1.0            60.00         36305.0  \n",
       "4          1.0            31.00          5155.0  \n",
       "...        ...              ...             ...  \n",
       "14158   9979.0             6.20          7744.0  \n",
       "14159   9979.0             5.00          1824.0  \n",
       "14160   9979.0             1.00           214.0  \n",
       "14161   9980.0            29.00         68110.0  \n",
       "14162   9980.0             0.10            70.0  \n",
       "\n",
       "[14163 rows x 9 columns]"
      ]
     },
     "execution_count": 13,
     "metadata": {},
     "output_type": "execute_result"
    }
   ],
   "source": [
    "sales"
   ]
  },
  {
   "cell_type": "code",
   "execution_count": 14,
   "metadata": {},
   "outputs": [
    {
     "data": {
      "text/html": [
       "<div>\n",
       "<style scoped>\n",
       "    .dataframe tbody tr th:only-of-type {\n",
       "        vertical-align: middle;\n",
       "    }\n",
       "\n",
       "    .dataframe tbody tr th {\n",
       "        vertical-align: top;\n",
       "    }\n",
       "\n",
       "    .dataframe thead th {\n",
       "        text-align: right;\n",
       "    }\n",
       "</style>\n",
       "<table border=\"1\" class=\"dataframe\">\n",
       "  <thead>\n",
       "    <tr style=\"text-align: right;\">\n",
       "      <th></th>\n",
       "      <th>Unnamed: 0</th>\n",
       "      <th>punk_id</th>\n",
       "      <th>amount_ethereum</th>\n",
       "      <th>amount_dollars</th>\n",
       "    </tr>\n",
       "  </thead>\n",
       "  <tbody>\n",
       "    <tr>\n",
       "      <td>count</td>\n",
       "      <td>14163.000000</td>\n",
       "      <td>14163.000000</td>\n",
       "      <td>14163.000000</td>\n",
       "      <td>1.416300e+04</td>\n",
       "    </tr>\n",
       "    <tr>\n",
       "      <td>mean</td>\n",
       "      <td>32195.916826</td>\n",
       "      <td>5327.532514</td>\n",
       "      <td>14.402932</td>\n",
       "      <td>2.771882e+04</td>\n",
       "    </tr>\n",
       "    <tr>\n",
       "      <td>std</td>\n",
       "      <td>17486.306114</td>\n",
       "      <td>2629.490972</td>\n",
       "      <td>56.271692</td>\n",
       "      <td>1.058900e+05</td>\n",
       "    </tr>\n",
       "    <tr>\n",
       "      <td>min</td>\n",
       "      <td>0.000000</td>\n",
       "      <td>0.000000</td>\n",
       "      <td>0.000000</td>\n",
       "      <td>0.000000e+00</td>\n",
       "    </tr>\n",
       "    <tr>\n",
       "      <td>25%</td>\n",
       "      <td>17440.500000</td>\n",
       "      <td>3131.000000</td>\n",
       "      <td>0.910000</td>\n",
       "      <td>2.020000e+02</td>\n",
       "    </tr>\n",
       "    <tr>\n",
       "      <td>50%</td>\n",
       "      <td>32399.000000</td>\n",
       "      <td>5254.000000</td>\n",
       "      <td>5.750000</td>\n",
       "      <td>2.898000e+03</td>\n",
       "    </tr>\n",
       "    <tr>\n",
       "      <td>75%</td>\n",
       "      <td>47047.000000</td>\n",
       "      <td>7558.000000</td>\n",
       "      <td>21.000000</td>\n",
       "      <td>4.160300e+04</td>\n",
       "    </tr>\n",
       "    <tr>\n",
       "      <td>max</td>\n",
       "      <td>64578.000000</td>\n",
       "      <td>9980.000000</td>\n",
       "      <td>4200.000000</td>\n",
       "      <td>7.580000e+06</td>\n",
       "    </tr>\n",
       "  </tbody>\n",
       "</table>\n",
       "</div>"
      ],
      "text/plain": [
       "         Unnamed: 0       punk_id  amount_ethereum  amount_dollars\n",
       "count  14163.000000  14163.000000     14163.000000    1.416300e+04\n",
       "mean   32195.916826   5327.532514        14.402932    2.771882e+04\n",
       "std    17486.306114   2629.490972        56.271692    1.058900e+05\n",
       "min        0.000000      0.000000         0.000000    0.000000e+00\n",
       "25%    17440.500000   3131.000000         0.910000    2.020000e+02\n",
       "50%    32399.000000   5254.000000         5.750000    2.898000e+03\n",
       "75%    47047.000000   7558.000000        21.000000    4.160300e+04\n",
       "max    64578.000000   9980.000000      4200.000000    7.580000e+06"
      ]
     },
     "execution_count": 14,
     "metadata": {},
     "output_type": "execute_result"
    }
   ],
   "source": [
    "sales.describe()"
   ]
  },
  {
   "cell_type": "markdown",
   "metadata": {},
   "source": [
    "### Aggregated DF"
   ]
  },
  {
   "cell_type": "code",
   "execution_count": 15,
   "metadata": {},
   "outputs": [],
   "source": [
    "aggregated_df = pd.merge(sales, punk_attributes, left_on=['punk_id'], right_on=['id'])"
   ]
  },
  {
   "cell_type": "code",
   "execution_count": 16,
   "metadata": {},
   "outputs": [],
   "source": [
    "aggregated_df.drop(columns=['Unnamed: 0_x', 'Unnamed: 0_y'], inplace=True)"
   ]
  },
  {
   "cell_type": "code",
   "execution_count": 17,
   "metadata": {},
   "outputs": [],
   "source": [
    "### Adding \"Transaction\" column in order to find transactioned Punk_ids\n",
    "transactions['transactioned'] = np.where((transactions['Type']==\"Sold\"), 1, 0)"
   ]
  },
  {
   "cell_type": "code",
   "execution_count": 18,
   "metadata": {},
   "outputs": [],
   "source": [
    "aggregated_df['Year'] = aggregated_df['Txn'].dt.year\n",
    "aggregated_df['Month'] = aggregated_df['Txn'].dt.month"
   ]
  },
  {
   "cell_type": "code",
   "execution_count": 19,
   "metadata": {},
   "outputs": [
    {
     "data": {
      "text/html": [
       "<div>\n",
       "<style scoped>\n",
       "    .dataframe tbody tr th:only-of-type {\n",
       "        vertical-align: middle;\n",
       "    }\n",
       "\n",
       "    .dataframe tbody tr th {\n",
       "        vertical-align: top;\n",
       "    }\n",
       "\n",
       "    .dataframe thead th {\n",
       "        text-align: right;\n",
       "    }\n",
       "</style>\n",
       "<table border=\"1\" class=\"dataframe\">\n",
       "  <thead>\n",
       "    <tr style=\"text-align: right;\">\n",
       "      <th></th>\n",
       "      <th>Amount</th>\n",
       "      <th>From</th>\n",
       "      <th>To</th>\n",
       "      <th>Txn</th>\n",
       "      <th>Type</th>\n",
       "      <th>punk_id</th>\n",
       "      <th>amount_ethereum</th>\n",
       "      <th>amount_dollars</th>\n",
       "      <th>id</th>\n",
       "      <th>types</th>\n",
       "      <th>rarity</th>\n",
       "      <th>skin</th>\n",
       "      <th>total_traits</th>\n",
       "      <th>traits</th>\n",
       "      <th>total_hidden_traits</th>\n",
       "      <th>hidden_traits</th>\n",
       "      <th>Year</th>\n",
       "      <th>Month</th>\n",
       "    </tr>\n",
       "  </thead>\n",
       "  <tbody>\n",
       "    <tr>\n",
       "      <td>0</td>\n",
       "      <td>25Ξ ($2,822)</td>\n",
       "      <td>0xf5099e</td>\n",
       "      <td>0xe08c32</td>\n",
       "      <td>2018-11-30</td>\n",
       "      <td>Sold</td>\n",
       "      <td>0.0</td>\n",
       "      <td>25.00</td>\n",
       "      <td>2822.0</td>\n",
       "      <td>0</td>\n",
       "      <td>Female</td>\n",
       "      <td>2023</td>\n",
       "      <td>Mid</td>\n",
       "      <td>3</td>\n",
       "      <td>Blonde Bob,Earring,Green Eye Shadow</td>\n",
       "      <td>1</td>\n",
       "      <td>Earring</td>\n",
       "      <td>2018</td>\n",
       "      <td>11</td>\n",
       "    </tr>\n",
       "    <tr>\n",
       "      <td>1</td>\n",
       "      <td>1.60Ξ ($386)</td>\n",
       "      <td>0x00d7c9</td>\n",
       "      <td>0xa0a59c</td>\n",
       "      <td>2017-07-07</td>\n",
       "      <td>Sold</td>\n",
       "      <td>0.0</td>\n",
       "      <td>1.60</td>\n",
       "      <td>386.0</td>\n",
       "      <td>0</td>\n",
       "      <td>Female</td>\n",
       "      <td>2023</td>\n",
       "      <td>Mid</td>\n",
       "      <td>3</td>\n",
       "      <td>Blonde Bob,Earring,Green Eye Shadow</td>\n",
       "      <td>1</td>\n",
       "      <td>Earring</td>\n",
       "      <td>2017</td>\n",
       "      <td>7</td>\n",
       "    </tr>\n",
       "    <tr>\n",
       "      <td>2</td>\n",
       "      <td>0.98Ξ ($320)</td>\n",
       "      <td>0xc352b5</td>\n",
       "      <td>0x00d7c9</td>\n",
       "      <td>2017-06-23</td>\n",
       "      <td>Sold</td>\n",
       "      <td>0.0</td>\n",
       "      <td>0.98</td>\n",
       "      <td>320.0</td>\n",
       "      <td>0</td>\n",
       "      <td>Female</td>\n",
       "      <td>2023</td>\n",
       "      <td>Mid</td>\n",
       "      <td>3</td>\n",
       "      <td>Blonde Bob,Earring,Green Eye Shadow</td>\n",
       "      <td>1</td>\n",
       "      <td>Earring</td>\n",
       "      <td>2017</td>\n",
       "      <td>6</td>\n",
       "    </tr>\n",
       "    <tr>\n",
       "      <td>3</td>\n",
       "      <td>60Ξ ($36,305)</td>\n",
       "      <td>EliteCat…</td>\n",
       "      <td>0xcf6165</td>\n",
       "      <td>2020-11-30</td>\n",
       "      <td>Sold</td>\n",
       "      <td>1.0</td>\n",
       "      <td>60.00</td>\n",
       "      <td>36305.0</td>\n",
       "      <td>1</td>\n",
       "      <td>Male</td>\n",
       "      <td>4352</td>\n",
       "      <td>Dark</td>\n",
       "      <td>2</td>\n",
       "      <td>Mohawk,Smile</td>\n",
       "      <td>0</td>\n",
       "      <td>NaN</td>\n",
       "      <td>2020</td>\n",
       "      <td>11</td>\n",
       "    </tr>\n",
       "    <tr>\n",
       "      <td>4</td>\n",
       "      <td>31Ξ ($5,155)</td>\n",
       "      <td>0xf5099e</td>\n",
       "      <td>GoWest23</td>\n",
       "      <td>2019-04-06</td>\n",
       "      <td>Sold</td>\n",
       "      <td>1.0</td>\n",
       "      <td>31.00</td>\n",
       "      <td>5155.0</td>\n",
       "      <td>1</td>\n",
       "      <td>Male</td>\n",
       "      <td>4352</td>\n",
       "      <td>Dark</td>\n",
       "      <td>2</td>\n",
       "      <td>Mohawk,Smile</td>\n",
       "      <td>0</td>\n",
       "      <td>NaN</td>\n",
       "      <td>2019</td>\n",
       "      <td>4</td>\n",
       "    </tr>\n",
       "    <tr>\n",
       "      <td>...</td>\n",
       "      <td>...</td>\n",
       "      <td>...</td>\n",
       "      <td>...</td>\n",
       "      <td>...</td>\n",
       "      <td>...</td>\n",
       "      <td>...</td>\n",
       "      <td>...</td>\n",
       "      <td>...</td>\n",
       "      <td>...</td>\n",
       "      <td>...</td>\n",
       "      <td>...</td>\n",
       "      <td>...</td>\n",
       "      <td>...</td>\n",
       "      <td>...</td>\n",
       "      <td>...</td>\n",
       "      <td>...</td>\n",
       "      <td>...</td>\n",
       "      <td>...</td>\n",
       "    </tr>\n",
       "    <tr>\n",
       "      <td>14158</td>\n",
       "      <td>6.20Ξ ($7,744)</td>\n",
       "      <td>niwin</td>\n",
       "      <td>0xb166dd</td>\n",
       "      <td>2021-01-27</td>\n",
       "      <td>Sold</td>\n",
       "      <td>9979.0</td>\n",
       "      <td>6.20</td>\n",
       "      <td>7744.0</td>\n",
       "      <td>9979</td>\n",
       "      <td>Male</td>\n",
       "      <td>7564</td>\n",
       "      <td>Light</td>\n",
       "      <td>4</td>\n",
       "      <td>Cigarette,Earring,Nerd Glasses,Shaved Head</td>\n",
       "      <td>0</td>\n",
       "      <td>NaN</td>\n",
       "      <td>2021</td>\n",
       "      <td>1</td>\n",
       "    </tr>\n",
       "    <tr>\n",
       "      <td>14159</td>\n",
       "      <td>5Ξ ($1,824)</td>\n",
       "      <td>pastelcr…</td>\n",
       "      <td>niwin</td>\n",
       "      <td>2020-09-28</td>\n",
       "      <td>Sold</td>\n",
       "      <td>9979.0</td>\n",
       "      <td>5.00</td>\n",
       "      <td>1824.0</td>\n",
       "      <td>9979</td>\n",
       "      <td>Male</td>\n",
       "      <td>7564</td>\n",
       "      <td>Light</td>\n",
       "      <td>4</td>\n",
       "      <td>Cigarette,Earring,Nerd Glasses,Shaved Head</td>\n",
       "      <td>0</td>\n",
       "      <td>NaN</td>\n",
       "      <td>2020</td>\n",
       "      <td>9</td>\n",
       "    </tr>\n",
       "    <tr>\n",
       "      <td>14160</td>\n",
       "      <td>1Ξ ($214)</td>\n",
       "      <td>shilpixe…</td>\n",
       "      <td>pastelcr…</td>\n",
       "      <td>2020-05-20</td>\n",
       "      <td>Sold</td>\n",
       "      <td>9979.0</td>\n",
       "      <td>1.00</td>\n",
       "      <td>214.0</td>\n",
       "      <td>9979</td>\n",
       "      <td>Male</td>\n",
       "      <td>7564</td>\n",
       "      <td>Light</td>\n",
       "      <td>4</td>\n",
       "      <td>Cigarette,Earring,Nerd Glasses,Shaved Head</td>\n",
       "      <td>0</td>\n",
       "      <td>NaN</td>\n",
       "      <td>2020</td>\n",
       "      <td>5</td>\n",
       "    </tr>\n",
       "    <tr>\n",
       "      <td>14161</td>\n",
       "      <td>29Ξ ($68,110)</td>\n",
       "      <td>Kenney</td>\n",
       "      <td>0xaa614b</td>\n",
       "      <td>2021-07-04</td>\n",
       "      <td>Sold</td>\n",
       "      <td>9980.0</td>\n",
       "      <td>29.00</td>\n",
       "      <td>68110.0</td>\n",
       "      <td>9980</td>\n",
       "      <td>Female</td>\n",
       "      <td>1159</td>\n",
       "      <td>Mid</td>\n",
       "      <td>4</td>\n",
       "      <td>Black Lipstick,Blonde Short,Cigarette,Classic ...</td>\n",
       "      <td>0</td>\n",
       "      <td>NaN</td>\n",
       "      <td>2021</td>\n",
       "      <td>7</td>\n",
       "    </tr>\n",
       "    <tr>\n",
       "      <td>14162</td>\n",
       "      <td>0.10Ξ ($70)</td>\n",
       "      <td>0x58164b</td>\n",
       "      <td>Kenney</td>\n",
       "      <td>2018-04-24</td>\n",
       "      <td>Sold</td>\n",
       "      <td>9980.0</td>\n",
       "      <td>0.10</td>\n",
       "      <td>70.0</td>\n",
       "      <td>9980</td>\n",
       "      <td>Female</td>\n",
       "      <td>1159</td>\n",
       "      <td>Mid</td>\n",
       "      <td>4</td>\n",
       "      <td>Black Lipstick,Blonde Short,Cigarette,Classic ...</td>\n",
       "      <td>0</td>\n",
       "      <td>NaN</td>\n",
       "      <td>2018</td>\n",
       "      <td>4</td>\n",
       "    </tr>\n",
       "  </tbody>\n",
       "</table>\n",
       "<p>14163 rows × 18 columns</p>\n",
       "</div>"
      ],
      "text/plain": [
       "               Amount       From         To        Txn  Type  punk_id  \\\n",
       "0        25Ξ ($2,822)   0xf5099e   0xe08c32 2018-11-30  Sold      0.0   \n",
       "1        1.60Ξ ($386)   0x00d7c9   0xa0a59c 2017-07-07  Sold      0.0   \n",
       "2        0.98Ξ ($320)   0xc352b5   0x00d7c9 2017-06-23  Sold      0.0   \n",
       "3       60Ξ ($36,305)  EliteCat…   0xcf6165 2020-11-30  Sold      1.0   \n",
       "4        31Ξ ($5,155)   0xf5099e   GoWest23 2019-04-06  Sold      1.0   \n",
       "...               ...        ...        ...        ...   ...      ...   \n",
       "14158  6.20Ξ ($7,744)      niwin   0xb166dd 2021-01-27  Sold   9979.0   \n",
       "14159     5Ξ ($1,824)  pastelcr…      niwin 2020-09-28  Sold   9979.0   \n",
       "14160       1Ξ ($214)  shilpixe…  pastelcr… 2020-05-20  Sold   9979.0   \n",
       "14161   29Ξ ($68,110)     Kenney   0xaa614b 2021-07-04  Sold   9980.0   \n",
       "14162     0.10Ξ ($70)   0x58164b     Kenney 2018-04-24  Sold   9980.0   \n",
       "\n",
       "       amount_ethereum  amount_dollars    id   types  rarity   skin  \\\n",
       "0                25.00          2822.0     0  Female    2023    Mid   \n",
       "1                 1.60           386.0     0  Female    2023    Mid   \n",
       "2                 0.98           320.0     0  Female    2023    Mid   \n",
       "3                60.00         36305.0     1    Male    4352   Dark   \n",
       "4                31.00          5155.0     1    Male    4352   Dark   \n",
       "...                ...             ...   ...     ...     ...    ...   \n",
       "14158             6.20          7744.0  9979    Male    7564  Light   \n",
       "14159             5.00          1824.0  9979    Male    7564  Light   \n",
       "14160             1.00           214.0  9979    Male    7564  Light   \n",
       "14161            29.00         68110.0  9980  Female    1159    Mid   \n",
       "14162             0.10            70.0  9980  Female    1159    Mid   \n",
       "\n",
       "       total_traits                                             traits  \\\n",
       "0                 3                Blonde Bob,Earring,Green Eye Shadow   \n",
       "1                 3                Blonde Bob,Earring,Green Eye Shadow   \n",
       "2                 3                Blonde Bob,Earring,Green Eye Shadow   \n",
       "3                 2                                       Mohawk,Smile   \n",
       "4                 2                                       Mohawk,Smile   \n",
       "...             ...                                                ...   \n",
       "14158             4         Cigarette,Earring,Nerd Glasses,Shaved Head   \n",
       "14159             4         Cigarette,Earring,Nerd Glasses,Shaved Head   \n",
       "14160             4         Cigarette,Earring,Nerd Glasses,Shaved Head   \n",
       "14161             4  Black Lipstick,Blonde Short,Cigarette,Classic ...   \n",
       "14162             4  Black Lipstick,Blonde Short,Cigarette,Classic ...   \n",
       "\n",
       "       total_hidden_traits hidden_traits  Year  Month  \n",
       "0                        1       Earring  2018     11  \n",
       "1                        1       Earring  2017      7  \n",
       "2                        1       Earring  2017      6  \n",
       "3                        0           NaN  2020     11  \n",
       "4                        0           NaN  2019      4  \n",
       "...                    ...           ...   ...    ...  \n",
       "14158                    0           NaN  2021      1  \n",
       "14159                    0           NaN  2020      9  \n",
       "14160                    0           NaN  2020      5  \n",
       "14161                    0           NaN  2021      7  \n",
       "14162                    0           NaN  2018      4  \n",
       "\n",
       "[14163 rows x 18 columns]"
      ]
     },
     "execution_count": 19,
     "metadata": {},
     "output_type": "execute_result"
    }
   ],
   "source": [
    "aggregated_df"
   ]
  },
  {
   "cell_type": "markdown",
   "metadata": {},
   "source": [
    "### Sample distribution"
   ]
  },
  {
   "cell_type": "code",
   "execution_count": null,
   "metadata": {},
   "outputs": [],
   "source": []
  },
  {
   "cell_type": "code",
   "execution_count": 20,
   "metadata": {},
   "outputs": [
    {
     "data": {
      "text/plain": [
       "<matplotlib.axes._subplots.AxesSubplot at 0x17c1d24f808>"
      ]
     },
     "execution_count": 20,
     "metadata": {},
     "output_type": "execute_result"
    },
    {
     "data": {
      "image/png": "[encoded data removed]",
      "text/plain": [
       "<Figure size 1008x720 with 1 Axes>"
      ]
     },
     "metadata": {},
     "output_type": "display_data"
    }
   ],
   "source": [
    "# Histograma\n",
    "\n",
    "sales['amount_ethereum'].plot(kind='hist', alpha=0.5, bins=35)\n",
    "#plt.axis([0, 300, 0, 1500000])"
   ]
  },
  {
   "cell_type": "code",
   "execution_count": 21,
   "metadata": {},
   "outputs": [
    {
     "data": {
      "text/plain": [
       "<matplotlib.axes._subplots.AxesSubplot at 0x17c1d34c5c8>"
      ]
     },
     "execution_count": 21,
     "metadata": {},
     "output_type": "execute_result"
    },
    {
     "data": {
      "image/png": "[encoded data removed]",
      "text/plain": [
       "<Figure size 1008x720 with 1 Axes>"
      ]
     },
     "metadata": {},
     "output_type": "display_data"
    }
   ],
   "source": [
    "sales['amount_ethereum'].plot.density()\n",
    "#plt.axis([-300, 300, 0, 0.0175])"
   ]
  },
  {
   "cell_type": "code",
   "execution_count": null,
   "metadata": {},
   "outputs": [],
   "source": []
  },
  {
   "cell_type": "code",
   "execution_count": null,
   "metadata": {},
   "outputs": [],
   "source": []
  },
  {
   "cell_type": "markdown",
   "metadata": {},
   "source": [
    "# Visualizaciones"
   ]
  },
  {
   "cell_type": "code",
   "execution_count": null,
   "metadata": {},
   "outputs": [],
   "source": []
  },
  {
   "cell_type": "markdown",
   "metadata": {},
   "source": [
    "### Proportion of punks with registered sales vs universe (10K)"
   ]
  },
  {
   "cell_type": "code",
   "execution_count": 22,
   "metadata": {},
   "outputs": [
    {
     "data": {
      "text/plain": [
       "Text(0.5, 1.0, 'Count of transactioned (at least once) vs not transactioned punks')"
      ]
     },
     "execution_count": 22,
     "metadata": {},
     "output_type": "execute_result"
    },
    {
     "data": {
      "image/png": "[encoded data removed]",
      "text/plain": [
       "<Figure size 1008x720 with 1 Axes>"
      ]
     },
     "metadata": {},
     "output_type": "display_data"
    }
   ],
   "source": [
    "# Punks: Transactioned vs not transactioend\n",
    "\n",
    "g = sns.countplot(data=punk_attributes.merge(transactions, right_on=['punk_id'], left_on=['id']), x='transactioned')\n",
    "\n",
    "#g.set_xticks(range(len(s_x)+1))\n",
    "g.set_xticklabels(['Not transactioned','Transactioned'])\n",
    "g.set_title('Count of transactioned (at least once) vs not transactioned punks')"
   ]
  },
  {
   "cell_type": "markdown",
   "metadata": {},
   "source": [
    "### Top 30 punks with highest price"
   ]
  },
  {
   "cell_type": "code",
   "execution_count": 24,
   "metadata": {},
   "outputs": [],
   "source": [
    "current_price = aggregated_df.groupby('id').max().sort_values(by='amount_dollars', ascending=False)"
   ]
  },
  {
   "cell_type": "code",
   "execution_count": 25,
   "metadata": {},
   "outputs": [
    {
     "data": {
      "text/plain": [
       "Text(0.5, 1.0, 'Top 30 punks with highest recorded Sale (E)')"
      ]
     },
     "execution_count": 25,
     "metadata": {},
     "output_type": "execute_result"
    },
    {
     "data": {
      "image/png": "[encoded data removed]",
      "text/plain": [
       "<Figure size 2160x720 with 2 Axes>"
      ]
     },
     "metadata": {},
     "output_type": "display_data"
    }
   ],
   "source": [
    "f, ax = plt.subplots(1, 2, figsize=[30, 10])\n",
    "current_price.amount_dollars.head(30).plot(kind='bar', ax=ax[0], grid=True)\n",
    "current_price.amount_ethereum.head(30).plot(kind='bar', ax=ax[1], color = 'green', grid=True)\n",
    "\n",
    "ax[0].set_title('Top 30 punks with highest recorded Sale ($)')\n",
    "ax[1].set_title('Top 30 punks with highest recorded Sale (E)')"
   ]
  },
  {
   "cell_type": "markdown",
   "metadata": {},
   "source": [
    "### Cantidad de punks por Cantidad de Compras --> Cambiar tamaño, grid, Axis"
   ]
  },
  {
   "cell_type": "code",
   "execution_count": 26,
   "metadata": {},
   "outputs": [],
   "source": [
    "current_price['transactioned'] = 1"
   ]
  },
  {
   "cell_type": "code",
   "execution_count": 27,
   "metadata": {},
   "outputs": [],
   "source": [
    "transactions_by_punk = sales.groupby('punk_id').count()['Txn'].reset_index()"
   ]
  },
  {
   "cell_type": "code",
   "execution_count": 28,
   "metadata": {},
   "outputs": [
    {
     "data": {
      "text/plain": [
       "Text(0, 0.5, 'Amount of punks')"
      ]
     },
     "execution_count": 28,
     "metadata": {},
     "output_type": "execute_result"
    },
    {
     "data": {
      "image/png": "[encoded data removed]",
      "text/plain": [
       "<Figure size 1008x720 with 1 Axes>"
      ]
     },
     "metadata": {},
     "output_type": "display_data"
    }
   ],
   "source": [
    "#fig = plt.figure(figsize=(14,8))\n",
    "g = transactions_by_punk.groupby('Txn').count().plot(grid=True)\n",
    "#plt.set_xlabel('X Axis')\n",
    "g.set_title('Amount of punks having X = Amount of transactions')\n",
    "g.set_xlabel('Amount of transactions')\n",
    "g.set_ylabel('Amount of punks')"
   ]
  },
  {
   "cell_type": "markdown",
   "metadata": {},
   "source": [
    "# Visualización por tiempo"
   ]
  },
  {
   "cell_type": "code",
   "execution_count": null,
   "metadata": {},
   "outputs": [],
   "source": []
  },
  {
   "cell_type": "markdown",
   "metadata": {},
   "source": [
    "### Amount of transactions by Year"
   ]
  },
  {
   "cell_type": "code",
   "execution_count": 30,
   "metadata": {},
   "outputs": [],
   "source": [
    "sales['year'] = sales['Txn'].dt.year"
   ]
  },
  {
   "cell_type": "code",
   "execution_count": 31,
   "metadata": {},
   "outputs": [],
   "source": [
    "sales['month'] = sales['Txn'].dt.month"
   ]
  },
  {
   "cell_type": "code",
   "execution_count": 32,
   "metadata": {},
   "outputs": [
    {
     "data": {
      "text/plain": [
       "Text(0.5, 1.0, 'Amount of Transactions by year')"
      ]
     },
     "execution_count": 32,
     "metadata": {},
     "output_type": "execute_result"
    },
    {
     "data": {
      "image/png": "[encoded data removed]",
      "text/plain": [
       "<Figure size 720x360 with 1 Axes>"
      ]
     },
     "metadata": {},
     "output_type": "display_data"
    }
   ],
   "source": [
    "fig = plt.figure(figsize=(10,5))\n",
    "sales.groupby('year').count()['punk_id'].plot(kind='bar', grid=True)\n",
    "plt.ylabel('Amount of Transactions')\n",
    "plt.title('Amount of Transactions by year') "
   ]
  },
  {
   "cell_type": "markdown",
   "metadata": {},
   "source": [
    "### Same graph as before"
   ]
  },
  {
   "cell_type": "code",
   "execution_count": 33,
   "metadata": {},
   "outputs": [],
   "source": [
    "sales_by_year = sales.groupby('year').count()[['punk_id']].reset_index()"
   ]
  },
  {
   "cell_type": "code",
   "execution_count": 34,
   "metadata": {},
   "outputs": [
    {
     "data": {
      "image/png": "[encoded data removed]",
      "text/plain": [
       "<Figure size 720x360 with 1 Axes>"
      ]
     },
     "metadata": {},
     "output_type": "display_data"
    }
   ],
   "source": [
    "sns.catplot(x='year',y='punk_id', data=sales_by_year, kind='bar',height=5, aspect=10/5)\n",
    "plt.title('TOP 50 traits based on TOTAL occurences')\n",
    "plt.xticks(rotation=90)\n",
    "plt.show()"
   ]
  },
  {
   "cell_type": "markdown",
   "metadata": {},
   "source": [
    "### Transactions over time --> Do the same with MONTHs and change size?¿"
   ]
  },
  {
   "cell_type": "code",
   "execution_count": 35,
   "metadata": {},
   "outputs": [
    {
     "data": {
      "text/plain": [
       "Text(0, 0.5, 'Amount of Transactions')"
      ]
     },
     "execution_count": 35,
     "metadata": {},
     "output_type": "execute_result"
    },
    {
     "data": {
      "image/png": "[encoded data removed]",
      "text/plain": [
       "<Figure size 1008x720 with 1 Axes>"
      ]
     },
     "metadata": {},
     "output_type": "display_data"
    }
   ],
   "source": [
    "#fig = plt.figure(figsize=(30,14))\n",
    "sales.groupby('Txn').count()['punk_id'].plot(title='Evolution of Transactions')\n",
    "plt.ylabel('Amount of Transactions')\n"
   ]
  },
  {
   "cell_type": "code",
   "execution_count": 36,
   "metadata": {},
   "outputs": [
    {
     "data": {
      "text/plain": [
       "<matplotlib.axes._subplots.AxesSubplot at 0x17c1f0531c8>"
      ]
     },
     "execution_count": 36,
     "metadata": {},
     "output_type": "execute_result"
    },
    {
     "data": {
      "image/png": "[encoded data removed]",
      "text/plain": [
       "<Figure size 2160x360 with 1 Axes>"
      ]
     },
     "metadata": {},
     "output_type": "display_data"
    }
   ],
   "source": [
    "fig = plt.figure(figsize=(30,5))\n",
    "sales.groupby(['year']).count()['punk_id'].plot()"
   ]
  },
  {
   "cell_type": "code",
   "execution_count": 37,
   "metadata": {},
   "outputs": [
    {
     "data": {
      "text/plain": [
       "<matplotlib.axes._subplots.AxesSubplot at 0x17c1f23aec8>"
      ]
     },
     "execution_count": 37,
     "metadata": {},
     "output_type": "execute_result"
    },
    {
     "data": {
      "image/png": "[encoded data removed]",
      "text/plain": [
       "<Figure size 1008x720 with 1 Axes>"
      ]
     },
     "metadata": {},
     "output_type": "display_data"
    }
   ],
   "source": [
    "aggregated_df.groupby(['Year']).mean()['amount_ethereum'].plot(kind='bar')"
   ]
  },
  {
   "cell_type": "markdown",
   "metadata": {},
   "source": [
    "### Evlución del Precio Medio"
   ]
  },
  {
   "cell_type": "code",
   "execution_count": 39,
   "metadata": {},
   "outputs": [],
   "source": [
    "aggregated_year = aggregated_df.groupby(['Year']).mean().reset_index()\n",
    "aggregated_year['Growth'] = round(aggregated_year['amount_ethereum'].pct_change(), 2)"
   ]
  },
  {
   "cell_type": "markdown",
   "metadata": {},
   "source": [
    "##### Aggregated price year table"
   ]
  },
  {
   "cell_type": "code",
   "execution_count": 40,
   "metadata": {},
   "outputs": [
    {
     "name": "stderr",
     "output_type": "stream",
     "text": [
      "C:\\Users\\tomi_\\Anaconda3\\lib\\site-packages\\ipykernel_launcher.py:2: SettingWithCopyWarning: \n",
      "A value is trying to be set on a copy of a slice from a DataFrame.\n",
      "Try using .loc[row_indexer,col_indexer] = value instead\n",
      "\n",
      "See the caveats in the documentation: http://pandas.pydata.org/pandas-docs/stable/user_guide/indexing.html#returning-a-view-versus-a-copy\n",
      "  \n",
      "C:\\Users\\tomi_\\Anaconda3\\lib\\site-packages\\ipykernel_launcher.py:3: SettingWithCopyWarning: \n",
      "A value is trying to be set on a copy of a slice from a DataFrame.\n",
      "Try using .loc[row_indexer,col_indexer] = value instead\n",
      "\n",
      "See the caveats in the documentation: http://pandas.pydata.org/pandas-docs/stable/user_guide/indexing.html#returning-a-view-versus-a-copy\n",
      "  This is separate from the ipykernel package so we can avoid doing imports until\n"
     ]
    }
   ],
   "source": [
    "aggregated_year_table = aggregated_year[['Year', 'amount_ethereum', 'Growth']]\n",
    "aggregated_year_table['Growth'] = round(aggregated_year_table['Growth']*100, 2)\n",
    "aggregated_year_table['Growth'] = aggregated_year_table['Growth'].astype('str')+str('%')"
   ]
  },
  {
   "cell_type": "code",
   "execution_count": 41,
   "metadata": {},
   "outputs": [
    {
     "data": {
      "text/html": [
       "<div>\n",
       "<style scoped>\n",
       "    .dataframe tbody tr th:only-of-type {\n",
       "        vertical-align: middle;\n",
       "    }\n",
       "\n",
       "    .dataframe tbody tr th {\n",
       "        vertical-align: top;\n",
       "    }\n",
       "\n",
       "    .dataframe thead th {\n",
       "        text-align: right;\n",
       "    }\n",
       "</style>\n",
       "<table border=\"1\" class=\"dataframe\">\n",
       "  <thead>\n",
       "    <tr style=\"text-align: right;\">\n",
       "      <th></th>\n",
       "      <th>Year</th>\n",
       "      <th>ETH</th>\n",
       "      <th>Growth</th>\n",
       "    </tr>\n",
       "  </thead>\n",
       "  <tbody>\n",
       "    <tr>\n",
       "      <td>0</td>\n",
       "      <td>2017</td>\n",
       "      <td>0.415907</td>\n",
       "      <td>nan%</td>\n",
       "    </tr>\n",
       "    <tr>\n",
       "      <td>1</td>\n",
       "      <td>2018</td>\n",
       "      <td>0.281936</td>\n",
       "      <td>-32.0%</td>\n",
       "    </tr>\n",
       "    <tr>\n",
       "      <td>2</td>\n",
       "      <td>2019</td>\n",
       "      <td>0.597157</td>\n",
       "      <td>112.0%</td>\n",
       "    </tr>\n",
       "    <tr>\n",
       "      <td>3</td>\n",
       "      <td>2020</td>\n",
       "      <td>3.877213</td>\n",
       "      <td>549.0%</td>\n",
       "    </tr>\n",
       "    <tr>\n",
       "      <td>4</td>\n",
       "      <td>2021</td>\n",
       "      <td>27.353255</td>\n",
       "      <td>605.0%</td>\n",
       "    </tr>\n",
       "  </tbody>\n",
       "</table>\n",
       "</div>"
      ],
      "text/plain": [
       "   Year        ETH  Growth\n",
       "0  2017   0.415907    nan%\n",
       "1  2018   0.281936  -32.0%\n",
       "2  2019   0.597157  112.0%\n",
       "3  2020   3.877213  549.0%\n",
       "4  2021  27.353255  605.0%"
      ]
     },
     "execution_count": 41,
     "metadata": {},
     "output_type": "execute_result"
    }
   ],
   "source": [
    "\n",
    "aggregated_year_table.rename(columns={'amount_ethereum':'ETH'})"
   ]
  },
  {
   "cell_type": "code",
   "execution_count": 42,
   "metadata": {},
   "outputs": [
    {
     "data": {
      "image/png": "[encoded data removed]",
      "text/plain": [
       "<Figure size 576x576 with 1 Axes>"
      ]
     },
     "metadata": {},
     "output_type": "display_data"
    }
   ],
   "source": [
    "\n",
    "\n",
    "\n",
    "plt.figure(figsize=(8, 8))\n",
    "colors_list = ['2017','2018', '2019', '2020', '2021']\n",
    "graph = plt.bar(aggregated_year.Year, aggregated_year.amount_ethereum)\n",
    "plt.title('Average Mean Punk Price and Growth (Black Value) by Year')\n",
    "plt.ylabel('Average Price')\n",
    "\n",
    "\n",
    "i = 0\n",
    "for p in graph:\n",
    "    width = p.get_width()\n",
    "    height = p.get_height()\n",
    "    x, y = p.get_xy()\n",
    "     \n",
    "    plt.text(x+width/2,\n",
    "             y+height*1.01,\n",
    "             str(aggregated_year.Growth[i])+'%',\n",
    "             ha='center',\n",
    "             weight='bold')\n",
    "    i += 1\n",
    "plt.show()"
   ]
  },
  {
   "cell_type": "code",
   "execution_count": null,
   "metadata": {},
   "outputs": [],
   "source": []
  },
  {
   "cell_type": "markdown",
   "metadata": {},
   "source": [
    "### Precio promedio evolucion"
   ]
  },
  {
   "cell_type": "code",
   "execution_count": 43,
   "metadata": {},
   "outputs": [
    {
     "data": {
      "text/plain": [
       "Text(0, 0.5, 'Punk Price in Ξ')"
      ]
     },
     "execution_count": 43,
     "metadata": {},
     "output_type": "execute_result"
    },
    {
     "data": {
      "image/png": "[encoded data removed]",
      "text/plain": [
       "<Figure size 1152x288 with 1 Axes>"
      ]
     },
     "metadata": {},
     "output_type": "display_data"
    }
   ],
   "source": [
    "#fig = plt.figure(figsize=(30,14))\n",
    "sales.groupby('Txn').mean()['amount_ethereum'].plot(title='Evolution of Average Punk Price', figsize=(16,4))\n",
    "plt.ylabel('Punk Price in Ξ')\n"
   ]
  },
  {
   "cell_type": "markdown",
   "metadata": {},
   "source": [
    "### Cantidad de transacciones por Punk Type"
   ]
  },
  {
   "cell_type": "code",
   "execution_count": 44,
   "metadata": {},
   "outputs": [
    {
     "data": {
      "text/plain": [
       "Text(0, 0.5, 'Amount of Transactions')"
      ]
     },
     "execution_count": 44,
     "metadata": {},
     "output_type": "execute_result"
    },
    {
     "data": {
      "image/png": "[encoded data removed]",
      "text/plain": [
       "<Figure size 1080x720 with 1 Axes>"
      ]
     },
     "metadata": {},
     "output_type": "display_data"
    }
   ],
   "source": [
    "fig = plt.figure(figsize=(15,10))\n",
    "\n",
    "current_price.groupby('types').count()['amount_ethereum'].plot(kind='bar', grid=True, title='Amount of Transactions by Punk Type')\n",
    "plt.ylabel('Amount of Transactions')"
   ]
  },
  {
   "cell_type": "code",
   "execution_count": 45,
   "metadata": {},
   "outputs": [
    {
     "data": {
      "text/plain": [
       "types\n",
       "Alien        6\n",
       "Ape         16\n",
       "Female    1940\n",
       "Male      3617\n",
       "Zombie      43\n",
       "Name: amount_ethereum, dtype: int64"
      ]
     },
     "execution_count": 45,
     "metadata": {},
     "output_type": "execute_result"
    }
   ],
   "source": [
    "current_price.groupby('types').count()['amount_ethereum']"
   ]
  },
  {
   "cell_type": "code",
   "execution_count": 46,
   "metadata": {},
   "outputs": [
    {
     "data": {
      "text/html": [
       "<div>\n",
       "<style scoped>\n",
       "    .dataframe tbody tr th:only-of-type {\n",
       "        vertical-align: middle;\n",
       "    }\n",
       "\n",
       "    .dataframe tbody tr th {\n",
       "        vertical-align: top;\n",
       "    }\n",
       "\n",
       "    .dataframe thead th {\n",
       "        text-align: right;\n",
       "    }\n",
       "</style>\n",
       "<table border=\"1\" class=\"dataframe\">\n",
       "  <thead>\n",
       "    <tr style=\"text-align: right;\">\n",
       "      <th></th>\n",
       "      <th>Amount</th>\n",
       "      <th>From</th>\n",
       "      <th>To</th>\n",
       "      <th>Txn</th>\n",
       "      <th>Type</th>\n",
       "      <th>punk_id</th>\n",
       "      <th>amount_ethereum</th>\n",
       "      <th>amount_dollars</th>\n",
       "      <th>id</th>\n",
       "      <th>types</th>\n",
       "      <th>rarity</th>\n",
       "      <th>skin</th>\n",
       "      <th>total_traits</th>\n",
       "      <th>traits</th>\n",
       "      <th>total_hidden_traits</th>\n",
       "      <th>hidden_traits</th>\n",
       "      <th>Year</th>\n",
       "      <th>Month</th>\n",
       "    </tr>\n",
       "  </thead>\n",
       "  <tbody>\n",
       "    <tr>\n",
       "      <td>0</td>\n",
       "      <td>25Ξ ($2,822)</td>\n",
       "      <td>0xf5099e</td>\n",
       "      <td>0xe08c32</td>\n",
       "      <td>2018-11-30</td>\n",
       "      <td>Sold</td>\n",
       "      <td>0.0</td>\n",
       "      <td>25.00</td>\n",
       "      <td>2822.0</td>\n",
       "      <td>0</td>\n",
       "      <td>Female</td>\n",
       "      <td>2023</td>\n",
       "      <td>Mid</td>\n",
       "      <td>3</td>\n",
       "      <td>Blonde Bob,Earring,Green Eye Shadow</td>\n",
       "      <td>1</td>\n",
       "      <td>Earring</td>\n",
       "      <td>2018</td>\n",
       "      <td>11</td>\n",
       "    </tr>\n",
       "    <tr>\n",
       "      <td>1</td>\n",
       "      <td>1.60Ξ ($386)</td>\n",
       "      <td>0x00d7c9</td>\n",
       "      <td>0xa0a59c</td>\n",
       "      <td>2017-07-07</td>\n",
       "      <td>Sold</td>\n",
       "      <td>0.0</td>\n",
       "      <td>1.60</td>\n",
       "      <td>386.0</td>\n",
       "      <td>0</td>\n",
       "      <td>Female</td>\n",
       "      <td>2023</td>\n",
       "      <td>Mid</td>\n",
       "      <td>3</td>\n",
       "      <td>Blonde Bob,Earring,Green Eye Shadow</td>\n",
       "      <td>1</td>\n",
       "      <td>Earring</td>\n",
       "      <td>2017</td>\n",
       "      <td>7</td>\n",
       "    </tr>\n",
       "    <tr>\n",
       "      <td>2</td>\n",
       "      <td>0.98Ξ ($320)</td>\n",
       "      <td>0xc352b5</td>\n",
       "      <td>0x00d7c9</td>\n",
       "      <td>2017-06-23</td>\n",
       "      <td>Sold</td>\n",
       "      <td>0.0</td>\n",
       "      <td>0.98</td>\n",
       "      <td>320.0</td>\n",
       "      <td>0</td>\n",
       "      <td>Female</td>\n",
       "      <td>2023</td>\n",
       "      <td>Mid</td>\n",
       "      <td>3</td>\n",
       "      <td>Blonde Bob,Earring,Green Eye Shadow</td>\n",
       "      <td>1</td>\n",
       "      <td>Earring</td>\n",
       "      <td>2017</td>\n",
       "      <td>6</td>\n",
       "    </tr>\n",
       "    <tr>\n",
       "      <td>3</td>\n",
       "      <td>60Ξ ($36,305)</td>\n",
       "      <td>EliteCat…</td>\n",
       "      <td>0xcf6165</td>\n",
       "      <td>2020-11-30</td>\n",
       "      <td>Sold</td>\n",
       "      <td>1.0</td>\n",
       "      <td>60.00</td>\n",
       "      <td>36305.0</td>\n",
       "      <td>1</td>\n",
       "      <td>Male</td>\n",
       "      <td>4352</td>\n",
       "      <td>Dark</td>\n",
       "      <td>2</td>\n",
       "      <td>Mohawk,Smile</td>\n",
       "      <td>0</td>\n",
       "      <td>NaN</td>\n",
       "      <td>2020</td>\n",
       "      <td>11</td>\n",
       "    </tr>\n",
       "    <tr>\n",
       "      <td>4</td>\n",
       "      <td>31Ξ ($5,155)</td>\n",
       "      <td>0xf5099e</td>\n",
       "      <td>GoWest23</td>\n",
       "      <td>2019-04-06</td>\n",
       "      <td>Sold</td>\n",
       "      <td>1.0</td>\n",
       "      <td>31.00</td>\n",
       "      <td>5155.0</td>\n",
       "      <td>1</td>\n",
       "      <td>Male</td>\n",
       "      <td>4352</td>\n",
       "      <td>Dark</td>\n",
       "      <td>2</td>\n",
       "      <td>Mohawk,Smile</td>\n",
       "      <td>0</td>\n",
       "      <td>NaN</td>\n",
       "      <td>2019</td>\n",
       "      <td>4</td>\n",
       "    </tr>\n",
       "    <tr>\n",
       "      <td>...</td>\n",
       "      <td>...</td>\n",
       "      <td>...</td>\n",
       "      <td>...</td>\n",
       "      <td>...</td>\n",
       "      <td>...</td>\n",
       "      <td>...</td>\n",
       "      <td>...</td>\n",
       "      <td>...</td>\n",
       "      <td>...</td>\n",
       "      <td>...</td>\n",
       "      <td>...</td>\n",
       "      <td>...</td>\n",
       "      <td>...</td>\n",
       "      <td>...</td>\n",
       "      <td>...</td>\n",
       "      <td>...</td>\n",
       "      <td>...</td>\n",
       "      <td>...</td>\n",
       "    </tr>\n",
       "    <tr>\n",
       "      <td>14158</td>\n",
       "      <td>6.20Ξ ($7,744)</td>\n",
       "      <td>niwin</td>\n",
       "      <td>0xb166dd</td>\n",
       "      <td>2021-01-27</td>\n",
       "      <td>Sold</td>\n",
       "      <td>9979.0</td>\n",
       "      <td>6.20</td>\n",
       "      <td>7744.0</td>\n",
       "      <td>9979</td>\n",
       "      <td>Male</td>\n",
       "      <td>7564</td>\n",
       "      <td>Light</td>\n",
       "      <td>4</td>\n",
       "      <td>Cigarette,Earring,Nerd Glasses,Shaved Head</td>\n",
       "      <td>0</td>\n",
       "      <td>NaN</td>\n",
       "      <td>2021</td>\n",
       "      <td>1</td>\n",
       "    </tr>\n",
       "    <tr>\n",
       "      <td>14159</td>\n",
       "      <td>5Ξ ($1,824)</td>\n",
       "      <td>pastelcr…</td>\n",
       "      <td>niwin</td>\n",
       "      <td>2020-09-28</td>\n",
       "      <td>Sold</td>\n",
       "      <td>9979.0</td>\n",
       "      <td>5.00</td>\n",
       "      <td>1824.0</td>\n",
       "      <td>9979</td>\n",
       "      <td>Male</td>\n",
       "      <td>7564</td>\n",
       "      <td>Light</td>\n",
       "      <td>4</td>\n",
       "      <td>Cigarette,Earring,Nerd Glasses,Shaved Head</td>\n",
       "      <td>0</td>\n",
       "      <td>NaN</td>\n",
       "      <td>2020</td>\n",
       "      <td>9</td>\n",
       "    </tr>\n",
       "    <tr>\n",
       "      <td>14160</td>\n",
       "      <td>1Ξ ($214)</td>\n",
       "      <td>shilpixe…</td>\n",
       "      <td>pastelcr…</td>\n",
       "      <td>2020-05-20</td>\n",
       "      <td>Sold</td>\n",
       "      <td>9979.0</td>\n",
       "      <td>1.00</td>\n",
       "      <td>214.0</td>\n",
       "      <td>9979</td>\n",
       "      <td>Male</td>\n",
       "      <td>7564</td>\n",
       "      <td>Light</td>\n",
       "      <td>4</td>\n",
       "      <td>Cigarette,Earring,Nerd Glasses,Shaved Head</td>\n",
       "      <td>0</td>\n",
       "      <td>NaN</td>\n",
       "      <td>2020</td>\n",
       "      <td>5</td>\n",
       "    </tr>\n",
       "    <tr>\n",
       "      <td>14161</td>\n",
       "      <td>29Ξ ($68,110)</td>\n",
       "      <td>Kenney</td>\n",
       "      <td>0xaa614b</td>\n",
       "      <td>2021-07-04</td>\n",
       "      <td>Sold</td>\n",
       "      <td>9980.0</td>\n",
       "      <td>29.00</td>\n",
       "      <td>68110.0</td>\n",
       "      <td>9980</td>\n",
       "      <td>Female</td>\n",
       "      <td>1159</td>\n",
       "      <td>Mid</td>\n",
       "      <td>4</td>\n",
       "      <td>Black Lipstick,Blonde Short,Cigarette,Classic ...</td>\n",
       "      <td>0</td>\n",
       "      <td>NaN</td>\n",
       "      <td>2021</td>\n",
       "      <td>7</td>\n",
       "    </tr>\n",
       "    <tr>\n",
       "      <td>14162</td>\n",
       "      <td>0.10Ξ ($70)</td>\n",
       "      <td>0x58164b</td>\n",
       "      <td>Kenney</td>\n",
       "      <td>2018-04-24</td>\n",
       "      <td>Sold</td>\n",
       "      <td>9980.0</td>\n",
       "      <td>0.10</td>\n",
       "      <td>70.0</td>\n",
       "      <td>9980</td>\n",
       "      <td>Female</td>\n",
       "      <td>1159</td>\n",
       "      <td>Mid</td>\n",
       "      <td>4</td>\n",
       "      <td>Black Lipstick,Blonde Short,Cigarette,Classic ...</td>\n",
       "      <td>0</td>\n",
       "      <td>NaN</td>\n",
       "      <td>2018</td>\n",
       "      <td>4</td>\n",
       "    </tr>\n",
       "  </tbody>\n",
       "</table>\n",
       "<p>14163 rows × 18 columns</p>\n",
       "</div>"
      ],
      "text/plain": [
       "               Amount       From         To        Txn  Type  punk_id  \\\n",
       "0        25Ξ ($2,822)   0xf5099e   0xe08c32 2018-11-30  Sold      0.0   \n",
       "1        1.60Ξ ($386)   0x00d7c9   0xa0a59c 2017-07-07  Sold      0.0   \n",
       "2        0.98Ξ ($320)   0xc352b5   0x00d7c9 2017-06-23  Sold      0.0   \n",
       "3       60Ξ ($36,305)  EliteCat…   0xcf6165 2020-11-30  Sold      1.0   \n",
       "4        31Ξ ($5,155)   0xf5099e   GoWest23 2019-04-06  Sold      1.0   \n",
       "...               ...        ...        ...        ...   ...      ...   \n",
       "14158  6.20Ξ ($7,744)      niwin   0xb166dd 2021-01-27  Sold   9979.0   \n",
       "14159     5Ξ ($1,824)  pastelcr…      niwin 2020-09-28  Sold   9979.0   \n",
       "14160       1Ξ ($214)  shilpixe…  pastelcr… 2020-05-20  Sold   9979.0   \n",
       "14161   29Ξ ($68,110)     Kenney   0xaa614b 2021-07-04  Sold   9980.0   \n",
       "14162     0.10Ξ ($70)   0x58164b     Kenney 2018-04-24  Sold   9980.0   \n",
       "\n",
       "       amount_ethereum  amount_dollars    id   types  rarity   skin  \\\n",
       "0                25.00          2822.0     0  Female    2023    Mid   \n",
       "1                 1.60           386.0     0  Female    2023    Mid   \n",
       "2                 0.98           320.0     0  Female    2023    Mid   \n",
       "3                60.00         36305.0     1    Male    4352   Dark   \n",
       "4                31.00          5155.0     1    Male    4352   Dark   \n",
       "...                ...             ...   ...     ...     ...    ...   \n",
       "14158             6.20          7744.0  9979    Male    7564  Light   \n",
       "14159             5.00          1824.0  9979    Male    7564  Light   \n",
       "14160             1.00           214.0  9979    Male    7564  Light   \n",
       "14161            29.00         68110.0  9980  Female    1159    Mid   \n",
       "14162             0.10            70.0  9980  Female    1159    Mid   \n",
       "\n",
       "       total_traits                                             traits  \\\n",
       "0                 3                Blonde Bob,Earring,Green Eye Shadow   \n",
       "1                 3                Blonde Bob,Earring,Green Eye Shadow   \n",
       "2                 3                Blonde Bob,Earring,Green Eye Shadow   \n",
       "3                 2                                       Mohawk,Smile   \n",
       "4                 2                                       Mohawk,Smile   \n",
       "...             ...                                                ...   \n",
       "14158             4         Cigarette,Earring,Nerd Glasses,Shaved Head   \n",
       "14159             4         Cigarette,Earring,Nerd Glasses,Shaved Head   \n",
       "14160             4         Cigarette,Earring,Nerd Glasses,Shaved Head   \n",
       "14161             4  Black Lipstick,Blonde Short,Cigarette,Classic ...   \n",
       "14162             4  Black Lipstick,Blonde Short,Cigarette,Classic ...   \n",
       "\n",
       "       total_hidden_traits hidden_traits  Year  Month  \n",
       "0                        1       Earring  2018     11  \n",
       "1                        1       Earring  2017      7  \n",
       "2                        1       Earring  2017      6  \n",
       "3                        0           NaN  2020     11  \n",
       "4                        0           NaN  2019      4  \n",
       "...                    ...           ...   ...    ...  \n",
       "14158                    0           NaN  2021      1  \n",
       "14159                    0           NaN  2020      9  \n",
       "14160                    0           NaN  2020      5  \n",
       "14161                    0           NaN  2021      7  \n",
       "14162                    0           NaN  2018      4  \n",
       "\n",
       "[14163 rows x 18 columns]"
      ]
     },
     "execution_count": 46,
     "metadata": {},
     "output_type": "execute_result"
    }
   ],
   "source": [
    "aggregated_df"
   ]
  },
  {
   "cell_type": "markdown",
   "metadata": {},
   "source": [
    "### Media de precio por año"
   ]
  },
  {
   "cell_type": "markdown",
   "metadata": {},
   "source": [
    "### Media de precio por año por Punk Type"
   ]
  },
  {
   "cell_type": "code",
   "execution_count": 47,
   "metadata": {},
   "outputs": [],
   "source": [
    "current_type_price = current_price.groupby('types').mean()[['amount_ethereum', 'amount_dollars']].reset_index()"
   ]
  },
  {
   "cell_type": "code",
   "execution_count": 48,
   "metadata": {},
   "outputs": [
    {
     "data": {
      "text/plain": [
       "Text(0.5, 1.0, 'Average Price by Type (E)')"
      ]
     },
     "execution_count": 48,
     "metadata": {},
     "output_type": "execute_result"
    },
    {
     "data": {
      "image/png": "[encoded data removed]",
      "text/plain": [
       "<Figure size 2160x720 with 2 Axes>"
      ]
     },
     "metadata": {},
     "output_type": "display_data"
    }
   ],
   "source": [
    "f, ax = plt.subplots(1, 2, figsize=[30, 10])\n",
    "aggregated_df.groupby('types').mean()['amount_dollars'].plot(kind='bar', ax=ax[0], grid=True)\n",
    "aggregated_df.groupby('types').mean()['amount_ethereum'].plot(kind='bar', ax=ax[1], color = 'green', grid=True)\n",
    "\n",
    "ax[0].set_title('Average Price by Type ($)')\n",
    "ax[1].set_title('Average Price by Type (E)')"
   ]
  },
  {
   "cell_type": "markdown",
   "metadata": {},
   "source": [
    "### Media por Skin Type"
   ]
  },
  {
   "cell_type": "code",
   "execution_count": null,
   "metadata": {},
   "outputs": [],
   "source": []
  },
  {
   "cell_type": "code",
   "execution_count": null,
   "metadata": {},
   "outputs": [],
   "source": []
  },
  {
   "cell_type": "markdown",
   "metadata": {},
   "source": [
    "### Maximo y Minimo por Punk Type --> Describe!"
   ]
  },
  {
   "cell_type": "code",
   "execution_count": null,
   "metadata": {
    "scrolled": true
   },
   "outputs": [],
   "source": []
  },
  {
   "cell_type": "markdown",
   "metadata": {},
   "source": [
    "### Boxplot Precios"
   ]
  },
  {
   "cell_type": "code",
   "execution_count": 53,
   "metadata": {},
   "outputs": [
    {
     "data": {
      "text/plain": [
       "Text(0.5, 1.0, 'Boxplot Prices by Punk Type')"
      ]
     },
     "execution_count": 53,
     "metadata": {},
     "output_type": "execute_result"
    },
    {
     "data": {
      "image/png": "[encoded data removed]",
      "text/plain": [
       "<Figure size 1008x720 with 1 Axes>"
      ]
     },
     "metadata": {},
     "output_type": "display_data"
    }
   ],
   "source": [
    "g = sns.boxplot(x='types', y='amount_ethereum', data=aggregated_df, palette='Set1')\n",
    "g.set_ylim(0, 130)\n",
    "g.set_title('Boxplot Prices by Punk Type')"
   ]
  },
  {
   "cell_type": "code",
   "execution_count": null,
   "metadata": {},
   "outputs": [],
   "source": []
  },
  {
   "cell_type": "markdown",
   "metadata": {},
   "source": [
    "### Current price analysis (need to remove other prices different than current date)"
   ]
  },
  {
   "cell_type": "code",
   "execution_count": 54,
   "metadata": {},
   "outputs": [
    {
     "data": {
      "text/html": [
       "<div>\n",
       "<style scoped>\n",
       "    .dataframe tbody tr th:only-of-type {\n",
       "        vertical-align: middle;\n",
       "    }\n",
       "\n",
       "    .dataframe tbody tr th {\n",
       "        vertical-align: top;\n",
       "    }\n",
       "\n",
       "    .dataframe thead th {\n",
       "        text-align: right;\n",
       "    }\n",
       "</style>\n",
       "<table border=\"1\" class=\"dataframe\">\n",
       "  <thead>\n",
       "    <tr style=\"text-align: right;\">\n",
       "      <th></th>\n",
       "      <th>Amount</th>\n",
       "      <th>From</th>\n",
       "      <th>To</th>\n",
       "      <th>Txn</th>\n",
       "      <th>Type</th>\n",
       "      <th>punk_id</th>\n",
       "      <th>amount_ethereum</th>\n",
       "      <th>amount_dollars</th>\n",
       "      <th>id</th>\n",
       "      <th>types</th>\n",
       "      <th>rarity</th>\n",
       "      <th>skin</th>\n",
       "      <th>total_traits</th>\n",
       "      <th>traits</th>\n",
       "      <th>total_hidden_traits</th>\n",
       "      <th>hidden_traits</th>\n",
       "      <th>Year</th>\n",
       "      <th>Month</th>\n",
       "    </tr>\n",
       "    <tr>\n",
       "      <th>punk_id</th>\n",
       "      <th></th>\n",
       "      <th></th>\n",
       "      <th></th>\n",
       "      <th></th>\n",
       "      <th></th>\n",
       "      <th></th>\n",
       "      <th></th>\n",
       "      <th></th>\n",
       "      <th></th>\n",
       "      <th></th>\n",
       "      <th></th>\n",
       "      <th></th>\n",
       "      <th></th>\n",
       "      <th></th>\n",
       "      <th></th>\n",
       "      <th></th>\n",
       "      <th></th>\n",
       "      <th></th>\n",
       "    </tr>\n",
       "  </thead>\n",
       "  <tbody>\n",
       "    <tr>\n",
       "      <td>8348.0</td>\n",
       "      <td>85Ξ ($18,102)</td>\n",
       "      <td>EliteCat…</td>\n",
       "      <td>DANNY</td>\n",
       "      <td>2020-05-20</td>\n",
       "      <td>Sold</td>\n",
       "      <td>8348.0</td>\n",
       "      <td>85.00</td>\n",
       "      <td>18102.0</td>\n",
       "      <td>8348</td>\n",
       "      <td>Male</td>\n",
       "      <td>1</td>\n",
       "      <td>Mid</td>\n",
       "      <td>7</td>\n",
       "      <td>Big Beard,Buck Teeth,Cigarette,Classic Shades,...</td>\n",
       "      <td>0</td>\n",
       "      <td>NaN</td>\n",
       "      <td>2020</td>\n",
       "      <td>5</td>\n",
       "    </tr>\n",
       "    <tr>\n",
       "      <td>2202.0</td>\n",
       "      <td>15Ξ ($3,047)</td>\n",
       "      <td>0xc46280…</td>\n",
       "      <td>DANNY</td>\n",
       "      <td>2020-05-22</td>\n",
       "      <td>Sold</td>\n",
       "      <td>2202.0</td>\n",
       "      <td>15.00</td>\n",
       "      <td>3047.0</td>\n",
       "      <td>2202</td>\n",
       "      <td>Female</td>\n",
       "      <td>19</td>\n",
       "      <td>Dark</td>\n",
       "      <td>6</td>\n",
       "      <td>Choker,Classic Shades,Earring,Hot Lipstick,Mol...</td>\n",
       "      <td>1</td>\n",
       "      <td>Earring</td>\n",
       "      <td>2020</td>\n",
       "      <td>5</td>\n",
       "    </tr>\n",
       "    <tr>\n",
       "      <td>755.0</td>\n",
       "      <td>1.40Ξ ($415)</td>\n",
       "      <td>0xc352b5</td>\n",
       "      <td>sov</td>\n",
       "      <td>2017-08-13</td>\n",
       "      <td>Sold</td>\n",
       "      <td>755.0</td>\n",
       "      <td>1.40</td>\n",
       "      <td>415.0</td>\n",
       "      <td>755</td>\n",
       "      <td>Female</td>\n",
       "      <td>24</td>\n",
       "      <td>Albino</td>\n",
       "      <td>6</td>\n",
       "      <td>Black Lipstick,Blonde Bob,Cigarette,Clown Eyes...</td>\n",
       "      <td>1</td>\n",
       "      <td>Earring</td>\n",
       "      <td>2017</td>\n",
       "      <td>8</td>\n",
       "    </tr>\n",
       "    <tr>\n",
       "      <td>3011.0</td>\n",
       "      <td>667Ξ ($1.76M)</td>\n",
       "      <td>0xc05488</td>\n",
       "      <td>peted.et…</td>\n",
       "      <td>2021-04-27</td>\n",
       "      <td>Sold</td>\n",
       "      <td>3011.0</td>\n",
       "      <td>667.00</td>\n",
       "      <td>1760000.0</td>\n",
       "      <td>3011</td>\n",
       "      <td>Male</td>\n",
       "      <td>23</td>\n",
       "      <td>Dark</td>\n",
       "      <td>6</td>\n",
       "      <td>Earring,Frown,Normal Beard,Pipe,Small Shades,V...</td>\n",
       "      <td>1</td>\n",
       "      <td>Frown</td>\n",
       "      <td>2021</td>\n",
       "      <td>4</td>\n",
       "    </tr>\n",
       "    <tr>\n",
       "      <td>1839.0</td>\n",
       "      <td>360Ξ ($653,814)</td>\n",
       "      <td>Pranksy</td>\n",
       "      <td>0xc05488</td>\n",
       "      <td>2021-03-12</td>\n",
       "      <td>Sold</td>\n",
       "      <td>1839.0</td>\n",
       "      <td>360.00</td>\n",
       "      <td>653814.0</td>\n",
       "      <td>1839</td>\n",
       "      <td>Male</td>\n",
       "      <td>28</td>\n",
       "      <td>Dark</td>\n",
       "      <td>6</td>\n",
       "      <td>Cigarette,Earring,Knitted Cap,Mustache,Nerd Gl...</td>\n",
       "      <td>0</td>\n",
       "      <td>NaN</td>\n",
       "      <td>2021</td>\n",
       "      <td>3</td>\n",
       "    </tr>\n",
       "    <tr>\n",
       "      <td>...</td>\n",
       "      <td>...</td>\n",
       "      <td>...</td>\n",
       "      <td>...</td>\n",
       "      <td>...</td>\n",
       "      <td>...</td>\n",
       "      <td>...</td>\n",
       "      <td>...</td>\n",
       "      <td>...</td>\n",
       "      <td>...</td>\n",
       "      <td>...</td>\n",
       "      <td>...</td>\n",
       "      <td>...</td>\n",
       "      <td>...</td>\n",
       "      <td>...</td>\n",
       "      <td>...</td>\n",
       "      <td>...</td>\n",
       "      <td>...</td>\n",
       "      <td>...</td>\n",
       "    </tr>\n",
       "    <tr>\n",
       "      <td>281.0</td>\n",
       "      <td>1.10Ξ ($304)</td>\n",
       "      <td>0xc352b5</td>\n",
       "      <td>0x6611fe</td>\n",
       "      <td>2017-07-03</td>\n",
       "      <td>Sold</td>\n",
       "      <td>281.0</td>\n",
       "      <td>1.10</td>\n",
       "      <td>304.0</td>\n",
       "      <td>281</td>\n",
       "      <td>Male</td>\n",
       "      <td>7</td>\n",
       "      <td>Light</td>\n",
       "      <td>0</td>\n",
       "      <td>NaN</td>\n",
       "      <td>0</td>\n",
       "      <td>NaN</td>\n",
       "      <td>2017</td>\n",
       "      <td>7</td>\n",
       "    </tr>\n",
       "    <tr>\n",
       "      <td>641.0</td>\n",
       "      <td>0.55Ξ ($157)</td>\n",
       "      <td>0xc352b5</td>\n",
       "      <td>sov</td>\n",
       "      <td>2017-06-27</td>\n",
       "      <td>Sold</td>\n",
       "      <td>641.0</td>\n",
       "      <td>0.55</td>\n",
       "      <td>157.0</td>\n",
       "      <td>641</td>\n",
       "      <td>Female</td>\n",
       "      <td>6</td>\n",
       "      <td>Light</td>\n",
       "      <td>0</td>\n",
       "      <td>NaN</td>\n",
       "      <td>0</td>\n",
       "      <td>NaN</td>\n",
       "      <td>2017</td>\n",
       "      <td>6</td>\n",
       "    </tr>\n",
       "    <tr>\n",
       "      <td>1050.0</td>\n",
       "      <td>0.34Ξ ($102)</td>\n",
       "      <td>0xd4fa6e</td>\n",
       "      <td>sov</td>\n",
       "      <td>2017-06-24</td>\n",
       "      <td>Sold</td>\n",
       "      <td>1050.0</td>\n",
       "      <td>0.34</td>\n",
       "      <td>102.0</td>\n",
       "      <td>1050</td>\n",
       "      <td>Female</td>\n",
       "      <td>8</td>\n",
       "      <td>Mid</td>\n",
       "      <td>0</td>\n",
       "      <td>NaN</td>\n",
       "      <td>0</td>\n",
       "      <td>NaN</td>\n",
       "      <td>2017</td>\n",
       "      <td>6</td>\n",
       "    </tr>\n",
       "    <tr>\n",
       "      <td>510.0</td>\n",
       "      <td>21.55Ξ ($2,937)</td>\n",
       "      <td>jmg</td>\n",
       "      <td>TokenAng…</td>\n",
       "      <td>2020-01-09</td>\n",
       "      <td>Sold</td>\n",
       "      <td>510.0</td>\n",
       "      <td>21.55</td>\n",
       "      <td>2937.0</td>\n",
       "      <td>510</td>\n",
       "      <td>Male</td>\n",
       "      <td>9</td>\n",
       "      <td>Mid</td>\n",
       "      <td>0</td>\n",
       "      <td>NaN</td>\n",
       "      <td>0</td>\n",
       "      <td>NaN</td>\n",
       "      <td>2020</td>\n",
       "      <td>1</td>\n",
       "    </tr>\n",
       "    <tr>\n",
       "      <td>3307.0</td>\n",
       "      <td>189.99Ξ ($137,522)</td>\n",
       "      <td>jmg</td>\n",
       "      <td>0x7224a1</td>\n",
       "      <td>2020-12-30</td>\n",
       "      <td>Sold</td>\n",
       "      <td>3307.0</td>\n",
       "      <td>189.99</td>\n",
       "      <td>137522.0</td>\n",
       "      <td>3307</td>\n",
       "      <td>Male</td>\n",
       "      <td>3</td>\n",
       "      <td>Albino</td>\n",
       "      <td>0</td>\n",
       "      <td>NaN</td>\n",
       "      <td>0</td>\n",
       "      <td>NaN</td>\n",
       "      <td>2020</td>\n",
       "      <td>12</td>\n",
       "    </tr>\n",
       "  </tbody>\n",
       "</table>\n",
       "<p>5622 rows × 18 columns</p>\n",
       "</div>"
      ],
      "text/plain": [
       "                     Amount       From         To        Txn  Type  punk_id  \\\n",
       "punk_id                                                                       \n",
       "8348.0        85Ξ ($18,102)  EliteCat…      DANNY 2020-05-20  Sold   8348.0   \n",
       "2202.0         15Ξ ($3,047)  0xc46280…      DANNY 2020-05-22  Sold   2202.0   \n",
       "755.0          1.40Ξ ($415)   0xc352b5        sov 2017-08-13  Sold    755.0   \n",
       "3011.0        667Ξ ($1.76M)   0xc05488  peted.et… 2021-04-27  Sold   3011.0   \n",
       "1839.0      360Ξ ($653,814)    Pranksy   0xc05488 2021-03-12  Sold   1839.0   \n",
       "...                     ...        ...        ...        ...   ...      ...   \n",
       "281.0          1.10Ξ ($304)   0xc352b5   0x6611fe 2017-07-03  Sold    281.0   \n",
       "641.0          0.55Ξ ($157)   0xc352b5        sov 2017-06-27  Sold    641.0   \n",
       "1050.0         0.34Ξ ($102)   0xd4fa6e        sov 2017-06-24  Sold   1050.0   \n",
       "510.0       21.55Ξ ($2,937)        jmg  TokenAng… 2020-01-09  Sold    510.0   \n",
       "3307.0   189.99Ξ ($137,522)        jmg   0x7224a1 2020-12-30  Sold   3307.0   \n",
       "\n",
       "         amount_ethereum  amount_dollars    id   types  rarity    skin  \\\n",
       "punk_id                                                                  \n",
       "8348.0             85.00         18102.0  8348    Male       1     Mid   \n",
       "2202.0             15.00          3047.0  2202  Female      19    Dark   \n",
       "755.0               1.40           415.0   755  Female      24  Albino   \n",
       "3011.0            667.00       1760000.0  3011    Male      23    Dark   \n",
       "1839.0            360.00        653814.0  1839    Male      28    Dark   \n",
       "...                  ...             ...   ...     ...     ...     ...   \n",
       "281.0               1.10           304.0   281    Male       7   Light   \n",
       "641.0               0.55           157.0   641  Female       6   Light   \n",
       "1050.0              0.34           102.0  1050  Female       8     Mid   \n",
       "510.0              21.55          2937.0   510    Male       9     Mid   \n",
       "3307.0            189.99        137522.0  3307    Male       3  Albino   \n",
       "\n",
       "         total_traits                                             traits  \\\n",
       "punk_id                                                                    \n",
       "8348.0              7  Big Beard,Buck Teeth,Cigarette,Classic Shades,...   \n",
       "2202.0              6  Choker,Classic Shades,Earring,Hot Lipstick,Mol...   \n",
       "755.0               6  Black Lipstick,Blonde Bob,Cigarette,Clown Eyes...   \n",
       "3011.0              6  Earring,Frown,Normal Beard,Pipe,Small Shades,V...   \n",
       "1839.0              6  Cigarette,Earring,Knitted Cap,Mustache,Nerd Gl...   \n",
       "...               ...                                                ...   \n",
       "281.0               0                                                NaN   \n",
       "641.0               0                                                NaN   \n",
       "1050.0              0                                                NaN   \n",
       "510.0               0                                                NaN   \n",
       "3307.0              0                                                NaN   \n",
       "\n",
       "         total_hidden_traits hidden_traits  Year  Month  \n",
       "punk_id                                                  \n",
       "8348.0                     0           NaN  2020      5  \n",
       "2202.0                     1       Earring  2020      5  \n",
       "755.0                      1       Earring  2017      8  \n",
       "3011.0                     1         Frown  2021      4  \n",
       "1839.0                     0           NaN  2021      3  \n",
       "...                      ...           ...   ...    ...  \n",
       "281.0                      0           NaN  2017      7  \n",
       "641.0                      0           NaN  2017      6  \n",
       "1050.0                     0           NaN  2017      6  \n",
       "510.0                      0           NaN  2020      1  \n",
       "3307.0                     0           NaN  2020     12  \n",
       "\n",
       "[5622 rows x 18 columns]"
      ]
     },
     "execution_count": 54,
     "metadata": {},
     "output_type": "execute_result"
    }
   ],
   "source": [
    "current_price_df = aggregated_df.groupby('punk_id').apply(lambda aggregated_df: aggregated_df.loc[aggregated_df.total_traits.idxmax()]).sort_values(by='total_traits', ascending=False)\n",
    "current_price_df"
   ]
  },
  {
   "cell_type": "code",
   "execution_count": null,
   "metadata": {},
   "outputs": [],
   "source": []
  },
  {
   "cell_type": "markdown",
   "metadata": {},
   "source": [
    "# HASTA ACA LLEGUE! EL RESTO ES RELLENO"
   ]
  },
  {
   "cell_type": "code",
   "execution_count": null,
   "metadata": {},
   "outputs": [],
   "source": []
  },
  {
   "cell_type": "code",
   "execution_count": 55,
   "metadata": {},
   "outputs": [],
   "source": [
    "# Price percentile boxes (name?) --> Ojo el hue! \n",
    "# Tabla tiene que tener un único valor posible de fecha para cada precio. "
   ]
  },
  {
   "cell_type": "code",
   "execution_count": 56,
   "metadata": {},
   "outputs": [
    {
     "ename": "NameError",
     "evalue": "name 'room_prices' is not defined",
     "output_type": "error",
     "traceback": [
      "\u001b[1;31m---------------------------------------------------------------------------\u001b[0m",
      "\u001b[1;31mNameError\u001b[0m                                 Traceback (most recent call last)",
      "\u001b[1;32m<ipython-input-56-56d7d42e4423>\u001b[0m in \u001b[0;36m<module>\u001b[1;34m\u001b[0m\n\u001b[0;32m      2\u001b[0m             \u001b[0my\u001b[0m\u001b[1;33m=\u001b[0m\u001b[1;34m\"adr_pp\"\u001b[0m\u001b[1;33m,\u001b[0m\u001b[1;33m\u001b[0m\u001b[1;33m\u001b[0m\u001b[0m\n\u001b[0;32m      3\u001b[0m             \u001b[0mhue\u001b[0m\u001b[1;33m=\u001b[0m\u001b[1;34m\"hotel\"\u001b[0m\u001b[1;33m,\u001b[0m\u001b[1;33m\u001b[0m\u001b[1;33m\u001b[0m\u001b[0m\n\u001b[1;32m----> 4\u001b[1;33m             \u001b[0mdata\u001b[0m\u001b[1;33m=\u001b[0m\u001b[0mroom_prices\u001b[0m\u001b[1;33m,\u001b[0m\u001b[1;33m\u001b[0m\u001b[1;33m\u001b[0m\u001b[0m\n\u001b[0m\u001b[0;32m      5\u001b[0m             \u001b[0mhue_order\u001b[0m\u001b[1;33m=\u001b[0m\u001b[1;33m[\u001b[0m\u001b[1;34m\"City Hotel\"\u001b[0m\u001b[1;33m,\u001b[0m \u001b[1;34m\"Resort Hotel\"\u001b[0m\u001b[1;33m]\u001b[0m\u001b[1;33m,\u001b[0m\u001b[1;33m\u001b[0m\u001b[1;33m\u001b[0m\u001b[0m\n\u001b[0;32m      6\u001b[0m             fliersize=0)\n",
      "\u001b[1;31mNameError\u001b[0m: name 'room_prices' is not defined"
     ]
    }
   ],
   "source": [
    "sns.boxplot(x=\"reserved_room_type\",\n",
    "            y=\"adr_pp\",\n",
    "            hue=\"hotel\",\n",
    "            data=room_prices, \n",
    "            hue_order=[\"City Hotel\", \"Resort Hotel\"],\n",
    "            fliersize=0)"
   ]
  },
  {
   "cell_type": "markdown",
   "metadata": {},
   "source": [
    "##### Current price evolution"
   ]
  },
  {
   "cell_type": "code",
   "execution_count": null,
   "metadata": {},
   "outputs": [],
   "source": [
    "Need to create DF with mean price"
   ]
  },
  {
   "cell_type": "code",
   "execution_count": null,
   "metadata": {},
   "outputs": [],
   "source": [
    "Graf with evolution over time"
   ]
  },
  {
   "cell_type": "code",
   "execution_count": null,
   "metadata": {},
   "outputs": [],
   "source": []
  },
  {
   "cell_type": "code",
   "execution_count": null,
   "metadata": {},
   "outputs": [],
   "source": []
  },
  {
   "cell_type": "code",
   "execution_count": null,
   "metadata": {},
   "outputs": [],
   "source": [
    "Eje X con meses y hue/col con año (de manera que sean 3 series temporales mostradas - 3 lineas)\n",
    "Eje Y precio. "
   ]
  },
  {
   "cell_type": "code",
   "execution_count": null,
   "metadata": {},
   "outputs": [],
   "source": [
    "aggregated_df.groupby('Txn')['amount_ethereum'].mean().plot()"
   ]
  },
  {
   "cell_type": "markdown",
   "metadata": {},
   "source": [
    "### Historical price analysis --> Evolution: mean/median price for first purchase vs 2nd, 3rd, etc"
   ]
  },
  {
   "cell_type": "code",
   "execution_count": null,
   "metadata": {},
   "outputs": [],
   "source": []
  },
  {
   "cell_type": "code",
   "execution_count": null,
   "metadata": {},
   "outputs": [],
   "source": []
  },
  {
   "cell_type": "markdown",
   "metadata": {},
   "source": [
    "### Dia de la semana con mayor cantidad de Compras"
   ]
  },
  {
   "cell_type": "code",
   "execution_count": null,
   "metadata": {},
   "outputs": [],
   "source": []
  },
  {
   "cell_type": "code",
   "execution_count": null,
   "metadata": {},
   "outputs": [],
   "source": []
  },
  {
   "cell_type": "markdown",
   "metadata": {},
   "source": [
    "### Evolución cantidad de compras"
   ]
  },
  {
   "cell_type": "code",
   "execution_count": null,
   "metadata": {},
   "outputs": [],
   "source": []
  },
  {
   "cell_type": "code",
   "execution_count": null,
   "metadata": {},
   "outputs": [],
   "source": []
  },
  {
   "cell_type": "markdown",
   "metadata": {},
   "source": [
    "# WORK WITH RANGES?"
   ]
  },
  {
   "cell_type": "code",
   "execution_count": null,
   "metadata": {},
   "outputs": [],
   "source": []
  },
  {
   "cell_type": "code",
   "execution_count": null,
   "metadata": {},
   "outputs": [],
   "source": []
  },
  {
   "cell_type": "code",
   "execution_count": null,
   "metadata": {},
   "outputs": [],
   "source": [
    "Count of Punks sales, bids and offers (3 bars and or cumulative)"
   ]
  },
  {
   "cell_type": "code",
   "execution_count": null,
   "metadata": {},
   "outputs": [],
   "source": [
    "#fig = plt.figure(figsize=(30,14))\n",
    "transactions.groupby('Txn').count()['punk_id'].plot(title='Evolution of Transactions', hue='Type')"
   ]
  },
  {
   "cell_type": "code",
   "execution_count": null,
   "metadata": {},
   "outputs": [],
   "source": [
    "Compare bars btw types. Proportion transactions vs proportion Quantity of punks"
   ]
  },
  {
   "cell_type": "code",
   "execution_count": null,
   "metadata": {},
   "outputs": [],
   "source": []
  },
  {
   "cell_type": "code",
   "execution_count": null,
   "metadata": {},
   "outputs": [],
   "source": []
  },
  {
   "cell_type": "code",
   "execution_count": null,
   "metadata": {},
   "outputs": [],
   "source": []
  },
  {
   "cell_type": "code",
   "execution_count": null,
   "metadata": {},
   "outputs": [],
   "source": [
    "### Days from offer to sale?"
   ]
  },
  {
   "cell_type": "code",
   "execution_count": null,
   "metadata": {},
   "outputs": [],
   "source": []
  },
  {
   "cell_type": "code",
   "execution_count": null,
   "metadata": {},
   "outputs": [],
   "source": []
  },
  {
   "cell_type": "markdown",
   "metadata": {},
   "source": [
    "### Correlaciòn entre tipos? --> Agrupamos"
   ]
  },
  {
   "cell_type": "code",
   "execution_count": null,
   "metadata": {},
   "outputs": [],
   "source": [
    "sns.heatmap(correlacion_generos)"
   ]
  }
 ],
 "metadata": {
  "kernelspec": {
   "display_name": "Python 3",
   "language": "python",
   "name": "python3"
  },
  "language_info": {
   "codemirror_mode": {
    "name": "ipython",
    "version": 3
   },
   "file_extension": ".py",
   "mimetype": "text/x-python",
   "name": "python",
   "nbconvert_exporter": "python",
   "pygments_lexer": "ipython3",
   "version": "3.8.8"
  }
 },
 "nbformat": 4,
 "nbformat_minor": 2
}
